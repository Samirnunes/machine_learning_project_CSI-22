{
 "cells": [
  {
   "attachments": {},
   "cell_type": "markdown",
   "id": "458dca24",
   "metadata": {},
   "source": [
    "## Importing libraries"
   ]
  },
  {
   "cell_type": "code",
   "execution_count": 1,
   "id": "8f3af5c7",
   "metadata": {},
   "outputs": [],
   "source": [
    "import os\n",
    "import pandas as pd\n",
    "import numpy as np\n",
    "import matplotlib.pyplot as plt"
   ]
  },
  {
   "attachments": {},
   "cell_type": "markdown",
   "id": "59b85b95",
   "metadata": {},
   "source": [
    "---"
   ]
  },
  {
   "attachments": {},
   "cell_type": "markdown",
   "id": "81784602",
   "metadata": {},
   "source": [
    "## Importing data"
   ]
  },
  {
   "cell_type": "code",
   "execution_count": 2,
   "id": "0cf31237",
   "metadata": {},
   "outputs": [],
   "source": [
    "train_path = os.path.join('data', 'train.csv')\n",
    "test_path = os.path.join('data', 'test.csv')\n",
    "\n",
    "train_data = pd.read_csv(train_path, index_col = 'Id')\n",
    "test_data = pd.read_csv(test_path, index_col = 'Id')"
   ]
  },
  {
   "attachments": {},
   "cell_type": "markdown",
   "id": "a070d43e",
   "metadata": {},
   "source": [
    "---"
   ]
  },
  {
   "attachments": {},
   "cell_type": "markdown",
   "id": "c3cf0251",
   "metadata": {},
   "source": [
    "## Data overview"
   ]
  },
  {
   "cell_type": "code",
   "execution_count": 3,
   "id": "a0da06d2",
   "metadata": {},
   "outputs": [
    {
     "name": "stdout",
     "output_type": "stream",
     "text": [
      "Train data shape: (1460, 80)\n",
      "Test data shape: (1459, 79)\n"
     ]
    }
   ],
   "source": [
    "print(f'Train data shape: {train_data.shape}\\nTest data shape: {test_data.shape}')"
   ]
  },
  {
   "cell_type": "code",
   "execution_count": 11,
   "id": "a313bc5a",
   "metadata": {
    "scrolled": true
   },
   "outputs": [
    {
     "data": {
      "text/html": [
       "<div>\n",
       "<style scoped>\n",
       "    .dataframe tbody tr th:only-of-type {\n",
       "        vertical-align: middle;\n",
       "    }\n",
       "\n",
       "    .dataframe tbody tr th {\n",
       "        vertical-align: top;\n",
       "    }\n",
       "\n",
       "    .dataframe thead th {\n",
       "        text-align: right;\n",
       "    }\n",
       "</style>\n",
       "<table border=\"1\" class=\"dataframe\">\n",
       "  <thead>\n",
       "    <tr style=\"text-align: right;\">\n",
       "      <th></th>\n",
       "      <th>MSSubClass</th>\n",
       "      <th>MSZoning</th>\n",
       "      <th>LotFrontage</th>\n",
       "      <th>LotArea</th>\n",
       "      <th>Street</th>\n",
       "      <th>Alley</th>\n",
       "      <th>LotShape</th>\n",
       "      <th>LandContour</th>\n",
       "      <th>Utilities</th>\n",
       "      <th>LotConfig</th>\n",
       "      <th>...</th>\n",
       "      <th>PoolArea</th>\n",
       "      <th>PoolQC</th>\n",
       "      <th>Fence</th>\n",
       "      <th>MiscFeature</th>\n",
       "      <th>MiscVal</th>\n",
       "      <th>MoSold</th>\n",
       "      <th>YrSold</th>\n",
       "      <th>SaleType</th>\n",
       "      <th>SaleCondition</th>\n",
       "      <th>SalePrice</th>\n",
       "    </tr>\n",
       "    <tr>\n",
       "      <th>Id</th>\n",
       "      <th></th>\n",
       "      <th></th>\n",
       "      <th></th>\n",
       "      <th></th>\n",
       "      <th></th>\n",
       "      <th></th>\n",
       "      <th></th>\n",
       "      <th></th>\n",
       "      <th></th>\n",
       "      <th></th>\n",
       "      <th></th>\n",
       "      <th></th>\n",
       "      <th></th>\n",
       "      <th></th>\n",
       "      <th></th>\n",
       "      <th></th>\n",
       "      <th></th>\n",
       "      <th></th>\n",
       "      <th></th>\n",
       "      <th></th>\n",
       "      <th></th>\n",
       "    </tr>\n",
       "  </thead>\n",
       "  <tbody>\n",
       "    <tr>\n",
       "      <th>1</th>\n",
       "      <td>60</td>\n",
       "      <td>RL</td>\n",
       "      <td>65.0</td>\n",
       "      <td>8450</td>\n",
       "      <td>Pave</td>\n",
       "      <td>NaN</td>\n",
       "      <td>Reg</td>\n",
       "      <td>Lvl</td>\n",
       "      <td>AllPub</td>\n",
       "      <td>Inside</td>\n",
       "      <td>...</td>\n",
       "      <td>0</td>\n",
       "      <td>NaN</td>\n",
       "      <td>NaN</td>\n",
       "      <td>NaN</td>\n",
       "      <td>0</td>\n",
       "      <td>2</td>\n",
       "      <td>2008</td>\n",
       "      <td>WD</td>\n",
       "      <td>Normal</td>\n",
       "      <td>208500</td>\n",
       "    </tr>\n",
       "    <tr>\n",
       "      <th>2</th>\n",
       "      <td>20</td>\n",
       "      <td>RL</td>\n",
       "      <td>80.0</td>\n",
       "      <td>9600</td>\n",
       "      <td>Pave</td>\n",
       "      <td>NaN</td>\n",
       "      <td>Reg</td>\n",
       "      <td>Lvl</td>\n",
       "      <td>AllPub</td>\n",
       "      <td>FR2</td>\n",
       "      <td>...</td>\n",
       "      <td>0</td>\n",
       "      <td>NaN</td>\n",
       "      <td>NaN</td>\n",
       "      <td>NaN</td>\n",
       "      <td>0</td>\n",
       "      <td>5</td>\n",
       "      <td>2007</td>\n",
       "      <td>WD</td>\n",
       "      <td>Normal</td>\n",
       "      <td>181500</td>\n",
       "    </tr>\n",
       "    <tr>\n",
       "      <th>3</th>\n",
       "      <td>60</td>\n",
       "      <td>RL</td>\n",
       "      <td>68.0</td>\n",
       "      <td>11250</td>\n",
       "      <td>Pave</td>\n",
       "      <td>NaN</td>\n",
       "      <td>IR1</td>\n",
       "      <td>Lvl</td>\n",
       "      <td>AllPub</td>\n",
       "      <td>Inside</td>\n",
       "      <td>...</td>\n",
       "      <td>0</td>\n",
       "      <td>NaN</td>\n",
       "      <td>NaN</td>\n",
       "      <td>NaN</td>\n",
       "      <td>0</td>\n",
       "      <td>9</td>\n",
       "      <td>2008</td>\n",
       "      <td>WD</td>\n",
       "      <td>Normal</td>\n",
       "      <td>223500</td>\n",
       "    </tr>\n",
       "    <tr>\n",
       "      <th>4</th>\n",
       "      <td>70</td>\n",
       "      <td>RL</td>\n",
       "      <td>60.0</td>\n",
       "      <td>9550</td>\n",
       "      <td>Pave</td>\n",
       "      <td>NaN</td>\n",
       "      <td>IR1</td>\n",
       "      <td>Lvl</td>\n",
       "      <td>AllPub</td>\n",
       "      <td>Corner</td>\n",
       "      <td>...</td>\n",
       "      <td>0</td>\n",
       "      <td>NaN</td>\n",
       "      <td>NaN</td>\n",
       "      <td>NaN</td>\n",
       "      <td>0</td>\n",
       "      <td>2</td>\n",
       "      <td>2006</td>\n",
       "      <td>WD</td>\n",
       "      <td>Abnorml</td>\n",
       "      <td>140000</td>\n",
       "    </tr>\n",
       "    <tr>\n",
       "      <th>5</th>\n",
       "      <td>60</td>\n",
       "      <td>RL</td>\n",
       "      <td>84.0</td>\n",
       "      <td>14260</td>\n",
       "      <td>Pave</td>\n",
       "      <td>NaN</td>\n",
       "      <td>IR1</td>\n",
       "      <td>Lvl</td>\n",
       "      <td>AllPub</td>\n",
       "      <td>FR2</td>\n",
       "      <td>...</td>\n",
       "      <td>0</td>\n",
       "      <td>NaN</td>\n",
       "      <td>NaN</td>\n",
       "      <td>NaN</td>\n",
       "      <td>0</td>\n",
       "      <td>12</td>\n",
       "      <td>2008</td>\n",
       "      <td>WD</td>\n",
       "      <td>Normal</td>\n",
       "      <td>250000</td>\n",
       "    </tr>\n",
       "  </tbody>\n",
       "</table>\n",
       "<p>5 rows × 80 columns</p>\n",
       "</div>"
      ],
      "text/plain": [
       "   MSSubClass MSZoning  LotFrontage  LotArea Street Alley LotShape   \n",
       "Id                                                                   \n",
       "1          60       RL         65.0     8450   Pave   NaN      Reg  \\\n",
       "2          20       RL         80.0     9600   Pave   NaN      Reg   \n",
       "3          60       RL         68.0    11250   Pave   NaN      IR1   \n",
       "4          70       RL         60.0     9550   Pave   NaN      IR1   \n",
       "5          60       RL         84.0    14260   Pave   NaN      IR1   \n",
       "\n",
       "   LandContour Utilities LotConfig  ... PoolArea PoolQC Fence MiscFeature   \n",
       "Id                                  ...                                     \n",
       "1          Lvl    AllPub    Inside  ...        0    NaN   NaN         NaN  \\\n",
       "2          Lvl    AllPub       FR2  ...        0    NaN   NaN         NaN   \n",
       "3          Lvl    AllPub    Inside  ...        0    NaN   NaN         NaN   \n",
       "4          Lvl    AllPub    Corner  ...        0    NaN   NaN         NaN   \n",
       "5          Lvl    AllPub       FR2  ...        0    NaN   NaN         NaN   \n",
       "\n",
       "   MiscVal MoSold  YrSold  SaleType  SaleCondition  SalePrice  \n",
       "Id                                                             \n",
       "1        0      2    2008        WD         Normal     208500  \n",
       "2        0      5    2007        WD         Normal     181500  \n",
       "3        0      9    2008        WD         Normal     223500  \n",
       "4        0      2    2006        WD        Abnorml     140000  \n",
       "5        0     12    2008        WD         Normal     250000  \n",
       "\n",
       "[5 rows x 80 columns]"
      ]
     },
     "execution_count": 11,
     "metadata": {},
     "output_type": "execute_result"
    }
   ],
   "source": [
    "train_data.head()"
   ]
  },
  {
   "cell_type": "code",
   "execution_count": 12,
   "id": "f3993d95",
   "metadata": {},
   "outputs": [
    {
     "data": {
      "text/html": [
       "<div>\n",
       "<style scoped>\n",
       "    .dataframe tbody tr th:only-of-type {\n",
       "        vertical-align: middle;\n",
       "    }\n",
       "\n",
       "    .dataframe tbody tr th {\n",
       "        vertical-align: top;\n",
       "    }\n",
       "\n",
       "    .dataframe thead th {\n",
       "        text-align: right;\n",
       "    }\n",
       "</style>\n",
       "<table border=\"1\" class=\"dataframe\">\n",
       "  <thead>\n",
       "    <tr style=\"text-align: right;\">\n",
       "      <th></th>\n",
       "      <th>MSSubClass</th>\n",
       "      <th>MSZoning</th>\n",
       "      <th>LotFrontage</th>\n",
       "      <th>LotArea</th>\n",
       "      <th>Street</th>\n",
       "      <th>Alley</th>\n",
       "      <th>LotShape</th>\n",
       "      <th>LandContour</th>\n",
       "      <th>Utilities</th>\n",
       "      <th>LotConfig</th>\n",
       "      <th>...</th>\n",
       "      <th>ScreenPorch</th>\n",
       "      <th>PoolArea</th>\n",
       "      <th>PoolQC</th>\n",
       "      <th>Fence</th>\n",
       "      <th>MiscFeature</th>\n",
       "      <th>MiscVal</th>\n",
       "      <th>MoSold</th>\n",
       "      <th>YrSold</th>\n",
       "      <th>SaleType</th>\n",
       "      <th>SaleCondition</th>\n",
       "    </tr>\n",
       "    <tr>\n",
       "      <th>Id</th>\n",
       "      <th></th>\n",
       "      <th></th>\n",
       "      <th></th>\n",
       "      <th></th>\n",
       "      <th></th>\n",
       "      <th></th>\n",
       "      <th></th>\n",
       "      <th></th>\n",
       "      <th></th>\n",
       "      <th></th>\n",
       "      <th></th>\n",
       "      <th></th>\n",
       "      <th></th>\n",
       "      <th></th>\n",
       "      <th></th>\n",
       "      <th></th>\n",
       "      <th></th>\n",
       "      <th></th>\n",
       "      <th></th>\n",
       "      <th></th>\n",
       "      <th></th>\n",
       "    </tr>\n",
       "  </thead>\n",
       "  <tbody>\n",
       "    <tr>\n",
       "      <th>1461</th>\n",
       "      <td>20</td>\n",
       "      <td>RH</td>\n",
       "      <td>80.0</td>\n",
       "      <td>11622</td>\n",
       "      <td>Pave</td>\n",
       "      <td>NaN</td>\n",
       "      <td>Reg</td>\n",
       "      <td>Lvl</td>\n",
       "      <td>AllPub</td>\n",
       "      <td>Inside</td>\n",
       "      <td>...</td>\n",
       "      <td>120</td>\n",
       "      <td>0</td>\n",
       "      <td>NaN</td>\n",
       "      <td>MnPrv</td>\n",
       "      <td>NaN</td>\n",
       "      <td>0</td>\n",
       "      <td>6</td>\n",
       "      <td>2010</td>\n",
       "      <td>WD</td>\n",
       "      <td>Normal</td>\n",
       "    </tr>\n",
       "    <tr>\n",
       "      <th>1462</th>\n",
       "      <td>20</td>\n",
       "      <td>RL</td>\n",
       "      <td>81.0</td>\n",
       "      <td>14267</td>\n",
       "      <td>Pave</td>\n",
       "      <td>NaN</td>\n",
       "      <td>IR1</td>\n",
       "      <td>Lvl</td>\n",
       "      <td>AllPub</td>\n",
       "      <td>Corner</td>\n",
       "      <td>...</td>\n",
       "      <td>0</td>\n",
       "      <td>0</td>\n",
       "      <td>NaN</td>\n",
       "      <td>NaN</td>\n",
       "      <td>Gar2</td>\n",
       "      <td>12500</td>\n",
       "      <td>6</td>\n",
       "      <td>2010</td>\n",
       "      <td>WD</td>\n",
       "      <td>Normal</td>\n",
       "    </tr>\n",
       "    <tr>\n",
       "      <th>1463</th>\n",
       "      <td>60</td>\n",
       "      <td>RL</td>\n",
       "      <td>74.0</td>\n",
       "      <td>13830</td>\n",
       "      <td>Pave</td>\n",
       "      <td>NaN</td>\n",
       "      <td>IR1</td>\n",
       "      <td>Lvl</td>\n",
       "      <td>AllPub</td>\n",
       "      <td>Inside</td>\n",
       "      <td>...</td>\n",
       "      <td>0</td>\n",
       "      <td>0</td>\n",
       "      <td>NaN</td>\n",
       "      <td>MnPrv</td>\n",
       "      <td>NaN</td>\n",
       "      <td>0</td>\n",
       "      <td>3</td>\n",
       "      <td>2010</td>\n",
       "      <td>WD</td>\n",
       "      <td>Normal</td>\n",
       "    </tr>\n",
       "    <tr>\n",
       "      <th>1464</th>\n",
       "      <td>60</td>\n",
       "      <td>RL</td>\n",
       "      <td>78.0</td>\n",
       "      <td>9978</td>\n",
       "      <td>Pave</td>\n",
       "      <td>NaN</td>\n",
       "      <td>IR1</td>\n",
       "      <td>Lvl</td>\n",
       "      <td>AllPub</td>\n",
       "      <td>Inside</td>\n",
       "      <td>...</td>\n",
       "      <td>0</td>\n",
       "      <td>0</td>\n",
       "      <td>NaN</td>\n",
       "      <td>NaN</td>\n",
       "      <td>NaN</td>\n",
       "      <td>0</td>\n",
       "      <td>6</td>\n",
       "      <td>2010</td>\n",
       "      <td>WD</td>\n",
       "      <td>Normal</td>\n",
       "    </tr>\n",
       "    <tr>\n",
       "      <th>1465</th>\n",
       "      <td>120</td>\n",
       "      <td>RL</td>\n",
       "      <td>43.0</td>\n",
       "      <td>5005</td>\n",
       "      <td>Pave</td>\n",
       "      <td>NaN</td>\n",
       "      <td>IR1</td>\n",
       "      <td>HLS</td>\n",
       "      <td>AllPub</td>\n",
       "      <td>Inside</td>\n",
       "      <td>...</td>\n",
       "      <td>144</td>\n",
       "      <td>0</td>\n",
       "      <td>NaN</td>\n",
       "      <td>NaN</td>\n",
       "      <td>NaN</td>\n",
       "      <td>0</td>\n",
       "      <td>1</td>\n",
       "      <td>2010</td>\n",
       "      <td>WD</td>\n",
       "      <td>Normal</td>\n",
       "    </tr>\n",
       "  </tbody>\n",
       "</table>\n",
       "<p>5 rows × 79 columns</p>\n",
       "</div>"
      ],
      "text/plain": [
       "     MSSubClass MSZoning  LotFrontage  LotArea Street Alley LotShape   \n",
       "Id                                                                     \n",
       "1461         20       RH         80.0    11622   Pave   NaN      Reg  \\\n",
       "1462         20       RL         81.0    14267   Pave   NaN      IR1   \n",
       "1463         60       RL         74.0    13830   Pave   NaN      IR1   \n",
       "1464         60       RL         78.0     9978   Pave   NaN      IR1   \n",
       "1465        120       RL         43.0     5005   Pave   NaN      IR1   \n",
       "\n",
       "     LandContour Utilities LotConfig  ... ScreenPorch PoolArea PoolQC  Fence   \n",
       "Id                                    ...                                      \n",
       "1461         Lvl    AllPub    Inside  ...         120        0    NaN  MnPrv  \\\n",
       "1462         Lvl    AllPub    Corner  ...           0        0    NaN    NaN   \n",
       "1463         Lvl    AllPub    Inside  ...           0        0    NaN  MnPrv   \n",
       "1464         Lvl    AllPub    Inside  ...           0        0    NaN    NaN   \n",
       "1465         HLS    AllPub    Inside  ...         144        0    NaN    NaN   \n",
       "\n",
       "     MiscFeature MiscVal  MoSold  YrSold  SaleType  SaleCondition  \n",
       "Id                                                                 \n",
       "1461         NaN       0       6    2010        WD         Normal  \n",
       "1462        Gar2   12500       6    2010        WD         Normal  \n",
       "1463         NaN       0       3    2010        WD         Normal  \n",
       "1464         NaN       0       6    2010        WD         Normal  \n",
       "1465         NaN       0       1    2010        WD         Normal  \n",
       "\n",
       "[5 rows x 79 columns]"
      ]
     },
     "execution_count": 12,
     "metadata": {},
     "output_type": "execute_result"
    }
   ],
   "source": [
    "test_data.head()"
   ]
  },
  {
   "cell_type": "code",
   "execution_count": 6,
   "id": "73974cee",
   "metadata": {},
   "outputs": [],
   "source": [
    "train_data['MSSubClass'] = train_data['MSSubClass'].apply(str)\n",
    "test_data['MSSubClass'] = test_data['MSSubClass'].apply(str)"
   ]
  },
  {
   "attachments": {},
   "cell_type": "markdown",
   "id": "c07f838c",
   "metadata": {},
   "source": [
    "Columns descriptions (from Kaggle):\n",
    "\n",
    "- SalePrice: the property's sale price in dollars. This is the target variable that you're trying to predict.\n",
    "\n",
    "- MSSubClass: The building class\n",
    "\n",
    "- MSZoning: The general zoning classification\n",
    "\n",
    "- LotFrontage: Linear feet of street connected to property\n",
    "\n",
    "- LotArea: Lot size in square feet\n",
    "\n",
    "- Street: Type of road access\n",
    "\n",
    "- Alley: Type of alley access\n",
    "\n",
    "- LotShape: General shape of property\n",
    "\n",
    "- LandContour: Flatness of the property\n",
    "\n",
    "- Utilities: Type of utilities available\n",
    "\n",
    "- LotConfig: Lot configuration\n",
    "\n",
    "- LandSlope: Slope of property\n",
    "\n",
    "- Neighborhood: Physical locations within Ames city limits\n",
    "\n",
    "- Condition1: Proximity to main road or railroad\n",
    "\n",
    "- Condition2: Proximity to main road or railroad (if a second is present)\n",
    "\n",
    "- BldgType: Type of dwelling\n",
    "\n",
    "- HouseStyle: Style of dwelling\n",
    "\n",
    "- OverallQual: Overall material and finish quality\n",
    "\n",
    "- OverallCond: Overall condition rating\n",
    "\n",
    "- YearBuilt: Original construction date\n",
    "\n",
    "- YearRemodAdd: Remodel date\n",
    "\n",
    "- RoofStyle: Type of roof\n",
    "\n",
    "- RoofMatl: Roof material\n",
    "\n",
    "- Exterior1st: Exterior covering on house\n",
    "\n",
    "- Exterior2nd: Exterior covering on house (if more than one material)\n",
    "\n",
    "- MasVnrType: Masonry veneer type\n",
    "\n",
    "- MasVnrArea: Masonry veneer area in square feet\n",
    "\n",
    "- ExterQual: Exterior material quality\n",
    "\n",
    "- ExterCond: Present condition of the material on the exterior\n",
    "\n",
    "- Foundation: Type of foundation\n",
    "\n",
    "- BsmtQual: Height of the basement\n",
    "\n",
    "- BsmtCond: General condition of the basement\n",
    "\n",
    "- BsmtExposure: Walkout or garden level basement walls\n",
    "\n",
    "- BsmtFinType1: Quality of basement finished area\n",
    "\n",
    "- BsmtFinSF1: Type 1 finished square feet\n",
    "\n",
    "- BsmtFinType2: Quality of second finished area (if present)\n",
    "\n",
    "- BsmtFinSF2: Type 2 finished square feet\n",
    "\n",
    "- BsmtUnfSF: Unfinished square feet of basement area\n",
    "\n",
    "- TotalBsmtSF: Total square feet of basement area\n",
    "\n",
    "- Heating: Type of heating\n",
    "\n",
    "- HeatingQC: Heating quality and condition\n",
    "\n",
    "- CentralAir: Central air conditioning\n",
    "\n",
    "- Electrical: Electrical system\n",
    "\n",
    "- 1stFlrSF: First Floor square feet\n",
    "\n",
    "- 2ndFlrSF: Second floor square feet\n",
    "\n",
    "- LowQualFinSF: Low quality finished square feet (all floors)\n",
    "\n",
    "- GrLivArea: Above grade (ground) living area square feet\n",
    "\n",
    "- BsmtFullBath: Basement full bathrooms\n",
    "\n",
    "- BsmtHalfBath: Basement half bathrooms\n",
    "\n",
    "- FullBath: Full bathrooms above grade\n",
    "\n",
    "- HalfBath: Half baths above grade\n",
    "\n",
    "- Bedroom: Number of bedrooms above basement level\n",
    "\n",
    "- Kitchen: Number of kitchens\n",
    "\n",
    "- KitchenQual: Kitchen quality\n",
    "\n",
    "- TotRmsAbvGrd: Total rooms above grade (does not include bathrooms)\n",
    "\n",
    "- Functional: Home functionality rating\n",
    "\n",
    "- Fireplaces: Number of fireplaces\n",
    "\n",
    "- FireplaceQu: Fireplace quality\n",
    "\n",
    "- GarageType: Garage location\n",
    "\n",
    "- GarageYrBlt: Year garage was built\n",
    "\n",
    "- GarageFinish: Interior finish of the garage\n",
    "\n",
    "- GarageCars: Size of garage in car capacity\n",
    "\n",
    "- GarageArea: Size of garage in square feet\n",
    "\n",
    "- GarageQual: Garage quality\n",
    "\n",
    "- GarageCond: Garage condition\n",
    "\n",
    "- PavedDrive: Paved driveway\n",
    "\n",
    "- WoodDeckSF: Wood deck area in square feet\n",
    "\n",
    "- OpenPorchSF: Open porch area in square feet\n",
    "\n",
    "- EnclosedPorch: Enclosed porch area in square feet\n",
    "\n",
    "- 3SsnPorch: Three season porch area in square feet\n",
    "\n",
    "- ScreenPorch: Screen porch area in square feet\n",
    "\n",
    "- PoolArea: Pool area in square feet\n",
    "\n",
    "- PoolQC: Pool quality\n",
    "\n",
    "- Fence: Fence quality\n",
    "\n",
    "- MiscFeature: Miscellaneous feature not covered in other categories\n",
    "\n",
    "- MiscVal: $Value of miscellaneous feature\n",
    "\n",
    "- MoSold: Month Sold\n",
    "\n",
    "- YrSold: Year Sold\n",
    "\n",
    "- SaleType: Type of sale\n",
    "\n",
    "- SaleCondition: Condition of sale"
   ]
  },
  {
   "attachments": {},
   "cell_type": "markdown",
   "id": "70740673",
   "metadata": {},
   "source": [
    "Now we will analyse how many and which columns we need to transform from categorical to numerical:"
   ]
  },
  {
   "cell_type": "code",
   "execution_count": 7,
   "id": "052b2502",
   "metadata": {},
   "outputs": [],
   "source": [
    "col_types = train_data.dtypes"
   ]
  },
  {
   "cell_type": "code",
   "execution_count": 8,
   "id": "296b7725",
   "metadata": {},
   "outputs": [
    {
     "data": {
      "text/plain": [
       "MSSubClass        object\n",
       "MSZoning          object\n",
       "LotFrontage      float64\n",
       "LotArea            int64\n",
       "Street            object\n",
       "                  ...   \n",
       "MoSold             int64\n",
       "YrSold             int64\n",
       "SaleType          object\n",
       "SaleCondition     object\n",
       "SalePrice          int64\n",
       "Length: 80, dtype: object"
      ]
     },
     "execution_count": 8,
     "metadata": {},
     "output_type": "execute_result"
    }
   ],
   "source": [
    "col_types"
   ]
  },
  {
   "cell_type": "code",
   "execution_count": 9,
   "id": "d4c53602",
   "metadata": {},
   "outputs": [
    {
     "data": {
      "text/plain": [
       "object     44\n",
       "int64      33\n",
       "float64     3\n",
       "Name: count, dtype: int64"
      ]
     },
     "execution_count": 9,
     "metadata": {},
     "output_type": "execute_result"
    }
   ],
   "source": [
    "col_types.value_counts()"
   ]
  },
  {
   "attachments": {},
   "cell_type": "markdown",
   "id": "66f040c6",
   "metadata": {},
   "source": [
    "There are 44 categorical columns and 36 numerical ones (one of them is the label)."
   ]
  },
  {
   "attachments": {},
   "cell_type": "markdown",
   "id": "e28cba08",
   "metadata": {},
   "source": [
    "We have many columns to detail and to analyse. So, we will only focus in the multivariate analysis, specifically in the correlation with the label __'SalePrice'__."
   ]
  },
  {
   "attachments": {},
   "cell_type": "markdown",
   "id": "f7ed4030",
   "metadata": {},
   "source": [
    "---"
   ]
  },
  {
   "attachments": {},
   "cell_type": "markdown",
   "id": "7b27057c",
   "metadata": {},
   "source": [
    "## Multivariate Analysis"
   ]
  },
  {
   "cell_type": "code",
   "execution_count": 10,
   "id": "24b94092",
   "metadata": {},
   "outputs": [
    {
     "ename": "ValueError",
     "evalue": "could not convert string to float: 'RL'",
     "output_type": "error",
     "traceback": [
      "\u001b[0;31m---------------------------------------------------------------------------\u001b[0m",
      "\u001b[0;31mValueError\u001b[0m                                Traceback (most recent call last)",
      "Cell \u001b[0;32mIn[10], line 1\u001b[0m\n\u001b[0;32m----> 1\u001b[0m train_data\u001b[39m.\u001b[39;49mcorr()[\u001b[39m'\u001b[39m\u001b[39mSalePrice\u001b[39m\u001b[39m'\u001b[39m]\n",
      "File \u001b[0;32m~/.local/lib/python3.10/site-packages/pandas/core/frame.py:10059\u001b[0m, in \u001b[0;36mDataFrame.corr\u001b[0;34m(self, method, min_periods, numeric_only)\u001b[0m\n\u001b[1;32m  10057\u001b[0m cols \u001b[39m=\u001b[39m data\u001b[39m.\u001b[39mcolumns\n\u001b[1;32m  10058\u001b[0m idx \u001b[39m=\u001b[39m cols\u001b[39m.\u001b[39mcopy()\n\u001b[0;32m> 10059\u001b[0m mat \u001b[39m=\u001b[39m data\u001b[39m.\u001b[39;49mto_numpy(dtype\u001b[39m=\u001b[39;49m\u001b[39mfloat\u001b[39;49m, na_value\u001b[39m=\u001b[39;49mnp\u001b[39m.\u001b[39;49mnan, copy\u001b[39m=\u001b[39;49m\u001b[39mFalse\u001b[39;49;00m)\n\u001b[1;32m  10061\u001b[0m \u001b[39mif\u001b[39;00m method \u001b[39m==\u001b[39m \u001b[39m\"\u001b[39m\u001b[39mpearson\u001b[39m\u001b[39m\"\u001b[39m:\n\u001b[1;32m  10062\u001b[0m     correl \u001b[39m=\u001b[39m libalgos\u001b[39m.\u001b[39mnancorr(mat, minp\u001b[39m=\u001b[39mmin_periods)\n",
      "File \u001b[0;32m~/.local/lib/python3.10/site-packages/pandas/core/frame.py:1838\u001b[0m, in \u001b[0;36mDataFrame.to_numpy\u001b[0;34m(self, dtype, copy, na_value)\u001b[0m\n\u001b[1;32m   1836\u001b[0m \u001b[39mif\u001b[39;00m dtype \u001b[39mis\u001b[39;00m \u001b[39mnot\u001b[39;00m \u001b[39mNone\u001b[39;00m:\n\u001b[1;32m   1837\u001b[0m     dtype \u001b[39m=\u001b[39m np\u001b[39m.\u001b[39mdtype(dtype)\n\u001b[0;32m-> 1838\u001b[0m result \u001b[39m=\u001b[39m \u001b[39mself\u001b[39;49m\u001b[39m.\u001b[39;49m_mgr\u001b[39m.\u001b[39;49mas_array(dtype\u001b[39m=\u001b[39;49mdtype, copy\u001b[39m=\u001b[39;49mcopy, na_value\u001b[39m=\u001b[39;49mna_value)\n\u001b[1;32m   1839\u001b[0m \u001b[39mif\u001b[39;00m result\u001b[39m.\u001b[39mdtype \u001b[39mis\u001b[39;00m \u001b[39mnot\u001b[39;00m dtype:\n\u001b[1;32m   1840\u001b[0m     result \u001b[39m=\u001b[39m np\u001b[39m.\u001b[39marray(result, dtype\u001b[39m=\u001b[39mdtype, copy\u001b[39m=\u001b[39m\u001b[39mFalse\u001b[39;00m)\n",
      "File \u001b[0;32m~/.local/lib/python3.10/site-packages/pandas/core/internals/managers.py:1732\u001b[0m, in \u001b[0;36mBlockManager.as_array\u001b[0;34m(self, dtype, copy, na_value)\u001b[0m\n\u001b[1;32m   1730\u001b[0m         arr\u001b[39m.\u001b[39mflags\u001b[39m.\u001b[39mwriteable \u001b[39m=\u001b[39m \u001b[39mFalse\u001b[39;00m\n\u001b[1;32m   1731\u001b[0m \u001b[39melse\u001b[39;00m:\n\u001b[0;32m-> 1732\u001b[0m     arr \u001b[39m=\u001b[39m \u001b[39mself\u001b[39;49m\u001b[39m.\u001b[39;49m_interleave(dtype\u001b[39m=\u001b[39;49mdtype, na_value\u001b[39m=\u001b[39;49mna_value)\n\u001b[1;32m   1733\u001b[0m     \u001b[39m# The underlying data was copied within _interleave, so no need\u001b[39;00m\n\u001b[1;32m   1734\u001b[0m     \u001b[39m# to further copy if copy=True or setting na_value\u001b[39;00m\n\u001b[1;32m   1736\u001b[0m \u001b[39mif\u001b[39;00m na_value \u001b[39mis\u001b[39;00m \u001b[39mnot\u001b[39;00m lib\u001b[39m.\u001b[39mno_default:\n",
      "File \u001b[0;32m~/.local/lib/python3.10/site-packages/pandas/core/internals/managers.py:1794\u001b[0m, in \u001b[0;36mBlockManager._interleave\u001b[0;34m(self, dtype, na_value)\u001b[0m\n\u001b[1;32m   1792\u001b[0m     \u001b[39melse\u001b[39;00m:\n\u001b[1;32m   1793\u001b[0m         arr \u001b[39m=\u001b[39m blk\u001b[39m.\u001b[39mget_values(dtype)\n\u001b[0;32m-> 1794\u001b[0m     result[rl\u001b[39m.\u001b[39;49mindexer] \u001b[39m=\u001b[39m arr\n\u001b[1;32m   1795\u001b[0m     itemmask[rl\u001b[39m.\u001b[39mindexer] \u001b[39m=\u001b[39m \u001b[39m1\u001b[39m\n\u001b[1;32m   1797\u001b[0m \u001b[39mif\u001b[39;00m \u001b[39mnot\u001b[39;00m itemmask\u001b[39m.\u001b[39mall():\n",
      "\u001b[0;31mValueError\u001b[0m: could not convert string to float: 'RL'"
     ]
    }
   ],
   "source": [
    "train_data.corr()['SalePrice']"
   ]
  },
  {
   "attachments": {},
   "cell_type": "markdown",
   "id": "913746b3",
   "metadata": {},
   "source": [
    "The values shows that majority of the numerical features are relevant, in a first view, to predict a house's sale price.\n",
    "\n",
    "Now, it's time to preprocess the data."
   ]
  },
  {
   "attachments": {},
   "cell_type": "markdown",
   "id": "a05cc9ea",
   "metadata": {},
   "source": [
    "---"
   ]
  },
  {
   "attachments": {},
   "cell_type": "markdown",
   "id": "96ff94be",
   "metadata": {},
   "source": [
    "## Preparing data for Machine Learning "
   ]
  },
  {
   "attachments": {},
   "cell_type": "markdown",
   "id": "bd77faaf",
   "metadata": {},
   "source": [
    "Initially, to make our preprocessing easy, we will separate the data into:\n",
    "\n",
    "**X_train**: (possible) training features.\n",
    "\n",
    "**y_train**: labels.\n",
    "\n",
    "**X_test**: (possible) test features."
   ]
  },
  {
   "cell_type": "code",
   "execution_count": null,
   "id": "a7678b4f",
   "metadata": {},
   "outputs": [],
   "source": [
    "features = test_data.columns\n",
    "label = 'SalePrice'\n",
    "\n",
    "X_train = train_data[features].copy()\n",
    "y_train = train_data[label].copy()\n",
    "X_test = test_data[features].copy()"
   ]
  },
  {
   "cell_type": "code",
   "execution_count": null,
   "id": "d8e4ce77",
   "metadata": {},
   "outputs": [],
   "source": [
    "categorical = list(X_train.select_dtypes(['object']).columns)\n",
    "numerical = list(set(features).difference(set(categorical)))"
   ]
  },
  {
   "attachments": {},
   "cell_type": "markdown",
   "id": "291e6eb0",
   "metadata": {},
   "source": [
    "### Treating numerical data"
   ]
  },
  {
   "attachments": {},
   "cell_type": "markdown",
   "id": "4bae0ac5",
   "metadata": {},
   "source": [
    "For numerical data, we will do the standard scaling to improve our model's training speed and to avoid exploding/vanishing gradients during gradient descent process, then avoiding model's divergence. To handle the missing values, we will do the mean imputation."
   ]
  },
  {
   "cell_type": "code",
   "execution_count": null,
   "id": "d3c84b5e",
   "metadata": {},
   "outputs": [],
   "source": [
    "from sklearn.preprocessing import StandardScaler\n",
    "from sklearn.impute import SimpleImputer"
   ]
  },
  {
   "cell_type": "code",
   "execution_count": null,
   "id": "b5d8936a",
   "metadata": {},
   "outputs": [],
   "source": [
    "scaler = StandardScaler()\n",
    "\n",
    "X_train[numerical] = scaler.fit_transform(X_train[numerical])\n",
    "X_test[numerical] = scaler.transform(X_test[numerical])"
   ]
  },
  {
   "cell_type": "code",
   "execution_count": null,
   "id": "eba64064",
   "metadata": {},
   "outputs": [],
   "source": [
    "imputer = SimpleImputer(strategy = 'mean')\n",
    "\n",
    "X_train[numerical] = pd.DataFrame(imputer.fit_transform(X_train[numerical]), columns = numerical, index = X_train.index)\n",
    "X_test[numerical] = pd.DataFrame(imputer.transform(X_test[numerical]), columns = numerical, index = X_test.index)"
   ]
  },
  {
   "cell_type": "code",
   "execution_count": null,
   "id": "1f8a5198",
   "metadata": {
    "scrolled": true
   },
   "outputs": [],
   "source": [
    "X_train[numerical].isnull().sum().sum()"
   ]
  },
  {
   "attachments": {},
   "cell_type": "markdown",
   "id": "de6db49d",
   "metadata": {},
   "source": [
    "### Treating categorical data"
   ]
  },
  {
   "cell_type": "code",
   "execution_count": null,
   "id": "583408e0",
   "metadata": {
    "scrolled": true
   },
   "outputs": [],
   "source": [
    "categorical_description = X_train[categorical].describe()\n",
    "categorical_description"
   ]
  },
  {
   "attachments": {},
   "cell_type": "markdown",
   "id": "a8a5b762",
   "metadata": {},
   "source": [
    "For missing values, we are going to use the mode imputation.\n",
    "\n",
    "Then, we will separate in three groups:\n",
    "\n",
    "- **unique = 2**: we will just transform to a boolean (0 or 1) numerical variable.\n",
    "\n",
    "- **unique > 2 and non-ordered classes**: we will do one-hot encoding.\n",
    "\n",
    "- **unique > 2 and ordered classes**: we will transform in ordered numerical variable.\n",
    "\n",
    "Besides, we will scale the data using MinMaxScaler."
   ]
  },
  {
   "cell_type": "code",
   "execution_count": null,
   "id": "24b32ab3",
   "metadata": {},
   "outputs": [],
   "source": [
    "X_train.isnull().sum().sum()"
   ]
  },
  {
   "attachments": {},
   "cell_type": "markdown",
   "id": "1769d6dd",
   "metadata": {},
   "source": [
    "Mode imputation:"
   ]
  },
  {
   "cell_type": "code",
   "execution_count": null,
   "id": "6f95a983",
   "metadata": {},
   "outputs": [],
   "source": [
    "imputer = SimpleImputer(strategy = 'most_frequent')\n",
    "\n",
    "X_train[categorical] = pd.DataFrame(imputer.fit_transform(X_train[categorical]), columns = categorical, index = X_train.index)\n",
    "X_test[categorical] = pd.DataFrame(imputer.transform(X_test[categorical]), columns = categorical, index = X_test.index)"
   ]
  },
  {
   "cell_type": "code",
   "execution_count": null,
   "id": "0832998c",
   "metadata": {},
   "outputs": [],
   "source": [
    "X_train.isnull().sum().sum()"
   ]
  },
  {
   "attachments": {},
   "cell_type": "markdown",
   "id": "efd5d558",
   "metadata": {},
   "source": [
    "- #### unique = 2"
   ]
  },
  {
   "cell_type": "code",
   "execution_count": null,
   "id": "fa8a610a",
   "metadata": {},
   "outputs": [],
   "source": [
    "from sklearn.preprocessing import OrdinalEncoder"
   ]
  },
  {
   "cell_type": "code",
   "execution_count": null,
   "id": "dfe0de67",
   "metadata": {
    "scrolled": true
   },
   "outputs": [],
   "source": [
    "unique2 = categorical_description.loc['unique'] == 2\n",
    "unique2 = unique2[unique2 == True].index\n",
    "\n",
    "unique2"
   ]
  },
  {
   "cell_type": "code",
   "execution_count": null,
   "id": "27f8499f",
   "metadata": {},
   "outputs": [],
   "source": [
    "ordinal_encoder = OrdinalEncoder(handle_unknown = 'use_encoded_value', unknown_value = -1)\n",
    "X_train[unique2] = ordinal_encoder.fit_transform(X_train[unique2])\n",
    "X_test[unique2] = ordinal_encoder.transform(X_test[unique2])"
   ]
  },
  {
   "attachments": {},
   "cell_type": "markdown",
   "id": "6a5e1f95",
   "metadata": {},
   "source": [
    "- **unique > 2 and non-ordered classes**"
   ]
  },
  {
   "cell_type": "code",
   "execution_count": null,
   "id": "c2f77161",
   "metadata": {
    "scrolled": true
   },
   "outputs": [],
   "source": [
    "uniquegr2 = categorical_description.loc['unique'] > 2\n",
    "uniquegr2 = uniquegr2[uniquegr2 == True].index\n",
    "\n",
    "uniquegr2"
   ]
  },
  {
   "cell_type": "code",
   "execution_count": null,
   "id": "42ccc5a3",
   "metadata": {},
   "outputs": [],
   "source": [
    "# To see all the columns\n",
    "pd.set_option('display.max_columns', None)\n",
    "pd.set_option('display.width', None)\n",
    "pd.set_option('display.max_colwidth', None)"
   ]
  },
  {
   "cell_type": "code",
   "execution_count": null,
   "id": "f871b83f",
   "metadata": {
    "scrolled": true
   },
   "outputs": [],
   "source": [
    "X_train[uniquegr2]"
   ]
  },
  {
   "cell_type": "code",
   "execution_count": null,
   "id": "7cbba3a7",
   "metadata": {
    "scrolled": true
   },
   "outputs": [],
   "source": [
    "X_train['GarageFinish'].value_counts()"
   ]
  },
  {
   "cell_type": "code",
   "execution_count": null,
   "id": "1ef8ee51",
   "metadata": {},
   "outputs": [],
   "source": [
    "ordered_classes = ['Fence', 'PoolQC', 'GarageCond', 'GarageQual', 'GarageFinish', 'FireplaceQu', 'Functional',\n",
    "                  'KitchenQual', 'HeatingQC', 'BsmtCond', 'BsmtQual', 'BsmtExposure', 'BsmtFinType1', 'BsmtFinType2',\n",
    "                  'ExterCond', 'ExterQual', 'LotShape', 'Utilities', \n",
    "                  'LandSlope', 'PavedDrive']\n",
    "\n",
    "unordered_classes = list(set(uniquegr2).difference(ordered_classes))"
   ]
  },
  {
   "cell_type": "code",
   "execution_count": null,
   "id": "5c400382",
   "metadata": {},
   "outputs": [],
   "source": [
    "categories = {'Fence':['GdPrv', 'MnPrv', 'GdWo', 'MnWw', 'NA'],\n",
    "              'PoolQC':['Ex', 'Gd', 'TA', 'Fa', 'NA'],\n",
    "              'GarageCond':['Ex', 'Gd', 'TA', 'Fa', 'Po', 'NA'],\n",
    "              'GarageQual':['Ex', 'Gd', 'TA', 'Fa', 'Po', 'NA'],\n",
    "              'GarageFinish':['Fin', 'RFn', 'Unf', 'NA'],\n",
    "              'FireplaceQu':['Ex', 'Gd', 'TA', 'Fa', 'Po', 'NA'],\n",
    "              'Functional':['Typ', 'Min1', 'Min2', 'Mod', 'Maj1', 'Maj2', 'Sev', 'Sal'],\n",
    "              'KitchenQual':['Ex', 'Gd', 'TA', 'Fa', 'Po'],\n",
    "              'HeatingQC':['Ex', 'Gd', 'TA', 'Fa', 'Po'],\n",
    "              'BsmtCond':['Ex', 'Gd', 'TA', 'Fa', 'Po', 'NA'],\n",
    "              'BsmtQual':['Ex', 'Gd', 'TA', 'Fa', 'Po', 'NA'],\n",
    "              'BsmtExposure':['Gd','Av','Mn','No','NA'],\n",
    "              'BsmtFinType1':['GLQ','ALQ','BLQ','Rec','LwQ','Unf','NA'],\n",
    "              'BsmtFinType2':['GLQ','ALQ','BLQ','Rec','LwQ','Unf','NA'],\n",
    "              'ExterCond':['Ex', 'Gd', 'TA', 'Fa', 'Po'],\n",
    "              'ExterQual':['Ex', 'Gd', 'TA', 'Fa', 'Po'],\n",
    "              'LotShape':['Reg', 'IR1', 'IR2', 'IR3'],\n",
    "              'Utilities':['AllPub', 'NoSewr', 'NoSeWa', 'ELO'],\n",
    "              'LandSlope':['Gtl', 'Mod', 'Sev'],\n",
    "              'PavedDrive':['Y','P','N']\n",
    "              }\n"
   ]
  },
  {
   "attachments": {},
   "cell_type": "markdown",
   "id": "faa4b1a9",
   "metadata": {},
   "source": [
    "Now, we can do the transformations:"
   ]
  },
  {
   "cell_type": "code",
   "execution_count": null,
   "id": "4f7a07b3",
   "metadata": {},
   "outputs": [],
   "source": [
    "from sklearn.preprocessing import OneHotEncoder"
   ]
  },
  {
   "cell_type": "code",
   "execution_count": null,
   "id": "639bb2d2",
   "metadata": {},
   "outputs": [],
   "source": [
    "onehot_encoder = OneHotEncoder(handle_unknown = 'infrequent_if_exist', min_frequency = 10)\n",
    "onehot_encoder.fit(X_train[unordered_classes])\n",
    "\n",
    "train_encoded = onehot_encoder.transform(X_train[unordered_classes]).toarray()\n",
    "train_encoded = pd.DataFrame(train_encoded, columns = onehot_encoder.get_feature_names_out(), index = X_train.index)\n",
    "\n",
    "test_encoded = onehot_encoder.transform(X_test[unordered_classes]).toarray()\n",
    "test_encoded = pd.DataFrame(test_encoded, columns = onehot_encoder.get_feature_names_out(), index = X_test.index)\n",
    "\n",
    "X_train = pd.concat([X_train, train_encoded], axis = 1)\n",
    "X_test = pd.concat([X_test, test_encoded], axis = 1)\n",
    "\n",
    "X_train = X_train.drop(columns = unordered_classes)\n",
    "X_test = X_test.drop(columns = unordered_classes)"
   ]
  },
  {
   "attachments": {},
   "cell_type": "markdown",
   "id": "d41aeea0",
   "metadata": {},
   "source": [
    "- **unique > 2 and ordered classes**"
   ]
  },
  {
   "cell_type": "code",
   "execution_count": null,
   "id": "ab16a4e8",
   "metadata": {},
   "outputs": [],
   "source": [
    "ordinal_encoder = OrdinalEncoder(handle_unknown = 'use_encoded_value', unknown_value = -1)\n",
    "\n",
    "for key in categories.keys:\n",
    "\tordinal_encoder = OrdinalEncoder(categories = categories[key], handle_unknown = 'use_encoded_value', unknown_value = -1)\n",
    "\tX_train[key] = ordinal_encoder.fit_transform(X_train[key])\n",
    "\tX_test[key] = ordinal_encoder.transform(X_test[key])"
   ]
  },
  {
   "attachments": {},
   "cell_type": "markdown",
   "id": "342888b9",
   "metadata": {},
   "source": [
    "Finally, the scaling:"
   ]
  },
  {
   "cell_type": "code",
   "execution_count": null,
   "id": "96bedb87",
   "metadata": {},
   "outputs": [],
   "source": [
    "X_train"
   ]
  },
  {
   "cell_type": "code",
   "execution_count": null,
   "id": "e62f3c0a",
   "metadata": {},
   "outputs": [],
   "source": [
    "from sklearn.preprocessing import MinMaxScaler"
   ]
  },
  {
   "cell_type": "code",
   "execution_count": null,
   "id": "f5a9c7fe",
   "metadata": {},
   "outputs": [],
   "source": [
    "to_scale = set(X_train.columns).difference(numerical)"
   ]
  },
  {
   "cell_type": "code",
   "execution_count": null,
   "id": "d569e91b",
   "metadata": {
    "scrolled": false
   },
   "outputs": [],
   "source": [
    "len(X_train.columns)"
   ]
  },
  {
   "cell_type": "code",
   "execution_count": null,
   "id": "3a2fcc68",
   "metadata": {},
   "outputs": [],
   "source": [
    "scaler = MinMaxScaler()\n",
    "to_scale = list(set(X_train.columns).difference(numerical))\n",
    "\n",
    "X_train[to_scale] = scaler.fit_transform(X_train[to_scale])\n",
    "X_test[to_scale] = scaler.transform(X_test[to_scale])"
   ]
  },
  {
   "cell_type": "code",
   "execution_count": null,
   "id": "8430c9a3",
   "metadata": {
    "scrolled": false
   },
   "outputs": [],
   "source": [
    "X_train.head()"
   ]
  },
  {
   "attachments": {},
   "cell_type": "markdown",
   "id": "1390b7f5",
   "metadata": {},
   "source": [
    "### To make this easy, we will make a function."
   ]
  },
  {
   "attachments": {},
   "cell_type": "markdown",
   "id": "0190e32e",
   "metadata": {},
   "source": [
    "__This function is defined in the file 'utils.py'.__"
   ]
  },
  {
   "cell_type": "code",
   "execution_count": null,
   "id": "abba46fe",
   "metadata": {},
   "outputs": [],
   "source": [
    "from utils import preprocess_houses"
   ]
  },
  {
   "cell_type": "code",
   "execution_count": null,
   "id": "0019c9f7",
   "metadata": {},
   "outputs": [],
   "source": [
    "y_train, X_train, X_test = preprocess_houses()"
   ]
  },
  {
   "cell_type": "code",
   "execution_count": null,
   "id": "9b6dbe78",
   "metadata": {},
   "outputs": [],
   "source": [
    "X_train.head()"
   ]
  },
  {
   "cell_type": "code",
   "execution_count": null,
   "id": "9e223f06",
   "metadata": {},
   "outputs": [],
   "source": [
    "X_test.head()"
   ]
  },
  {
   "attachments": {},
   "cell_type": "markdown",
   "id": "0a827b82",
   "metadata": {},
   "source": [
    "---"
   ]
  },
  {
   "attachments": {},
   "cell_type": "markdown",
   "id": "3bdf67a8",
   "metadata": {},
   "source": [
    "### Final correlations"
   ]
  },
  {
   "cell_type": "code",
   "execution_count": null,
   "id": "23028696",
   "metadata": {},
   "outputs": [],
   "source": [
    "train_data = pd.concat([X_train, y_train], axis = 1)"
   ]
  },
  {
   "cell_type": "code",
   "execution_count": null,
   "id": "83c811e8",
   "metadata": {},
   "outputs": [],
   "source": [
    "train_data.corr()"
   ]
  },
  {
   "cell_type": "code",
   "execution_count": null,
   "id": "e69fef5d",
   "metadata": {},
   "outputs": [],
   "source": []
  }
 ],
 "metadata": {
  "kernelspec": {
   "display_name": "Python 3 (ipykernel)",
   "language": "python",
   "name": "python3"
  },
  "language_info": {
   "codemirror_mode": {
    "name": "ipython",
    "version": 3
   },
   "file_extension": ".py",
   "mimetype": "text/x-python",
   "name": "python",
   "nbconvert_exporter": "python",
   "pygments_lexer": "ipython3",
   "version": "3.10.6"
  }
 },
 "nbformat": 4,
 "nbformat_minor": 5
}
