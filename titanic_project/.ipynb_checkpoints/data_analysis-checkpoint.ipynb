{
 "cells": [
  {
   "cell_type": "markdown",
   "id": "c7451e6b",
   "metadata": {},
   "source": [
    "## Importing libraries"
   ]
  },
  {
   "cell_type": "code",
   "execution_count": 1,
   "id": "a0d111c4",
   "metadata": {},
   "outputs": [],
   "source": [
    "import os\n",
    "import pandas as pd\n",
    "import numpy as np\n",
    "import matplotlib.pyplot as plt"
   ]
  },
  {
   "cell_type": "markdown",
   "id": "a8693682",
   "metadata": {},
   "source": [
    "---"
   ]
  },
  {
   "cell_type": "markdown",
   "id": "b1ec528a",
   "metadata": {},
   "source": [
    "## Importing data"
   ]
  },
  {
   "cell_type": "code",
   "execution_count": 2,
   "id": "cc083963",
   "metadata": {},
   "outputs": [],
   "source": [
    "train_path = os.path.join('data', 'train.csv')\n",
    "test_path = os.path.join('data', 'test.csv')\n",
    "\n",
    "train_data = pd.read_csv(train_path, index_col = [0])\n",
    "test_data = pd.read_csv(test_path, index_col = [0])"
   ]
  },
  {
   "cell_type": "markdown",
   "id": "3af59a0a",
   "metadata": {},
   "source": [
    "---"
   ]
  },
  {
   "cell_type": "markdown",
   "id": "b9e4ab09",
   "metadata": {},
   "source": [
    "## Data overview"
   ]
  },
  {
   "cell_type": "markdown",
   "id": "1a836514",
   "metadata": {},
   "source": [
    "### Training data"
   ]
  },
  {
   "cell_type": "code",
   "execution_count": 3,
   "id": "27d4e41c",
   "metadata": {},
   "outputs": [
    {
     "data": {
      "text/plain": [
       "(891, 11)"
      ]
     },
     "execution_count": 3,
     "metadata": {},
     "output_type": "execute_result"
    }
   ],
   "source": [
    "train_data.shape"
   ]
  },
  {
   "cell_type": "code",
   "execution_count": 4,
   "id": "102861c1",
   "metadata": {
    "scrolled": true
   },
   "outputs": [
    {
     "data": {
      "text/plain": [
       "Index(['Survived', 'Pclass', 'Name', 'Sex', 'Age', 'SibSp', 'Parch', 'Ticket',\n",
       "       'Fare', 'Cabin', 'Embarked'],\n",
       "      dtype='object')"
      ]
     },
     "execution_count": 4,
     "metadata": {},
     "output_type": "execute_result"
    }
   ],
   "source": [
    "train_data.columns"
   ]
  },
  {
   "cell_type": "code",
   "execution_count": 5,
   "id": "faea2281",
   "metadata": {},
   "outputs": [
    {
     "data": {
      "text/plain": [
       "Survived      int64\n",
       "Pclass        int64\n",
       "Name         object\n",
       "Sex          object\n",
       "Age         float64\n",
       "SibSp         int64\n",
       "Parch         int64\n",
       "Ticket       object\n",
       "Fare        float64\n",
       "Cabin        object\n",
       "Embarked     object\n",
       "dtype: object"
      ]
     },
     "execution_count": 5,
     "metadata": {},
     "output_type": "execute_result"
    }
   ],
   "source": [
    "train_data.dtypes"
   ]
  },
  {
   "cell_type": "code",
   "execution_count": 6,
   "id": "402aee4e",
   "metadata": {
    "scrolled": true
   },
   "outputs": [
    {
     "data": {
      "text/html": [
       "<div>\n",
       "<style scoped>\n",
       "    .dataframe tbody tr th:only-of-type {\n",
       "        vertical-align: middle;\n",
       "    }\n",
       "\n",
       "    .dataframe tbody tr th {\n",
       "        vertical-align: top;\n",
       "    }\n",
       "\n",
       "    .dataframe thead th {\n",
       "        text-align: right;\n",
       "    }\n",
       "</style>\n",
       "<table border=\"1\" class=\"dataframe\">\n",
       "  <thead>\n",
       "    <tr style=\"text-align: right;\">\n",
       "      <th></th>\n",
       "      <th>Survived</th>\n",
       "      <th>Pclass</th>\n",
       "      <th>Name</th>\n",
       "      <th>Sex</th>\n",
       "      <th>Age</th>\n",
       "      <th>SibSp</th>\n",
       "      <th>Parch</th>\n",
       "      <th>Ticket</th>\n",
       "      <th>Fare</th>\n",
       "      <th>Cabin</th>\n",
       "      <th>Embarked</th>\n",
       "    </tr>\n",
       "    <tr>\n",
       "      <th>PassengerId</th>\n",
       "      <th></th>\n",
       "      <th></th>\n",
       "      <th></th>\n",
       "      <th></th>\n",
       "      <th></th>\n",
       "      <th></th>\n",
       "      <th></th>\n",
       "      <th></th>\n",
       "      <th></th>\n",
       "      <th></th>\n",
       "      <th></th>\n",
       "    </tr>\n",
       "  </thead>\n",
       "  <tbody>\n",
       "    <tr>\n",
       "      <th>1</th>\n",
       "      <td>0</td>\n",
       "      <td>3</td>\n",
       "      <td>Braund, Mr. Owen Harris</td>\n",
       "      <td>male</td>\n",
       "      <td>22.0</td>\n",
       "      <td>1</td>\n",
       "      <td>0</td>\n",
       "      <td>A/5 21171</td>\n",
       "      <td>7.2500</td>\n",
       "      <td>NaN</td>\n",
       "      <td>S</td>\n",
       "    </tr>\n",
       "    <tr>\n",
       "      <th>2</th>\n",
       "      <td>1</td>\n",
       "      <td>1</td>\n",
       "      <td>Cumings, Mrs. John Bradley (Florence Briggs Th...</td>\n",
       "      <td>female</td>\n",
       "      <td>38.0</td>\n",
       "      <td>1</td>\n",
       "      <td>0</td>\n",
       "      <td>PC 17599</td>\n",
       "      <td>71.2833</td>\n",
       "      <td>C85</td>\n",
       "      <td>C</td>\n",
       "    </tr>\n",
       "    <tr>\n",
       "      <th>3</th>\n",
       "      <td>1</td>\n",
       "      <td>3</td>\n",
       "      <td>Heikkinen, Miss. Laina</td>\n",
       "      <td>female</td>\n",
       "      <td>26.0</td>\n",
       "      <td>0</td>\n",
       "      <td>0</td>\n",
       "      <td>STON/O2. 3101282</td>\n",
       "      <td>7.9250</td>\n",
       "      <td>NaN</td>\n",
       "      <td>S</td>\n",
       "    </tr>\n",
       "    <tr>\n",
       "      <th>4</th>\n",
       "      <td>1</td>\n",
       "      <td>1</td>\n",
       "      <td>Futrelle, Mrs. Jacques Heath (Lily May Peel)</td>\n",
       "      <td>female</td>\n",
       "      <td>35.0</td>\n",
       "      <td>1</td>\n",
       "      <td>0</td>\n",
       "      <td>113803</td>\n",
       "      <td>53.1000</td>\n",
       "      <td>C123</td>\n",
       "      <td>S</td>\n",
       "    </tr>\n",
       "    <tr>\n",
       "      <th>5</th>\n",
       "      <td>0</td>\n",
       "      <td>3</td>\n",
       "      <td>Allen, Mr. William Henry</td>\n",
       "      <td>male</td>\n",
       "      <td>35.0</td>\n",
       "      <td>0</td>\n",
       "      <td>0</td>\n",
       "      <td>373450</td>\n",
       "      <td>8.0500</td>\n",
       "      <td>NaN</td>\n",
       "      <td>S</td>\n",
       "    </tr>\n",
       "  </tbody>\n",
       "</table>\n",
       "</div>"
      ],
      "text/plain": [
       "             Survived  Pclass  \\\n",
       "PassengerId                     \n",
       "1                   0       3   \n",
       "2                   1       1   \n",
       "3                   1       3   \n",
       "4                   1       1   \n",
       "5                   0       3   \n",
       "\n",
       "                                                          Name     Sex   Age  \\\n",
       "PassengerId                                                                    \n",
       "1                                      Braund, Mr. Owen Harris    male  22.0   \n",
       "2            Cumings, Mrs. John Bradley (Florence Briggs Th...  female  38.0   \n",
       "3                                       Heikkinen, Miss. Laina  female  26.0   \n",
       "4                 Futrelle, Mrs. Jacques Heath (Lily May Peel)  female  35.0   \n",
       "5                                     Allen, Mr. William Henry    male  35.0   \n",
       "\n",
       "             SibSp  Parch            Ticket     Fare Cabin Embarked  \n",
       "PassengerId                                                          \n",
       "1                1      0         A/5 21171   7.2500   NaN        S  \n",
       "2                1      0          PC 17599  71.2833   C85        C  \n",
       "3                0      0  STON/O2. 3101282   7.9250   NaN        S  \n",
       "4                1      0            113803  53.1000  C123        S  \n",
       "5                0      0            373450   8.0500   NaN        S  "
      ]
     },
     "execution_count": 6,
     "metadata": {},
     "output_type": "execute_result"
    }
   ],
   "source": [
    "train_data.head()"
   ]
  },
  {
   "cell_type": "markdown",
   "id": "5ccec0cd",
   "metadata": {},
   "source": [
    "Our possible features are:\n",
    "\n",
    "**Pclass**: Ticket's class. 1 = 1st class, 2 = 2nd class, 3 = 3rd class.\n",
    "\n",
    "**Name**: Person's name.\n",
    "\n",
    "**Sex**: Person's sex. Male or Female.\n",
    "\n",
    "**Age**: Person's age. Age is fractional if less than 1. If the age is estimated, is it in the form of xx.5.\n",
    "\n",
    "**SibSp**: Number of siblings or spouse in Titanic. Sibling = brother, sister, stepbrother, stepsister. Spouse = husband, wife (mistresses and fiancés were ignored).\n",
    " \n",
    "**Parch**: Number of parents or child in Titanic. Parent = mother, father. Child = daughter, son, stepdaughter, stepson.\n",
    "\n",
    "**Ticket**: Code printed on the ticket.\n",
    "\n",
    "**Fare**: Passenger's fare.\n",
    "\n",
    "**Cabin**: Passenger's cabin.\n",
    "\n",
    "**Embarked**: Passenger boarding port. C = Cherbourg, Q = Queenstown, S = Southampton."
   ]
  },
  {
   "cell_type": "markdown",
   "id": "71f04270",
   "metadata": {},
   "source": [
    "### Test data"
   ]
  },
  {
   "cell_type": "code",
   "execution_count": 7,
   "id": "38da7ccc",
   "metadata": {},
   "outputs": [
    {
     "data": {
      "text/plain": [
       "(418, 10)"
      ]
     },
     "execution_count": 7,
     "metadata": {},
     "output_type": "execute_result"
    }
   ],
   "source": [
    "test_data.shape"
   ]
  },
  {
   "cell_type": "code",
   "execution_count": 8,
   "id": "21e9b5df",
   "metadata": {},
   "outputs": [
    {
     "data": {
      "text/plain": [
       "Index(['Pclass', 'Name', 'Sex', 'Age', 'SibSp', 'Parch', 'Ticket', 'Fare',\n",
       "       'Cabin', 'Embarked'],\n",
       "      dtype='object')"
      ]
     },
     "execution_count": 8,
     "metadata": {},
     "output_type": "execute_result"
    }
   ],
   "source": [
    "test_data.columns"
   ]
  },
  {
   "cell_type": "markdown",
   "id": "6ec39160",
   "metadata": {},
   "source": [
    "Test and training have the same columns. The exception is the column 'Survived', which is the label."
   ]
  },
  {
   "cell_type": "code",
   "execution_count": 9,
   "id": "0fcba832",
   "metadata": {},
   "outputs": [
    {
     "data": {
      "text/html": [
       "<div>\n",
       "<style scoped>\n",
       "    .dataframe tbody tr th:only-of-type {\n",
       "        vertical-align: middle;\n",
       "    }\n",
       "\n",
       "    .dataframe tbody tr th {\n",
       "        vertical-align: top;\n",
       "    }\n",
       "\n",
       "    .dataframe thead th {\n",
       "        text-align: right;\n",
       "    }\n",
       "</style>\n",
       "<table border=\"1\" class=\"dataframe\">\n",
       "  <thead>\n",
       "    <tr style=\"text-align: right;\">\n",
       "      <th></th>\n",
       "      <th>Pclass</th>\n",
       "      <th>Name</th>\n",
       "      <th>Sex</th>\n",
       "      <th>Age</th>\n",
       "      <th>SibSp</th>\n",
       "      <th>Parch</th>\n",
       "      <th>Ticket</th>\n",
       "      <th>Fare</th>\n",
       "      <th>Cabin</th>\n",
       "      <th>Embarked</th>\n",
       "    </tr>\n",
       "    <tr>\n",
       "      <th>PassengerId</th>\n",
       "      <th></th>\n",
       "      <th></th>\n",
       "      <th></th>\n",
       "      <th></th>\n",
       "      <th></th>\n",
       "      <th></th>\n",
       "      <th></th>\n",
       "      <th></th>\n",
       "      <th></th>\n",
       "      <th></th>\n",
       "    </tr>\n",
       "  </thead>\n",
       "  <tbody>\n",
       "    <tr>\n",
       "      <th>892</th>\n",
       "      <td>3</td>\n",
       "      <td>Kelly, Mr. James</td>\n",
       "      <td>male</td>\n",
       "      <td>34.5</td>\n",
       "      <td>0</td>\n",
       "      <td>0</td>\n",
       "      <td>330911</td>\n",
       "      <td>7.8292</td>\n",
       "      <td>NaN</td>\n",
       "      <td>Q</td>\n",
       "    </tr>\n",
       "    <tr>\n",
       "      <th>893</th>\n",
       "      <td>3</td>\n",
       "      <td>Wilkes, Mrs. James (Ellen Needs)</td>\n",
       "      <td>female</td>\n",
       "      <td>47.0</td>\n",
       "      <td>1</td>\n",
       "      <td>0</td>\n",
       "      <td>363272</td>\n",
       "      <td>7.0000</td>\n",
       "      <td>NaN</td>\n",
       "      <td>S</td>\n",
       "    </tr>\n",
       "    <tr>\n",
       "      <th>894</th>\n",
       "      <td>2</td>\n",
       "      <td>Myles, Mr. Thomas Francis</td>\n",
       "      <td>male</td>\n",
       "      <td>62.0</td>\n",
       "      <td>0</td>\n",
       "      <td>0</td>\n",
       "      <td>240276</td>\n",
       "      <td>9.6875</td>\n",
       "      <td>NaN</td>\n",
       "      <td>Q</td>\n",
       "    </tr>\n",
       "    <tr>\n",
       "      <th>895</th>\n",
       "      <td>3</td>\n",
       "      <td>Wirz, Mr. Albert</td>\n",
       "      <td>male</td>\n",
       "      <td>27.0</td>\n",
       "      <td>0</td>\n",
       "      <td>0</td>\n",
       "      <td>315154</td>\n",
       "      <td>8.6625</td>\n",
       "      <td>NaN</td>\n",
       "      <td>S</td>\n",
       "    </tr>\n",
       "    <tr>\n",
       "      <th>896</th>\n",
       "      <td>3</td>\n",
       "      <td>Hirvonen, Mrs. Alexander (Helga E Lindqvist)</td>\n",
       "      <td>female</td>\n",
       "      <td>22.0</td>\n",
       "      <td>1</td>\n",
       "      <td>1</td>\n",
       "      <td>3101298</td>\n",
       "      <td>12.2875</td>\n",
       "      <td>NaN</td>\n",
       "      <td>S</td>\n",
       "    </tr>\n",
       "  </tbody>\n",
       "</table>\n",
       "</div>"
      ],
      "text/plain": [
       "             Pclass                                          Name     Sex  \\\n",
       "PassengerId                                                                 \n",
       "892               3                              Kelly, Mr. James    male   \n",
       "893               3              Wilkes, Mrs. James (Ellen Needs)  female   \n",
       "894               2                     Myles, Mr. Thomas Francis    male   \n",
       "895               3                              Wirz, Mr. Albert    male   \n",
       "896               3  Hirvonen, Mrs. Alexander (Helga E Lindqvist)  female   \n",
       "\n",
       "              Age  SibSp  Parch   Ticket     Fare Cabin Embarked  \n",
       "PassengerId                                                       \n",
       "892          34.5      0      0   330911   7.8292   NaN        Q  \n",
       "893          47.0      1      0   363272   7.0000   NaN        S  \n",
       "894          62.0      0      0   240276   9.6875   NaN        Q  \n",
       "895          27.0      0      0   315154   8.6625   NaN        S  \n",
       "896          22.0      1      1  3101298  12.2875   NaN        S  "
      ]
     },
     "execution_count": 9,
     "metadata": {},
     "output_type": "execute_result"
    }
   ],
   "source": [
    "test_data.head()"
   ]
  },
  {
   "cell_type": "markdown",
   "id": "c3a9ca26",
   "metadata": {},
   "source": [
    "---"
   ]
  },
  {
   "cell_type": "markdown",
   "id": "326a3dc4",
   "metadata": {},
   "source": [
    "## Separating data: features and labels"
   ]
  },
  {
   "cell_type": "markdown",
   "id": "6f124662",
   "metadata": {},
   "source": [
    "To make our analysis easy, we will separate the data into:\n",
    "\n",
    "**X_train**: (possible) training features.\n",
    "\n",
    "**y_train**: labels.\n",
    "\n",
    "**X_test**: (possible) test features.\n",
    "\n",
    "We will call __features__ the list with the names of the columns that might be the features and __label__ the name of the column which has the labels (**Survived** column)."
   ]
  },
  {
   "cell_type": "code",
   "execution_count": 10,
   "id": "25c090bc",
   "metadata": {},
   "outputs": [],
   "source": [
    "features = list(test_data.columns)\n",
    "label = 'Survived'"
   ]
  },
  {
   "cell_type": "code",
   "execution_count": 11,
   "id": "b4f4f2f1",
   "metadata": {},
   "outputs": [],
   "source": [
    "X_train = train_data[features]\n",
    "y_train = train_data[label]\n",
    "X_test = test_data[features]"
   ]
  },
  {
   "cell_type": "markdown",
   "id": "f4aac53a",
   "metadata": {},
   "source": [
    "---"
   ]
  },
  {
   "cell_type": "markdown",
   "id": "a4a4ac16",
   "metadata": {},
   "source": [
    "We will do univariate and multivariate data analysis of the test data. This will help us to select the features to train our machine learning model in the future. It is important to note that all transformations performed in the train data have to be done in the test data to, but must always be based on the train data. For example, if the calculate the mean of the train data to perform data scaling, the same mean must be used in the train data (unseen data) to avoid data leakage."
   ]
  },
  {
   "cell_type": "markdown",
   "id": "e49f8ea8",
   "metadata": {},
   "source": [
    "## Training data analysis"
   ]
  },
  {
   "cell_type": "code",
   "execution_count": 12,
   "id": "9b10f5de",
   "metadata": {},
   "outputs": [
    {
     "data": {
      "text/plain": [
       "PassengerId\n",
       "1    0\n",
       "2    1\n",
       "3    1\n",
       "4    1\n",
       "5    0\n",
       "Name: Survived, dtype: int64"
      ]
     },
     "execution_count": 12,
     "metadata": {},
     "output_type": "execute_result"
    }
   ],
   "source": [
    "y_train.head()"
   ]
  },
  {
   "cell_type": "code",
   "execution_count": 13,
   "id": "7daca95b",
   "metadata": {},
   "outputs": [
    {
     "data": {
      "text/html": [
       "<div>\n",
       "<style scoped>\n",
       "    .dataframe tbody tr th:only-of-type {\n",
       "        vertical-align: middle;\n",
       "    }\n",
       "\n",
       "    .dataframe tbody tr th {\n",
       "        vertical-align: top;\n",
       "    }\n",
       "\n",
       "    .dataframe thead th {\n",
       "        text-align: right;\n",
       "    }\n",
       "</style>\n",
       "<table border=\"1\" class=\"dataframe\">\n",
       "  <thead>\n",
       "    <tr style=\"text-align: right;\">\n",
       "      <th></th>\n",
       "      <th>Pclass</th>\n",
       "      <th>Name</th>\n",
       "      <th>Sex</th>\n",
       "      <th>Age</th>\n",
       "      <th>SibSp</th>\n",
       "      <th>Parch</th>\n",
       "      <th>Ticket</th>\n",
       "      <th>Fare</th>\n",
       "      <th>Cabin</th>\n",
       "      <th>Embarked</th>\n",
       "    </tr>\n",
       "    <tr>\n",
       "      <th>PassengerId</th>\n",
       "      <th></th>\n",
       "      <th></th>\n",
       "      <th></th>\n",
       "      <th></th>\n",
       "      <th></th>\n",
       "      <th></th>\n",
       "      <th></th>\n",
       "      <th></th>\n",
       "      <th></th>\n",
       "      <th></th>\n",
       "    </tr>\n",
       "  </thead>\n",
       "  <tbody>\n",
       "    <tr>\n",
       "      <th>1</th>\n",
       "      <td>3</td>\n",
       "      <td>Braund, Mr. Owen Harris</td>\n",
       "      <td>male</td>\n",
       "      <td>22.0</td>\n",
       "      <td>1</td>\n",
       "      <td>0</td>\n",
       "      <td>A/5 21171</td>\n",
       "      <td>7.2500</td>\n",
       "      <td>NaN</td>\n",
       "      <td>S</td>\n",
       "    </tr>\n",
       "    <tr>\n",
       "      <th>2</th>\n",
       "      <td>1</td>\n",
       "      <td>Cumings, Mrs. John Bradley (Florence Briggs Th...</td>\n",
       "      <td>female</td>\n",
       "      <td>38.0</td>\n",
       "      <td>1</td>\n",
       "      <td>0</td>\n",
       "      <td>PC 17599</td>\n",
       "      <td>71.2833</td>\n",
       "      <td>C85</td>\n",
       "      <td>C</td>\n",
       "    </tr>\n",
       "    <tr>\n",
       "      <th>3</th>\n",
       "      <td>3</td>\n",
       "      <td>Heikkinen, Miss. Laina</td>\n",
       "      <td>female</td>\n",
       "      <td>26.0</td>\n",
       "      <td>0</td>\n",
       "      <td>0</td>\n",
       "      <td>STON/O2. 3101282</td>\n",
       "      <td>7.9250</td>\n",
       "      <td>NaN</td>\n",
       "      <td>S</td>\n",
       "    </tr>\n",
       "    <tr>\n",
       "      <th>4</th>\n",
       "      <td>1</td>\n",
       "      <td>Futrelle, Mrs. Jacques Heath (Lily May Peel)</td>\n",
       "      <td>female</td>\n",
       "      <td>35.0</td>\n",
       "      <td>1</td>\n",
       "      <td>0</td>\n",
       "      <td>113803</td>\n",
       "      <td>53.1000</td>\n",
       "      <td>C123</td>\n",
       "      <td>S</td>\n",
       "    </tr>\n",
       "    <tr>\n",
       "      <th>5</th>\n",
       "      <td>3</td>\n",
       "      <td>Allen, Mr. William Henry</td>\n",
       "      <td>male</td>\n",
       "      <td>35.0</td>\n",
       "      <td>0</td>\n",
       "      <td>0</td>\n",
       "      <td>373450</td>\n",
       "      <td>8.0500</td>\n",
       "      <td>NaN</td>\n",
       "      <td>S</td>\n",
       "    </tr>\n",
       "  </tbody>\n",
       "</table>\n",
       "</div>"
      ],
      "text/plain": [
       "             Pclass                                               Name  \\\n",
       "PassengerId                                                              \n",
       "1                 3                            Braund, Mr. Owen Harris   \n",
       "2                 1  Cumings, Mrs. John Bradley (Florence Briggs Th...   \n",
       "3                 3                             Heikkinen, Miss. Laina   \n",
       "4                 1       Futrelle, Mrs. Jacques Heath (Lily May Peel)   \n",
       "5                 3                           Allen, Mr. William Henry   \n",
       "\n",
       "                Sex   Age  SibSp  Parch            Ticket     Fare Cabin  \\\n",
       "PassengerId                                                                \n",
       "1              male  22.0      1      0         A/5 21171   7.2500   NaN   \n",
       "2            female  38.0      1      0          PC 17599  71.2833   C85   \n",
       "3            female  26.0      0      0  STON/O2. 3101282   7.9250   NaN   \n",
       "4            female  35.0      1      0            113803  53.1000  C123   \n",
       "5              male  35.0      0      0            373450   8.0500   NaN   \n",
       "\n",
       "            Embarked  \n",
       "PassengerId           \n",
       "1                  S  \n",
       "2                  C  \n",
       "3                  S  \n",
       "4                  S  \n",
       "5                  S  "
      ]
     },
     "execution_count": 13,
     "metadata": {},
     "output_type": "execute_result"
    }
   ],
   "source": [
    "X_train.head()"
   ]
  },
  {
   "cell_type": "markdown",
   "id": "4ba34e3d",
   "metadata": {},
   "source": [
    "### Univariate analysis"
   ]
  },
  {
   "cell_type": "markdown",
   "id": "373eb60c",
   "metadata": {},
   "source": [
    "#### Survived"
   ]
  },
  {
   "cell_type": "code",
   "execution_count": 14,
   "id": "c62d74a4",
   "metadata": {},
   "outputs": [
    {
     "data": {
      "text/plain": [
       "count    891.000000\n",
       "mean       0.383838\n",
       "std        0.486592\n",
       "min        0.000000\n",
       "25%        0.000000\n",
       "50%        0.000000\n",
       "75%        1.000000\n",
       "max        1.000000\n",
       "Name: Survived, dtype: float64"
      ]
     },
     "execution_count": 14,
     "metadata": {},
     "output_type": "execute_result"
    }
   ],
   "source": [
    "y_train.describe()"
   ]
  },
  {
   "cell_type": "code",
   "execution_count": 15,
   "id": "3777a6e5",
   "metadata": {},
   "outputs": [
    {
     "data": {
      "text/plain": [
       "Survived\n",
       "0    549\n",
       "1    342\n",
       "Name: count, dtype: int64"
      ]
     },
     "execution_count": 15,
     "metadata": {},
     "output_type": "execute_result"
    }
   ],
   "source": [
    "y_train.value_counts()"
   ]
  },
  {
   "cell_type": "code",
   "execution_count": 16,
   "id": "15087cab",
   "metadata": {},
   "outputs": [
    {
     "data": {
      "image/png": "[encoded data removed]",
      "text/plain": [
       "<Figure size 640x480 with 1 Axes>"
      ]
     },
     "metadata": {},
     "output_type": "display_data"
    }
   ],
   "source": [
    "not_survived = y_train.value_counts()[0]\n",
    "survived = y_train.value_counts()[1]\n",
    "plt.bar(x = ['Not Survived', 'Survived'], height = y_train.value_counts(), color = ['darkblue', 'gray'])\n",
    "plt.text(0 - 0.06, not_survived + 4, f'{not_survived}')\n",
    "plt.text(1 - 0.06, survived + 4, f'{survived}')\n",
    "plt.yticks([])\n",
    "plt.suptitle('Comparison between the numbers of survivors and non-survivors in the training set')\n",
    "plt.title(f'The number of deaths is {np.floor((not_survived - survived)/survived * 100)}% greater than the number of survivors')\n",
    "\n",
    "plt.show()"
   ]
  },
  {
   "cell_type": "markdown",
   "id": "b85fc043",
   "metadata": {},
   "source": [
    "#### Pclass"
   ]
  },
  {
   "cell_type": "code",
   "execution_count": 17,
   "id": "35fb4697",
   "metadata": {},
   "outputs": [
    {
     "data": {
      "text/plain": [
       "Pclass\n",
       "3    491\n",
       "1    216\n",
       "2    184\n",
       "Name: count, dtype: int64"
      ]
     },
     "execution_count": 17,
     "metadata": {},
     "output_type": "execute_result"
    }
   ],
   "source": [
    "pclass = X_train['Pclass']\n",
    "classes = pclass.value_counts()\n",
    "classes"
   ]
  },
  {
   "cell_type": "code",
   "execution_count": 18,
   "id": "fc707daa",
   "metadata": {},
   "outputs": [
    {
     "data": {
      "text/plain": [
       "Pclass\n",
       "False    891\n",
       "Name: count, dtype: int64"
      ]
     },
     "execution_count": 18,
     "metadata": {},
     "output_type": "execute_result"
    }
   ],
   "source": [
    "pclass.isnull().value_counts()"
   ]
  },
  {
   "cell_type": "code",
   "execution_count": 19,
   "id": "f4bb4bec",
   "metadata": {},
   "outputs": [
    {
     "data": {
      "image/png": "[encoded data removed]",
      "text/plain": [
       "<Figure size 640x480 with 1 Axes>"
      ]
     },
     "metadata": {},
     "output_type": "display_data"
    }
   ],
   "source": [
    "first = classes.loc[1]\n",
    "second = classes.loc[2]\n",
    "third = classes.loc[3]\n",
    "\n",
    "fig, ax = plt.subplots()\n",
    "ax.bar(x = ' ', height = first, color = 'gold')\n",
    "ax.bar(x = ' ', height = second, bottom = first, color = 'silver')\n",
    "bronze = (205/255, 127/255, 50/255)\n",
    "ax.bar(x = '  ', height = third, color = bronze)\n",
    "ax.text(0 - 0.06, first + second + 4, f'{first + second}')\n",
    "ax.text(1 - 0.06, third + 4, f'{third}')\n",
    "ax.text(0 - 0.05, first/2 , '1st')\n",
    "ax.text(0 - 0.05, first + second/2, '2nd')\n",
    "ax.text(1 - 0.05, third/2, '3rd')\n",
    "ax.set_yticks([])\n",
    "fig.suptitle(\"Comparison between passenger's ticket class numbers\")\n",
    "ax.set_title(\"The number of third class tickets is greater than the sum of first and second classes\")\n",
    "\n",
    "plt.show()"
   ]
  },
  {
   "cell_type": "markdown",
   "id": "3a74f13c",
   "metadata": {},
   "source": [
    "**Sex**"
   ]
  },
  {
   "cell_type": "code",
   "execution_count": 20,
   "id": "bfa48254",
   "metadata": {},
   "outputs": [
    {
     "data": {
      "text/plain": [
       "count      891\n",
       "unique       2\n",
       "top       male\n",
       "freq       577\n",
       "Name: Sex, dtype: object"
      ]
     },
     "execution_count": 20,
     "metadata": {},
     "output_type": "execute_result"
    }
   ],
   "source": [
    "X_train['Sex'].describe()"
   ]
  },
  {
   "cell_type": "code",
   "execution_count": 21,
   "id": "9aa7dcf6",
   "metadata": {},
   "outputs": [
    {
     "data": {
      "text/plain": [
       "Sex\n",
       "male      577\n",
       "female    314\n",
       "Name: count, dtype: int64"
      ]
     },
     "execution_count": 21,
     "metadata": {},
     "output_type": "execute_result"
    }
   ],
   "source": [
    "sex = X_train['Sex'].value_counts()\n",
    "sex"
   ]
  },
  {
   "cell_type": "code",
   "execution_count": 22,
   "id": "100e28a3",
   "metadata": {},
   "outputs": [
    {
     "data": {
      "text/plain": [
       "Sex\n",
       "False    891\n",
       "Name: count, dtype: int64"
      ]
     },
     "execution_count": 22,
     "metadata": {},
     "output_type": "execute_result"
    }
   ],
   "source": [
    "X_train['Sex'].isnull().value_counts()"
   ]
  },
  {
   "cell_type": "code",
   "execution_count": 23,
   "id": "4a478b21",
   "metadata": {},
   "outputs": [
    {
     "data": {
      "image/png": "[encoded data removed]",
      "text/plain": [
       "<Figure size 640x480 with 1 Axes>"
      ]
     },
     "metadata": {},
     "output_type": "display_data"
    }
   ],
   "source": [
    "males = sex.loc['male']\n",
    "females = sex.loc['female']\n",
    "plt.bar(x = ['Male', 'Female'], height = [males, females], color = ['darkblue', 'gray'])\n",
    "plt.text(0 - 0.06, males + 4, f'{males}')\n",
    "plt.text(1 - 0.06, females + 4, f'{females}')\n",
    "plt.xlabel('Passenger sex')\n",
    "plt.yticks([])\n",
    "plt.suptitle('Comparison between the number of males and females in the training data')\n",
    "plt.title(f'The number of males is {np.floor((males - females)/males * 100)}% greater than the number of females')\n",
    "\n",
    "plt.show()"
   ]
  },
  {
   "cell_type": "markdown",
   "id": "6aa86b80",
   "metadata": {},
   "source": [
    "**Age**"
   ]
  },
  {
   "cell_type": "code",
   "execution_count": 24,
   "id": "7ea2c4c2",
   "metadata": {},
   "outputs": [
    {
     "data": {
      "text/plain": [
       "count    714.000000\n",
       "mean      29.699118\n",
       "std       14.526497\n",
       "min        0.420000\n",
       "25%       20.125000\n",
       "50%       28.000000\n",
       "75%       38.000000\n",
       "max       80.000000\n",
       "Name: Age, dtype: float64"
      ]
     },
     "execution_count": 24,
     "metadata": {},
     "output_type": "execute_result"
    }
   ],
   "source": [
    "X_train['Age'].describe()"
   ]
  },
  {
   "cell_type": "code",
   "execution_count": 25,
   "id": "7a7ca0d2",
   "metadata": {},
   "outputs": [],
   "source": [
    "ages = X_train['Age']"
   ]
  },
  {
   "cell_type": "code",
   "execution_count": 26,
   "id": "e268cd08",
   "metadata": {},
   "outputs": [
    {
     "data": {
      "text/plain": [
       "Age\n",
       "False    714\n",
       "True     177\n",
       "Name: count, dtype: int64"
      ]
     },
     "execution_count": 26,
     "metadata": {},
     "output_type": "execute_result"
    }
   ],
   "source": [
    "ages.isnull().value_counts()"
   ]
  },
  {
   "cell_type": "code",
   "execution_count": 27,
   "id": "5bf5cf5b",
   "metadata": {},
   "outputs": [
    {
     "data": {
      "text/plain": [
       "Age\n",
       "24.00    30\n",
       "22.00    27\n",
       "18.00    26\n",
       "19.00    25\n",
       "28.00    25\n",
       "         ..\n",
       "36.50     1\n",
       "55.50     1\n",
       "0.92      1\n",
       "23.50     1\n",
       "74.00     1\n",
       "Name: count, Length: 88, dtype: int64"
      ]
     },
     "execution_count": 27,
     "metadata": {},
     "output_type": "execute_result"
    }
   ],
   "source": [
    "ages.value_counts()"
   ]
  },
  {
   "cell_type": "code",
   "execution_count": 28,
   "id": "95edb71a",
   "metadata": {},
   "outputs": [
    {
     "data": {
      "image/png": "[encoded data removed]",
      "text/plain": [
       "<Figure size 1000x500 with 2 Axes>"
      ]
     },
     "metadata": {},
     "output_type": "display_data"
    }
   ],
   "source": [
    "fig, axes = plt.subplots(nrows = 1, ncols = 2, figsize = (10, 5))\n",
    "axes[0].hist(ages, bins = [10 * i for i in range(0, 10)], color = 'darkblue')\n",
    "axes[0].set_title('Ages histogram of training set')\n",
    "axes[0].set_xlabel('Age')\n",
    "axes[0].set_ylabel('Count')\n",
    "\n",
    "axes[1].boxplot(ages.value_counts())\n",
    "axes[1].set_title(\"Boxplot of age's counts in training set\")\n",
    "axes[1].set_ylabel('Age count')\n",
    "axes[1].set_xticklabels([])\n",
    "\n",
    "plt.show()"
   ]
  },
  {
   "cell_type": "markdown",
   "id": "d35b21ab",
   "metadata": {},
   "source": [
    "#### SibSp"
   ]
  },
  {
   "cell_type": "code",
   "execution_count": 29,
   "id": "a6dc08d7",
   "metadata": {
    "scrolled": true
   },
   "outputs": [
    {
     "data": {
      "text/plain": [
       "count    891.000000\n",
       "mean       0.523008\n",
       "std        1.102743\n",
       "min        0.000000\n",
       "25%        0.000000\n",
       "50%        0.000000\n",
       "75%        1.000000\n",
       "max        8.000000\n",
       "Name: SibSp, dtype: float64"
      ]
     },
     "execution_count": 29,
     "metadata": {},
     "output_type": "execute_result"
    }
   ],
   "source": [
    "X_train['SibSp'].describe()"
   ]
  },
  {
   "cell_type": "code",
   "execution_count": 30,
   "id": "035e2318",
   "metadata": {},
   "outputs": [
    {
     "data": {
      "text/plain": [
       "SibSp\n",
       "False    891\n",
       "Name: count, dtype: int64"
      ]
     },
     "execution_count": 30,
     "metadata": {},
     "output_type": "execute_result"
    }
   ],
   "source": [
    "X_train['SibSp'].isnull().value_counts()"
   ]
  },
  {
   "cell_type": "code",
   "execution_count": 31,
   "id": "8e6bfac7",
   "metadata": {},
   "outputs": [],
   "source": [
    "sibsp = X_train['SibSp'].value_counts()"
   ]
  },
  {
   "cell_type": "code",
   "execution_count": 32,
   "id": "98b3acdd",
   "metadata": {},
   "outputs": [
    {
     "data": {
      "text/plain": [
       "SibSp\n",
       "0    608\n",
       "1    209\n",
       "2     28\n",
       "4     18\n",
       "3     16\n",
       "8      7\n",
       "5      5\n",
       "Name: count, dtype: int64"
      ]
     },
     "execution_count": 32,
     "metadata": {},
     "output_type": "execute_result"
    }
   ],
   "source": [
    "sibsp"
   ]
  },
  {
   "cell_type": "code",
   "execution_count": 33,
   "id": "2fb3460b",
   "metadata": {
    "scrolled": true
   },
   "outputs": [
    {
     "data": {
      "image/png": "[encoded data removed]",
      "text/plain": [
       "<Figure size 1000x500 with 1 Axes>"
      ]
     },
     "metadata": {},
     "output_type": "display_data"
    }
   ],
   "source": [
    "plt.figure(figsize = (10,5))\n",
    "colors = ['darkblue'] * 2 + ['gray'] * 6\n",
    "i = 0\n",
    "for index, value in sibsp.items():\n",
    "    plt.bar(x = index, height = value, color = colors[i])\n",
    "    i += 1\n",
    "plt.xticks(list(range(0, 9)))\n",
    "plt.xlabel('# of siblings or spouses aboard')\n",
    "plt.ylabel('Count')\n",
    "plt.suptitle('Count of persons with determined number of siblings or spouses aboard the Titanic in training set')\n",
    "plt.title('Most people has only one or no siblings or spouses aboard')\n",
    "\n",
    "plt.show()"
   ]
  },
  {
   "cell_type": "markdown",
   "id": "1f80478d",
   "metadata": {},
   "source": [
    "Since it has a long tail, we will apply clipping to the value of 2:"
   ]
  },
  {
   "cell_type": "code",
   "execution_count": 34,
   "id": "79b8aff5",
   "metadata": {},
   "outputs": [],
   "source": [
    "X_train.loc[X_train['SibSp'] > 2, 'SibSp'] = 2\n",
    "X_test.loc[X_test['SibSp'] > 2, 'SibSp'] = 2"
   ]
  },
  {
   "cell_type": "markdown",
   "id": "1382a505",
   "metadata": {},
   "source": [
    "#### Parch"
   ]
  },
  {
   "cell_type": "code",
   "execution_count": 35,
   "id": "c9d07fc7",
   "metadata": {},
   "outputs": [
    {
     "data": {
      "text/plain": [
       "count    891.000000\n",
       "mean       0.381594\n",
       "std        0.806057\n",
       "min        0.000000\n",
       "25%        0.000000\n",
       "50%        0.000000\n",
       "75%        0.000000\n",
       "max        6.000000\n",
       "Name: Parch, dtype: float64"
      ]
     },
     "execution_count": 35,
     "metadata": {},
     "output_type": "execute_result"
    }
   ],
   "source": [
    "X_train['Parch'].describe()"
   ]
  },
  {
   "cell_type": "code",
   "execution_count": 36,
   "id": "c4e8e9d6",
   "metadata": {},
   "outputs": [],
   "source": [
    "parch = X_train['Parch'].value_counts()"
   ]
  },
  {
   "cell_type": "code",
   "execution_count": 37,
   "id": "01a6d77e",
   "metadata": {},
   "outputs": [
    {
     "data": {
      "text/plain": [
       "Parch\n",
       "0    678\n",
       "1    118\n",
       "2     80\n",
       "5      5\n",
       "3      5\n",
       "4      4\n",
       "6      1\n",
       "Name: count, dtype: int64"
      ]
     },
     "execution_count": 37,
     "metadata": {},
     "output_type": "execute_result"
    }
   ],
   "source": [
    "parch"
   ]
  },
  {
   "cell_type": "code",
   "execution_count": 38,
   "id": "d5301cfd",
   "metadata": {
    "scrolled": true
   },
   "outputs": [
    {
     "data": {
      "image/png": "[encoded data removed]",
      "text/plain": [
       "<Figure size 1000x500 with 1 Axes>"
      ]
     },
     "metadata": {},
     "output_type": "display_data"
    }
   ],
   "source": [
    "plt.figure(figsize = (10,5))\n",
    "colors = ['darkblue'] * 3 + ['gray'] * 5\n",
    "i = 0\n",
    "for index, value in parch.items():\n",
    "    plt.bar(x = index, height = value, color = colors[i])\n",
    "    i += 1\n",
    "plt.xticks(list(range(0, 9)))\n",
    "plt.xlabel('# of parents or child aboard')\n",
    "plt.ylabel('Count')\n",
    "plt.suptitle('Count of persons with determined number of parents or child aboard the Titanic in training set')\n",
    "plt.title('Most people has zero, one or two parents or child aboard')\n",
    "\n",
    "plt.show()"
   ]
  },
  {
   "cell_type": "markdown",
   "id": "b4690a3d",
   "metadata": {},
   "source": [
    "Since it has a long tail, we will apply clipping to the value of 2:"
   ]
  },
  {
   "cell_type": "code",
   "execution_count": 39,
   "id": "12b4a4e1",
   "metadata": {},
   "outputs": [],
   "source": [
    "X_train.loc[X_train['Parch'] > 2, 'Parch'] = 2\n",
    "X_test.loc[X_test['Parch'] > 2, 'Parch'] = 2"
   ]
  },
  {
   "cell_type": "markdown",
   "id": "a31e7155",
   "metadata": {},
   "source": [
    "#### Ticket"
   ]
  },
  {
   "cell_type": "code",
   "execution_count": 40,
   "id": "dda7a102",
   "metadata": {},
   "outputs": [
    {
     "data": {
      "text/plain": [
       "count        891\n",
       "unique       681\n",
       "top       347082\n",
       "freq           7\n",
       "Name: Ticket, dtype: object"
      ]
     },
     "execution_count": 40,
     "metadata": {},
     "output_type": "execute_result"
    }
   ],
   "source": [
    "X_train['Ticket'].describe()"
   ]
  },
  {
   "cell_type": "code",
   "execution_count": 41,
   "id": "71ca5f40",
   "metadata": {},
   "outputs": [],
   "source": [
    "ticket = X_train['Ticket']"
   ]
  },
  {
   "cell_type": "code",
   "execution_count": 42,
   "id": "a247e91a",
   "metadata": {},
   "outputs": [
    {
     "data": {
      "text/plain": [
       "Ticket\n",
       "347082      7\n",
       "CA. 2343    7\n",
       "1601        7\n",
       "3101295     6\n",
       "CA 2144     6\n",
       "           ..\n",
       "9234        1\n",
       "19988       1\n",
       "2693        1\n",
       "PC 17612    1\n",
       "370376      1\n",
       "Name: count, Length: 681, dtype: int64"
      ]
     },
     "execution_count": 42,
     "metadata": {},
     "output_type": "execute_result"
    }
   ],
   "source": [
    "ticket.value_counts()"
   ]
  },
  {
   "cell_type": "code",
   "execution_count": 43,
   "id": "cea3e958",
   "metadata": {},
   "outputs": [
    {
     "data": {
      "image/png": "[encoded data removed]",
      "text/plain": [
       "<Figure size 640x480 with 1 Axes>"
      ]
     },
     "metadata": {},
     "output_type": "display_data"
    }
   ],
   "source": [
    "N, bins, patches = plt.hist(ticket.value_counts(), color = 'gray')\n",
    "plt.xlabel('Ticket appearance count in the dataset')\n",
    "plt.ylabel('Number of tickets')\n",
    "plt.suptitle(\"Count of ticket's value counts\")\n",
    "plt.title('Most of tickets appears once in the dataset')\n",
    "\n",
    "patches[0].set_facecolor('darkblue')\n",
    "\n",
    "plt.show()"
   ]
  },
  {
   "cell_type": "markdown",
   "id": "298fda38",
   "metadata": {},
   "source": [
    "#### Fare"
   ]
  },
  {
   "cell_type": "code",
   "execution_count": 44,
   "id": "3b71d8f2",
   "metadata": {
    "scrolled": true
   },
   "outputs": [
    {
     "data": {
      "text/plain": [
       "count    891.000000\n",
       "mean      32.204208\n",
       "std       49.693429\n",
       "min        0.000000\n",
       "25%        7.910400\n",
       "50%       14.454200\n",
       "75%       31.000000\n",
       "max      512.329200\n",
       "Name: Fare, dtype: float64"
      ]
     },
     "execution_count": 44,
     "metadata": {},
     "output_type": "execute_result"
    }
   ],
   "source": [
    "X_train['Fare'].describe()"
   ]
  },
  {
   "cell_type": "code",
   "execution_count": 45,
   "id": "03e97423",
   "metadata": {},
   "outputs": [],
   "source": [
    "fare = X_train['Fare']"
   ]
  },
  {
   "cell_type": "code",
   "execution_count": 46,
   "id": "fa3a6cff",
   "metadata": {},
   "outputs": [
    {
     "data": {
      "text/plain": [
       "Fare\n",
       "False    891\n",
       "Name: count, dtype: int64"
      ]
     },
     "execution_count": 46,
     "metadata": {},
     "output_type": "execute_result"
    }
   ],
   "source": [
    "fare.isnull().value_counts()"
   ]
  },
  {
   "cell_type": "code",
   "execution_count": 47,
   "id": "f97a63ae",
   "metadata": {},
   "outputs": [
    {
     "data": {
      "image/png": "[encoded data removed]",
      "text/plain": [
       "<Figure size 1000x500 with 2 Axes>"
      ]
     },
     "metadata": {},
     "output_type": "display_data"
    }
   ],
   "source": [
    "fig, axes = plt.subplots(nrows = 1, ncols = 2, figsize = (10, 5))\n",
    "axes[0].hist(fare, color = 'darkblue')\n",
    "axes[0].set_title(\"Passengers' fare histogram of training set\")\n",
    "axes[0].set_xlabel('Fare')\n",
    "axes[0].set_ylabel('Count')\n",
    "\n",
    "axes[1].boxplot(fare)\n",
    "axes[1].set_title(\"Boxplot of passengers' fare in the training set\")\n",
    "axes[1].set_ylabel('Fare')\n",
    "axes[1].set_xticklabels([])\n",
    "\n",
    "plt.show()"
   ]
  },
  {
   "cell_type": "markdown",
   "id": "1c6ecce5",
   "metadata": {},
   "source": [
    "#### Cabin"
   ]
  },
  {
   "cell_type": "code",
   "execution_count": 48,
   "id": "f457d085",
   "metadata": {},
   "outputs": [
    {
     "data": {
      "text/plain": [
       "Cabin\n",
       "B96 B98        4\n",
       "G6             4\n",
       "C23 C25 C27    4\n",
       "C22 C26        3\n",
       "F33            3\n",
       "              ..\n",
       "E34            1\n",
       "C7             1\n",
       "C54            1\n",
       "E36            1\n",
       "C148           1\n",
       "Name: count, Length: 147, dtype: int64"
      ]
     },
     "execution_count": 48,
     "metadata": {},
     "output_type": "execute_result"
    }
   ],
   "source": [
    "X_train['Cabin'].value_counts()"
   ]
  },
  {
   "cell_type": "code",
   "execution_count": 49,
   "id": "372579b0",
   "metadata": {},
   "outputs": [
    {
     "data": {
      "text/plain": [
       "count         204\n",
       "unique        147\n",
       "top       B96 B98\n",
       "freq            4\n",
       "Name: Cabin, dtype: object"
      ]
     },
     "execution_count": 49,
     "metadata": {},
     "output_type": "execute_result"
    }
   ],
   "source": [
    "X_train['Cabin'].describe()"
   ]
  },
  {
   "cell_type": "code",
   "execution_count": 50,
   "id": "6093071e",
   "metadata": {},
   "outputs": [],
   "source": [
    "cabin = X_train['Cabin']"
   ]
  },
  {
   "cell_type": "code",
   "execution_count": 51,
   "id": "7c2b7134",
   "metadata": {
    "scrolled": true
   },
   "outputs": [
    {
     "data": {
      "text/plain": [
       "Cabin\n",
       "True     687\n",
       "False    204\n",
       "Name: count, dtype: int64"
      ]
     },
     "execution_count": 51,
     "metadata": {},
     "output_type": "execute_result"
    }
   ],
   "source": [
    "cabin.isnull().value_counts()"
   ]
  },
  {
   "cell_type": "code",
   "execution_count": 52,
   "id": "e66817e7",
   "metadata": {},
   "outputs": [
    {
     "data": {
      "text/plain": [
       "array([4, 3, 2, 1], dtype=int64)"
      ]
     },
     "execution_count": 52,
     "metadata": {},
     "output_type": "execute_result"
    }
   ],
   "source": [
    "cabin.value_counts().unique()"
   ]
  },
  {
   "cell_type": "code",
   "execution_count": 53,
   "id": "d6723b99",
   "metadata": {},
   "outputs": [
    {
     "data": {
      "text/plain": [
       "count\n",
       "1    101\n",
       "2     38\n",
       "3      5\n",
       "4      3\n",
       "Name: count, dtype: int64"
      ]
     },
     "execution_count": 53,
     "metadata": {},
     "output_type": "execute_result"
    }
   ],
   "source": [
    "cabin.value_counts().value_counts()"
   ]
  },
  {
   "cell_type": "code",
   "execution_count": 54,
   "id": "8084c618",
   "metadata": {},
   "outputs": [
    {
     "data": {
      "image/png": "[encoded data removed]",
      "text/plain": [
       "<Figure size 640x480 with 1 Axes>"
      ]
     },
     "metadata": {},
     "output_type": "display_data"
    }
   ],
   "source": [
    "N, bins, patches = plt.hist(cabin.value_counts(), color = 'gray', bins = list(range(1, 6)))\n",
    "plt.xlabel('Cabin appearance in the dataset')\n",
    "plt.ylabel(\"Number of cabins\")\n",
    "plt.xticks(list(range(1, 6)))\n",
    "plt.suptitle(\"Count of cabins\")\n",
    "plt.title('Most of cabins appears once or twice in the dataset')\n",
    "\n",
    "patches[0].set_facecolor('darkblue')\n",
    "patches[1].set_facecolor('darkblue')\n",
    "\n",
    "plt.show()"
   ]
  },
  {
   "cell_type": "markdown",
   "id": "5d9c310c",
   "metadata": {},
   "source": [
    "#### Embarked"
   ]
  },
  {
   "cell_type": "code",
   "execution_count": 55,
   "id": "61484caa",
   "metadata": {
    "scrolled": true
   },
   "outputs": [
    {
     "data": {
      "text/plain": [
       "count     889\n",
       "unique      3\n",
       "top         S\n",
       "freq      644\n",
       "Name: Embarked, dtype: object"
      ]
     },
     "execution_count": 55,
     "metadata": {},
     "output_type": "execute_result"
    }
   ],
   "source": [
    "X_train['Embarked'].describe()"
   ]
  },
  {
   "cell_type": "code",
   "execution_count": 56,
   "id": "6fd653b7",
   "metadata": {},
   "outputs": [
    {
     "data": {
      "text/plain": [
       "Embarked\n",
       "False    889\n",
       "True       2\n",
       "Name: count, dtype: int64"
      ]
     },
     "execution_count": 56,
     "metadata": {},
     "output_type": "execute_result"
    }
   ],
   "source": [
    "X_train['Embarked'].isnull().value_counts()"
   ]
  },
  {
   "cell_type": "code",
   "execution_count": 57,
   "id": "919641c2",
   "metadata": {},
   "outputs": [
    {
     "data": {
      "text/plain": [
       "Embarked\n",
       "S    644\n",
       "C    168\n",
       "Q     77\n",
       "Name: count, dtype: int64"
      ]
     },
     "execution_count": 57,
     "metadata": {},
     "output_type": "execute_result"
    }
   ],
   "source": [
    "embarked = X_train['Embarked'].value_counts()\n",
    "embarked"
   ]
  },
  {
   "cell_type": "code",
   "execution_count": 58,
   "id": "52f1092f",
   "metadata": {},
   "outputs": [],
   "source": [
    "S = embarked.loc['S']\n",
    "C = embarked.loc['C']\n",
    "Q = embarked.loc['Q']"
   ]
  },
  {
   "cell_type": "code",
   "execution_count": 59,
   "id": "026e5aa7",
   "metadata": {},
   "outputs": [
    {
     "data": {
      "image/png": "[encoded data removed]",
      "text/plain": [
       "<Figure size 640x480 with 1 Axes>"
      ]
     },
     "metadata": {},
     "output_type": "display_data"
    }
   ],
   "source": [
    "plt.bar(x = 'Cherbourg', height = C, color = 'gray')\n",
    "plt.bar(x = 'Queenstown', height = Q, color = 'gray')\n",
    "plt.bar(x = 'Southampton', height = S, color = 'darkblue')\n",
    "\n",
    "plt.yticks([])\n",
    "plt.text(0 - 0.08, C + 5, f'{C}')\n",
    "plt.text(1 - 0.05, Q + 5, f'{Q}')\n",
    "plt.text(2 - 0.08, S + 5, f'{S}')\n",
    "\n",
    "plt.suptitle('Passengers count by embark location')\n",
    "plt.title('Most of the passengers embarked in Southampton')\n",
    "\n",
    "plt.show()"
   ]
  },
  {
   "cell_type": "markdown",
   "id": "c56d6558",
   "metadata": {},
   "source": [
    "### Multivariate Analysis"
   ]
  },
  {
   "cell_type": "markdown",
   "id": "56ba7689",
   "metadata": {},
   "source": [
    "We will mainly observe the correlations between the 'Survived' variable and the other variables to help select the best features."
   ]
  },
  {
   "cell_type": "code",
   "execution_count": 60,
   "id": "8bee2d1d",
   "metadata": {},
   "outputs": [
    {
     "data": {
      "text/html": [
       "<div>\n",
       "<style scoped>\n",
       "    .dataframe tbody tr th:only-of-type {\n",
       "        vertical-align: middle;\n",
       "    }\n",
       "\n",
       "    .dataframe tbody tr th {\n",
       "        vertical-align: top;\n",
       "    }\n",
       "\n",
       "    .dataframe thead th {\n",
       "        text-align: right;\n",
       "    }\n",
       "</style>\n",
       "<table border=\"1\" class=\"dataframe\">\n",
       "  <thead>\n",
       "    <tr style=\"text-align: right;\">\n",
       "      <th></th>\n",
       "      <th>Survived</th>\n",
       "      <th>Pclass</th>\n",
       "      <th>Age</th>\n",
       "      <th>SibSp</th>\n",
       "      <th>Parch</th>\n",
       "      <th>Fare</th>\n",
       "    </tr>\n",
       "  </thead>\n",
       "  <tbody>\n",
       "    <tr>\n",
       "      <th>Survived</th>\n",
       "      <td>1.000000</td>\n",
       "      <td>-0.338481</td>\n",
       "      <td>-0.077221</td>\n",
       "      <td>-0.035322</td>\n",
       "      <td>0.081629</td>\n",
       "      <td>0.257307</td>\n",
       "    </tr>\n",
       "    <tr>\n",
       "      <th>Pclass</th>\n",
       "      <td>-0.338481</td>\n",
       "      <td>1.000000</td>\n",
       "      <td>-0.369226</td>\n",
       "      <td>0.083081</td>\n",
       "      <td>0.018443</td>\n",
       "      <td>-0.549500</td>\n",
       "    </tr>\n",
       "    <tr>\n",
       "      <th>Age</th>\n",
       "      <td>-0.077221</td>\n",
       "      <td>-0.369226</td>\n",
       "      <td>1.000000</td>\n",
       "      <td>-0.308247</td>\n",
       "      <td>-0.189119</td>\n",
       "      <td>0.096067</td>\n",
       "    </tr>\n",
       "    <tr>\n",
       "      <th>SibSp</th>\n",
       "      <td>-0.035322</td>\n",
       "      <td>0.083081</td>\n",
       "      <td>-0.308247</td>\n",
       "      <td>1.000000</td>\n",
       "      <td>0.414838</td>\n",
       "      <td>0.159651</td>\n",
       "    </tr>\n",
       "    <tr>\n",
       "      <th>Parch</th>\n",
       "      <td>0.081629</td>\n",
       "      <td>0.018443</td>\n",
       "      <td>-0.189119</td>\n",
       "      <td>0.414838</td>\n",
       "      <td>1.000000</td>\n",
       "      <td>0.216225</td>\n",
       "    </tr>\n",
       "    <tr>\n",
       "      <th>Fare</th>\n",
       "      <td>0.257307</td>\n",
       "      <td>-0.549500</td>\n",
       "      <td>0.096067</td>\n",
       "      <td>0.159651</td>\n",
       "      <td>0.216225</td>\n",
       "      <td>1.000000</td>\n",
       "    </tr>\n",
       "  </tbody>\n",
       "</table>\n",
       "</div>"
      ],
      "text/plain": [
       "          Survived    Pclass       Age     SibSp     Parch      Fare\n",
       "Survived  1.000000 -0.338481 -0.077221 -0.035322  0.081629  0.257307\n",
       "Pclass   -0.338481  1.000000 -0.369226  0.083081  0.018443 -0.549500\n",
       "Age      -0.077221 -0.369226  1.000000 -0.308247 -0.189119  0.096067\n",
       "SibSp    -0.035322  0.083081 -0.308247  1.000000  0.414838  0.159651\n",
       "Parch     0.081629  0.018443 -0.189119  0.414838  1.000000  0.216225\n",
       "Fare      0.257307 -0.549500  0.096067  0.159651  0.216225  1.000000"
      ]
     },
     "execution_count": 60,
     "metadata": {},
     "output_type": "execute_result"
    }
   ],
   "source": [
    "train_data.corr(numeric_only = True)"
   ]
  },
  {
   "cell_type": "markdown",
   "id": "f2e749ed",
   "metadata": {},
   "source": [
    "__Pclass__ and __Fare__ seem to be the variables with the greatest (in module) correlations with 'Survived', which makes sense:\n",
    "\n",
    "- The biggest Pclass is, the lowest economic class it represents. So, the negative correlation makes sense, since richer people are, in general, saved first and are in best locations in the ship to be saved.\n",
    "\n",
    "- Fare is analogous, but the correlation is positive.\n",
    "\n",
    "Note that __Pclass__ and __Fare__ have big (in module) correlation between then, which makes sense too.\n",
    "\n",
    "The other variables may influence the predictions as well, but their influence needs to be tested in practice (to see if they will or not improve the predictions in the test set), since the correlation are low."
   ]
  },
  {
   "cell_type": "markdown",
   "id": "530fd050",
   "metadata": {},
   "source": [
    "---"
   ]
  },
  {
   "cell_type": "markdown",
   "id": "db43b8af",
   "metadata": {},
   "source": [
    "## Preparing data for Machine Learning"
   ]
  },
  {
   "cell_type": "code",
   "execution_count": 61,
   "id": "164d473e",
   "metadata": {
    "scrolled": true
   },
   "outputs": [
    {
     "data": {
      "text/plain": [
       "PassengerId\n",
       "1    0\n",
       "2    1\n",
       "3    1\n",
       "4    1\n",
       "5    0\n",
       "Name: Survived, dtype: int64"
      ]
     },
     "execution_count": 61,
     "metadata": {},
     "output_type": "execute_result"
    }
   ],
   "source": [
    "y_train.head()"
   ]
  },
  {
   "cell_type": "markdown",
   "id": "f389d4d1",
   "metadata": {},
   "source": [
    "__y_train__ is ok. It's value's are 0 or 1 in the labels and go from 0 to 1 in the predictions, which must hold a threshold to classify the result."
   ]
  },
  {
   "cell_type": "code",
   "execution_count": 62,
   "id": "644c18ed",
   "metadata": {},
   "outputs": [
    {
     "data": {
      "text/html": [
       "<div>\n",
       "<style scoped>\n",
       "    .dataframe tbody tr th:only-of-type {\n",
       "        vertical-align: middle;\n",
       "    }\n",
       "\n",
       "    .dataframe tbody tr th {\n",
       "        vertical-align: top;\n",
       "    }\n",
       "\n",
       "    .dataframe thead th {\n",
       "        text-align: right;\n",
       "    }\n",
       "</style>\n",
       "<table border=\"1\" class=\"dataframe\">\n",
       "  <thead>\n",
       "    <tr style=\"text-align: right;\">\n",
       "      <th></th>\n",
       "      <th>Pclass</th>\n",
       "      <th>Name</th>\n",
       "      <th>Sex</th>\n",
       "      <th>Age</th>\n",
       "      <th>SibSp</th>\n",
       "      <th>Parch</th>\n",
       "      <th>Ticket</th>\n",
       "      <th>Fare</th>\n",
       "      <th>Cabin</th>\n",
       "      <th>Embarked</th>\n",
       "    </tr>\n",
       "    <tr>\n",
       "      <th>PassengerId</th>\n",
       "      <th></th>\n",
       "      <th></th>\n",
       "      <th></th>\n",
       "      <th></th>\n",
       "      <th></th>\n",
       "      <th></th>\n",
       "      <th></th>\n",
       "      <th></th>\n",
       "      <th></th>\n",
       "      <th></th>\n",
       "    </tr>\n",
       "  </thead>\n",
       "  <tbody>\n",
       "    <tr>\n",
       "      <th>1</th>\n",
       "      <td>3</td>\n",
       "      <td>Braund, Mr. Owen Harris</td>\n",
       "      <td>male</td>\n",
       "      <td>22.0</td>\n",
       "      <td>1</td>\n",
       "      <td>0</td>\n",
       "      <td>A/5 21171</td>\n",
       "      <td>7.2500</td>\n",
       "      <td>NaN</td>\n",
       "      <td>S</td>\n",
       "    </tr>\n",
       "    <tr>\n",
       "      <th>2</th>\n",
       "      <td>1</td>\n",
       "      <td>Cumings, Mrs. John Bradley (Florence Briggs Th...</td>\n",
       "      <td>female</td>\n",
       "      <td>38.0</td>\n",
       "      <td>1</td>\n",
       "      <td>0</td>\n",
       "      <td>PC 17599</td>\n",
       "      <td>71.2833</td>\n",
       "      <td>C85</td>\n",
       "      <td>C</td>\n",
       "    </tr>\n",
       "    <tr>\n",
       "      <th>3</th>\n",
       "      <td>3</td>\n",
       "      <td>Heikkinen, Miss. Laina</td>\n",
       "      <td>female</td>\n",
       "      <td>26.0</td>\n",
       "      <td>0</td>\n",
       "      <td>0</td>\n",
       "      <td>STON/O2. 3101282</td>\n",
       "      <td>7.9250</td>\n",
       "      <td>NaN</td>\n",
       "      <td>S</td>\n",
       "    </tr>\n",
       "    <tr>\n",
       "      <th>4</th>\n",
       "      <td>1</td>\n",
       "      <td>Futrelle, Mrs. Jacques Heath (Lily May Peel)</td>\n",
       "      <td>female</td>\n",
       "      <td>35.0</td>\n",
       "      <td>1</td>\n",
       "      <td>0</td>\n",
       "      <td>113803</td>\n",
       "      <td>53.1000</td>\n",
       "      <td>C123</td>\n",
       "      <td>S</td>\n",
       "    </tr>\n",
       "    <tr>\n",
       "      <th>5</th>\n",
       "      <td>3</td>\n",
       "      <td>Allen, Mr. William Henry</td>\n",
       "      <td>male</td>\n",
       "      <td>35.0</td>\n",
       "      <td>0</td>\n",
       "      <td>0</td>\n",
       "      <td>373450</td>\n",
       "      <td>8.0500</td>\n",
       "      <td>NaN</td>\n",
       "      <td>S</td>\n",
       "    </tr>\n",
       "  </tbody>\n",
       "</table>\n",
       "</div>"
      ],
      "text/plain": [
       "             Pclass                                               Name  \\\n",
       "PassengerId                                                              \n",
       "1                 3                            Braund, Mr. Owen Harris   \n",
       "2                 1  Cumings, Mrs. John Bradley (Florence Briggs Th...   \n",
       "3                 3                             Heikkinen, Miss. Laina   \n",
       "4                 1       Futrelle, Mrs. Jacques Heath (Lily May Peel)   \n",
       "5                 3                           Allen, Mr. William Henry   \n",
       "\n",
       "                Sex   Age  SibSp  Parch            Ticket     Fare Cabin  \\\n",
       "PassengerId                                                                \n",
       "1              male  22.0      1      0         A/5 21171   7.2500   NaN   \n",
       "2            female  38.0      1      0          PC 17599  71.2833   C85   \n",
       "3            female  26.0      0      0  STON/O2. 3101282   7.9250   NaN   \n",
       "4            female  35.0      1      0            113803  53.1000  C123   \n",
       "5              male  35.0      0      0            373450   8.0500   NaN   \n",
       "\n",
       "            Embarked  \n",
       "PassengerId           \n",
       "1                  S  \n",
       "2                  C  \n",
       "3                  S  \n",
       "4                  S  \n",
       "5                  S  "
      ]
     },
     "execution_count": 62,
     "metadata": {},
     "output_type": "execute_result"
    }
   ],
   "source": [
    "X_train.head()"
   ]
  },
  {
   "cell_type": "markdown",
   "id": "144adf51",
   "metadata": {},
   "source": [
    "We will do the following preprocess steps, which doesn't need to be done in order:\n",
    "\n",
    "- Transform __'Sex'__ column into numerical data through a new column named __'Is_Male'__. If it's 1, then it's male. If it's 0, then it's female.\n",
    "\n",
    "- Median imputation for __'Age'__.\n",
    "\n",
    "- Create bins for __'Age'__: ['Children','Teenage','Adult','Elder'] and then make one-hot encoding. \n",
    " \n",
    "- Create bins for __'Fare'__: ['Low','Median', 'Average','High'] and then make one-hot encoding. Mode imputation.\n",
    "\n",
    "- Add feature __'Titles'__ which has the passenger's name's titles. Then, one-hot encode them. Mode imputation.\n",
    "\n",
    "- Since there are a lot of classes in the __'Cabin'__ column, it doesn't worth it to one-hot encode. So we will eliminate this column for prediction.\n",
    "\n",
    "- Since there are a lot of classes in the __'Ticket'__ column, it doesn't worth it to one-hot encode. So we will eliminate this column for prediction. \n",
    "\n",
    "- Create feature __'Family_Size'__ = __'SibSp'__ + __'Parch'__. Mode imputation.\n",
    "\n",
    "- Transform __'Embarked'__ column into numerical data through one-hot encoding. Mode imputation."
   ]
  },
  {
   "cell_type": "code",
   "execution_count": 63,
   "id": "b4d205b9",
   "metadata": {
    "scrolled": true
   },
   "outputs": [
    {
     "name": "stdout",
     "output_type": "stream",
     "text": [
      "['Pclass', 'Name', 'Sex', 'Age', 'SibSp', 'Parch', 'Ticket', 'Fare', 'Cabin', 'Embarked']\n"
     ]
    }
   ],
   "source": [
    "print(features)"
   ]
  },
  {
   "cell_type": "code",
   "execution_count": 64,
   "id": "826360ee",
   "metadata": {},
   "outputs": [],
   "source": [
    "X_train = train_data[features].copy()\n",
    "X_test = test_data[features].copy()"
   ]
  },
  {
   "cell_type": "markdown",
   "id": "c170b47b",
   "metadata": {},
   "source": [
    "- Since there are a lot of classes in the __'Cabin'__ column, it doesn't worth it to one-hot encode. So we will eliminate this column for prediction.\n",
    "\n",
    "- Since there are a lot of classes in the __'Ticket'__ column, it doesn't worth it to one-hot encode. So we will eliminate this column for prediction. "
   ]
  },
  {
   "cell_type": "code",
   "execution_count": 65,
   "id": "07c325e6",
   "metadata": {},
   "outputs": [],
   "source": [
    "X_train = X_train.drop(['Ticket', 'Cabin'], axis = 1)\n",
    "X_test = X_test.drop(['Ticket', 'Cabin'], axis = 1)"
   ]
  },
  {
   "cell_type": "markdown",
   "id": "a8d67dff",
   "metadata": {},
   "source": [
    "- Transform __'Sex'__ column into numerical data through a new column named __'Is_Male'__. If it's 1, then it's male. If it's 0, then it's female."
   ]
  },
  {
   "cell_type": "code",
   "execution_count": 66,
   "id": "64d4760b",
   "metadata": {},
   "outputs": [],
   "source": [
    "X_train['Is_Male'] = X_train['Sex'].apply(lambda x: 1 if x == 'male' else 0)\n",
    "X_test['Is_Male'] = X_test['Sex'].apply(lambda x: 1 if x == 'male' else 0)\n",
    "\n",
    "X_train = X_train.drop('Sex', axis = 1)\n",
    "X_test = X_test.drop('Sex', axis = 1)"
   ]
  },
  {
   "cell_type": "markdown",
   "id": "8fad87f5",
   "metadata": {},
   "source": [
    "- Median imputation for __'Age'__."
   ]
  },
  {
   "cell_type": "code",
   "execution_count": 67,
   "id": "0587d574",
   "metadata": {},
   "outputs": [],
   "source": [
    "X_train['Age'].fillna(X_train['Age'].median(), inplace = True)\n",
    "X_test['Age'].fillna(X_train['Age'].median(), inplace = True)"
   ]
  },
  {
   "cell_type": "code",
   "execution_count": 68,
   "id": "81fd8088",
   "metadata": {},
   "outputs": [
    {
     "data": {
      "text/plain": [
       "Pclass      0\n",
       "Name        0\n",
       "Age         0\n",
       "SibSp       0\n",
       "Parch       0\n",
       "Fare        0\n",
       "Embarked    2\n",
       "Is_Male     0\n",
       "dtype: int64"
      ]
     },
     "execution_count": 68,
     "metadata": {},
     "output_type": "execute_result"
    }
   ],
   "source": [
    "X_train.isnull().sum()"
   ]
  },
  {
   "cell_type": "markdown",
   "id": "ebdcf6f2",
   "metadata": {},
   "source": [
    "- Add feature __'Titles'__ which has the passenger's name's titles. Then, one-hot encode them. Mode imputation.\n",
    "\n",
    "- Create bins for __'Age'__: ['Children','Teenage','Adult','Elder'] and then make one-hot encoding. \n",
    " \n",
    "- Create bins for __'Fare'__: ['Low','Median', 'Average','High'] and then make one-hot encoding. Mode imputation.\n",
    "\n",
    "- Transform __'Embarked'__ column into numerical data through one-hot encoding. Mode imputation.\n",
    "\n",
    "- Create feature __'Family_Size'__ = __'SibSp'__ + __'Parch'__. Mode imputation."
   ]
  },
  {
   "cell_type": "code",
   "execution_count": 69,
   "id": "3369b6fe",
   "metadata": {},
   "outputs": [],
   "source": [
    "import re\n",
    "\n",
    "def get_title_from_name(name):\n",
    "    title_search = re.search(' ([A-Za-z]+)\\.', name)\n",
    "    if title_search:\n",
    "        return title_search.group(1)\n",
    "    return ''"
   ]
  },
  {
   "cell_type": "code",
   "execution_count": 70,
   "id": "8448276d",
   "metadata": {},
   "outputs": [],
   "source": [
    "X_train['Title'] = X_train['Name'].apply(get_title_from_name)\n",
    "X_test['Title'] = X_test['Name'].apply(get_title_from_name)\n",
    "\n",
    "# Replacing rare titles by 'Rare'.\n",
    "\n",
    "X_train['Title'] = X_train['Title'].replace(['Lady', 'Countess','Capt', 'Col','Don', 'Dr', \n",
    "                                             'Major', 'Rev', 'Sir', 'Jonkheer', 'Dona'], 'Rare')\n",
    "\n",
    "X_test['Title'] = X_test['Title'].replace(['Lady', 'Countess','Capt', 'Col','Don', 'Dr', \n",
    "                                             'Major', 'Rev', 'Sir', 'Jonkheer', 'Dona'], 'Rare')\n",
    "\n",
    "# Transforming titles to their related:\n",
    "X_train['Title'] = X_train['Title'].replace('Mlle', 'Miss')\n",
    "X_train['Title'] = X_train['Title'].replace('Ms', 'Miss')\n",
    "X_train['Title'] = X_train['Title'].replace('Mme', 'Mrs')\n",
    "X_test['Title'] = X_test['Title'].replace('Mlle', 'Miss')\n",
    "X_test['Title'] = X_test['Title'].replace('Ms', 'Miss')\n",
    "X_test['Title'] = X_test['Title'].replace('Mme', 'Mrs')"
   ]
  },
  {
   "cell_type": "code",
   "execution_count": 71,
   "id": "c5fb8ea6",
   "metadata": {},
   "outputs": [],
   "source": [
    "X_train['Age_Bin'] = pd.cut(X_train['Age'], bins = [0, 12, 20, 40, 100], labels = ['Child', 'Teen', 'Adult', 'Elder'])\n",
    "X_test['Age_Bin'] = pd.cut(X_test['Age'], bins = [0, 12, 20, 40, 100], labels = ['Child', 'Teen', 'Adult', 'Elder'])\n",
    "\n",
    "X_train['Fare_Bin'] = pd.cut(X_train['Fare'], bins = [0, 7.91, 14.45, 31, 550], labels = ['Low', 'Median', 'Mean', 'High'])\n",
    "X_test['Fare_Bin'] = pd.cut(X_test['Fare'], bins = [0, 7.91, 14.45, 31, 550], labels = ['Low', 'Median', 'Mean', 'High'])"
   ]
  },
  {
   "cell_type": "code",
   "execution_count": 72,
   "id": "5a3eab79",
   "metadata": {},
   "outputs": [],
   "source": [
    "from sklearn.impute import SimpleImputer"
   ]
  },
  {
   "cell_type": "code",
   "execution_count": 73,
   "id": "627cdc1a",
   "metadata": {},
   "outputs": [],
   "source": [
    "mode_imputer = SimpleImputer(strategy = 'most_frequent')\n",
    "impute_cols = ['Title', 'Age_Bin', 'Fare_Bin', 'Embarked']\n",
    "\n",
    "X_train[impute_cols] = pd.DataFrame(mode_imputer.fit_transform(X_train[impute_cols]), index = X_train.index, columns = impute_cols) \n",
    "X_test[impute_cols] = pd.DataFrame(mode_imputer.transform(X_test[impute_cols]), index = X_test.index, columns = impute_cols)"
   ]
  },
  {
   "cell_type": "code",
   "execution_count": 74,
   "id": "7834c9c1",
   "metadata": {},
   "outputs": [],
   "source": [
    "X_train = pd.get_dummies(X_train, columns = ['Title', 'Age_Bin', 'Fare_Bin', 'Embarked'],\n",
    "                         prefix = ['Title', 'Age_Bin', 'Fare_Class', 'Embark_Place'])\n",
    "\n",
    "X_test = pd.get_dummies(X_test, columns = ['Title', 'Age_Bin', 'Fare_Bin', 'Embarked'],\n",
    "                         prefix = ['Title', 'Age_Bin', 'Fare_Class', 'Embark_Place'])"
   ]
  },
  {
   "cell_type": "code",
   "execution_count": 75,
   "id": "3ff73770",
   "metadata": {},
   "outputs": [],
   "source": [
    "X_train['Family_Size'] = X_train['Parch'] + X_train['SibSp']\n",
    "X_test['Family_Size'] = X_test['Parch'] + X_test['SibSp']"
   ]
  },
  {
   "cell_type": "code",
   "execution_count": 76,
   "id": "9de55278",
   "metadata": {},
   "outputs": [],
   "source": [
    "X_train = X_train.drop(['Name', 'Age', 'Fare', 'Parch', 'SibSp'], axis = 1)\n",
    "X_test = X_test.drop(['Name', 'Age', 'Fare', 'Parch', 'SibSp'], axis = 1)"
   ]
  },
  {
   "cell_type": "code",
   "execution_count": 77,
   "id": "f0eab9ad",
   "metadata": {},
   "outputs": [],
   "source": [
    "train_mean = X_train.mean()\n",
    "train_std = X_train.std()\n",
    "\n",
    "X_train = (X_train - train_mean)/train_std\n",
    "X_test = (X_test - train_mean)/train_std"
   ]
  },
  {
   "cell_type": "code",
   "execution_count": 78,
   "id": "ec51f60d",
   "metadata": {
    "scrolled": true
   },
   "outputs": [
    {
     "data": {
      "text/html": [
       "<div>\n",
       "<style scoped>\n",
       "    .dataframe tbody tr th:only-of-type {\n",
       "        vertical-align: middle;\n",
       "    }\n",
       "\n",
       "    .dataframe tbody tr th {\n",
       "        vertical-align: top;\n",
       "    }\n",
       "\n",
       "    .dataframe thead th {\n",
       "        text-align: right;\n",
       "    }\n",
       "</style>\n",
       "<table border=\"1\" class=\"dataframe\">\n",
       "  <thead>\n",
       "    <tr style=\"text-align: right;\">\n",
       "      <th></th>\n",
       "      <th>Pclass</th>\n",
       "      <th>Is_Male</th>\n",
       "      <th>Title_Master</th>\n",
       "      <th>Title_Miss</th>\n",
       "      <th>Title_Mr</th>\n",
       "      <th>Title_Mrs</th>\n",
       "      <th>Title_Rare</th>\n",
       "      <th>Age_Bin_Adult</th>\n",
       "      <th>Age_Bin_Child</th>\n",
       "      <th>Age_Bin_Elder</th>\n",
       "      <th>Age_Bin_Teen</th>\n",
       "      <th>Fare_Class_High</th>\n",
       "      <th>Fare_Class_Low</th>\n",
       "      <th>Fare_Class_Mean</th>\n",
       "      <th>Fare_Class_Median</th>\n",
       "      <th>Embark_Place_C</th>\n",
       "      <th>Embark_Place_Q</th>\n",
       "      <th>Embark_Place_S</th>\n",
       "      <th>Family_Size</th>\n",
       "    </tr>\n",
       "    <tr>\n",
       "      <th>PassengerId</th>\n",
       "      <th></th>\n",
       "      <th></th>\n",
       "      <th></th>\n",
       "      <th></th>\n",
       "      <th></th>\n",
       "      <th></th>\n",
       "      <th></th>\n",
       "      <th></th>\n",
       "      <th></th>\n",
       "      <th></th>\n",
       "      <th></th>\n",
       "      <th></th>\n",
       "      <th></th>\n",
       "      <th></th>\n",
       "      <th></th>\n",
       "      <th></th>\n",
       "      <th></th>\n",
       "      <th></th>\n",
       "      <th></th>\n",
       "    </tr>\n",
       "  </thead>\n",
       "  <tbody>\n",
       "    <tr>\n",
       "      <th>1</th>\n",
       "      <td>0.826913</td>\n",
       "      <td>0.737281</td>\n",
       "      <td>-0.216681</td>\n",
       "      <td>-0.511611</td>\n",
       "      <td>0.850054</td>\n",
       "      <td>-0.405612</td>\n",
       "      <td>-0.16269</td>\n",
       "      <td>0.764691</td>\n",
       "      <td>-0.289564</td>\n",
       "      <td>-0.449669</td>\n",
       "      <td>-0.375083</td>\n",
       "      <td>-0.575731</td>\n",
       "      <td>1.811068</td>\n",
       "      <td>-0.61376</td>\n",
       "      <td>-0.567095</td>\n",
       "      <td>-0.481772</td>\n",
       "      <td>-0.30739</td>\n",
       "      <td>0.615493</td>\n",
       "      <td>0.059127</td>\n",
       "    </tr>\n",
       "    <tr>\n",
       "      <th>2</th>\n",
       "      <td>-1.565228</td>\n",
       "      <td>-1.354813</td>\n",
       "      <td>-0.216681</td>\n",
       "      <td>-0.511611</td>\n",
       "      <td>-1.175075</td>\n",
       "      <td>2.462644</td>\n",
       "      <td>-0.16269</td>\n",
       "      <td>0.764691</td>\n",
       "      <td>-0.289564</td>\n",
       "      <td>-0.449669</td>\n",
       "      <td>-0.375083</td>\n",
       "      <td>1.734973</td>\n",
       "      <td>-0.551541</td>\n",
       "      <td>-0.61376</td>\n",
       "      <td>-0.567095</td>\n",
       "      <td>2.073341</td>\n",
       "      <td>-0.30739</td>\n",
       "      <td>-1.622891</td>\n",
       "      <td>0.059127</td>\n",
       "    </tr>\n",
       "    <tr>\n",
       "      <th>3</th>\n",
       "      <td>0.826913</td>\n",
       "      <td>-1.354813</td>\n",
       "      <td>-0.216681</td>\n",
       "      <td>1.952417</td>\n",
       "      <td>-1.175075</td>\n",
       "      <td>-0.405612</td>\n",
       "      <td>-0.16269</td>\n",
       "      <td>0.764691</td>\n",
       "      <td>-0.289564</td>\n",
       "      <td>-0.449669</td>\n",
       "      <td>-0.375083</td>\n",
       "      <td>-0.575731</td>\n",
       "      <td>-0.551541</td>\n",
       "      <td>-0.61376</td>\n",
       "      <td>1.761393</td>\n",
       "      <td>-0.481772</td>\n",
       "      <td>-0.30739</td>\n",
       "      <td>0.615493</td>\n",
       "      <td>-0.560660</td>\n",
       "    </tr>\n",
       "    <tr>\n",
       "      <th>4</th>\n",
       "      <td>-1.565228</td>\n",
       "      <td>-1.354813</td>\n",
       "      <td>-0.216681</td>\n",
       "      <td>-0.511611</td>\n",
       "      <td>-1.175075</td>\n",
       "      <td>2.462644</td>\n",
       "      <td>-0.16269</td>\n",
       "      <td>0.764691</td>\n",
       "      <td>-0.289564</td>\n",
       "      <td>-0.449669</td>\n",
       "      <td>-0.375083</td>\n",
       "      <td>1.734973</td>\n",
       "      <td>-0.551541</td>\n",
       "      <td>-0.61376</td>\n",
       "      <td>-0.567095</td>\n",
       "      <td>-0.481772</td>\n",
       "      <td>-0.30739</td>\n",
       "      <td>0.615493</td>\n",
       "      <td>0.059127</td>\n",
       "    </tr>\n",
       "    <tr>\n",
       "      <th>5</th>\n",
       "      <td>0.826913</td>\n",
       "      <td>0.737281</td>\n",
       "      <td>-0.216681</td>\n",
       "      <td>-0.511611</td>\n",
       "      <td>0.850054</td>\n",
       "      <td>-0.405612</td>\n",
       "      <td>-0.16269</td>\n",
       "      <td>0.764691</td>\n",
       "      <td>-0.289564</td>\n",
       "      <td>-0.449669</td>\n",
       "      <td>-0.375083</td>\n",
       "      <td>-0.575731</td>\n",
       "      <td>-0.551541</td>\n",
       "      <td>-0.61376</td>\n",
       "      <td>1.761393</td>\n",
       "      <td>-0.481772</td>\n",
       "      <td>-0.30739</td>\n",
       "      <td>0.615493</td>\n",
       "      <td>-0.560660</td>\n",
       "    </tr>\n",
       "  </tbody>\n",
       "</table>\n",
       "</div>"
      ],
      "text/plain": [
       "               Pclass   Is_Male  Title_Master  Title_Miss  Title_Mr  \\\n",
       "PassengerId                                                           \n",
       "1            0.826913  0.737281     -0.216681   -0.511611  0.850054   \n",
       "2           -1.565228 -1.354813     -0.216681   -0.511611 -1.175075   \n",
       "3            0.826913 -1.354813     -0.216681    1.952417 -1.175075   \n",
       "4           -1.565228 -1.354813     -0.216681   -0.511611 -1.175075   \n",
       "5            0.826913  0.737281     -0.216681   -0.511611  0.850054   \n",
       "\n",
       "             Title_Mrs  Title_Rare  Age_Bin_Adult  Age_Bin_Child  \\\n",
       "PassengerId                                                        \n",
       "1            -0.405612    -0.16269       0.764691      -0.289564   \n",
       "2             2.462644    -0.16269       0.764691      -0.289564   \n",
       "3            -0.405612    -0.16269       0.764691      -0.289564   \n",
       "4             2.462644    -0.16269       0.764691      -0.289564   \n",
       "5            -0.405612    -0.16269       0.764691      -0.289564   \n",
       "\n",
       "             Age_Bin_Elder  Age_Bin_Teen  Fare_Class_High  Fare_Class_Low  \\\n",
       "PassengerId                                                                 \n",
       "1                -0.449669     -0.375083        -0.575731        1.811068   \n",
       "2                -0.449669     -0.375083         1.734973       -0.551541   \n",
       "3                -0.449669     -0.375083        -0.575731       -0.551541   \n",
       "4                -0.449669     -0.375083         1.734973       -0.551541   \n",
       "5                -0.449669     -0.375083        -0.575731       -0.551541   \n",
       "\n",
       "             Fare_Class_Mean  Fare_Class_Median  Embark_Place_C  \\\n",
       "PassengerId                                                       \n",
       "1                   -0.61376          -0.567095       -0.481772   \n",
       "2                   -0.61376          -0.567095        2.073341   \n",
       "3                   -0.61376           1.761393       -0.481772   \n",
       "4                   -0.61376          -0.567095       -0.481772   \n",
       "5                   -0.61376           1.761393       -0.481772   \n",
       "\n",
       "             Embark_Place_Q  Embark_Place_S  Family_Size  \n",
       "PassengerId                                               \n",
       "1                  -0.30739        0.615493     0.059127  \n",
       "2                  -0.30739       -1.622891     0.059127  \n",
       "3                  -0.30739        0.615493    -0.560660  \n",
       "4                  -0.30739        0.615493     0.059127  \n",
       "5                  -0.30739        0.615493    -0.560660  "
      ]
     },
     "execution_count": 78,
     "metadata": {},
     "output_type": "execute_result"
    }
   ],
   "source": [
    "X_train.head()"
   ]
  },
  {
   "cell_type": "markdown",
   "id": "c3e6ae61",
   "metadata": {},
   "source": [
    "### To make this easy, we will save the preprocessed data in .csv files."
   ]
  },
  {
   "cell_type": "code",
   "execution_count": 79,
   "id": "498fd2bd",
   "metadata": {},
   "outputs": [],
   "source": [
    "y_train_path = os.path.join('data', 'preprocessed_y_train.csv')\n",
    "X_train_path = os.path.join('data', 'preprocessed_X_train.csv')\n",
    "X_test_path = os.path.join('data', 'preprocessed_X_test.csv')\n",
    "\n",
    "y_train.to_csv(y_train_path)\n",
    "X_train.to_csv(X_train_path)\n",
    "X_test.to_csv(X_test_path)"
   ]
  },
  {
   "cell_type": "markdown",
   "id": "9e02a849",
   "metadata": {},
   "source": [
    "### Final correlations"
   ]
  },
  {
   "cell_type": "code",
   "execution_count": 80,
   "id": "6c0c9f39",
   "metadata": {},
   "outputs": [],
   "source": [
    "train_data = pd.concat([y_train, X_train], axis = 1)"
   ]
  },
  {
   "cell_type": "code",
   "execution_count": 81,
   "id": "e03fcfa7",
   "metadata": {},
   "outputs": [
    {
     "data": {
      "text/html": [
       "<div>\n",
       "<style scoped>\n",
       "    .dataframe tbody tr th:only-of-type {\n",
       "        vertical-align: middle;\n",
       "    }\n",
       "\n",
       "    .dataframe tbody tr th {\n",
       "        vertical-align: top;\n",
       "    }\n",
       "\n",
       "    .dataframe thead th {\n",
       "        text-align: right;\n",
       "    }\n",
       "</style>\n",
       "<table border=\"1\" class=\"dataframe\">\n",
       "  <thead>\n",
       "    <tr style=\"text-align: right;\">\n",
       "      <th></th>\n",
       "      <th>Survived</th>\n",
       "      <th>Pclass</th>\n",
       "      <th>Is_Male</th>\n",
       "      <th>Title_Master</th>\n",
       "      <th>Title_Miss</th>\n",
       "      <th>Title_Mr</th>\n",
       "      <th>Title_Mrs</th>\n",
       "      <th>Title_Rare</th>\n",
       "      <th>Age_Bin_Adult</th>\n",
       "      <th>Age_Bin_Child</th>\n",
       "      <th>Age_Bin_Elder</th>\n",
       "      <th>Age_Bin_Teen</th>\n",
       "      <th>Fare_Class_High</th>\n",
       "      <th>Fare_Class_Low</th>\n",
       "      <th>Fare_Class_Mean</th>\n",
       "      <th>Fare_Class_Median</th>\n",
       "      <th>Embark_Place_C</th>\n",
       "      <th>Embark_Place_Q</th>\n",
       "      <th>Embark_Place_S</th>\n",
       "      <th>Family_Size</th>\n",
       "    </tr>\n",
       "  </thead>\n",
       "  <tbody>\n",
       "    <tr>\n",
       "      <th>Survived</th>\n",
       "      <td>1.000000</td>\n",
       "      <td>-0.338481</td>\n",
       "      <td>-0.543351</td>\n",
       "      <td>0.085221</td>\n",
       "      <td>0.335636</td>\n",
       "      <td>-0.549199</td>\n",
       "      <td>0.341994</td>\n",
       "      <td>-0.012054</td>\n",
       "      <td>-0.051250</td>\n",
       "      <td>0.116691</td>\n",
       "      <td>-0.015887</td>\n",
       "      <td>-0.001559</td>\n",
       "      <td>0.233638</td>\n",
       "      <td>-0.200973</td>\n",
       "      <td>0.048355</td>\n",
       "      <td>-0.087603</td>\n",
       "      <td>0.168240</td>\n",
       "      <td>0.003650</td>\n",
       "      <td>-0.149683</td>\n",
       "      <td>0.016639</td>\n",
       "    </tr>\n",
       "    <tr>\n",
       "      <th>Pclass</th>\n",
       "      <td>-0.338481</td>\n",
       "      <td>1.000000</td>\n",
       "      <td>0.131900</td>\n",
       "      <td>0.082081</td>\n",
       "      <td>-0.010261</td>\n",
       "      <td>0.142698</td>\n",
       "      <td>-0.153758</td>\n",
       "      <td>-0.187174</td>\n",
       "      <td>0.098922</td>\n",
       "      <td>0.114087</td>\n",
       "      <td>-0.295411</td>\n",
       "      <td>0.098193</td>\n",
       "      <td>-0.579206</td>\n",
       "      <td>0.450238</td>\n",
       "      <td>-0.058157</td>\n",
       "      <td>0.200349</td>\n",
       "      <td>-0.243292</td>\n",
       "      <td>0.221009</td>\n",
       "      <td>0.074053</td>\n",
       "      <td>0.065997</td>\n",
       "    </tr>\n",
       "    <tr>\n",
       "      <th>Is_Male</th>\n",
       "      <td>-0.543351</td>\n",
       "      <td>0.131900</td>\n",
       "      <td>1.000000</td>\n",
       "      <td>0.159934</td>\n",
       "      <td>-0.693916</td>\n",
       "      <td>0.867334</td>\n",
       "      <td>-0.550146</td>\n",
       "      <td>0.075638</td>\n",
       "      <td>0.044086</td>\n",
       "      <td>-0.067534</td>\n",
       "      <td>0.030527</td>\n",
       "      <td>-0.044526</td>\n",
       "      <td>-0.177966</td>\n",
       "      <td>0.168288</td>\n",
       "      <td>-0.063280</td>\n",
       "      <td>0.079221</td>\n",
       "      <td>-0.082853</td>\n",
       "      <td>-0.074115</td>\n",
       "      <td>0.119224</td>\n",
       "      <td>-0.200988</td>\n",
       "    </tr>\n",
       "    <tr>\n",
       "      <th>Title_Master</th>\n",
       "      <td>0.085221</td>\n",
       "      <td>0.082081</td>\n",
       "      <td>0.159934</td>\n",
       "      <td>1.000000</td>\n",
       "      <td>-0.110981</td>\n",
       "      <td>-0.254903</td>\n",
       "      <td>-0.087987</td>\n",
       "      <td>-0.035291</td>\n",
       "      <td>-0.238434</td>\n",
       "      <td>0.667190</td>\n",
       "      <td>-0.097544</td>\n",
       "      <td>-0.081365</td>\n",
       "      <td>0.075609</td>\n",
       "      <td>-0.119643</td>\n",
       "      <td>0.109949</td>\n",
       "      <td>-0.072506</td>\n",
       "      <td>-0.035225</td>\n",
       "      <td>0.010478</td>\n",
       "      <td>0.024264</td>\n",
       "      <td>0.372472</td>\n",
       "    </tr>\n",
       "    <tr>\n",
       "      <th>Title_Miss</th>\n",
       "      <td>0.335636</td>\n",
       "      <td>-0.010261</td>\n",
       "      <td>-0.693916</td>\n",
       "      <td>-0.110981</td>\n",
       "      <td>1.000000</td>\n",
       "      <td>-0.601857</td>\n",
       "      <td>-0.207749</td>\n",
       "      <td>-0.083327</td>\n",
       "      <td>-0.055553</td>\n",
       "      <td>0.182957</td>\n",
       "      <td>-0.156364</td>\n",
       "      <td>0.110698</td>\n",
       "      <td>0.082562</td>\n",
       "      <td>-0.014308</td>\n",
       "      <td>-0.059954</td>\n",
       "      <td>-0.006808</td>\n",
       "      <td>0.036204</td>\n",
       "      <td>0.167531</td>\n",
       "      <td>-0.137144</td>\n",
       "      <td>0.107500</td>\n",
       "    </tr>\n",
       "    <tr>\n",
       "      <th>Title_Mr</th>\n",
       "      <td>-0.549199</td>\n",
       "      <td>0.142698</td>\n",
       "      <td>0.867334</td>\n",
       "      <td>-0.254903</td>\n",
       "      <td>-0.601857</td>\n",
       "      <td>1.000000</td>\n",
       "      <td>-0.477160</td>\n",
       "      <td>-0.191387</td>\n",
       "      <td>0.169176</td>\n",
       "      <td>-0.332134</td>\n",
       "      <td>0.011930</td>\n",
       "      <td>0.008108</td>\n",
       "      <td>-0.214598</td>\n",
       "      <td>0.238201</td>\n",
       "      <td>-0.115154</td>\n",
       "      <td>0.101126</td>\n",
       "      <td>-0.072567</td>\n",
       "      <td>-0.078338</td>\n",
       "      <td>0.112870</td>\n",
       "      <td>-0.338014</td>\n",
       "    </tr>\n",
       "    <tr>\n",
       "      <th>Title_Mrs</th>\n",
       "      <td>0.341994</td>\n",
       "      <td>-0.153758</td>\n",
       "      <td>-0.550146</td>\n",
       "      <td>-0.087987</td>\n",
       "      <td>-0.207749</td>\n",
       "      <td>-0.477160</td>\n",
       "      <td>1.000000</td>\n",
       "      <td>-0.066063</td>\n",
       "      <td>0.010180</td>\n",
       "      <td>-0.117583</td>\n",
       "      <td>0.127295</td>\n",
       "      <td>-0.064187</td>\n",
       "      <td>0.138556</td>\n",
       "      <td>-0.208735</td>\n",
       "      <td>0.155257</td>\n",
       "      <td>-0.095204</td>\n",
       "      <td>0.067872</td>\n",
       "      <td>-0.090432</td>\n",
       "      <td>-0.002550</td>\n",
       "      <td>0.153842</td>\n",
       "    </tr>\n",
       "    <tr>\n",
       "      <th>Title_Rare</th>\n",
       "      <td>-0.012054</td>\n",
       "      <td>-0.187174</td>\n",
       "      <td>0.075638</td>\n",
       "      <td>-0.035291</td>\n",
       "      <td>-0.083327</td>\n",
       "      <td>-0.191387</td>\n",
       "      <td>-0.066063</td>\n",
       "      <td>1.000000</td>\n",
       "      <td>-0.095431</td>\n",
       "      <td>-0.047162</td>\n",
       "      <td>0.210482</td>\n",
       "      <td>-0.061091</td>\n",
       "      <td>0.053497</td>\n",
       "      <td>-0.089831</td>\n",
       "      <td>0.027004</td>\n",
       "      <td>0.006570</td>\n",
       "      <td>0.030095</td>\n",
       "      <td>0.000311</td>\n",
       "      <td>-0.026561</td>\n",
       "      <td>-0.047426</td>\n",
       "    </tr>\n",
       "    <tr>\n",
       "      <th>Age_Bin_Adult</th>\n",
       "      <td>-0.051250</td>\n",
       "      <td>0.098922</td>\n",
       "      <td>0.044086</td>\n",
       "      <td>-0.238434</td>\n",
       "      <td>-0.055553</td>\n",
       "      <td>0.169176</td>\n",
       "      <td>0.010180</td>\n",
       "      <td>-0.095431</td>\n",
       "      <td>1.000000</td>\n",
       "      <td>-0.378668</td>\n",
       "      <td>-0.588040</td>\n",
       "      <td>-0.490502</td>\n",
       "      <td>-0.123811</td>\n",
       "      <td>0.158349</td>\n",
       "      <td>-0.046433</td>\n",
       "      <td>0.016942</td>\n",
       "      <td>-0.005745</td>\n",
       "      <td>0.111173</td>\n",
       "      <td>-0.064928</td>\n",
       "      <td>-0.185156</td>\n",
       "    </tr>\n",
       "    <tr>\n",
       "      <th>Age_Bin_Child</th>\n",
       "      <td>0.116691</td>\n",
       "      <td>0.114087</td>\n",
       "      <td>-0.067534</td>\n",
       "      <td>0.667190</td>\n",
       "      <td>0.182957</td>\n",
       "      <td>-0.332134</td>\n",
       "      <td>-0.117583</td>\n",
       "      <td>-0.047162</td>\n",
       "      <td>-0.378668</td>\n",
       "      <td>1.000000</td>\n",
       "      <td>-0.130354</td>\n",
       "      <td>-0.108733</td>\n",
       "      <td>0.075800</td>\n",
       "      <td>-0.159886</td>\n",
       "      <td>0.151640</td>\n",
       "      <td>-0.076351</td>\n",
       "      <td>-0.021578</td>\n",
       "      <td>-0.029334</td>\n",
       "      <td>0.037363</td>\n",
       "      <td>0.425954</td>\n",
       "    </tr>\n",
       "    <tr>\n",
       "      <th>Age_Bin_Elder</th>\n",
       "      <td>-0.015887</td>\n",
       "      <td>-0.295411</td>\n",
       "      <td>0.030527</td>\n",
       "      <td>-0.097544</td>\n",
       "      <td>-0.156364</td>\n",
       "      <td>0.011930</td>\n",
       "      <td>0.127295</td>\n",
       "      <td>0.210482</td>\n",
       "      <td>-0.588040</td>\n",
       "      <td>-0.130354</td>\n",
       "      <td>1.000000</td>\n",
       "      <td>-0.168852</td>\n",
       "      <td>0.143039</td>\n",
       "      <td>-0.127750</td>\n",
       "      <td>0.019658</td>\n",
       "      <td>-0.038658</td>\n",
       "      <td>0.020836</td>\n",
       "      <td>-0.085004</td>\n",
       "      <td>0.035240</td>\n",
       "      <td>-0.058946</td>\n",
       "    </tr>\n",
       "    <tr>\n",
       "      <th>Age_Bin_Teen</th>\n",
       "      <td>-0.001559</td>\n",
       "      <td>0.098193</td>\n",
       "      <td>-0.044526</td>\n",
       "      <td>-0.081365</td>\n",
       "      <td>0.110698</td>\n",
       "      <td>0.008108</td>\n",
       "      <td>-0.064187</td>\n",
       "      <td>-0.061091</td>\n",
       "      <td>-0.490502</td>\n",
       "      <td>-0.108733</td>\n",
       "      <td>-0.168852</td>\n",
       "      <td>1.000000</td>\n",
       "      <td>-0.042654</td>\n",
       "      <td>0.042915</td>\n",
       "      <td>-0.077453</td>\n",
       "      <td>0.081155</td>\n",
       "      <td>0.002261</td>\n",
       "      <td>-0.042573</td>\n",
       "      <td>0.024810</td>\n",
       "      <td>-0.007418</td>\n",
       "    </tr>\n",
       "    <tr>\n",
       "      <th>Fare_Class_High</th>\n",
       "      <td>0.233638</td>\n",
       "      <td>-0.579206</td>\n",
       "      <td>-0.177966</td>\n",
       "      <td>0.075609</td>\n",
       "      <td>0.082562</td>\n",
       "      <td>-0.214598</td>\n",
       "      <td>0.138556</td>\n",
       "      <td>0.053497</td>\n",
       "      <td>-0.123811</td>\n",
       "      <td>0.075800</td>\n",
       "      <td>0.143039</td>\n",
       "      <td>-0.042654</td>\n",
       "      <td>1.000000</td>\n",
       "      <td>-0.317896</td>\n",
       "      <td>-0.353758</td>\n",
       "      <td>-0.326861</td>\n",
       "      <td>0.213221</td>\n",
       "      <td>-0.158703</td>\n",
       "      <td>-0.086918</td>\n",
       "      <td>0.370392</td>\n",
       "    </tr>\n",
       "    <tr>\n",
       "      <th>Fare_Class_Low</th>\n",
       "      <td>-0.200973</td>\n",
       "      <td>0.450238</td>\n",
       "      <td>0.168288</td>\n",
       "      <td>-0.119643</td>\n",
       "      <td>-0.014308</td>\n",
       "      <td>0.238201</td>\n",
       "      <td>-0.208735</td>\n",
       "      <td>-0.089831</td>\n",
       "      <td>0.158349</td>\n",
       "      <td>-0.159886</td>\n",
       "      <td>-0.127750</td>\n",
       "      <td>0.042915</td>\n",
       "      <td>-0.317896</td>\n",
       "      <td>1.000000</td>\n",
       "      <td>-0.338894</td>\n",
       "      <td>-0.313128</td>\n",
       "      <td>-0.035399</td>\n",
       "      <td>0.311829</td>\n",
       "      <td>-0.165224</td>\n",
       "      <td>-0.281604</td>\n",
       "    </tr>\n",
       "    <tr>\n",
       "      <th>Fare_Class_Mean</th>\n",
       "      <td>0.048355</td>\n",
       "      <td>-0.058157</td>\n",
       "      <td>-0.063280</td>\n",
       "      <td>0.109949</td>\n",
       "      <td>-0.059954</td>\n",
       "      <td>-0.115154</td>\n",
       "      <td>0.155257</td>\n",
       "      <td>0.027004</td>\n",
       "      <td>-0.046433</td>\n",
       "      <td>0.151640</td>\n",
       "      <td>0.019658</td>\n",
       "      <td>-0.077453</td>\n",
       "      <td>-0.353758</td>\n",
       "      <td>-0.338894</td>\n",
       "      <td>1.000000</td>\n",
       "      <td>-0.348452</td>\n",
       "      <td>0.019260</td>\n",
       "      <td>-0.027646</td>\n",
       "      <td>0.000525</td>\n",
       "      <td>0.139341</td>\n",
       "    </tr>\n",
       "    <tr>\n",
       "      <th>Fare_Class_Median</th>\n",
       "      <td>-0.087603</td>\n",
       "      <td>0.200349</td>\n",
       "      <td>0.079221</td>\n",
       "      <td>-0.072506</td>\n",
       "      <td>-0.006808</td>\n",
       "      <td>0.101126</td>\n",
       "      <td>-0.095204</td>\n",
       "      <td>0.006570</td>\n",
       "      <td>0.016942</td>\n",
       "      <td>-0.076351</td>\n",
       "      <td>-0.038658</td>\n",
       "      <td>0.081155</td>\n",
       "      <td>-0.326861</td>\n",
       "      <td>-0.313128</td>\n",
       "      <td>-0.348452</td>\n",
       "      <td>1.000000</td>\n",
       "      <td>-0.199984</td>\n",
       "      <td>-0.118679</td>\n",
       "      <td>0.249879</td>\n",
       "      <td>-0.240471</td>\n",
       "    </tr>\n",
       "    <tr>\n",
       "      <th>Embark_Place_C</th>\n",
       "      <td>0.168240</td>\n",
       "      <td>-0.243292</td>\n",
       "      <td>-0.082853</td>\n",
       "      <td>-0.035225</td>\n",
       "      <td>0.036204</td>\n",
       "      <td>-0.072567</td>\n",
       "      <td>0.067872</td>\n",
       "      <td>0.030095</td>\n",
       "      <td>-0.005745</td>\n",
       "      <td>-0.021578</td>\n",
       "      <td>0.020836</td>\n",
       "      <td>0.002261</td>\n",
       "      <td>0.213221</td>\n",
       "      <td>-0.035399</td>\n",
       "      <td>0.019260</td>\n",
       "      <td>-0.199984</td>\n",
       "      <td>1.000000</td>\n",
       "      <td>-0.148258</td>\n",
       "      <td>-0.782742</td>\n",
       "      <td>-0.046215</td>\n",
       "    </tr>\n",
       "    <tr>\n",
       "      <th>Embark_Place_Q</th>\n",
       "      <td>0.003650</td>\n",
       "      <td>0.221009</td>\n",
       "      <td>-0.074115</td>\n",
       "      <td>0.010478</td>\n",
       "      <td>0.167531</td>\n",
       "      <td>-0.078338</td>\n",
       "      <td>-0.090432</td>\n",
       "      <td>0.000311</td>\n",
       "      <td>0.111173</td>\n",
       "      <td>-0.029334</td>\n",
       "      <td>-0.085004</td>\n",
       "      <td>-0.042573</td>\n",
       "      <td>-0.158703</td>\n",
       "      <td>0.311829</td>\n",
       "      <td>-0.027646</td>\n",
       "      <td>-0.118679</td>\n",
       "      <td>-0.148258</td>\n",
       "      <td>1.000000</td>\n",
       "      <td>-0.499421</td>\n",
       "      <td>-0.058592</td>\n",
       "    </tr>\n",
       "    <tr>\n",
       "      <th>Embark_Place_S</th>\n",
       "      <td>-0.149683</td>\n",
       "      <td>0.074053</td>\n",
       "      <td>0.119224</td>\n",
       "      <td>0.024264</td>\n",
       "      <td>-0.137144</td>\n",
       "      <td>0.112870</td>\n",
       "      <td>-0.002550</td>\n",
       "      <td>-0.026561</td>\n",
       "      <td>-0.064928</td>\n",
       "      <td>0.037363</td>\n",
       "      <td>0.035240</td>\n",
       "      <td>0.024810</td>\n",
       "      <td>-0.086918</td>\n",
       "      <td>-0.165224</td>\n",
       "      <td>0.000525</td>\n",
       "      <td>0.249879</td>\n",
       "      <td>-0.782742</td>\n",
       "      <td>-0.499421</td>\n",
       "      <td>1.000000</td>\n",
       "      <td>0.077359</td>\n",
       "    </tr>\n",
       "    <tr>\n",
       "      <th>Family_Size</th>\n",
       "      <td>0.016639</td>\n",
       "      <td>0.065997</td>\n",
       "      <td>-0.200988</td>\n",
       "      <td>0.372472</td>\n",
       "      <td>0.107500</td>\n",
       "      <td>-0.338014</td>\n",
       "      <td>0.153842</td>\n",
       "      <td>-0.047426</td>\n",
       "      <td>-0.185156</td>\n",
       "      <td>0.425954</td>\n",
       "      <td>-0.058946</td>\n",
       "      <td>-0.007418</td>\n",
       "      <td>0.370392</td>\n",
       "      <td>-0.281604</td>\n",
       "      <td>0.139341</td>\n",
       "      <td>-0.240471</td>\n",
       "      <td>-0.046215</td>\n",
       "      <td>-0.058592</td>\n",
       "      <td>0.077359</td>\n",
       "      <td>1.000000</td>\n",
       "    </tr>\n",
       "  </tbody>\n",
       "</table>\n",
       "</div>"
      ],
      "text/plain": [
       "                   Survived    Pclass   Is_Male  Title_Master  Title_Miss  \\\n",
       "Survived           1.000000 -0.338481 -0.543351      0.085221    0.335636   \n",
       "Pclass            -0.338481  1.000000  0.131900      0.082081   -0.010261   \n",
       "Is_Male           -0.543351  0.131900  1.000000      0.159934   -0.693916   \n",
       "Title_Master       0.085221  0.082081  0.159934      1.000000   -0.110981   \n",
       "Title_Miss         0.335636 -0.010261 -0.693916     -0.110981    1.000000   \n",
       "Title_Mr          -0.549199  0.142698  0.867334     -0.254903   -0.601857   \n",
       "Title_Mrs          0.341994 -0.153758 -0.550146     -0.087987   -0.207749   \n",
       "Title_Rare        -0.012054 -0.187174  0.075638     -0.035291   -0.083327   \n",
       "Age_Bin_Adult     -0.051250  0.098922  0.044086     -0.238434   -0.055553   \n",
       "Age_Bin_Child      0.116691  0.114087 -0.067534      0.667190    0.182957   \n",
       "Age_Bin_Elder     -0.015887 -0.295411  0.030527     -0.097544   -0.156364   \n",
       "Age_Bin_Teen      -0.001559  0.098193 -0.044526     -0.081365    0.110698   \n",
       "Fare_Class_High    0.233638 -0.579206 -0.177966      0.075609    0.082562   \n",
       "Fare_Class_Low    -0.200973  0.450238  0.168288     -0.119643   -0.014308   \n",
       "Fare_Class_Mean    0.048355 -0.058157 -0.063280      0.109949   -0.059954   \n",
       "Fare_Class_Median -0.087603  0.200349  0.079221     -0.072506   -0.006808   \n",
       "Embark_Place_C     0.168240 -0.243292 -0.082853     -0.035225    0.036204   \n",
       "Embark_Place_Q     0.003650  0.221009 -0.074115      0.010478    0.167531   \n",
       "Embark_Place_S    -0.149683  0.074053  0.119224      0.024264   -0.137144   \n",
       "Family_Size        0.016639  0.065997 -0.200988      0.372472    0.107500   \n",
       "\n",
       "                   Title_Mr  Title_Mrs  Title_Rare  Age_Bin_Adult  \\\n",
       "Survived          -0.549199   0.341994   -0.012054      -0.051250   \n",
       "Pclass             0.142698  -0.153758   -0.187174       0.098922   \n",
       "Is_Male            0.867334  -0.550146    0.075638       0.044086   \n",
       "Title_Master      -0.254903  -0.087987   -0.035291      -0.238434   \n",
       "Title_Miss        -0.601857  -0.207749   -0.083327      -0.055553   \n",
       "Title_Mr           1.000000  -0.477160   -0.191387       0.169176   \n",
       "Title_Mrs         -0.477160   1.000000   -0.066063       0.010180   \n",
       "Title_Rare        -0.191387  -0.066063    1.000000      -0.095431   \n",
       "Age_Bin_Adult      0.169176   0.010180   -0.095431       1.000000   \n",
       "Age_Bin_Child     -0.332134  -0.117583   -0.047162      -0.378668   \n",
       "Age_Bin_Elder      0.011930   0.127295    0.210482      -0.588040   \n",
       "Age_Bin_Teen       0.008108  -0.064187   -0.061091      -0.490502   \n",
       "Fare_Class_High   -0.214598   0.138556    0.053497      -0.123811   \n",
       "Fare_Class_Low     0.238201  -0.208735   -0.089831       0.158349   \n",
       "Fare_Class_Mean   -0.115154   0.155257    0.027004      -0.046433   \n",
       "Fare_Class_Median  0.101126  -0.095204    0.006570       0.016942   \n",
       "Embark_Place_C    -0.072567   0.067872    0.030095      -0.005745   \n",
       "Embark_Place_Q    -0.078338  -0.090432    0.000311       0.111173   \n",
       "Embark_Place_S     0.112870  -0.002550   -0.026561      -0.064928   \n",
       "Family_Size       -0.338014   0.153842   -0.047426      -0.185156   \n",
       "\n",
       "                   Age_Bin_Child  Age_Bin_Elder  Age_Bin_Teen  \\\n",
       "Survived                0.116691      -0.015887     -0.001559   \n",
       "Pclass                  0.114087      -0.295411      0.098193   \n",
       "Is_Male                -0.067534       0.030527     -0.044526   \n",
       "Title_Master            0.667190      -0.097544     -0.081365   \n",
       "Title_Miss              0.182957      -0.156364      0.110698   \n",
       "Title_Mr               -0.332134       0.011930      0.008108   \n",
       "Title_Mrs              -0.117583       0.127295     -0.064187   \n",
       "Title_Rare             -0.047162       0.210482     -0.061091   \n",
       "Age_Bin_Adult          -0.378668      -0.588040     -0.490502   \n",
       "Age_Bin_Child           1.000000      -0.130354     -0.108733   \n",
       "Age_Bin_Elder          -0.130354       1.000000     -0.168852   \n",
       "Age_Bin_Teen           -0.108733      -0.168852      1.000000   \n",
       "Fare_Class_High         0.075800       0.143039     -0.042654   \n",
       "Fare_Class_Low         -0.159886      -0.127750      0.042915   \n",
       "Fare_Class_Mean         0.151640       0.019658     -0.077453   \n",
       "Fare_Class_Median      -0.076351      -0.038658      0.081155   \n",
       "Embark_Place_C         -0.021578       0.020836      0.002261   \n",
       "Embark_Place_Q         -0.029334      -0.085004     -0.042573   \n",
       "Embark_Place_S          0.037363       0.035240      0.024810   \n",
       "Family_Size             0.425954      -0.058946     -0.007418   \n",
       "\n",
       "                   Fare_Class_High  Fare_Class_Low  Fare_Class_Mean  \\\n",
       "Survived                  0.233638       -0.200973         0.048355   \n",
       "Pclass                   -0.579206        0.450238        -0.058157   \n",
       "Is_Male                  -0.177966        0.168288        -0.063280   \n",
       "Title_Master              0.075609       -0.119643         0.109949   \n",
       "Title_Miss                0.082562       -0.014308        -0.059954   \n",
       "Title_Mr                 -0.214598        0.238201        -0.115154   \n",
       "Title_Mrs                 0.138556       -0.208735         0.155257   \n",
       "Title_Rare                0.053497       -0.089831         0.027004   \n",
       "Age_Bin_Adult            -0.123811        0.158349        -0.046433   \n",
       "Age_Bin_Child             0.075800       -0.159886         0.151640   \n",
       "Age_Bin_Elder             0.143039       -0.127750         0.019658   \n",
       "Age_Bin_Teen             -0.042654        0.042915        -0.077453   \n",
       "Fare_Class_High           1.000000       -0.317896        -0.353758   \n",
       "Fare_Class_Low           -0.317896        1.000000        -0.338894   \n",
       "Fare_Class_Mean          -0.353758       -0.338894         1.000000   \n",
       "Fare_Class_Median        -0.326861       -0.313128        -0.348452   \n",
       "Embark_Place_C            0.213221       -0.035399         0.019260   \n",
       "Embark_Place_Q           -0.158703        0.311829        -0.027646   \n",
       "Embark_Place_S           -0.086918       -0.165224         0.000525   \n",
       "Family_Size               0.370392       -0.281604         0.139341   \n",
       "\n",
       "                   Fare_Class_Median  Embark_Place_C  Embark_Place_Q  \\\n",
       "Survived                   -0.087603        0.168240        0.003650   \n",
       "Pclass                      0.200349       -0.243292        0.221009   \n",
       "Is_Male                     0.079221       -0.082853       -0.074115   \n",
       "Title_Master               -0.072506       -0.035225        0.010478   \n",
       "Title_Miss                 -0.006808        0.036204        0.167531   \n",
       "Title_Mr                    0.101126       -0.072567       -0.078338   \n",
       "Title_Mrs                  -0.095204        0.067872       -0.090432   \n",
       "Title_Rare                  0.006570        0.030095        0.000311   \n",
       "Age_Bin_Adult               0.016942       -0.005745        0.111173   \n",
       "Age_Bin_Child              -0.076351       -0.021578       -0.029334   \n",
       "Age_Bin_Elder              -0.038658        0.020836       -0.085004   \n",
       "Age_Bin_Teen                0.081155        0.002261       -0.042573   \n",
       "Fare_Class_High            -0.326861        0.213221       -0.158703   \n",
       "Fare_Class_Low             -0.313128       -0.035399        0.311829   \n",
       "Fare_Class_Mean            -0.348452        0.019260       -0.027646   \n",
       "Fare_Class_Median           1.000000       -0.199984       -0.118679   \n",
       "Embark_Place_C             -0.199984        1.000000       -0.148258   \n",
       "Embark_Place_Q             -0.118679       -0.148258        1.000000   \n",
       "Embark_Place_S              0.249879       -0.782742       -0.499421   \n",
       "Family_Size                -0.240471       -0.046215       -0.058592   \n",
       "\n",
       "                   Embark_Place_S  Family_Size  \n",
       "Survived                -0.149683     0.016639  \n",
       "Pclass                   0.074053     0.065997  \n",
       "Is_Male                  0.119224    -0.200988  \n",
       "Title_Master             0.024264     0.372472  \n",
       "Title_Miss              -0.137144     0.107500  \n",
       "Title_Mr                 0.112870    -0.338014  \n",
       "Title_Mrs               -0.002550     0.153842  \n",
       "Title_Rare              -0.026561    -0.047426  \n",
       "Age_Bin_Adult           -0.064928    -0.185156  \n",
       "Age_Bin_Child            0.037363     0.425954  \n",
       "Age_Bin_Elder            0.035240    -0.058946  \n",
       "Age_Bin_Teen             0.024810    -0.007418  \n",
       "Fare_Class_High         -0.086918     0.370392  \n",
       "Fare_Class_Low          -0.165224    -0.281604  \n",
       "Fare_Class_Mean          0.000525     0.139341  \n",
       "Fare_Class_Median        0.249879    -0.240471  \n",
       "Embark_Place_C          -0.782742    -0.046215  \n",
       "Embark_Place_Q          -0.499421    -0.058592  \n",
       "Embark_Place_S           1.000000     0.077359  \n",
       "Family_Size              0.077359     1.000000  "
      ]
     },
     "execution_count": 81,
     "metadata": {},
     "output_type": "execute_result"
    }
   ],
   "source": [
    "train_data.corr()"
   ]
  },
  {
   "cell_type": "markdown",
   "id": "7cc36333",
   "metadata": {},
   "source": [
    "---"
   ]
  }
 ],
 "metadata": {
  "kernelspec": {
   "display_name": "Python 3 (ipykernel)",
   "language": "python",
   "name": "python3"
  },
  "language_info": {
   "codemirror_mode": {
    "name": "ipython",
    "version": 3
   },
   "file_extension": ".py",
   "mimetype": "text/x-python",
   "name": "python",
   "nbconvert_exporter": "python",
   "pygments_lexer": "ipython3",
   "version": "3.10.6"
  }
 },
 "nbformat": 4,
 "nbformat_minor": 5
}
