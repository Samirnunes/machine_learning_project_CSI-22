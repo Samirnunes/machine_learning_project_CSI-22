{
 "cells": [
  {
   "cell_type": "markdown",
   "id": "c7451e6b",
   "metadata": {},
   "source": [
    "## Importing libraries"
   ]
  },
  {
   "cell_type": "code",
   "execution_count": 543,
   "id": "a0d111c4",
   "metadata": {},
   "outputs": [],
   "source": [
    "import os\n",
    "import pandas as pd\n",
    "import numpy as np\n",
    "import matplotlib.pyplot as plt"
   ]
  },
  {
   "cell_type": "markdown",
   "id": "a8693682",
   "metadata": {},
   "source": [
    "---"
   ]
  },
  {
   "cell_type": "markdown",
   "id": "b1ec528a",
   "metadata": {},
   "source": [
    "## Importing data"
   ]
  },
  {
   "cell_type": "code",
   "execution_count": 544,
   "id": "cc083963",
   "metadata": {},
   "outputs": [],
   "source": [
    "train_path = os.path.join('data', 'train.csv')\n",
    "test_path = os.path.join('data', 'test.csv')\n",
    "\n",
    "train_data = pd.read_csv(train_path, index_col = [0])\n",
    "test_data = pd.read_csv(test_path, index_col = [0])"
   ]
  },
  {
   "cell_type": "markdown",
   "id": "3af59a0a",
   "metadata": {},
   "source": [
    "---"
   ]
  },
  {
   "cell_type": "markdown",
   "id": "b9e4ab09",
   "metadata": {},
   "source": [
    "## Data overview"
   ]
  },
  {
   "cell_type": "markdown",
   "id": "1a836514",
   "metadata": {},
   "source": [
    "### Training data"
   ]
  },
  {
   "cell_type": "code",
   "execution_count": 545,
   "id": "27d4e41c",
   "metadata": {},
   "outputs": [
    {
     "data": {
      "text/plain": [
       "(891, 11)"
      ]
     },
     "execution_count": 545,
     "metadata": {},
     "output_type": "execute_result"
    }
   ],
   "source": [
    "train_data.shape"
   ]
  },
  {
   "cell_type": "code",
   "execution_count": 546,
   "id": "102861c1",
   "metadata": {
    "scrolled": true
   },
   "outputs": [
    {
     "data": {
      "text/plain": [
       "Index(['Survived', 'Pclass', 'Name', 'Sex', 'Age', 'SibSp', 'Parch', 'Ticket',\n",
       "       'Fare', 'Cabin', 'Embarked'],\n",
       "      dtype='object')"
      ]
     },
     "execution_count": 546,
     "metadata": {},
     "output_type": "execute_result"
    }
   ],
   "source": [
    "train_data.columns"
   ]
  },
  {
   "cell_type": "code",
   "execution_count": 547,
   "id": "faea2281",
   "metadata": {},
   "outputs": [
    {
     "data": {
      "text/plain": [
       "Survived      int64\n",
       "Pclass        int64\n",
       "Name         object\n",
       "Sex          object\n",
       "Age         float64\n",
       "SibSp         int64\n",
       "Parch         int64\n",
       "Ticket       object\n",
       "Fare        float64\n",
       "Cabin        object\n",
       "Embarked     object\n",
       "dtype: object"
      ]
     },
     "execution_count": 547,
     "metadata": {},
     "output_type": "execute_result"
    }
   ],
   "source": [
    "train_data.dtypes"
   ]
  },
  {
   "cell_type": "code",
   "execution_count": 548,
   "id": "402aee4e",
   "metadata": {
    "scrolled": true
   },
   "outputs": [
    {
     "data": {
      "text/html": [
       "<div>\n",
       "<style scoped>\n",
       "    .dataframe tbody tr th:only-of-type {\n",
       "        vertical-align: middle;\n",
       "    }\n",
       "\n",
       "    .dataframe tbody tr th {\n",
       "        vertical-align: top;\n",
       "    }\n",
       "\n",
       "    .dataframe thead th {\n",
       "        text-align: right;\n",
       "    }\n",
       "</style>\n",
       "<table border=\"1\" class=\"dataframe\">\n",
       "  <thead>\n",
       "    <tr style=\"text-align: right;\">\n",
       "      <th></th>\n",
       "      <th>Survived</th>\n",
       "      <th>Pclass</th>\n",
       "      <th>Name</th>\n",
       "      <th>Sex</th>\n",
       "      <th>Age</th>\n",
       "      <th>SibSp</th>\n",
       "      <th>Parch</th>\n",
       "      <th>Ticket</th>\n",
       "      <th>Fare</th>\n",
       "      <th>Cabin</th>\n",
       "      <th>Embarked</th>\n",
       "    </tr>\n",
       "    <tr>\n",
       "      <th>PassengerId</th>\n",
       "      <th></th>\n",
       "      <th></th>\n",
       "      <th></th>\n",
       "      <th></th>\n",
       "      <th></th>\n",
       "      <th></th>\n",
       "      <th></th>\n",
       "      <th></th>\n",
       "      <th></th>\n",
       "      <th></th>\n",
       "      <th></th>\n",
       "    </tr>\n",
       "  </thead>\n",
       "  <tbody>\n",
       "    <tr>\n",
       "      <th>1</th>\n",
       "      <td>0</td>\n",
       "      <td>3</td>\n",
       "      <td>Braund, Mr. Owen Harris</td>\n",
       "      <td>male</td>\n",
       "      <td>22.0</td>\n",
       "      <td>1</td>\n",
       "      <td>0</td>\n",
       "      <td>A/5 21171</td>\n",
       "      <td>7.2500</td>\n",
       "      <td>NaN</td>\n",
       "      <td>S</td>\n",
       "    </tr>\n",
       "    <tr>\n",
       "      <th>2</th>\n",
       "      <td>1</td>\n",
       "      <td>1</td>\n",
       "      <td>Cumings, Mrs. John Bradley (Florence Briggs Th...</td>\n",
       "      <td>female</td>\n",
       "      <td>38.0</td>\n",
       "      <td>1</td>\n",
       "      <td>0</td>\n",
       "      <td>PC 17599</td>\n",
       "      <td>71.2833</td>\n",
       "      <td>C85</td>\n",
       "      <td>C</td>\n",
       "    </tr>\n",
       "    <tr>\n",
       "      <th>3</th>\n",
       "      <td>1</td>\n",
       "      <td>3</td>\n",
       "      <td>Heikkinen, Miss. Laina</td>\n",
       "      <td>female</td>\n",
       "      <td>26.0</td>\n",
       "      <td>0</td>\n",
       "      <td>0</td>\n",
       "      <td>STON/O2. 3101282</td>\n",
       "      <td>7.9250</td>\n",
       "      <td>NaN</td>\n",
       "      <td>S</td>\n",
       "    </tr>\n",
       "    <tr>\n",
       "      <th>4</th>\n",
       "      <td>1</td>\n",
       "      <td>1</td>\n",
       "      <td>Futrelle, Mrs. Jacques Heath (Lily May Peel)</td>\n",
       "      <td>female</td>\n",
       "      <td>35.0</td>\n",
       "      <td>1</td>\n",
       "      <td>0</td>\n",
       "      <td>113803</td>\n",
       "      <td>53.1000</td>\n",
       "      <td>C123</td>\n",
       "      <td>S</td>\n",
       "    </tr>\n",
       "    <tr>\n",
       "      <th>5</th>\n",
       "      <td>0</td>\n",
       "      <td>3</td>\n",
       "      <td>Allen, Mr. William Henry</td>\n",
       "      <td>male</td>\n",
       "      <td>35.0</td>\n",
       "      <td>0</td>\n",
       "      <td>0</td>\n",
       "      <td>373450</td>\n",
       "      <td>8.0500</td>\n",
       "      <td>NaN</td>\n",
       "      <td>S</td>\n",
       "    </tr>\n",
       "  </tbody>\n",
       "</table>\n",
       "</div>"
      ],
      "text/plain": [
       "             Survived  Pclass  \\\n",
       "PassengerId                     \n",
       "1                   0       3   \n",
       "2                   1       1   \n",
       "3                   1       3   \n",
       "4                   1       1   \n",
       "5                   0       3   \n",
       "\n",
       "                                                          Name     Sex   Age  \\\n",
       "PassengerId                                                                    \n",
       "1                                      Braund, Mr. Owen Harris    male  22.0   \n",
       "2            Cumings, Mrs. John Bradley (Florence Briggs Th...  female  38.0   \n",
       "3                                       Heikkinen, Miss. Laina  female  26.0   \n",
       "4                 Futrelle, Mrs. Jacques Heath (Lily May Peel)  female  35.0   \n",
       "5                                     Allen, Mr. William Henry    male  35.0   \n",
       "\n",
       "             SibSp  Parch            Ticket     Fare Cabin Embarked  \n",
       "PassengerId                                                          \n",
       "1                1      0         A/5 21171   7.2500   NaN        S  \n",
       "2                1      0          PC 17599  71.2833   C85        C  \n",
       "3                0      0  STON/O2. 3101282   7.9250   NaN        S  \n",
       "4                1      0            113803  53.1000  C123        S  \n",
       "5                0      0            373450   8.0500   NaN        S  "
      ]
     },
     "execution_count": 548,
     "metadata": {},
     "output_type": "execute_result"
    }
   ],
   "source": [
    "train_data.head()"
   ]
  },
  {
   "cell_type": "markdown",
   "id": "5ccec0cd",
   "metadata": {},
   "source": [
    "Our possible features are:\n",
    "\n",
    "**Pclass**: Ticket's class. 1 = 1st class, 2 = 2nd class, 3 = 3rd class.\n",
    "\n",
    "**Sex**: Person's sex. Male or Female.\n",
    "\n",
    "**Age**: Person's age. Age is fractional if less than 1. If the age is estimated, is it in the form of xx.5.\n",
    "\n",
    "**SibSp**: Number of siblings or spouse in Titanic. Sibling = brother, sister, stepbrother, stepsister. Spouse = husband, wife (mistresses and fiancés were ignored).\n",
    " \n",
    "**Parch**: Number of parents or child in Titanic. Parent = mother, father. Child = daughter, son, stepdaughter, stepson.\n",
    "\n",
    "**Ticket**: Code printed on the ticket.\n",
    "\n",
    "**Fare**: Passenger's fare.\n",
    "\n",
    "**Cabin**: Passenger's cabin.\n",
    "\n",
    "**Embarked**: Passenger boarding port. C = Cherbourg, Q = Queenstown, S = Southampton."
   ]
  },
  {
   "cell_type": "markdown",
   "id": "71f04270",
   "metadata": {},
   "source": [
    "### Test data"
   ]
  },
  {
   "cell_type": "code",
   "execution_count": 549,
   "id": "21e9b5df",
   "metadata": {},
   "outputs": [
    {
     "data": {
      "text/plain": [
       "Index(['Pclass', 'Name', 'Sex', 'Age', 'SibSp', 'Parch', 'Ticket', 'Fare',\n",
       "       'Cabin', 'Embarked'],\n",
       "      dtype='object')"
      ]
     },
     "execution_count": 549,
     "metadata": {},
     "output_type": "execute_result"
    }
   ],
   "source": [
    "test_data.columns"
   ]
  },
  {
   "cell_type": "markdown",
   "id": "6ec39160",
   "metadata": {},
   "source": [
    "Test and training have the same columns. The exception is the column 'Survived', which is the label."
   ]
  },
  {
   "cell_type": "code",
   "execution_count": 550,
   "id": "0fcba832",
   "metadata": {},
   "outputs": [
    {
     "data": {
      "text/html": [
       "<div>\n",
       "<style scoped>\n",
       "    .dataframe tbody tr th:only-of-type {\n",
       "        vertical-align: middle;\n",
       "    }\n",
       "\n",
       "    .dataframe tbody tr th {\n",
       "        vertical-align: top;\n",
       "    }\n",
       "\n",
       "    .dataframe thead th {\n",
       "        text-align: right;\n",
       "    }\n",
       "</style>\n",
       "<table border=\"1\" class=\"dataframe\">\n",
       "  <thead>\n",
       "    <tr style=\"text-align: right;\">\n",
       "      <th></th>\n",
       "      <th>Pclass</th>\n",
       "      <th>Name</th>\n",
       "      <th>Sex</th>\n",
       "      <th>Age</th>\n",
       "      <th>SibSp</th>\n",
       "      <th>Parch</th>\n",
       "      <th>Ticket</th>\n",
       "      <th>Fare</th>\n",
       "      <th>Cabin</th>\n",
       "      <th>Embarked</th>\n",
       "    </tr>\n",
       "    <tr>\n",
       "      <th>PassengerId</th>\n",
       "      <th></th>\n",
       "      <th></th>\n",
       "      <th></th>\n",
       "      <th></th>\n",
       "      <th></th>\n",
       "      <th></th>\n",
       "      <th></th>\n",
       "      <th></th>\n",
       "      <th></th>\n",
       "      <th></th>\n",
       "    </tr>\n",
       "  </thead>\n",
       "  <tbody>\n",
       "    <tr>\n",
       "      <th>892</th>\n",
       "      <td>3</td>\n",
       "      <td>Kelly, Mr. James</td>\n",
       "      <td>male</td>\n",
       "      <td>34.5</td>\n",
       "      <td>0</td>\n",
       "      <td>0</td>\n",
       "      <td>330911</td>\n",
       "      <td>7.8292</td>\n",
       "      <td>NaN</td>\n",
       "      <td>Q</td>\n",
       "    </tr>\n",
       "    <tr>\n",
       "      <th>893</th>\n",
       "      <td>3</td>\n",
       "      <td>Wilkes, Mrs. James (Ellen Needs)</td>\n",
       "      <td>female</td>\n",
       "      <td>47.0</td>\n",
       "      <td>1</td>\n",
       "      <td>0</td>\n",
       "      <td>363272</td>\n",
       "      <td>7.0000</td>\n",
       "      <td>NaN</td>\n",
       "      <td>S</td>\n",
       "    </tr>\n",
       "    <tr>\n",
       "      <th>894</th>\n",
       "      <td>2</td>\n",
       "      <td>Myles, Mr. Thomas Francis</td>\n",
       "      <td>male</td>\n",
       "      <td>62.0</td>\n",
       "      <td>0</td>\n",
       "      <td>0</td>\n",
       "      <td>240276</td>\n",
       "      <td>9.6875</td>\n",
       "      <td>NaN</td>\n",
       "      <td>Q</td>\n",
       "    </tr>\n",
       "    <tr>\n",
       "      <th>895</th>\n",
       "      <td>3</td>\n",
       "      <td>Wirz, Mr. Albert</td>\n",
       "      <td>male</td>\n",
       "      <td>27.0</td>\n",
       "      <td>0</td>\n",
       "      <td>0</td>\n",
       "      <td>315154</td>\n",
       "      <td>8.6625</td>\n",
       "      <td>NaN</td>\n",
       "      <td>S</td>\n",
       "    </tr>\n",
       "    <tr>\n",
       "      <th>896</th>\n",
       "      <td>3</td>\n",
       "      <td>Hirvonen, Mrs. Alexander (Helga E Lindqvist)</td>\n",
       "      <td>female</td>\n",
       "      <td>22.0</td>\n",
       "      <td>1</td>\n",
       "      <td>1</td>\n",
       "      <td>3101298</td>\n",
       "      <td>12.2875</td>\n",
       "      <td>NaN</td>\n",
       "      <td>S</td>\n",
       "    </tr>\n",
       "  </tbody>\n",
       "</table>\n",
       "</div>"
      ],
      "text/plain": [
       "             Pclass                                          Name     Sex  \\\n",
       "PassengerId                                                                 \n",
       "892               3                              Kelly, Mr. James    male   \n",
       "893               3              Wilkes, Mrs. James (Ellen Needs)  female   \n",
       "894               2                     Myles, Mr. Thomas Francis    male   \n",
       "895               3                              Wirz, Mr. Albert    male   \n",
       "896               3  Hirvonen, Mrs. Alexander (Helga E Lindqvist)  female   \n",
       "\n",
       "              Age  SibSp  Parch   Ticket     Fare Cabin Embarked  \n",
       "PassengerId                                                       \n",
       "892          34.5      0      0   330911   7.8292   NaN        Q  \n",
       "893          47.0      1      0   363272   7.0000   NaN        S  \n",
       "894          62.0      0      0   240276   9.6875   NaN        Q  \n",
       "895          27.0      0      0   315154   8.6625   NaN        S  \n",
       "896          22.0      1      1  3101298  12.2875   NaN        S  "
      ]
     },
     "execution_count": 550,
     "metadata": {},
     "output_type": "execute_result"
    }
   ],
   "source": [
    "test_data.head()"
   ]
  },
  {
   "cell_type": "markdown",
   "id": "c3a9ca26",
   "metadata": {},
   "source": [
    "---"
   ]
  },
  {
   "cell_type": "markdown",
   "id": "326a3dc4",
   "metadata": {},
   "source": [
    "## Separating data: features and labels"
   ]
  },
  {
   "cell_type": "markdown",
   "id": "6f124662",
   "metadata": {},
   "source": [
    "To make our analysis easy, we will separate the data into:\n",
    "\n",
    "**X_train**: (possible) training features.\n",
    "\n",
    "**y_train**: labels.\n",
    "\n",
    "**X_test**: (possible) test features.\n",
    "\n",
    "We will call __features__ the list with the names of the columns that might be the features and __label__ the name of the column which has the labels (**Survived** column)."
   ]
  },
  {
   "cell_type": "code",
   "execution_count": 551,
   "id": "25c090bc",
   "metadata": {},
   "outputs": [],
   "source": [
    "features = list(test_data.columns)\n",
    "features.remove('Name')\n",
    "label = 'Survived'"
   ]
  },
  {
   "cell_type": "code",
   "execution_count": 552,
   "id": "b4f4f2f1",
   "metadata": {},
   "outputs": [],
   "source": [
    "X_train = train_data[features]\n",
    "y_train = train_data[label]\n",
    "X_test = test_data[features]"
   ]
  },
  {
   "cell_type": "markdown",
   "id": "f4aac53a",
   "metadata": {},
   "source": [
    "---"
   ]
  },
  {
   "cell_type": "markdown",
   "id": "a4a4ac16",
   "metadata": {},
   "source": [
    "We will do univariate and multivariate data analysis of the test data. This will help us to select the features to train our machine learning model in the future. It is important to note that all transformations performed in the train data have to be done in the test data to, but must always be based on the train data. For example, if the calculate the mean of the train data to perform data scaling, the same mean must be used in the train data (unseen data) to avoid data leakage."
   ]
  },
  {
   "cell_type": "markdown",
   "id": "e49f8ea8",
   "metadata": {},
   "source": [
    "## Training data analysis"
   ]
  },
  {
   "cell_type": "code",
   "execution_count": 553,
   "id": "9b10f5de",
   "metadata": {},
   "outputs": [
    {
     "data": {
      "text/plain": [
       "PassengerId\n",
       "1    0\n",
       "2    1\n",
       "3    1\n",
       "4    1\n",
       "5    0\n",
       "Name: Survived, dtype: int64"
      ]
     },
     "execution_count": 553,
     "metadata": {},
     "output_type": "execute_result"
    }
   ],
   "source": [
    "y_train.head()"
   ]
  },
  {
   "cell_type": "code",
   "execution_count": 554,
   "id": "7daca95b",
   "metadata": {},
   "outputs": [
    {
     "data": {
      "text/html": [
       "<div>\n",
       "<style scoped>\n",
       "    .dataframe tbody tr th:only-of-type {\n",
       "        vertical-align: middle;\n",
       "    }\n",
       "\n",
       "    .dataframe tbody tr th {\n",
       "        vertical-align: top;\n",
       "    }\n",
       "\n",
       "    .dataframe thead th {\n",
       "        text-align: right;\n",
       "    }\n",
       "</style>\n",
       "<table border=\"1\" class=\"dataframe\">\n",
       "  <thead>\n",
       "    <tr style=\"text-align: right;\">\n",
       "      <th></th>\n",
       "      <th>Pclass</th>\n",
       "      <th>Sex</th>\n",
       "      <th>Age</th>\n",
       "      <th>SibSp</th>\n",
       "      <th>Parch</th>\n",
       "      <th>Ticket</th>\n",
       "      <th>Fare</th>\n",
       "      <th>Cabin</th>\n",
       "      <th>Embarked</th>\n",
       "    </tr>\n",
       "    <tr>\n",
       "      <th>PassengerId</th>\n",
       "      <th></th>\n",
       "      <th></th>\n",
       "      <th></th>\n",
       "      <th></th>\n",
       "      <th></th>\n",
       "      <th></th>\n",
       "      <th></th>\n",
       "      <th></th>\n",
       "      <th></th>\n",
       "    </tr>\n",
       "  </thead>\n",
       "  <tbody>\n",
       "    <tr>\n",
       "      <th>1</th>\n",
       "      <td>3</td>\n",
       "      <td>male</td>\n",
       "      <td>22.0</td>\n",
       "      <td>1</td>\n",
       "      <td>0</td>\n",
       "      <td>A/5 21171</td>\n",
       "      <td>7.2500</td>\n",
       "      <td>NaN</td>\n",
       "      <td>S</td>\n",
       "    </tr>\n",
       "    <tr>\n",
       "      <th>2</th>\n",
       "      <td>1</td>\n",
       "      <td>female</td>\n",
       "      <td>38.0</td>\n",
       "      <td>1</td>\n",
       "      <td>0</td>\n",
       "      <td>PC 17599</td>\n",
       "      <td>71.2833</td>\n",
       "      <td>C85</td>\n",
       "      <td>C</td>\n",
       "    </tr>\n",
       "    <tr>\n",
       "      <th>3</th>\n",
       "      <td>3</td>\n",
       "      <td>female</td>\n",
       "      <td>26.0</td>\n",
       "      <td>0</td>\n",
       "      <td>0</td>\n",
       "      <td>STON/O2. 3101282</td>\n",
       "      <td>7.9250</td>\n",
       "      <td>NaN</td>\n",
       "      <td>S</td>\n",
       "    </tr>\n",
       "    <tr>\n",
       "      <th>4</th>\n",
       "      <td>1</td>\n",
       "      <td>female</td>\n",
       "      <td>35.0</td>\n",
       "      <td>1</td>\n",
       "      <td>0</td>\n",
       "      <td>113803</td>\n",
       "      <td>53.1000</td>\n",
       "      <td>C123</td>\n",
       "      <td>S</td>\n",
       "    </tr>\n",
       "    <tr>\n",
       "      <th>5</th>\n",
       "      <td>3</td>\n",
       "      <td>male</td>\n",
       "      <td>35.0</td>\n",
       "      <td>0</td>\n",
       "      <td>0</td>\n",
       "      <td>373450</td>\n",
       "      <td>8.0500</td>\n",
       "      <td>NaN</td>\n",
       "      <td>S</td>\n",
       "    </tr>\n",
       "  </tbody>\n",
       "</table>\n",
       "</div>"
      ],
      "text/plain": [
       "             Pclass     Sex   Age  SibSp  Parch            Ticket     Fare  \\\n",
       "PassengerId                                                                  \n",
       "1                 3    male  22.0      1      0         A/5 21171   7.2500   \n",
       "2                 1  female  38.0      1      0          PC 17599  71.2833   \n",
       "3                 3  female  26.0      0      0  STON/O2. 3101282   7.9250   \n",
       "4                 1  female  35.0      1      0            113803  53.1000   \n",
       "5                 3    male  35.0      0      0            373450   8.0500   \n",
       "\n",
       "            Cabin Embarked  \n",
       "PassengerId                 \n",
       "1             NaN        S  \n",
       "2             C85        C  \n",
       "3             NaN        S  \n",
       "4            C123        S  \n",
       "5             NaN        S  "
      ]
     },
     "execution_count": 554,
     "metadata": {},
     "output_type": "execute_result"
    }
   ],
   "source": [
    "X_train.head()"
   ]
  },
  {
   "cell_type": "markdown",
   "id": "4ba34e3d",
   "metadata": {},
   "source": [
    "### Univariate analysis"
   ]
  },
  {
   "cell_type": "markdown",
   "id": "373eb60c",
   "metadata": {},
   "source": [
    "#### Survived"
   ]
  },
  {
   "cell_type": "code",
   "execution_count": 555,
   "id": "c62d74a4",
   "metadata": {},
   "outputs": [
    {
     "data": {
      "text/plain": [
       "count    891.000000\n",
       "mean       0.383838\n",
       "std        0.486592\n",
       "min        0.000000\n",
       "25%        0.000000\n",
       "50%        0.000000\n",
       "75%        1.000000\n",
       "max        1.000000\n",
       "Name: Survived, dtype: float64"
      ]
     },
     "execution_count": 555,
     "metadata": {},
     "output_type": "execute_result"
    }
   ],
   "source": [
    "y_train.describe()"
   ]
  },
  {
   "cell_type": "code",
   "execution_count": 556,
   "id": "3777a6e5",
   "metadata": {},
   "outputs": [
    {
     "data": {
      "text/plain": [
       "0    549\n",
       "1    342\n",
       "Name: Survived, dtype: int64"
      ]
     },
     "execution_count": 556,
     "metadata": {},
     "output_type": "execute_result"
    }
   ],
   "source": [
    "y_train.value_counts()"
   ]
  },
  {
   "cell_type": "code",
   "execution_count": 557,
   "id": "15087cab",
   "metadata": {},
   "outputs": [
    {
     "data": {
      "image/png": "[encoded data removed]",
      "text/plain": [
       "<Figure size 640x480 with 1 Axes>"
      ]
     },
     "metadata": {},
     "output_type": "display_data"
    }
   ],
   "source": [
    "not_survived = y_train.value_counts()[0]\n",
    "survived = y_train.value_counts()[1]\n",
    "plt.bar(x = ['Not Survived', 'Survived'], height = y_train.value_counts(), color = ['darkblue', 'gray'])\n",
    "plt.text(0 - 0.06, not_survived + 4, f'{not_survived}')\n",
    "plt.text(1 - 0.06, survived + 4, f'{survived}')\n",
    "plt.yticks([])\n",
    "plt.suptitle('Comparison between the numbers of survivors and non-survivors in the training set')\n",
    "plt.title(f'The number of deaths is {np.floor((not_survived - survived)/survived * 100)}% greater than the number of survivors')\n",
    "\n",
    "plt.show()"
   ]
  },
  {
   "cell_type": "markdown",
   "id": "b85fc043",
   "metadata": {},
   "source": [
    "#### Pclass"
   ]
  },
  {
   "cell_type": "code",
   "execution_count": 558,
   "id": "35fb4697",
   "metadata": {},
   "outputs": [
    {
     "data": {
      "text/plain": [
       "3    491\n",
       "1    216\n",
       "2    184\n",
       "Name: Pclass, dtype: int64"
      ]
     },
     "execution_count": 558,
     "metadata": {},
     "output_type": "execute_result"
    }
   ],
   "source": [
    "pclass = X_train['Pclass']\n",
    "classes = pclass.value_counts()\n",
    "classes"
   ]
  },
  {
   "cell_type": "code",
   "execution_count": 559,
   "id": "fc707daa",
   "metadata": {},
   "outputs": [
    {
     "data": {
      "text/plain": [
       "False    891\n",
       "Name: Pclass, dtype: int64"
      ]
     },
     "execution_count": 559,
     "metadata": {},
     "output_type": "execute_result"
    }
   ],
   "source": [
    "pclass.isnull().value_counts()"
   ]
  },
  {
   "cell_type": "code",
   "execution_count": 560,
   "id": "f4bb4bec",
   "metadata": {},
   "outputs": [
    {
     "data": {
      "image/png": "[encoded data removed]",
      "text/plain": [
       "<Figure size 640x480 with 1 Axes>"
      ]
     },
     "metadata": {},
     "output_type": "display_data"
    }
   ],
   "source": [
    "first = classes.loc[1]\n",
    "second = classes.loc[2]\n",
    "third = classes.loc[3]\n",
    "\n",
    "fig, ax = plt.subplots()\n",
    "ax.bar(x = ' ', height = first, color = 'gold')\n",
    "ax.bar(x = ' ', height = second, bottom = first, color = 'silver')\n",
    "bronze = (205/255, 127/255, 50/255)\n",
    "ax.bar(x = '  ', height = third, color = bronze)\n",
    "ax.text(0 - 0.06, first + second + 4, f'{first + second}')\n",
    "ax.text(1 - 0.06, third + 4, f'{third}')\n",
    "ax.text(0 - 0.05, first/2 , '1st')\n",
    "ax.text(0 - 0.05, first + second/2, '2nd')\n",
    "ax.text(1 - 0.05, third/2, '3rd')\n",
    "ax.set_yticks([])\n",
    "fig.suptitle(\"Comparison between passenger's ticket class numbers\")\n",
    "ax.set_title(\"The number of third class tickets is greater than the sum of first and second classes\")\n",
    "\n",
    "plt.show()"
   ]
  },
  {
   "cell_type": "markdown",
   "id": "3a74f13c",
   "metadata": {},
   "source": [
    "**Sex**"
   ]
  },
  {
   "cell_type": "code",
   "execution_count": 561,
   "id": "bfa48254",
   "metadata": {},
   "outputs": [
    {
     "data": {
      "text/plain": [
       "count      891\n",
       "unique       2\n",
       "top       male\n",
       "freq       577\n",
       "Name: Sex, dtype: object"
      ]
     },
     "execution_count": 561,
     "metadata": {},
     "output_type": "execute_result"
    }
   ],
   "source": [
    "X_train['Sex'].describe()"
   ]
  },
  {
   "cell_type": "code",
   "execution_count": 562,
   "id": "9aa7dcf6",
   "metadata": {},
   "outputs": [
    {
     "data": {
      "text/plain": [
       "male      577\n",
       "female    314\n",
       "Name: Sex, dtype: int64"
      ]
     },
     "execution_count": 562,
     "metadata": {},
     "output_type": "execute_result"
    }
   ],
   "source": [
    "sex = X_train['Sex'].value_counts()\n",
    "sex"
   ]
  },
  {
   "cell_type": "code",
   "execution_count": 563,
   "id": "100e28a3",
   "metadata": {},
   "outputs": [
    {
     "data": {
      "text/plain": [
       "False    891\n",
       "Name: Sex, dtype: int64"
      ]
     },
     "execution_count": 563,
     "metadata": {},
     "output_type": "execute_result"
    }
   ],
   "source": [
    "X_train['Sex'].isnull().value_counts()"
   ]
  },
  {
   "cell_type": "code",
   "execution_count": 564,
   "id": "4a478b21",
   "metadata": {},
   "outputs": [
    {
     "data": {
      "image/png": "[encoded data removed]",
      "text/plain": [
       "<Figure size 640x480 with 1 Axes>"
      ]
     },
     "metadata": {},
     "output_type": "display_data"
    }
   ],
   "source": [
    "males = sex.loc['male']\n",
    "females = sex.loc['female']\n",
    "plt.bar(x = ['Male', 'Female'], height = [males, females], color = ['darkblue', 'gray'])\n",
    "plt.text(0 - 0.06, males + 4, f'{males}')\n",
    "plt.text(1 - 0.06, females + 4, f'{females}')\n",
    "plt.xlabel('Passenger sex')\n",
    "plt.yticks([])\n",
    "plt.suptitle('Comparison between the number of males and females in the training data')\n",
    "plt.title(f'The number of males is {np.floor((males - females)/males * 100)}% greater than the number of females')\n",
    "\n",
    "plt.show()"
   ]
  },
  {
   "cell_type": "markdown",
   "id": "6aa86b80",
   "metadata": {},
   "source": [
    "**Age**"
   ]
  },
  {
   "cell_type": "code",
   "execution_count": 565,
   "id": "7ea2c4c2",
   "metadata": {},
   "outputs": [
    {
     "data": {
      "text/plain": [
       "count    714.000000\n",
       "mean      29.699118\n",
       "std       14.526497\n",
       "min        0.420000\n",
       "25%       20.125000\n",
       "50%       28.000000\n",
       "75%       38.000000\n",
       "max       80.000000\n",
       "Name: Age, dtype: float64"
      ]
     },
     "execution_count": 565,
     "metadata": {},
     "output_type": "execute_result"
    }
   ],
   "source": [
    "X_train['Age'].describe()"
   ]
  },
  {
   "cell_type": "code",
   "execution_count": 566,
   "id": "7a7ca0d2",
   "metadata": {},
   "outputs": [],
   "source": [
    "ages = X_train['Age']"
   ]
  },
  {
   "cell_type": "code",
   "execution_count": 567,
   "id": "e268cd08",
   "metadata": {},
   "outputs": [
    {
     "data": {
      "text/plain": [
       "False    714\n",
       "True     177\n",
       "Name: Age, dtype: int64"
      ]
     },
     "execution_count": 567,
     "metadata": {},
     "output_type": "execute_result"
    }
   ],
   "source": [
    "ages.isnull().value_counts()"
   ]
  },
  {
   "cell_type": "code",
   "execution_count": 568,
   "id": "5bf5cf5b",
   "metadata": {},
   "outputs": [
    {
     "data": {
      "text/plain": [
       "24.00    30\n",
       "22.00    27\n",
       "18.00    26\n",
       "19.00    25\n",
       "28.00    25\n",
       "         ..\n",
       "36.50     1\n",
       "55.50     1\n",
       "0.92      1\n",
       "23.50     1\n",
       "74.00     1\n",
       "Name: Age, Length: 88, dtype: int64"
      ]
     },
     "execution_count": 568,
     "metadata": {},
     "output_type": "execute_result"
    }
   ],
   "source": [
    "ages.value_counts()"
   ]
  },
  {
   "cell_type": "code",
   "execution_count": 569,
   "id": "95edb71a",
   "metadata": {},
   "outputs": [
    {
     "data": {
      "image/png": "[encoded data removed]",
      "text/plain": [
       "<Figure size 1000x500 with 2 Axes>"
      ]
     },
     "metadata": {},
     "output_type": "display_data"
    }
   ],
   "source": [
    "fig, axes = plt.subplots(nrows = 1, ncols = 2, figsize = (10, 5))\n",
    "axes[0].hist(ages, bins = [10 * i for i in range(0, 10)], color = 'darkblue')\n",
    "axes[0].set_title('Ages histogram of training set')\n",
    "axes[0].set_xlabel('Age')\n",
    "axes[0].set_ylabel('Count')\n",
    "\n",
    "axes[1].boxplot(ages.value_counts())\n",
    "axes[1].set_title(\"Boxplot of age's counts in training set\")\n",
    "axes[1].set_ylabel('Age count')\n",
    "axes[1].set_xticklabels([])\n",
    "\n",
    "plt.show()"
   ]
  },
  {
   "cell_type": "markdown",
   "id": "d35b21ab",
   "metadata": {},
   "source": [
    "#### SibSp"
   ]
  },
  {
   "cell_type": "code",
   "execution_count": 570,
   "id": "a6dc08d7",
   "metadata": {
    "scrolled": true
   },
   "outputs": [
    {
     "data": {
      "text/plain": [
       "count    891.000000\n",
       "mean       0.523008\n",
       "std        1.102743\n",
       "min        0.000000\n",
       "25%        0.000000\n",
       "50%        0.000000\n",
       "75%        1.000000\n",
       "max        8.000000\n",
       "Name: SibSp, dtype: float64"
      ]
     },
     "execution_count": 570,
     "metadata": {},
     "output_type": "execute_result"
    }
   ],
   "source": [
    "X_train['SibSp'].describe()"
   ]
  },
  {
   "cell_type": "code",
   "execution_count": 571,
   "id": "035e2318",
   "metadata": {},
   "outputs": [
    {
     "data": {
      "text/plain": [
       "False    891\n",
       "Name: SibSp, dtype: int64"
      ]
     },
     "execution_count": 571,
     "metadata": {},
     "output_type": "execute_result"
    }
   ],
   "source": [
    "X_train['SibSp'].isnull().value_counts()"
   ]
  },
  {
   "cell_type": "code",
   "execution_count": 572,
   "id": "8e6bfac7",
   "metadata": {},
   "outputs": [],
   "source": [
    "sibsp = X_train['SibSp'].value_counts()"
   ]
  },
  {
   "cell_type": "code",
   "execution_count": 573,
   "id": "98b3acdd",
   "metadata": {},
   "outputs": [
    {
     "data": {
      "text/plain": [
       "0    608\n",
       "1    209\n",
       "2     28\n",
       "4     18\n",
       "3     16\n",
       "8      7\n",
       "5      5\n",
       "Name: SibSp, dtype: int64"
      ]
     },
     "execution_count": 573,
     "metadata": {},
     "output_type": "execute_result"
    }
   ],
   "source": [
    "sibsp"
   ]
  },
  {
   "cell_type": "code",
   "execution_count": 574,
   "id": "2fb3460b",
   "metadata": {},
   "outputs": [
    {
     "data": {
      "image/png": "[encoded data removed]",
      "text/plain": [
       "<Figure size 1000x500 with 1 Axes>"
      ]
     },
     "metadata": {},
     "output_type": "display_data"
    }
   ],
   "source": [
    "plt.figure(figsize = (10,5))\n",
    "colors = ['darkblue'] * 2 + ['gray'] * 6\n",
    "i = 0\n",
    "for index, value in sibsp.items():\n",
    "    plt.bar(x = index, height = value, color = colors[i])\n",
    "    i += 1\n",
    "plt.xticks(list(range(0, 9)))\n",
    "plt.xlabel('# of siblings or spouses aboard')\n",
    "plt.ylabel('Count')\n",
    "plt.suptitle('Count of persons with determined number of siblings or spouses aboard the Titanic in training set')\n",
    "plt.title('Most people has only one or no siblings or spouses aboard')\n",
    "\n",
    "plt.show()"
   ]
  },
  {
   "cell_type": "markdown",
   "id": "1382a505",
   "metadata": {},
   "source": [
    "#### Parch"
   ]
  },
  {
   "cell_type": "code",
   "execution_count": 575,
   "id": "c9d07fc7",
   "metadata": {},
   "outputs": [
    {
     "data": {
      "text/plain": [
       "count    891.000000\n",
       "mean       0.381594\n",
       "std        0.806057\n",
       "min        0.000000\n",
       "25%        0.000000\n",
       "50%        0.000000\n",
       "75%        0.000000\n",
       "max        6.000000\n",
       "Name: Parch, dtype: float64"
      ]
     },
     "execution_count": 575,
     "metadata": {},
     "output_type": "execute_result"
    }
   ],
   "source": [
    "X_train['Parch'].describe()"
   ]
  },
  {
   "cell_type": "code",
   "execution_count": 576,
   "id": "c4e8e9d6",
   "metadata": {},
   "outputs": [],
   "source": [
    "parch = X_train['Parch'].value_counts()"
   ]
  },
  {
   "cell_type": "code",
   "execution_count": 577,
   "id": "01a6d77e",
   "metadata": {},
   "outputs": [
    {
     "data": {
      "text/plain": [
       "0    678\n",
       "1    118\n",
       "2     80\n",
       "5      5\n",
       "3      5\n",
       "4      4\n",
       "6      1\n",
       "Name: Parch, dtype: int64"
      ]
     },
     "execution_count": 577,
     "metadata": {},
     "output_type": "execute_result"
    }
   ],
   "source": [
    "parch"
   ]
  },
  {
   "cell_type": "code",
   "execution_count": 578,
   "id": "d5301cfd",
   "metadata": {},
   "outputs": [
    {
     "data": {
      "image/png": "[encoded data removed]",
      "text/plain": [
       "<Figure size 1000x500 with 1 Axes>"
      ]
     },
     "metadata": {},
     "output_type": "display_data"
    }
   ],
   "source": [
    "plt.figure(figsize = (10,5))\n",
    "colors = ['darkblue'] * 3 + ['gray'] * 5\n",
    "i = 0\n",
    "for index, value in parch.items():\n",
    "    plt.bar(x = index, height = value, color = colors[i])\n",
    "    i += 1\n",
    "plt.xticks(list(range(0, 9)))\n",
    "plt.xlabel('# of parents or child aboard')\n",
    "plt.ylabel('Count')\n",
    "plt.suptitle('Count of persons with determined number of parents or child aboard the Titanic in training set')\n",
    "plt.title('Most people has zero, one or two parents or child aboard')\n",
    "\n",
    "plt.show()"
   ]
  },
  {
   "cell_type": "markdown",
   "id": "a31e7155",
   "metadata": {},
   "source": [
    "#### Ticket"
   ]
  },
  {
   "cell_type": "code",
   "execution_count": 579,
   "id": "dda7a102",
   "metadata": {},
   "outputs": [
    {
     "data": {
      "text/plain": [
       "count        891\n",
       "unique       681\n",
       "top       347082\n",
       "freq           7\n",
       "Name: Ticket, dtype: object"
      ]
     },
     "execution_count": 579,
     "metadata": {},
     "output_type": "execute_result"
    }
   ],
   "source": [
    "X_train['Ticket'].describe()"
   ]
  },
  {
   "cell_type": "code",
   "execution_count": 580,
   "id": "71ca5f40",
   "metadata": {},
   "outputs": [],
   "source": [
    "ticket = X_train['Ticket']"
   ]
  },
  {
   "cell_type": "code",
   "execution_count": 581,
   "id": "a247e91a",
   "metadata": {},
   "outputs": [
    {
     "data": {
      "text/plain": [
       "347082      7\n",
       "CA. 2343    7\n",
       "1601        7\n",
       "3101295     6\n",
       "CA 2144     6\n",
       "           ..\n",
       "9234        1\n",
       "19988       1\n",
       "2693        1\n",
       "PC 17612    1\n",
       "370376      1\n",
       "Name: Ticket, Length: 681, dtype: int64"
      ]
     },
     "execution_count": 581,
     "metadata": {},
     "output_type": "execute_result"
    }
   ],
   "source": [
    "ticket.value_counts()"
   ]
  },
  {
   "cell_type": "code",
   "execution_count": 582,
   "id": "cea3e958",
   "metadata": {},
   "outputs": [
    {
     "data": {
      "image/png": "[encoded data removed]",
      "text/plain": [
       "<Figure size 640x480 with 1 Axes>"
      ]
     },
     "metadata": {},
     "output_type": "display_data"
    }
   ],
   "source": [
    "N, bins, patches = plt.hist(ticket.value_counts(), color = 'gray')\n",
    "plt.xlabel('Ticket appearance count in the dataset')\n",
    "plt.ylabel('Number of tickets')\n",
    "plt.suptitle(\"Count of ticket's value counts\")\n",
    "plt.title('Most of tickets appears once in the dataset')\n",
    "\n",
    "patches[0].set_facecolor('darkblue')\n",
    "\n",
    "plt.show()"
   ]
  },
  {
   "cell_type": "markdown",
   "id": "298fda38",
   "metadata": {},
   "source": [
    "#### Fare"
   ]
  },
  {
   "cell_type": "code",
   "execution_count": 583,
   "id": "3b71d8f2",
   "metadata": {
    "scrolled": true
   },
   "outputs": [
    {
     "data": {
      "text/plain": [
       "count    891.000000\n",
       "mean      32.204208\n",
       "std       49.693429\n",
       "min        0.000000\n",
       "25%        7.910400\n",
       "50%       14.454200\n",
       "75%       31.000000\n",
       "max      512.329200\n",
       "Name: Fare, dtype: float64"
      ]
     },
     "execution_count": 583,
     "metadata": {},
     "output_type": "execute_result"
    }
   ],
   "source": [
    "X_train['Fare'].describe()"
   ]
  },
  {
   "cell_type": "code",
   "execution_count": 584,
   "id": "03e97423",
   "metadata": {},
   "outputs": [],
   "source": [
    "fare = X_train['Fare']"
   ]
  },
  {
   "cell_type": "code",
   "execution_count": 585,
   "id": "fa3a6cff",
   "metadata": {},
   "outputs": [
    {
     "data": {
      "text/plain": [
       "False    891\n",
       "Name: Fare, dtype: int64"
      ]
     },
     "execution_count": 585,
     "metadata": {},
     "output_type": "execute_result"
    }
   ],
   "source": [
    "fare.isnull().value_counts()"
   ]
  },
  {
   "cell_type": "code",
   "execution_count": 586,
   "id": "f97a63ae",
   "metadata": {},
   "outputs": [
    {
     "data": {
      "image/png": "[encoded data removed]",
      "text/plain": [
       "<Figure size 1000x500 with 2 Axes>"
      ]
     },
     "metadata": {},
     "output_type": "display_data"
    }
   ],
   "source": [
    "fig, axes = plt.subplots(nrows = 1, ncols = 2, figsize = (10, 5))\n",
    "axes[0].hist(fare, color = 'darkblue')\n",
    "axes[0].set_title(\"Passengers' fare histogram of training set\")\n",
    "axes[0].set_xlabel('Fare')\n",
    "axes[0].set_ylabel('Count')\n",
    "\n",
    "axes[1].boxplot(fare)\n",
    "axes[1].set_title(\"Boxplot of passengers' fare in the training set\")\n",
    "axes[1].set_ylabel('Fare')\n",
    "axes[1].set_xticklabels([])\n",
    "\n",
    "plt.show()"
   ]
  },
  {
   "cell_type": "markdown",
   "id": "1c6ecce5",
   "metadata": {},
   "source": [
    "#### Cabin"
   ]
  },
  {
   "cell_type": "code",
   "execution_count": 587,
   "id": "f457d085",
   "metadata": {},
   "outputs": [
    {
     "data": {
      "text/plain": [
       "B96 B98        4\n",
       "G6             4\n",
       "C23 C25 C27    4\n",
       "C22 C26        3\n",
       "F33            3\n",
       "              ..\n",
       "E34            1\n",
       "C7             1\n",
       "C54            1\n",
       "E36            1\n",
       "C148           1\n",
       "Name: Cabin, Length: 147, dtype: int64"
      ]
     },
     "execution_count": 587,
     "metadata": {},
     "output_type": "execute_result"
    }
   ],
   "source": [
    "X_train['Cabin'].value_counts()"
   ]
  },
  {
   "cell_type": "code",
   "execution_count": 588,
   "id": "372579b0",
   "metadata": {},
   "outputs": [
    {
     "data": {
      "text/plain": [
       "count         204\n",
       "unique        147\n",
       "top       B96 B98\n",
       "freq            4\n",
       "Name: Cabin, dtype: object"
      ]
     },
     "execution_count": 588,
     "metadata": {},
     "output_type": "execute_result"
    }
   ],
   "source": [
    "X_train['Cabin'].describe()"
   ]
  },
  {
   "cell_type": "code",
   "execution_count": 589,
   "id": "6093071e",
   "metadata": {},
   "outputs": [],
   "source": [
    "cabin = X_train['Cabin']"
   ]
  },
  {
   "cell_type": "code",
   "execution_count": 590,
   "id": "7c2b7134",
   "metadata": {
    "scrolled": true
   },
   "outputs": [
    {
     "data": {
      "text/plain": [
       "True     687\n",
       "False    204\n",
       "Name: Cabin, dtype: int64"
      ]
     },
     "execution_count": 590,
     "metadata": {},
     "output_type": "execute_result"
    }
   ],
   "source": [
    "cabin.isnull().value_counts()"
   ]
  },
  {
   "cell_type": "code",
   "execution_count": 591,
   "id": "e66817e7",
   "metadata": {},
   "outputs": [
    {
     "data": {
      "text/plain": [
       "array([4, 3, 2, 1], dtype=int64)"
      ]
     },
     "execution_count": 591,
     "metadata": {},
     "output_type": "execute_result"
    }
   ],
   "source": [
    "cabin.value_counts().unique()"
   ]
  },
  {
   "cell_type": "code",
   "execution_count": 592,
   "id": "d6723b99",
   "metadata": {},
   "outputs": [
    {
     "data": {
      "text/plain": [
       "1    101\n",
       "2     38\n",
       "3      5\n",
       "4      3\n",
       "Name: Cabin, dtype: int64"
      ]
     },
     "execution_count": 592,
     "metadata": {},
     "output_type": "execute_result"
    }
   ],
   "source": [
    "cabin.value_counts().value_counts()"
   ]
  },
  {
   "cell_type": "code",
   "execution_count": 593,
   "id": "8084c618",
   "metadata": {},
   "outputs": [
    {
     "data": {
      "image/png": "[encoded data removed]",
      "text/plain": [
       "<Figure size 640x480 with 1 Axes>"
      ]
     },
     "metadata": {},
     "output_type": "display_data"
    }
   ],
   "source": [
    "N, bins, patches = plt.hist(cabin.value_counts(), color = 'gray', bins = list(range(1, 6)))\n",
    "plt.xlabel('Cabin appearance in the dataset')\n",
    "plt.ylabel(\"Number of cabins\")\n",
    "plt.xticks(list(range(1, 6)))\n",
    "plt.suptitle(\"Count of cabins\")\n",
    "plt.title('Most of cabins appears once or twice in the dataset')\n",
    "\n",
    "patches[0].set_facecolor('darkblue')\n",
    "patches[1].set_facecolor('darkblue')\n",
    "\n",
    "plt.show()"
   ]
  },
  {
   "cell_type": "markdown",
   "id": "5d9c310c",
   "metadata": {},
   "source": [
    "#### Embarked"
   ]
  },
  {
   "cell_type": "code",
   "execution_count": 594,
   "id": "61484caa",
   "metadata": {
    "scrolled": true
   },
   "outputs": [
    {
     "data": {
      "text/plain": [
       "count     889\n",
       "unique      3\n",
       "top         S\n",
       "freq      644\n",
       "Name: Embarked, dtype: object"
      ]
     },
     "execution_count": 594,
     "metadata": {},
     "output_type": "execute_result"
    }
   ],
   "source": [
    "X_train['Embarked'].describe()"
   ]
  },
  {
   "cell_type": "code",
   "execution_count": 595,
   "id": "6fd653b7",
   "metadata": {},
   "outputs": [
    {
     "data": {
      "text/plain": [
       "False    889\n",
       "True       2\n",
       "Name: Embarked, dtype: int64"
      ]
     },
     "execution_count": 595,
     "metadata": {},
     "output_type": "execute_result"
    }
   ],
   "source": [
    "X_train['Embarked'].isnull().value_counts()"
   ]
  },
  {
   "cell_type": "code",
   "execution_count": 596,
   "id": "919641c2",
   "metadata": {},
   "outputs": [
    {
     "data": {
      "text/plain": [
       "S    644\n",
       "C    168\n",
       "Q     77\n",
       "Name: Embarked, dtype: int64"
      ]
     },
     "execution_count": 596,
     "metadata": {},
     "output_type": "execute_result"
    }
   ],
   "source": [
    "embarked = X_train['Embarked'].value_counts()\n",
    "embarked"
   ]
  },
  {
   "cell_type": "code",
   "execution_count": 597,
   "id": "52f1092f",
   "metadata": {},
   "outputs": [],
   "source": [
    "S = embarked.loc['S']\n",
    "C = embarked.loc['C']\n",
    "Q = embarked.loc['Q']"
   ]
  },
  {
   "cell_type": "code",
   "execution_count": 598,
   "id": "026e5aa7",
   "metadata": {},
   "outputs": [
    {
     "data": {
      "image/png": "[encoded data removed]",
      "text/plain": [
       "<Figure size 640x480 with 1 Axes>"
      ]
     },
     "metadata": {},
     "output_type": "display_data"
    }
   ],
   "source": [
    "plt.bar(x = 'Cherbourg', height = C, color = 'gray')\n",
    "plt.bar(x = 'Queenstown', height = Q, color = 'gray')\n",
    "plt.bar(x = 'Southampton', height = S, color = 'darkblue')\n",
    "\n",
    "plt.yticks([])\n",
    "plt.text(0 - 0.08, C + 5, f'{C}')\n",
    "plt.text(1 - 0.05, Q + 5, f'{Q}')\n",
    "plt.text(2 - 0.08, S + 5, f'{S}')\n",
    "\n",
    "plt.suptitle('Passengers count by embark location')\n",
    "plt.title('Most of the passengers embarked in Southampton')\n",
    "\n",
    "plt.show()"
   ]
  },
  {
   "cell_type": "markdown",
   "id": "c56d6558",
   "metadata": {},
   "source": [
    "### Multivariate Analysis"
   ]
  },
  {
   "cell_type": "markdown",
   "id": "56ba7689",
   "metadata": {},
   "source": [
    "We will mainly observe the correlations between the 'Survived' variable and the other variables to help select the best features."
   ]
  },
  {
   "cell_type": "code",
   "execution_count": 599,
   "id": "8bee2d1d",
   "metadata": {},
   "outputs": [
    {
     "data": {
      "text/html": [
       "<div>\n",
       "<style scoped>\n",
       "    .dataframe tbody tr th:only-of-type {\n",
       "        vertical-align: middle;\n",
       "    }\n",
       "\n",
       "    .dataframe tbody tr th {\n",
       "        vertical-align: top;\n",
       "    }\n",
       "\n",
       "    .dataframe thead th {\n",
       "        text-align: right;\n",
       "    }\n",
       "</style>\n",
       "<table border=\"1\" class=\"dataframe\">\n",
       "  <thead>\n",
       "    <tr style=\"text-align: right;\">\n",
       "      <th></th>\n",
       "      <th>Survived</th>\n",
       "      <th>Pclass</th>\n",
       "      <th>Age</th>\n",
       "      <th>SibSp</th>\n",
       "      <th>Parch</th>\n",
       "      <th>Fare</th>\n",
       "    </tr>\n",
       "  </thead>\n",
       "  <tbody>\n",
       "    <tr>\n",
       "      <th>Survived</th>\n",
       "      <td>1.000000</td>\n",
       "      <td>-0.338481</td>\n",
       "      <td>-0.077221</td>\n",
       "      <td>-0.035322</td>\n",
       "      <td>0.081629</td>\n",
       "      <td>0.257307</td>\n",
       "    </tr>\n",
       "    <tr>\n",
       "      <th>Pclass</th>\n",
       "      <td>-0.338481</td>\n",
       "      <td>1.000000</td>\n",
       "      <td>-0.369226</td>\n",
       "      <td>0.083081</td>\n",
       "      <td>0.018443</td>\n",
       "      <td>-0.549500</td>\n",
       "    </tr>\n",
       "    <tr>\n",
       "      <th>Age</th>\n",
       "      <td>-0.077221</td>\n",
       "      <td>-0.369226</td>\n",
       "      <td>1.000000</td>\n",
       "      <td>-0.308247</td>\n",
       "      <td>-0.189119</td>\n",
       "      <td>0.096067</td>\n",
       "    </tr>\n",
       "    <tr>\n",
       "      <th>SibSp</th>\n",
       "      <td>-0.035322</td>\n",
       "      <td>0.083081</td>\n",
       "      <td>-0.308247</td>\n",
       "      <td>1.000000</td>\n",
       "      <td>0.414838</td>\n",
       "      <td>0.159651</td>\n",
       "    </tr>\n",
       "    <tr>\n",
       "      <th>Parch</th>\n",
       "      <td>0.081629</td>\n",
       "      <td>0.018443</td>\n",
       "      <td>-0.189119</td>\n",
       "      <td>0.414838</td>\n",
       "      <td>1.000000</td>\n",
       "      <td>0.216225</td>\n",
       "    </tr>\n",
       "    <tr>\n",
       "      <th>Fare</th>\n",
       "      <td>0.257307</td>\n",
       "      <td>-0.549500</td>\n",
       "      <td>0.096067</td>\n",
       "      <td>0.159651</td>\n",
       "      <td>0.216225</td>\n",
       "      <td>1.000000</td>\n",
       "    </tr>\n",
       "  </tbody>\n",
       "</table>\n",
       "</div>"
      ],
      "text/plain": [
       "          Survived    Pclass       Age     SibSp     Parch      Fare\n",
       "Survived  1.000000 -0.338481 -0.077221 -0.035322  0.081629  0.257307\n",
       "Pclass   -0.338481  1.000000 -0.369226  0.083081  0.018443 -0.549500\n",
       "Age      -0.077221 -0.369226  1.000000 -0.308247 -0.189119  0.096067\n",
       "SibSp    -0.035322  0.083081 -0.308247  1.000000  0.414838  0.159651\n",
       "Parch     0.081629  0.018443 -0.189119  0.414838  1.000000  0.216225\n",
       "Fare      0.257307 -0.549500  0.096067  0.159651  0.216225  1.000000"
      ]
     },
     "execution_count": 599,
     "metadata": {},
     "output_type": "execute_result"
    }
   ],
   "source": [
    "train_data.corr()"
   ]
  },
  {
   "cell_type": "markdown",
   "id": "f2e749ed",
   "metadata": {},
   "source": [
    "__Pclass__ and __Fare__ seems to be the variables with the greatest (in module) correlations with 'Survived', which makes sense:\n",
    "\n",
    "- The biggest Pclass is, the lowest economic class it represents. So, the negative correlation makes sense, since richer people are, in general, saved first and are in best locations in the ship to be saved.\n",
    "\n",
    "- Fare is analogous, but the correlation is positive.\n",
    "\n",
    "Note that __Pclass__ and __Fare__ have big (in module) correlation between then, which makes sense too.\n",
    "\n",
    "The other variables may influence the predictions as well, but their influence needs to be tested in practice (to see if they will or not improve the predictions in the test set), since the correlation are low."
   ]
  },
  {
   "cell_type": "markdown",
   "id": "530fd050",
   "metadata": {},
   "source": [
    "---"
   ]
  },
  {
   "cell_type": "markdown",
   "id": "db43b8af",
   "metadata": {},
   "source": [
    "## Preparing data for Machine Learning"
   ]
  },
  {
   "cell_type": "code",
   "execution_count": 600,
   "id": "164d473e",
   "metadata": {
    "scrolled": true
   },
   "outputs": [
    {
     "data": {
      "text/plain": [
       "PassengerId\n",
       "1    0\n",
       "2    1\n",
       "3    1\n",
       "4    1\n",
       "5    0\n",
       "Name: Survived, dtype: int64"
      ]
     },
     "execution_count": 600,
     "metadata": {},
     "output_type": "execute_result"
    }
   ],
   "source": [
    "y_train.head()"
   ]
  },
  {
   "cell_type": "markdown",
   "id": "f389d4d1",
   "metadata": {},
   "source": [
    "__y_train__ is ok. It's value's are 0 or 1 in the labels and go from 0 to 1 in the predictions, which must hold a threshold to classify the result."
   ]
  },
  {
   "cell_type": "code",
   "execution_count": 601,
   "id": "644c18ed",
   "metadata": {},
   "outputs": [
    {
     "data": {
      "text/html": [
       "<div>\n",
       "<style scoped>\n",
       "    .dataframe tbody tr th:only-of-type {\n",
       "        vertical-align: middle;\n",
       "    }\n",
       "\n",
       "    .dataframe tbody tr th {\n",
       "        vertical-align: top;\n",
       "    }\n",
       "\n",
       "    .dataframe thead th {\n",
       "        text-align: right;\n",
       "    }\n",
       "</style>\n",
       "<table border=\"1\" class=\"dataframe\">\n",
       "  <thead>\n",
       "    <tr style=\"text-align: right;\">\n",
       "      <th></th>\n",
       "      <th>Pclass</th>\n",
       "      <th>Sex</th>\n",
       "      <th>Age</th>\n",
       "      <th>SibSp</th>\n",
       "      <th>Parch</th>\n",
       "      <th>Ticket</th>\n",
       "      <th>Fare</th>\n",
       "      <th>Cabin</th>\n",
       "      <th>Embarked</th>\n",
       "    </tr>\n",
       "    <tr>\n",
       "      <th>PassengerId</th>\n",
       "      <th></th>\n",
       "      <th></th>\n",
       "      <th></th>\n",
       "      <th></th>\n",
       "      <th></th>\n",
       "      <th></th>\n",
       "      <th></th>\n",
       "      <th></th>\n",
       "      <th></th>\n",
       "    </tr>\n",
       "  </thead>\n",
       "  <tbody>\n",
       "    <tr>\n",
       "      <th>1</th>\n",
       "      <td>3</td>\n",
       "      <td>male</td>\n",
       "      <td>22.0</td>\n",
       "      <td>1</td>\n",
       "      <td>0</td>\n",
       "      <td>A/5 21171</td>\n",
       "      <td>7.2500</td>\n",
       "      <td>NaN</td>\n",
       "      <td>S</td>\n",
       "    </tr>\n",
       "    <tr>\n",
       "      <th>2</th>\n",
       "      <td>1</td>\n",
       "      <td>female</td>\n",
       "      <td>38.0</td>\n",
       "      <td>1</td>\n",
       "      <td>0</td>\n",
       "      <td>PC 17599</td>\n",
       "      <td>71.2833</td>\n",
       "      <td>C85</td>\n",
       "      <td>C</td>\n",
       "    </tr>\n",
       "    <tr>\n",
       "      <th>3</th>\n",
       "      <td>3</td>\n",
       "      <td>female</td>\n",
       "      <td>26.0</td>\n",
       "      <td>0</td>\n",
       "      <td>0</td>\n",
       "      <td>STON/O2. 3101282</td>\n",
       "      <td>7.9250</td>\n",
       "      <td>NaN</td>\n",
       "      <td>S</td>\n",
       "    </tr>\n",
       "    <tr>\n",
       "      <th>4</th>\n",
       "      <td>1</td>\n",
       "      <td>female</td>\n",
       "      <td>35.0</td>\n",
       "      <td>1</td>\n",
       "      <td>0</td>\n",
       "      <td>113803</td>\n",
       "      <td>53.1000</td>\n",
       "      <td>C123</td>\n",
       "      <td>S</td>\n",
       "    </tr>\n",
       "    <tr>\n",
       "      <th>5</th>\n",
       "      <td>3</td>\n",
       "      <td>male</td>\n",
       "      <td>35.0</td>\n",
       "      <td>0</td>\n",
       "      <td>0</td>\n",
       "      <td>373450</td>\n",
       "      <td>8.0500</td>\n",
       "      <td>NaN</td>\n",
       "      <td>S</td>\n",
       "    </tr>\n",
       "  </tbody>\n",
       "</table>\n",
       "</div>"
      ],
      "text/plain": [
       "             Pclass     Sex   Age  SibSp  Parch            Ticket     Fare  \\\n",
       "PassengerId                                                                  \n",
       "1                 3    male  22.0      1      0         A/5 21171   7.2500   \n",
       "2                 1  female  38.0      1      0          PC 17599  71.2833   \n",
       "3                 3  female  26.0      0      0  STON/O2. 3101282   7.9250   \n",
       "4                 1  female  35.0      1      0            113803  53.1000   \n",
       "5                 3    male  35.0      0      0            373450   8.0500   \n",
       "\n",
       "            Cabin Embarked  \n",
       "PassengerId                 \n",
       "1             NaN        S  \n",
       "2             C85        C  \n",
       "3             NaN        S  \n",
       "4            C123        S  \n",
       "5             NaN        S  "
      ]
     },
     "execution_count": 601,
     "metadata": {},
     "output_type": "execute_result"
    }
   ],
   "source": [
    "X_train.head()"
   ]
  },
  {
   "cell_type": "markdown",
   "id": "144adf51",
   "metadata": {},
   "source": [
    "We will do the following preprocess steps, which doesn't need to be done in order:\n",
    "\n",
    "**1)** Transform __'Sex'__ column into numerical data through a new column named __'is_male'__. If it's 1, then it's male. If it's 0, then it's female.\n",
    "\n",
    "**2)** Standard scaling on __'Age'__ column.\n",
    "\n",
    "**3)** Standard scaling on __'Parch'__ column.\n",
    "\n",
    "**4)** Since there are a lot of classes in the __'Ticket'__ column, it doesn't worth it to one-hot encode. So we will eliminate this column for prediction.\n",
    "\n",
    "**5)** Standard scaling on __'Fare'__ column.\n",
    "\n",
    "**6)** Since there are a lot of classes in the __'Cabin'__ column, it doesn't worth it to one-hot encode. So we will eliminate this column for prediction.\n",
    "\n",
    "**7)** Transform __'Embarked'__ column into numerical data through one-hot encoding.\n",
    "\n",
    "**8)** Mode imputation for all columns."
   ]
  },
  {
   "cell_type": "code",
   "execution_count": 602,
   "id": "b4d205b9",
   "metadata": {
    "scrolled": true
   },
   "outputs": [
    {
     "name": "stdout",
     "output_type": "stream",
     "text": [
      "['Pclass', 'Sex', 'Age', 'SibSp', 'Parch', 'Ticket', 'Fare', 'Cabin', 'Embarked']\n"
     ]
    }
   ],
   "source": [
    "print(features)"
   ]
  },
  {
   "cell_type": "code",
   "execution_count": 603,
   "id": "826360ee",
   "metadata": {},
   "outputs": [],
   "source": [
    "X_train = train_data[features]\n",
    "X_test = test_data[features]"
   ]
  },
  {
   "cell_type": "markdown",
   "id": "c170b47b",
   "metadata": {},
   "source": [
    "Let's begin with steps __4__ and __7__, which are easy:"
   ]
  },
  {
   "cell_type": "code",
   "execution_count": 604,
   "id": "6190ad75",
   "metadata": {},
   "outputs": [],
   "source": [
    "X_train = X_train.drop(['Ticket', 'Cabin'], axis = 1)\n",
    "X_test = X_test.drop(['Ticket', 'Cabin'], axis = 1)"
   ]
  },
  {
   "cell_type": "markdown",
   "id": "a8d67dff",
   "metadata": {},
   "source": [
    "Now the step __1__:"
   ]
  },
  {
   "cell_type": "code",
   "execution_count": 605,
   "id": "64d4760b",
   "metadata": {},
   "outputs": [],
   "source": [
    "X_train['is_male'] = X_train['Sex'].apply(lambda x: 1 if x == 'male' else 0)\n",
    "X_test['is_male'] = X_test['Sex'].apply(lambda x: 1 if x == 'male' else 0)\n",
    "\n",
    "X_train = X_train.drop('Sex', axis = 1)\n",
    "X_test = X_test.drop('Sex', axis = 1)"
   ]
  },
  {
   "cell_type": "markdown",
   "id": "417ab374",
   "metadata": {},
   "source": [
    "Steps __2, 3__ and __5__:"
   ]
  },
  {
   "cell_type": "code",
   "execution_count": 606,
   "id": "d41b91d5",
   "metadata": {},
   "outputs": [],
   "source": [
    "age_mean = X_train['Age'].mean()\n",
    "age_std = X_train['Age'].std()\n",
    "\n",
    "X_train['Age'] = (X_train['Age'] - age_mean) / age_std\n",
    "X_test['Age'] = (X_test['Age'] - age_mean) / age_std\n",
    "\n",
    "parch_mean = X_train['Parch'].mean()\n",
    "parch_std = X_train['Parch'].std()\n",
    "\n",
    "X_train['Parch'] = (X_train['Parch'] - parch_mean) / parch_std\n",
    "X_test['Parch'] = (X_test['Parch'] - parch_mean) / parch_std\n",
    "\n",
    "fare_mean = X_train['Fare'].mean()\n",
    "fare_std = X_train['Fare'].std()\n",
    "\n",
    "X_train['Fare'] = (X_train['Fare'] - fare_mean) / fare_std\n",
    "X_test['Fare'] = (X_test['Fare'] - fare_mean) / fare_std"
   ]
  },
  {
   "cell_type": "markdown",
   "id": "6465a78d",
   "metadata": {},
   "source": [
    "Step __7__:"
   ]
  },
  {
   "cell_type": "code",
   "execution_count": 607,
   "id": "8a1e2d44",
   "metadata": {},
   "outputs": [],
   "source": [
    "embarked_1hot_train = pd.get_dummies(X_train['Embarked'])\n",
    "embarked_1hot_test = pd.get_dummies(X_test['Embarked'])\n",
    "\n",
    "X_train = pd.concat([X_train, embarked_1hot_train], axis = 1)\n",
    "X_train.rename(columns = {'C': 'embarked_cherbourg', 'Q': 'embarked_queenstown', 'S': 'embarked_southampton'}, inplace = True)\n",
    "X_test = pd.concat([X_test, embarked_1hot_test], axis = 1)\n",
    "X_test.rename(columns = {'C': 'embarked_cherbourg', 'Q': 'embarked_queenstown', 'S': 'embarked_southampton'}, inplace = True)\n",
    "\n",
    "X_train = X_train.drop('Embarked', axis = 1)"
   ]
  },
  {
   "cell_type": "markdown",
   "id": "ba870225",
   "metadata": {},
   "source": [
    "Finally, mode imputation for all columns:"
   ]
  },
  {
   "cell_type": "code",
   "execution_count": 629,
   "id": "74df9d63",
   "metadata": {},
   "outputs": [],
   "source": [
    "from sklearn.impute import SimpleImputer"
   ]
  },
  {
   "cell_type": "code",
   "execution_count": 634,
   "id": "44d97154",
   "metadata": {
    "scrolled": false
   },
   "outputs": [
    {
     "name": "stderr",
     "output_type": "stream",
     "text": [
      "C:\\Users\\samir\\anaconda3\\lib\\site-packages\\sklearn\\impute\\_base.py:49: FutureWarning: Unlike other reduction functions (e.g. `skew`, `kurtosis`), the default behavior of `mode` typically preserves the axis it acts along. In SciPy 1.11.0, this behavior will change: the default value of `keepdims` will become False, the `axis` over which the statistic is taken will be eliminated, and the value None will no longer be accepted. Set `keepdims` to True or False to avoid this warning.\n",
      "  mode = stats.mode(array)\n"
     ]
    }
   ],
   "source": [
    "imputer = SimpleImputer(strategy = 'most_frequent')\n",
    "X_train = pd.DataFrame(imputer.fit_transform(X_train), columns = X_train.columns)\n",
    "X_test = pd.DataFrame(imputer.transform(X_test), columns = X_test.columns)"
   ]
  },
  {
   "cell_type": "markdown",
   "id": "c3e6ae61",
   "metadata": {},
   "source": [
    "### To make this easy, we will make a function."
   ]
  },
  {
   "cell_type": "markdown",
   "id": "0889bbbc",
   "metadata": {},
   "source": [
    "__This function is defined in the file 'preprocess_titanic.py'.__"
   ]
  },
  {
   "cell_type": "code",
   "execution_count": 636,
   "id": "bbd74855",
   "metadata": {},
   "outputs": [],
   "source": [
    "from utils import preprocess_titanic"
   ]
  },
  {
   "cell_type": "code",
   "execution_count": 637,
   "id": "65a09ac1",
   "metadata": {},
   "outputs": [],
   "source": [
    "y_train, X_train, X_test = preprocess_titanic()"
   ]
  },
  {
   "cell_type": "code",
   "execution_count": 638,
   "id": "bb82af69",
   "metadata": {},
   "outputs": [
    {
     "data": {
      "text/plain": [
       "PassengerId\n",
       "1    0\n",
       "2    1\n",
       "3    1\n",
       "4    1\n",
       "5    0\n",
       "Name: Survived, dtype: int64"
      ]
     },
     "execution_count": 638,
     "metadata": {},
     "output_type": "execute_result"
    }
   ],
   "source": [
    "y_train.head()"
   ]
  },
  {
   "cell_type": "code",
   "execution_count": 639,
   "id": "6a3c2372",
   "metadata": {
    "scrolled": true
   },
   "outputs": [
    {
     "data": {
      "text/html": [
       "<div>\n",
       "<style scoped>\n",
       "    .dataframe tbody tr th:only-of-type {\n",
       "        vertical-align: middle;\n",
       "    }\n",
       "\n",
       "    .dataframe tbody tr th {\n",
       "        vertical-align: top;\n",
       "    }\n",
       "\n",
       "    .dataframe thead th {\n",
       "        text-align: right;\n",
       "    }\n",
       "</style>\n",
       "<table border=\"1\" class=\"dataframe\">\n",
       "  <thead>\n",
       "    <tr style=\"text-align: right;\">\n",
       "      <th></th>\n",
       "      <th>pclass</th>\n",
       "      <th>age</th>\n",
       "      <th>sibsp</th>\n",
       "      <th>parch</th>\n",
       "      <th>fare</th>\n",
       "      <th>is_male</th>\n",
       "      <th>embarked_cherbourg</th>\n",
       "      <th>embarked_queenstown</th>\n",
       "      <th>embarked_southampton</th>\n",
       "    </tr>\n",
       "    <tr>\n",
       "      <th>PassengerId</th>\n",
       "      <th></th>\n",
       "      <th></th>\n",
       "      <th></th>\n",
       "      <th></th>\n",
       "      <th></th>\n",
       "      <th></th>\n",
       "      <th></th>\n",
       "      <th></th>\n",
       "      <th></th>\n",
       "    </tr>\n",
       "  </thead>\n",
       "  <tbody>\n",
       "    <tr>\n",
       "      <th>1</th>\n",
       "      <td>3</td>\n",
       "      <td>-0.530005</td>\n",
       "      <td>1</td>\n",
       "      <td>-0.473408</td>\n",
       "      <td>-0.502163</td>\n",
       "      <td>1</td>\n",
       "      <td>0</td>\n",
       "      <td>0</td>\n",
       "      <td>1</td>\n",
       "    </tr>\n",
       "    <tr>\n",
       "      <th>2</th>\n",
       "      <td>1</td>\n",
       "      <td>0.571430</td>\n",
       "      <td>1</td>\n",
       "      <td>-0.473408</td>\n",
       "      <td>0.786404</td>\n",
       "      <td>0</td>\n",
       "      <td>1</td>\n",
       "      <td>0</td>\n",
       "      <td>0</td>\n",
       "    </tr>\n",
       "    <tr>\n",
       "      <th>3</th>\n",
       "      <td>3</td>\n",
       "      <td>-0.254646</td>\n",
       "      <td>0</td>\n",
       "      <td>-0.473408</td>\n",
       "      <td>-0.488580</td>\n",
       "      <td>0</td>\n",
       "      <td>0</td>\n",
       "      <td>0</td>\n",
       "      <td>1</td>\n",
       "    </tr>\n",
       "    <tr>\n",
       "      <th>4</th>\n",
       "      <td>1</td>\n",
       "      <td>0.364911</td>\n",
       "      <td>1</td>\n",
       "      <td>-0.473408</td>\n",
       "      <td>0.420494</td>\n",
       "      <td>0</td>\n",
       "      <td>0</td>\n",
       "      <td>0</td>\n",
       "      <td>1</td>\n",
       "    </tr>\n",
       "    <tr>\n",
       "      <th>5</th>\n",
       "      <td>3</td>\n",
       "      <td>0.364911</td>\n",
       "      <td>0</td>\n",
       "      <td>-0.473408</td>\n",
       "      <td>-0.486064</td>\n",
       "      <td>1</td>\n",
       "      <td>0</td>\n",
       "      <td>0</td>\n",
       "      <td>1</td>\n",
       "    </tr>\n",
       "  </tbody>\n",
       "</table>\n",
       "</div>"
      ],
      "text/plain": [
       "             pclass       age  sibsp     parch      fare  is_male  \\\n",
       "PassengerId                                                         \n",
       "1                 3 -0.530005      1 -0.473408 -0.502163        1   \n",
       "2                 1  0.571430      1 -0.473408  0.786404        0   \n",
       "3                 3 -0.254646      0 -0.473408 -0.488580        0   \n",
       "4                 1  0.364911      1 -0.473408  0.420494        0   \n",
       "5                 3  0.364911      0 -0.473408 -0.486064        1   \n",
       "\n",
       "             embarked_cherbourg  embarked_queenstown  embarked_southampton  \n",
       "PassengerId                                                                 \n",
       "1                             0                    0                     1  \n",
       "2                             1                    0                     0  \n",
       "3                             0                    0                     1  \n",
       "4                             0                    0                     1  \n",
       "5                             0                    0                     1  "
      ]
     },
     "execution_count": 639,
     "metadata": {},
     "output_type": "execute_result"
    }
   ],
   "source": [
    "X_train.head()"
   ]
  },
  {
   "cell_type": "code",
   "execution_count": 640,
   "id": "cfb0a025",
   "metadata": {
    "scrolled": true
   },
   "outputs": [
    {
     "data": {
      "text/html": [
       "<div>\n",
       "<style scoped>\n",
       "    .dataframe tbody tr th:only-of-type {\n",
       "        vertical-align: middle;\n",
       "    }\n",
       "\n",
       "    .dataframe tbody tr th {\n",
       "        vertical-align: top;\n",
       "    }\n",
       "\n",
       "    .dataframe thead th {\n",
       "        text-align: right;\n",
       "    }\n",
       "</style>\n",
       "<table border=\"1\" class=\"dataframe\">\n",
       "  <thead>\n",
       "    <tr style=\"text-align: right;\">\n",
       "      <th></th>\n",
       "      <th>pclass</th>\n",
       "      <th>age</th>\n",
       "      <th>sibsp</th>\n",
       "      <th>parch</th>\n",
       "      <th>fare</th>\n",
       "      <th>is_male</th>\n",
       "      <th>embarked_cherbourg</th>\n",
       "      <th>embarked_queenstown</th>\n",
       "      <th>embarked_southampton</th>\n",
       "    </tr>\n",
       "    <tr>\n",
       "      <th>PassengerId</th>\n",
       "      <th></th>\n",
       "      <th></th>\n",
       "      <th></th>\n",
       "      <th></th>\n",
       "      <th></th>\n",
       "      <th></th>\n",
       "      <th></th>\n",
       "      <th></th>\n",
       "      <th></th>\n",
       "    </tr>\n",
       "  </thead>\n",
       "  <tbody>\n",
       "    <tr>\n",
       "      <th>892</th>\n",
       "      <td>3</td>\n",
       "      <td>0.330491</td>\n",
       "      <td>0</td>\n",
       "      <td>-0.473408</td>\n",
       "      <td>-0.490508</td>\n",
       "      <td>1</td>\n",
       "      <td>0</td>\n",
       "      <td>1</td>\n",
       "      <td>0</td>\n",
       "    </tr>\n",
       "    <tr>\n",
       "      <th>893</th>\n",
       "      <td>3</td>\n",
       "      <td>1.190988</td>\n",
       "      <td>1</td>\n",
       "      <td>-0.473408</td>\n",
       "      <td>-0.507194</td>\n",
       "      <td>0</td>\n",
       "      <td>0</td>\n",
       "      <td>0</td>\n",
       "      <td>1</td>\n",
       "    </tr>\n",
       "    <tr>\n",
       "      <th>894</th>\n",
       "      <td>2</td>\n",
       "      <td>2.223584</td>\n",
       "      <td>0</td>\n",
       "      <td>-0.473408</td>\n",
       "      <td>-0.453112</td>\n",
       "      <td>1</td>\n",
       "      <td>0</td>\n",
       "      <td>1</td>\n",
       "      <td>0</td>\n",
       "    </tr>\n",
       "    <tr>\n",
       "      <th>895</th>\n",
       "      <td>3</td>\n",
       "      <td>-0.185807</td>\n",
       "      <td>0</td>\n",
       "      <td>-0.473408</td>\n",
       "      <td>-0.473739</td>\n",
       "      <td>1</td>\n",
       "      <td>0</td>\n",
       "      <td>0</td>\n",
       "      <td>1</td>\n",
       "    </tr>\n",
       "    <tr>\n",
       "      <th>896</th>\n",
       "      <td>3</td>\n",
       "      <td>-0.530005</td>\n",
       "      <td>1</td>\n",
       "      <td>0.767199</td>\n",
       "      <td>-0.400792</td>\n",
       "      <td>0</td>\n",
       "      <td>0</td>\n",
       "      <td>0</td>\n",
       "      <td>1</td>\n",
       "    </tr>\n",
       "  </tbody>\n",
       "</table>\n",
       "</div>"
      ],
      "text/plain": [
       "             pclass       age  sibsp     parch      fare  is_male  \\\n",
       "PassengerId                                                         \n",
       "892               3  0.330491      0 -0.473408 -0.490508        1   \n",
       "893               3  1.190988      1 -0.473408 -0.507194        0   \n",
       "894               2  2.223584      0 -0.473408 -0.453112        1   \n",
       "895               3 -0.185807      0 -0.473408 -0.473739        1   \n",
       "896               3 -0.530005      1  0.767199 -0.400792        0   \n",
       "\n",
       "             embarked_cherbourg  embarked_queenstown  embarked_southampton  \n",
       "PassengerId                                                                 \n",
       "892                           0                    1                     0  \n",
       "893                           0                    0                     1  \n",
       "894                           0                    1                     0  \n",
       "895                           0                    0                     1  \n",
       "896                           0                    0                     1  "
      ]
     },
     "execution_count": 640,
     "metadata": {},
     "output_type": "execute_result"
    }
   ],
   "source": [
    "X_test.head()"
   ]
  },
  {
   "cell_type": "code",
   "execution_count": 641,
   "id": "16b91a09",
   "metadata": {},
   "outputs": [],
   "source": [
    "train_data = pd.concat([y_train, X_train], axis = 1)"
   ]
  },
  {
   "cell_type": "markdown",
   "id": "9e02a849",
   "metadata": {},
   "source": [
    "### Final correlations"
   ]
  },
  {
   "cell_type": "code",
   "execution_count": 642,
   "id": "e03fcfa7",
   "metadata": {},
   "outputs": [
    {
     "data": {
      "text/html": [
       "<div>\n",
       "<style scoped>\n",
       "    .dataframe tbody tr th:only-of-type {\n",
       "        vertical-align: middle;\n",
       "    }\n",
       "\n",
       "    .dataframe tbody tr th {\n",
       "        vertical-align: top;\n",
       "    }\n",
       "\n",
       "    .dataframe thead th {\n",
       "        text-align: right;\n",
       "    }\n",
       "</style>\n",
       "<table border=\"1\" class=\"dataframe\">\n",
       "  <thead>\n",
       "    <tr style=\"text-align: right;\">\n",
       "      <th></th>\n",
       "      <th>Survived</th>\n",
       "      <th>pclass</th>\n",
       "      <th>age</th>\n",
       "      <th>sibsp</th>\n",
       "      <th>parch</th>\n",
       "      <th>fare</th>\n",
       "      <th>is_male</th>\n",
       "      <th>embarked_cherbourg</th>\n",
       "      <th>embarked_queenstown</th>\n",
       "      <th>embarked_southampton</th>\n",
       "    </tr>\n",
       "  </thead>\n",
       "  <tbody>\n",
       "    <tr>\n",
       "      <th>Survived</th>\n",
       "      <td>1.000000</td>\n",
       "      <td>-0.338481</td>\n",
       "      <td>-0.077221</td>\n",
       "      <td>-0.035322</td>\n",
       "      <td>0.081629</td>\n",
       "      <td>0.257307</td>\n",
       "      <td>-0.543351</td>\n",
       "      <td>0.168240</td>\n",
       "      <td>0.003650</td>\n",
       "      <td>-0.155660</td>\n",
       "    </tr>\n",
       "    <tr>\n",
       "      <th>pclass</th>\n",
       "      <td>-0.338481</td>\n",
       "      <td>1.000000</td>\n",
       "      <td>-0.369226</td>\n",
       "      <td>0.083081</td>\n",
       "      <td>0.018443</td>\n",
       "      <td>-0.549500</td>\n",
       "      <td>0.131900</td>\n",
       "      <td>-0.243292</td>\n",
       "      <td>0.221009</td>\n",
       "      <td>0.081720</td>\n",
       "    </tr>\n",
       "    <tr>\n",
       "      <th>age</th>\n",
       "      <td>-0.077221</td>\n",
       "      <td>-0.369226</td>\n",
       "      <td>1.000000</td>\n",
       "      <td>-0.308247</td>\n",
       "      <td>-0.189119</td>\n",
       "      <td>0.096067</td>\n",
       "      <td>0.093254</td>\n",
       "      <td>0.036261</td>\n",
       "      <td>-0.022405</td>\n",
       "      <td>-0.032523</td>\n",
       "    </tr>\n",
       "    <tr>\n",
       "      <th>sibsp</th>\n",
       "      <td>-0.035322</td>\n",
       "      <td>0.083081</td>\n",
       "      <td>-0.308247</td>\n",
       "      <td>1.000000</td>\n",
       "      <td>0.414838</td>\n",
       "      <td>0.159651</td>\n",
       "      <td>-0.114631</td>\n",
       "      <td>-0.059528</td>\n",
       "      <td>-0.026354</td>\n",
       "      <td>0.070941</td>\n",
       "    </tr>\n",
       "    <tr>\n",
       "      <th>parch</th>\n",
       "      <td>0.081629</td>\n",
       "      <td>0.018443</td>\n",
       "      <td>-0.189119</td>\n",
       "      <td>0.414838</td>\n",
       "      <td>1.000000</td>\n",
       "      <td>0.216225</td>\n",
       "      <td>-0.245489</td>\n",
       "      <td>-0.011069</td>\n",
       "      <td>-0.081228</td>\n",
       "      <td>0.063036</td>\n",
       "    </tr>\n",
       "    <tr>\n",
       "      <th>fare</th>\n",
       "      <td>0.257307</td>\n",
       "      <td>-0.549500</td>\n",
       "      <td>0.096067</td>\n",
       "      <td>0.159651</td>\n",
       "      <td>0.216225</td>\n",
       "      <td>1.000000</td>\n",
       "      <td>-0.182333</td>\n",
       "      <td>0.269335</td>\n",
       "      <td>-0.117216</td>\n",
       "      <td>-0.166603</td>\n",
       "    </tr>\n",
       "    <tr>\n",
       "      <th>is_male</th>\n",
       "      <td>-0.543351</td>\n",
       "      <td>0.131900</td>\n",
       "      <td>0.093254</td>\n",
       "      <td>-0.114631</td>\n",
       "      <td>-0.245489</td>\n",
       "      <td>-0.182333</td>\n",
       "      <td>1.000000</td>\n",
       "      <td>-0.082853</td>\n",
       "      <td>-0.074115</td>\n",
       "      <td>0.125722</td>\n",
       "    </tr>\n",
       "    <tr>\n",
       "      <th>embarked_cherbourg</th>\n",
       "      <td>0.168240</td>\n",
       "      <td>-0.243292</td>\n",
       "      <td>0.036261</td>\n",
       "      <td>-0.059528</td>\n",
       "      <td>-0.011069</td>\n",
       "      <td>0.269335</td>\n",
       "      <td>-0.082853</td>\n",
       "      <td>1.000000</td>\n",
       "      <td>-0.148258</td>\n",
       "      <td>-0.778359</td>\n",
       "    </tr>\n",
       "    <tr>\n",
       "      <th>embarked_queenstown</th>\n",
       "      <td>0.003650</td>\n",
       "      <td>0.221009</td>\n",
       "      <td>-0.022405</td>\n",
       "      <td>-0.026354</td>\n",
       "      <td>-0.081228</td>\n",
       "      <td>-0.117216</td>\n",
       "      <td>-0.074115</td>\n",
       "      <td>-0.148258</td>\n",
       "      <td>1.000000</td>\n",
       "      <td>-0.496624</td>\n",
       "    </tr>\n",
       "    <tr>\n",
       "      <th>embarked_southampton</th>\n",
       "      <td>-0.155660</td>\n",
       "      <td>0.081720</td>\n",
       "      <td>-0.032523</td>\n",
       "      <td>0.070941</td>\n",
       "      <td>0.063036</td>\n",
       "      <td>-0.166603</td>\n",
       "      <td>0.125722</td>\n",
       "      <td>-0.778359</td>\n",
       "      <td>-0.496624</td>\n",
       "      <td>1.000000</td>\n",
       "    </tr>\n",
       "  </tbody>\n",
       "</table>\n",
       "</div>"
      ],
      "text/plain": [
       "                      Survived    pclass       age     sibsp     parch  \\\n",
       "Survived              1.000000 -0.338481 -0.077221 -0.035322  0.081629   \n",
       "pclass               -0.338481  1.000000 -0.369226  0.083081  0.018443   \n",
       "age                  -0.077221 -0.369226  1.000000 -0.308247 -0.189119   \n",
       "sibsp                -0.035322  0.083081 -0.308247  1.000000  0.414838   \n",
       "parch                 0.081629  0.018443 -0.189119  0.414838  1.000000   \n",
       "fare                  0.257307 -0.549500  0.096067  0.159651  0.216225   \n",
       "is_male              -0.543351  0.131900  0.093254 -0.114631 -0.245489   \n",
       "embarked_cherbourg    0.168240 -0.243292  0.036261 -0.059528 -0.011069   \n",
       "embarked_queenstown   0.003650  0.221009 -0.022405 -0.026354 -0.081228   \n",
       "embarked_southampton -0.155660  0.081720 -0.032523  0.070941  0.063036   \n",
       "\n",
       "                          fare   is_male  embarked_cherbourg  \\\n",
       "Survived              0.257307 -0.543351            0.168240   \n",
       "pclass               -0.549500  0.131900           -0.243292   \n",
       "age                   0.096067  0.093254            0.036261   \n",
       "sibsp                 0.159651 -0.114631           -0.059528   \n",
       "parch                 0.216225 -0.245489           -0.011069   \n",
       "fare                  1.000000 -0.182333            0.269335   \n",
       "is_male              -0.182333  1.000000           -0.082853   \n",
       "embarked_cherbourg    0.269335 -0.082853            1.000000   \n",
       "embarked_queenstown  -0.117216 -0.074115           -0.148258   \n",
       "embarked_southampton -0.166603  0.125722           -0.778359   \n",
       "\n",
       "                      embarked_queenstown  embarked_southampton  \n",
       "Survived                         0.003650             -0.155660  \n",
       "pclass                           0.221009              0.081720  \n",
       "age                             -0.022405             -0.032523  \n",
       "sibsp                           -0.026354              0.070941  \n",
       "parch                           -0.081228              0.063036  \n",
       "fare                            -0.117216             -0.166603  \n",
       "is_male                         -0.074115              0.125722  \n",
       "embarked_cherbourg              -0.148258             -0.778359  \n",
       "embarked_queenstown              1.000000             -0.496624  \n",
       "embarked_southampton            -0.496624              1.000000  "
      ]
     },
     "execution_count": 642,
     "metadata": {},
     "output_type": "execute_result"
    }
   ],
   "source": [
    "train_data.corr()"
   ]
  },
  {
   "cell_type": "markdown",
   "id": "7cc36333",
   "metadata": {},
   "source": [
    "---"
   ]
  }
 ],
 "metadata": {
  "kernelspec": {
   "display_name": "Python 3 (ipykernel)",
   "language": "python",
   "name": "python3"
  },
  "language_info": {
   "codemirror_mode": {
    "name": "ipython",
    "version": 3
   },
   "file_extension": ".py",
   "mimetype": "text/x-python",
   "name": "python",
   "nbconvert_exporter": "python",
   "pygments_lexer": "ipython3",
   "version": "3.9.13"
  }
 },
 "nbformat": 4,
 "nbformat_minor": 5
}
