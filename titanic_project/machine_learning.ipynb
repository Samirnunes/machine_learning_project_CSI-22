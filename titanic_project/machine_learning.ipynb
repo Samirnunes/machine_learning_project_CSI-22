{
 "cells": [
  {
   "cell_type": "markdown",
   "id": "b8b89ea4",
   "metadata": {},
   "source": [
    "## Importing libraries"
   ]
  },
  {
   "cell_type": "code",
   "execution_count": 13,
   "id": "0020bf2c",
   "metadata": {},
   "outputs": [],
   "source": [
    "import pandas as pd\n",
    "import numpy as np\n",
    "import matplotlib.pyplot as plt\n",
    "import os\n",
    "import warnings\n",
    "warnings.filterwarnings('ignore')"
   ]
  },
  {
   "cell_type": "markdown",
   "id": "2439513d",
   "metadata": {},
   "source": [
    "---"
   ]
  },
  {
   "cell_type": "markdown",
   "id": "d6b3ba02",
   "metadata": {},
   "source": [
    "## Importing data"
   ]
  },
  {
   "cell_type": "code",
   "execution_count": 14,
   "id": "8ddc17a0",
   "metadata": {},
   "outputs": [],
   "source": [
    "y_train_path = os.path.join('data', 'preprocessed_y_train.csv')\n",
    "X_train_path = os.path.join('data', 'preprocessed_X_train.csv')\n",
    "X_test_path = os.path.join('data', 'preprocessed_X_test.csv')\n",
    "\n",
    "y_train = pd.read_csv(y_train_path, index_col = 'PassengerId')\n",
    "X_train = pd.read_csv(X_train_path, index_col = 'PassengerId')\n",
    "X_test = pd.read_csv(X_test_path, index_col = 'PassengerId')"
   ]
  },
  {
   "cell_type": "code",
   "execution_count": 15,
   "id": "75d89627",
   "metadata": {},
   "outputs": [
    {
     "data": {
      "text/html": [
       "<div>\n",
       "<style scoped>\n",
       "    .dataframe tbody tr th:only-of-type {\n",
       "        vertical-align: middle;\n",
       "    }\n",
       "\n",
       "    .dataframe tbody tr th {\n",
       "        vertical-align: top;\n",
       "    }\n",
       "\n",
       "    .dataframe thead th {\n",
       "        text-align: right;\n",
       "    }\n",
       "</style>\n",
       "<table border=\"1\" class=\"dataframe\">\n",
       "  <thead>\n",
       "    <tr style=\"text-align: right;\">\n",
       "      <th></th>\n",
       "      <th>Survived</th>\n",
       "    </tr>\n",
       "    <tr>\n",
       "      <th>PassengerId</th>\n",
       "      <th></th>\n",
       "    </tr>\n",
       "  </thead>\n",
       "  <tbody>\n",
       "    <tr>\n",
       "      <th>1</th>\n",
       "      <td>0</td>\n",
       "    </tr>\n",
       "    <tr>\n",
       "      <th>2</th>\n",
       "      <td>1</td>\n",
       "    </tr>\n",
       "    <tr>\n",
       "      <th>3</th>\n",
       "      <td>1</td>\n",
       "    </tr>\n",
       "    <tr>\n",
       "      <th>4</th>\n",
       "      <td>1</td>\n",
       "    </tr>\n",
       "    <tr>\n",
       "      <th>5</th>\n",
       "      <td>0</td>\n",
       "    </tr>\n",
       "  </tbody>\n",
       "</table>\n",
       "</div>"
      ],
      "text/plain": [
       "             Survived\n",
       "PassengerId          \n",
       "1                   0\n",
       "2                   1\n",
       "3                   1\n",
       "4                   1\n",
       "5                   0"
      ]
     },
     "execution_count": 15,
     "metadata": {},
     "output_type": "execute_result"
    }
   ],
   "source": [
    "y_train.head()"
   ]
  },
  {
   "cell_type": "code",
   "execution_count": 16,
   "id": "16ee0621",
   "metadata": {},
   "outputs": [
    {
     "data": {
      "text/html": [
       "<div>\n",
       "<style scoped>\n",
       "    .dataframe tbody tr th:only-of-type {\n",
       "        vertical-align: middle;\n",
       "    }\n",
       "\n",
       "    .dataframe tbody tr th {\n",
       "        vertical-align: top;\n",
       "    }\n",
       "\n",
       "    .dataframe thead th {\n",
       "        text-align: right;\n",
       "    }\n",
       "</style>\n",
       "<table border=\"1\" class=\"dataframe\">\n",
       "  <thead>\n",
       "    <tr style=\"text-align: right;\">\n",
       "      <th></th>\n",
       "      <th>Pclass</th>\n",
       "      <th>Is_Male</th>\n",
       "      <th>Age_Bin</th>\n",
       "      <th>Fare_Bin</th>\n",
       "      <th>Title_Master</th>\n",
       "      <th>Title_Miss</th>\n",
       "      <th>Title_Mr</th>\n",
       "      <th>Title_Mrs</th>\n",
       "      <th>Title_Rare</th>\n",
       "      <th>Embark_Place_C</th>\n",
       "      <th>Embark_Place_Q</th>\n",
       "      <th>Embark_Place_S</th>\n",
       "      <th>Family_Size</th>\n",
       "      <th>Traveled_Alone</th>\n",
       "    </tr>\n",
       "    <tr>\n",
       "      <th>PassengerId</th>\n",
       "      <th></th>\n",
       "      <th></th>\n",
       "      <th></th>\n",
       "      <th></th>\n",
       "      <th></th>\n",
       "      <th></th>\n",
       "      <th></th>\n",
       "      <th></th>\n",
       "      <th></th>\n",
       "      <th></th>\n",
       "      <th></th>\n",
       "      <th></th>\n",
       "      <th></th>\n",
       "      <th></th>\n",
       "    </tr>\n",
       "  </thead>\n",
       "  <tbody>\n",
       "    <tr>\n",
       "      <th>1</th>\n",
       "      <td>0.826913</td>\n",
       "      <td>0.737281</td>\n",
       "      <td>0.143177</td>\n",
       "      <td>-1.395914</td>\n",
       "      <td>-0.216681</td>\n",
       "      <td>-0.511611</td>\n",
       "      <td>0.850054</td>\n",
       "      <td>-0.405612</td>\n",
       "      <td>-0.16269</td>\n",
       "      <td>-0.481772</td>\n",
       "      <td>-0.30739</td>\n",
       "      <td>0.615493</td>\n",
       "      <td>0.059127</td>\n",
       "      <td>-1.230954</td>\n",
       "    </tr>\n",
       "    <tr>\n",
       "      <th>2</th>\n",
       "      <td>-1.565228</td>\n",
       "      <td>-1.354813</td>\n",
       "      <td>0.143177</td>\n",
       "      <td>1.325660</td>\n",
       "      <td>-0.216681</td>\n",
       "      <td>-0.511611</td>\n",
       "      <td>-1.175075</td>\n",
       "      <td>2.462644</td>\n",
       "      <td>-0.16269</td>\n",
       "      <td>2.073341</td>\n",
       "      <td>-0.30739</td>\n",
       "      <td>-1.622891</td>\n",
       "      <td>0.059127</td>\n",
       "      <td>-1.230954</td>\n",
       "    </tr>\n",
       "    <tr>\n",
       "      <th>3</th>\n",
       "      <td>0.826913</td>\n",
       "      <td>-1.354813</td>\n",
       "      <td>0.143177</td>\n",
       "      <td>-0.488723</td>\n",
       "      <td>-0.216681</td>\n",
       "      <td>1.952417</td>\n",
       "      <td>-1.175075</td>\n",
       "      <td>-0.405612</td>\n",
       "      <td>-0.16269</td>\n",
       "      <td>-0.481772</td>\n",
       "      <td>-0.30739</td>\n",
       "      <td>0.615493</td>\n",
       "      <td>-0.560660</td>\n",
       "      <td>0.811467</td>\n",
       "    </tr>\n",
       "    <tr>\n",
       "      <th>4</th>\n",
       "      <td>-1.565228</td>\n",
       "      <td>-1.354813</td>\n",
       "      <td>0.143177</td>\n",
       "      <td>1.325660</td>\n",
       "      <td>-0.216681</td>\n",
       "      <td>-0.511611</td>\n",
       "      <td>-1.175075</td>\n",
       "      <td>2.462644</td>\n",
       "      <td>-0.16269</td>\n",
       "      <td>-0.481772</td>\n",
       "      <td>-0.30739</td>\n",
       "      <td>0.615493</td>\n",
       "      <td>0.059127</td>\n",
       "      <td>-1.230954</td>\n",
       "    </tr>\n",
       "    <tr>\n",
       "      <th>5</th>\n",
       "      <td>0.826913</td>\n",
       "      <td>0.737281</td>\n",
       "      <td>0.143177</td>\n",
       "      <td>-0.488723</td>\n",
       "      <td>-0.216681</td>\n",
       "      <td>-0.511611</td>\n",
       "      <td>0.850054</td>\n",
       "      <td>-0.405612</td>\n",
       "      <td>-0.16269</td>\n",
       "      <td>-0.481772</td>\n",
       "      <td>-0.30739</td>\n",
       "      <td>0.615493</td>\n",
       "      <td>-0.560660</td>\n",
       "      <td>0.811467</td>\n",
       "    </tr>\n",
       "  </tbody>\n",
       "</table>\n",
       "</div>"
      ],
      "text/plain": [
       "               Pclass   Is_Male   Age_Bin  Fare_Bin  Title_Master  Title_Miss  \\\n",
       "PassengerId                                                                     \n",
       "1            0.826913  0.737281  0.143177 -1.395914     -0.216681   -0.511611   \n",
       "2           -1.565228 -1.354813  0.143177  1.325660     -0.216681   -0.511611   \n",
       "3            0.826913 -1.354813  0.143177 -0.488723     -0.216681    1.952417   \n",
       "4           -1.565228 -1.354813  0.143177  1.325660     -0.216681   -0.511611   \n",
       "5            0.826913  0.737281  0.143177 -0.488723     -0.216681   -0.511611   \n",
       "\n",
       "             Title_Mr  Title_Mrs  Title_Rare  Embark_Place_C  Embark_Place_Q  \\\n",
       "PassengerId                                                                    \n",
       "1            0.850054  -0.405612    -0.16269       -0.481772        -0.30739   \n",
       "2           -1.175075   2.462644    -0.16269        2.073341        -0.30739   \n",
       "3           -1.175075  -0.405612    -0.16269       -0.481772        -0.30739   \n",
       "4           -1.175075   2.462644    -0.16269       -0.481772        -0.30739   \n",
       "5            0.850054  -0.405612    -0.16269       -0.481772        -0.30739   \n",
       "\n",
       "             Embark_Place_S  Family_Size  Traveled_Alone  \n",
       "PassengerId                                               \n",
       "1                  0.615493     0.059127       -1.230954  \n",
       "2                 -1.622891     0.059127       -1.230954  \n",
       "3                  0.615493    -0.560660        0.811467  \n",
       "4                  0.615493     0.059127       -1.230954  \n",
       "5                  0.615493    -0.560660        0.811467  "
      ]
     },
     "execution_count": 16,
     "metadata": {},
     "output_type": "execute_result"
    }
   ],
   "source": [
    "X_train.head()"
   ]
  },
  {
   "cell_type": "code",
   "execution_count": 17,
   "id": "f4f43c63",
   "metadata": {},
   "outputs": [
    {
     "data": {
      "text/html": [
       "<div>\n",
       "<style scoped>\n",
       "    .dataframe tbody tr th:only-of-type {\n",
       "        vertical-align: middle;\n",
       "    }\n",
       "\n",
       "    .dataframe tbody tr th {\n",
       "        vertical-align: top;\n",
       "    }\n",
       "\n",
       "    .dataframe thead th {\n",
       "        text-align: right;\n",
       "    }\n",
       "</style>\n",
       "<table border=\"1\" class=\"dataframe\">\n",
       "  <thead>\n",
       "    <tr style=\"text-align: right;\">\n",
       "      <th></th>\n",
       "      <th>Pclass</th>\n",
       "      <th>Is_Male</th>\n",
       "      <th>Age_Bin</th>\n",
       "      <th>Fare_Bin</th>\n",
       "      <th>Title_Master</th>\n",
       "      <th>Title_Miss</th>\n",
       "      <th>Title_Mr</th>\n",
       "      <th>Title_Mrs</th>\n",
       "      <th>Title_Rare</th>\n",
       "      <th>Embark_Place_C</th>\n",
       "      <th>Embark_Place_Q</th>\n",
       "      <th>Embark_Place_S</th>\n",
       "      <th>Family_Size</th>\n",
       "      <th>Traveled_Alone</th>\n",
       "    </tr>\n",
       "    <tr>\n",
       "      <th>PassengerId</th>\n",
       "      <th></th>\n",
       "      <th></th>\n",
       "      <th></th>\n",
       "      <th></th>\n",
       "      <th></th>\n",
       "      <th></th>\n",
       "      <th></th>\n",
       "      <th></th>\n",
       "      <th></th>\n",
       "      <th></th>\n",
       "      <th></th>\n",
       "      <th></th>\n",
       "      <th></th>\n",
       "      <th></th>\n",
       "    </tr>\n",
       "  </thead>\n",
       "  <tbody>\n",
       "    <tr>\n",
       "      <th>892</th>\n",
       "      <td>0.826913</td>\n",
       "      <td>0.737281</td>\n",
       "      <td>0.143177</td>\n",
       "      <td>-1.395914</td>\n",
       "      <td>-0.216681</td>\n",
       "      <td>-0.511611</td>\n",
       "      <td>0.850054</td>\n",
       "      <td>-0.405612</td>\n",
       "      <td>-0.16269</td>\n",
       "      <td>-0.481772</td>\n",
       "      <td>3.249548</td>\n",
       "      <td>-1.622891</td>\n",
       "      <td>-0.560660</td>\n",
       "      <td>0.811467</td>\n",
       "    </tr>\n",
       "    <tr>\n",
       "      <th>893</th>\n",
       "      <td>0.826913</td>\n",
       "      <td>-1.354813</td>\n",
       "      <td>1.444916</td>\n",
       "      <td>-1.395914</td>\n",
       "      <td>-0.216681</td>\n",
       "      <td>-0.511611</td>\n",
       "      <td>-1.175075</td>\n",
       "      <td>2.462644</td>\n",
       "      <td>-0.16269</td>\n",
       "      <td>-0.481772</td>\n",
       "      <td>-0.307390</td>\n",
       "      <td>0.615493</td>\n",
       "      <td>0.059127</td>\n",
       "      <td>-1.230954</td>\n",
       "    </tr>\n",
       "    <tr>\n",
       "      <th>894</th>\n",
       "      <td>-0.369158</td>\n",
       "      <td>0.737281</td>\n",
       "      <td>1.444916</td>\n",
       "      <td>-0.488723</td>\n",
       "      <td>-0.216681</td>\n",
       "      <td>-0.511611</td>\n",
       "      <td>0.850054</td>\n",
       "      <td>-0.405612</td>\n",
       "      <td>-0.16269</td>\n",
       "      <td>-0.481772</td>\n",
       "      <td>3.249548</td>\n",
       "      <td>-1.622891</td>\n",
       "      <td>-0.560660</td>\n",
       "      <td>0.811467</td>\n",
       "    </tr>\n",
       "    <tr>\n",
       "      <th>895</th>\n",
       "      <td>0.826913</td>\n",
       "      <td>0.737281</td>\n",
       "      <td>0.143177</td>\n",
       "      <td>-0.488723</td>\n",
       "      <td>-0.216681</td>\n",
       "      <td>-0.511611</td>\n",
       "      <td>0.850054</td>\n",
       "      <td>-0.405612</td>\n",
       "      <td>-0.16269</td>\n",
       "      <td>-0.481772</td>\n",
       "      <td>-0.307390</td>\n",
       "      <td>0.615493</td>\n",
       "      <td>-0.560660</td>\n",
       "      <td>0.811467</td>\n",
       "    </tr>\n",
       "    <tr>\n",
       "      <th>896</th>\n",
       "      <td>0.826913</td>\n",
       "      <td>-1.354813</td>\n",
       "      <td>0.143177</td>\n",
       "      <td>-0.488723</td>\n",
       "      <td>-0.216681</td>\n",
       "      <td>-0.511611</td>\n",
       "      <td>-1.175075</td>\n",
       "      <td>2.462644</td>\n",
       "      <td>-0.16269</td>\n",
       "      <td>-0.481772</td>\n",
       "      <td>-0.307390</td>\n",
       "      <td>0.615493</td>\n",
       "      <td>0.678913</td>\n",
       "      <td>-1.230954</td>\n",
       "    </tr>\n",
       "  </tbody>\n",
       "</table>\n",
       "</div>"
      ],
      "text/plain": [
       "               Pclass   Is_Male   Age_Bin  Fare_Bin  Title_Master  Title_Miss  \\\n",
       "PassengerId                                                                     \n",
       "892          0.826913  0.737281  0.143177 -1.395914     -0.216681   -0.511611   \n",
       "893          0.826913 -1.354813  1.444916 -1.395914     -0.216681   -0.511611   \n",
       "894         -0.369158  0.737281  1.444916 -0.488723     -0.216681   -0.511611   \n",
       "895          0.826913  0.737281  0.143177 -0.488723     -0.216681   -0.511611   \n",
       "896          0.826913 -1.354813  0.143177 -0.488723     -0.216681   -0.511611   \n",
       "\n",
       "             Title_Mr  Title_Mrs  Title_Rare  Embark_Place_C  Embark_Place_Q  \\\n",
       "PassengerId                                                                    \n",
       "892          0.850054  -0.405612    -0.16269       -0.481772        3.249548   \n",
       "893         -1.175075   2.462644    -0.16269       -0.481772       -0.307390   \n",
       "894          0.850054  -0.405612    -0.16269       -0.481772        3.249548   \n",
       "895          0.850054  -0.405612    -0.16269       -0.481772       -0.307390   \n",
       "896         -1.175075   2.462644    -0.16269       -0.481772       -0.307390   \n",
       "\n",
       "             Embark_Place_S  Family_Size  Traveled_Alone  \n",
       "PassengerId                                               \n",
       "892               -1.622891    -0.560660        0.811467  \n",
       "893                0.615493     0.059127       -1.230954  \n",
       "894               -1.622891    -0.560660        0.811467  \n",
       "895                0.615493    -0.560660        0.811467  \n",
       "896                0.615493     0.678913       -1.230954  "
      ]
     },
     "execution_count": 17,
     "metadata": {},
     "output_type": "execute_result"
    }
   ],
   "source": [
    "X_test.head()"
   ]
  },
  {
   "cell_type": "markdown",
   "id": "c8557b6e",
   "metadata": {},
   "source": [
    "---"
   ]
  },
  {
   "cell_type": "markdown",
   "id": "40340160",
   "metadata": {},
   "source": [
    "## Importing models"
   ]
  },
  {
   "cell_type": "code",
   "execution_count": 18,
   "id": "ddd94d9a",
   "metadata": {},
   "outputs": [],
   "source": [
    "from xgboost import XGBClassifier\n",
    "from sklearn.metrics import mean_squared_error\n",
    "from sklearn.model_selection import KFold\n",
    "from sklearn.metrics import accuracy_score, recall_score, fbeta_score"
   ]
  },
  {
   "cell_type": "markdown",
   "id": "b5a72aaa",
   "metadata": {},
   "source": [
    "---"
   ]
  },
  {
   "cell_type": "markdown",
   "id": "b47cd238",
   "metadata": {},
   "source": [
    "## 1) XGBoost"
   ]
  },
  {
   "cell_type": "markdown",
   "id": "f34637b6",
   "metadata": {},
   "source": [
    "### Creating and fitting model"
   ]
  },
  {
   "cell_type": "code",
   "execution_count": 19,
   "id": "0962f8e9",
   "metadata": {},
   "outputs": [],
   "source": [
    "xgb_params = {'random_state': 0,\n",
    "          'n_estimators': 1000,\n",
    "          'max_depth': 6,\n",
    "          'early_stopping_rounds': 10,\n",
    "          'learning_rate': 0.3,\n",
    "          'reg_lambda': 1,\n",
    "          'reg_alpha': 0.5,\n",
    "          'predictor': 'cpu_predictor'}"
   ]
  },
  {
   "cell_type": "code",
   "execution_count": 20,
   "id": "8fb99bc3",
   "metadata": {
    "scrolled": true
   },
   "outputs": [],
   "source": [
    "def create_xgb_model(params):\n",
    "    xgb = XGBClassifier(random_state = xgb_params['random_state'],\n",
    "                       n_estimators = xgb_params['n_estimators'], \n",
    "                       max_depth = xgb_params['max_depth'], \n",
    "                       learning_rate = xgb_params['learning_rate'],\n",
    "                       early_stopping_rounds = xgb_params['early_stopping_rounds'],\n",
    "                       reg_lambda = xgb_params['reg_lambda'], \n",
    "                       reg_alpha = xgb_params['reg_alpha'],\n",
    "                       predictor = xgb_params['predictor'])\n",
    "    return xgb"
   ]
  },
  {
   "cell_type": "markdown",
   "id": "414f83f5",
   "metadata": {},
   "source": [
    "### Using KFold cross-validation method to analyze generatization capability"
   ]
  },
  {
   "cell_type": "code",
   "execution_count": 21,
   "id": "15ff12d0",
   "metadata": {
    "scrolled": true
   },
   "outputs": [],
   "source": [
    "xgb_results = []\n",
    "eval_set = [[X_train, y_train]]\n",
    "\n",
    "\n",
    "def kfold_scores_xgb(params, folds, results):\n",
    "    indexes = np.array(X_train.index)\n",
    "    rand = np.random.RandomState(params['random_state'])\n",
    "    rand.shuffle(indexes)\n",
    "    X_shuffled = X_train.loc[indexes].copy()\n",
    "    y_shuffled = y_train.loc[indexes].copy()\n",
    "    folds = folds\n",
    "    kf = KFold(n_splits = folds)\n",
    "    kfold_scores = []\n",
    "    kfold_acc = []\n",
    "    kfold_rec = []\n",
    "    kfold_f2 = []\n",
    "\n",
    "    for (train_indexes, val_indexes) in kf.split(X_train):\n",
    "        X_train_kfold = X_shuffled.iloc[train_indexes].copy()\n",
    "        y_train_kfold = y_shuffled.iloc[train_indexes].copy()\n",
    "        X_val_kfold = X_shuffled.iloc[val_indexes].copy()\n",
    "        y_val_kfold = y_shuffled.iloc[val_indexes].copy()\n",
    "\n",
    "        model = create_xgb_model(params)\n",
    "        model.fit(X_train_kfold, y_train_kfold, eval_metric = 'logloss', eval_set = eval_set, verbose = 0)\n",
    "        y_pred = model.predict(X_val_kfold)\n",
    "        kfold_scores.append(mean_squared_error(y_val_kfold, y_pred))\n",
    "        kfold_acc.append(accuracy_score(y_val_kfold, y_pred))\n",
    "        kfold_rec.append(recall_score(y_val_kfold, y_pred))\n",
    "        kfold_f2.append(fbeta_score(y_val_kfold, y_pred, beta = 2))\n",
    "\n",
    "    print(f'Last KFold final score: {sum(kfold_scores)/len(kfold_scores)}')\n",
    "    print(f'Last Kfold accuracy score: {sum(kfold_acc)/len(kfold_acc)}')\n",
    "    print(f'Last Kfold recall score: {sum(kfold_rec)/len(kfold_rec)}')\n",
    "    print(f'Last Kfold f2 score: {sum(kfold_f2)/len(kfold_f2)}')\n",
    "    \n",
    "    results.append((params, {sum(kfold_acc)/len(kfold_acc)}))\n",
    "    \n",
    "    return results"
   ]
  },
  {
   "cell_type": "code",
   "execution_count": 22,
   "id": "cf36c008",
   "metadata": {},
   "outputs": [
    {
     "name": "stdout",
     "output_type": "stream",
     "text": [
      "Last KFold final score: 0.18295147824995292\n",
      "Last Kfold accuracy score: 0.8170485217500472\n",
      "Last Kfold recall score: 0.7187765708080177\n",
      "Last Kfold f2 score: 0.7302167470472407\n"
     ]
    }
   ],
   "source": [
    "xgb_results = kfold_scores_xgb(xgb_params, 5, xgb_results)"
   ]
  },
  {
   "cell_type": "code",
   "execution_count": 23,
   "id": "a9993da5",
   "metadata": {},
   "outputs": [
    {
     "data": {
      "text/plain": [
       "[({'random_state': 0,\n",
       "   'n_estimators': 1000,\n",
       "   'max_depth': 6,\n",
       "   'early_stopping_rounds': 10,\n",
       "   'learning_rate': 0.3,\n",
       "   'reg_lambda': 1,\n",
       "   'reg_alpha': 0.5,\n",
       "   'predictor': 'cpu_predictor'},\n",
       "  {0.8170485217500472})]"
      ]
     },
     "execution_count": 23,
     "metadata": {},
     "output_type": "execute_result"
    }
   ],
   "source": [
    "xgb_results"
   ]
  },
  {
   "cell_type": "markdown",
   "id": "605c576e",
   "metadata": {},
   "source": [
    "Important:\n",
    "**Kfold accuracy is an estimate of the competition score.** However, it's certainly overestimated or underestimated."
   ]
  },
  {
   "cell_type": "markdown",
   "id": "8af06376",
   "metadata": {},
   "source": [
    "---"
   ]
  },
  {
   "cell_type": "markdown",
   "id": "a06bb2f6",
   "metadata": {},
   "source": [
    "## Exporting result to submission"
   ]
  },
  {
   "cell_type": "code",
   "execution_count": 24,
   "id": "9eeb6c2e",
   "metadata": {
    "scrolled": false
   },
   "outputs": [
    {
     "name": "stdout",
     "output_type": "stream",
     "text": [
      "[0]\tvalidation_0-logloss:0.56183\n",
      "[1]\tvalidation_0-logloss:0.49133\n",
      "[2]\tvalidation_0-logloss:0.44631\n",
      "[3]\tvalidation_0-logloss:0.41654\n",
      "[4]\tvalidation_0-logloss:0.39733\n",
      "[5]\tvalidation_0-logloss:0.38450\n",
      "[6]\tvalidation_0-logloss:0.37586\n",
      "[7]\tvalidation_0-logloss:0.36986\n",
      "[8]\tvalidation_0-logloss:0.36488\n",
      "[9]\tvalidation_0-logloss:0.36102\n",
      "[10]\tvalidation_0-logloss:0.35808\n",
      "[11]\tvalidation_0-logloss:0.35582\n",
      "[12]\tvalidation_0-logloss:0.35253\n",
      "[13]\tvalidation_0-logloss:0.34964\n",
      "[14]\tvalidation_0-logloss:0.34864\n",
      "[15]\tvalidation_0-logloss:0.34735\n",
      "[16]\tvalidation_0-logloss:0.34486\n",
      "[17]\tvalidation_0-logloss:0.34319\n",
      "[18]\tvalidation_0-logloss:0.34195\n",
      "[19]\tvalidation_0-logloss:0.34018\n",
      "[20]\tvalidation_0-logloss:0.33842\n",
      "[21]\tvalidation_0-logloss:0.33690\n",
      "[22]\tvalidation_0-logloss:0.33561\n",
      "[23]\tvalidation_0-logloss:0.33461\n",
      "[24]\tvalidation_0-logloss:0.33370\n",
      "[25]\tvalidation_0-logloss:0.33296\n",
      "[26]\tvalidation_0-logloss:0.33243\n",
      "[27]\tvalidation_0-logloss:0.33191\n",
      "[28]\tvalidation_0-logloss:0.33031\n",
      "[29]\tvalidation_0-logloss:0.32979\n",
      "[30]\tvalidation_0-logloss:0.32924\n",
      "[31]\tvalidation_0-logloss:0.32883\n",
      "[32]\tvalidation_0-logloss:0.32781\n",
      "[33]\tvalidation_0-logloss:0.32715\n",
      "[34]\tvalidation_0-logloss:0.32628\n",
      "[35]\tvalidation_0-logloss:0.32575\n",
      "[36]\tvalidation_0-logloss:0.32550\n",
      "[37]\tvalidation_0-logloss:0.32482\n",
      "[38]\tvalidation_0-logloss:0.32442\n",
      "[39]\tvalidation_0-logloss:0.32409\n",
      "[40]\tvalidation_0-logloss:0.32333\n",
      "[41]\tvalidation_0-logloss:0.32293\n",
      "[42]\tvalidation_0-logloss:0.32238\n",
      "[43]\tvalidation_0-logloss:0.32196\n",
      "[44]\tvalidation_0-logloss:0.32147\n",
      "[45]\tvalidation_0-logloss:0.32110\n",
      "[46]\tvalidation_0-logloss:0.32049\n",
      "[47]\tvalidation_0-logloss:0.32017\n",
      "[48]\tvalidation_0-logloss:0.31978\n",
      "[49]\tvalidation_0-logloss:0.31961\n",
      "[50]\tvalidation_0-logloss:0.31921\n",
      "[51]\tvalidation_0-logloss:0.31913\n",
      "[52]\tvalidation_0-logloss:0.31899\n",
      "[53]\tvalidation_0-logloss:0.31865\n",
      "[54]\tvalidation_0-logloss:0.31845\n",
      "[55]\tvalidation_0-logloss:0.31785\n",
      "[56]\tvalidation_0-logloss:0.31752\n",
      "[57]\tvalidation_0-logloss:0.31727\n",
      "[58]\tvalidation_0-logloss:0.31686\n",
      "[59]\tvalidation_0-logloss:0.31666\n",
      "[60]\tvalidation_0-logloss:0.31645\n",
      "[61]\tvalidation_0-logloss:0.31624\n",
      "[62]\tvalidation_0-logloss:0.31616\n",
      "[63]\tvalidation_0-logloss:0.31598\n",
      "[64]\tvalidation_0-logloss:0.31573\n",
      "[65]\tvalidation_0-logloss:0.31561\n",
      "[66]\tvalidation_0-logloss:0.31539\n",
      "[67]\tvalidation_0-logloss:0.31532\n",
      "[68]\tvalidation_0-logloss:0.31517\n",
      "[69]\tvalidation_0-logloss:0.31491\n",
      "[70]\tvalidation_0-logloss:0.31461\n",
      "[71]\tvalidation_0-logloss:0.31444\n",
      "[72]\tvalidation_0-logloss:0.31428\n",
      "[73]\tvalidation_0-logloss:0.31401\n",
      "[74]\tvalidation_0-logloss:0.31381\n",
      "[75]\tvalidation_0-logloss:0.31367\n",
      "[76]\tvalidation_0-logloss:0.31352\n",
      "[77]\tvalidation_0-logloss:0.31339\n",
      "[78]\tvalidation_0-logloss:0.31316\n",
      "[79]\tvalidation_0-logloss:0.31304\n",
      "[80]\tvalidation_0-logloss:0.31296\n",
      "[81]\tvalidation_0-logloss:0.31290\n",
      "[82]\tvalidation_0-logloss:0.31278\n",
      "[83]\tvalidation_0-logloss:0.31274\n",
      "[84]\tvalidation_0-logloss:0.31265\n",
      "[85]\tvalidation_0-logloss:0.31254\n",
      "[86]\tvalidation_0-logloss:0.31233\n",
      "[87]\tvalidation_0-logloss:0.31229\n",
      "[88]\tvalidation_0-logloss:0.31208\n",
      "[89]\tvalidation_0-logloss:0.31197\n",
      "[90]\tvalidation_0-logloss:0.31164\n",
      "[91]\tvalidation_0-logloss:0.31156\n",
      "[92]\tvalidation_0-logloss:0.31145\n",
      "[93]\tvalidation_0-logloss:0.31129\n",
      "[94]\tvalidation_0-logloss:0.31098\n",
      "[95]\tvalidation_0-logloss:0.31093\n",
      "[96]\tvalidation_0-logloss:0.31076\n",
      "[97]\tvalidation_0-logloss:0.31058\n",
      "[98]\tvalidation_0-logloss:0.31027\n",
      "[99]\tvalidation_0-logloss:0.31007\n",
      "[100]\tvalidation_0-logloss:0.31005\n",
      "[101]\tvalidation_0-logloss:0.30992\n",
      "[102]\tvalidation_0-logloss:0.30979\n",
      "[103]\tvalidation_0-logloss:0.30967\n",
      "[104]\tvalidation_0-logloss:0.30948\n",
      "[105]\tvalidation_0-logloss:0.30943\n",
      "[106]\tvalidation_0-logloss:0.30936\n",
      "[107]\tvalidation_0-logloss:0.30882\n",
      "[108]\tvalidation_0-logloss:0.30870\n",
      "[109]\tvalidation_0-logloss:0.30862\n",
      "[110]\tvalidation_0-logloss:0.30861\n",
      "[111]\tvalidation_0-logloss:0.30857\n",
      "[112]\tvalidation_0-logloss:0.30856\n",
      "[113]\tvalidation_0-logloss:0.30854\n",
      "[114]\tvalidation_0-logloss:0.30839\n",
      "[115]\tvalidation_0-logloss:0.30838\n",
      "[116]\tvalidation_0-logloss:0.30818\n",
      "[117]\tvalidation_0-logloss:0.30807\n",
      "[118]\tvalidation_0-logloss:0.30805\n",
      "[119]\tvalidation_0-logloss:0.30786\n",
      "[120]\tvalidation_0-logloss:0.30770\n",
      "[121]\tvalidation_0-logloss:0.30767\n",
      "[122]\tvalidation_0-logloss:0.30752\n",
      "[123]\tvalidation_0-logloss:0.30729\n",
      "[124]\tvalidation_0-logloss:0.30724\n",
      "[125]\tvalidation_0-logloss:0.30722\n",
      "[126]\tvalidation_0-logloss:0.30708\n",
      "[127]\tvalidation_0-logloss:0.30696\n",
      "[128]\tvalidation_0-logloss:0.30691\n",
      "[129]\tvalidation_0-logloss:0.30687\n",
      "[130]\tvalidation_0-logloss:0.30687\n",
      "[131]\tvalidation_0-logloss:0.30687\n",
      "[132]\tvalidation_0-logloss:0.30687\n",
      "[133]\tvalidation_0-logloss:0.30687\n",
      "[134]\tvalidation_0-logloss:0.30687\n",
      "[135]\tvalidation_0-logloss:0.30687\n",
      "[136]\tvalidation_0-logloss:0.30687\n",
      "[137]\tvalidation_0-logloss:0.30687\n",
      "[138]\tvalidation_0-logloss:0.30687\n"
     ]
    }
   ],
   "source": [
    "xgb_model = create_xgb_model(xgb_params)\n",
    "xgb_model.fit(X_train, y_train, eval_metric = ['logloss'], eval_set = eval_set)\n",
    "\n",
    "y_pred = xgb_model.predict(X_test)\n",
    "y_pred = pd.DataFrame(y_pred, index = X_test.index.rename('PassengerId'), columns = ['Survived'])\n",
    "\n",
    "y_pred_path = os.path.join('data', 'xgb_predictions.csv')\n",
    "y_pred.to_csv(y_pred_path, index = True)"
   ]
  },
  {
   "cell_type": "markdown",
   "id": "d600b5cf",
   "metadata": {},
   "source": [
    "---"
   ]
  },
  {
   "cell_type": "markdown",
   "id": "d6e9662f",
   "metadata": {},
   "source": [
    "## 2) Random Forest"
   ]
  },
  {
   "cell_type": "code",
   "execution_count": 25,
   "id": "efd0d268",
   "metadata": {},
   "outputs": [],
   "source": [
    "from sklearn.ensemble import RandomForestClassifier"
   ]
  },
  {
   "cell_type": "markdown",
   "id": "ce1b9e93",
   "metadata": {},
   "source": [
    "### Using KFold cross-validation method to analyze generatization capability"
   ]
  },
  {
   "cell_type": "code",
   "execution_count": 26,
   "id": "53e9fd00",
   "metadata": {},
   "outputs": [],
   "source": [
    "rf_params = {'random_state': 0,\n",
    "          'n_estimators': 1000,\n",
    "          'max_depth': 4,\n",
    "          'max_features': 'sqrt',\n",
    "          'min_samples_leaf': 2}"
   ]
  },
  {
   "cell_type": "code",
   "execution_count": 27,
   "id": "5bc55364",
   "metadata": {},
   "outputs": [],
   "source": [
    "def create_rf_model(params):\n",
    "    rf = RandomForestClassifier(random_state = rf_params['random_state'],\n",
    "                                n_estimators = rf_params['n_estimators'], \n",
    "                                max_depth = rf_params['max_depth'],\n",
    "                                max_features = rf_params['max_features'],\n",
    "                                min_samples_leaf = rf_params['min_samples_leaf'])\n",
    "    return rf"
   ]
  },
  {
   "cell_type": "code",
   "execution_count": 28,
   "id": "3cfbdb32",
   "metadata": {},
   "outputs": [],
   "source": [
    "rf_results = []\n",
    "def kfold_scores_rf(params, folds, results):\n",
    "    indexes = np.array(X_train.index)\n",
    "    rand = np.random.RandomState(params['random_state'])\n",
    "    rand.shuffle(indexes)\n",
    "    X_shuffled = X_train.loc[indexes].copy()\n",
    "    y_shuffled = y_train.loc[indexes].copy()\n",
    "    folds = folds\n",
    "    kf = KFold(n_splits = folds)\n",
    "    kfold_scores = []\n",
    "    kfold_acc = []\n",
    "    kfold_rec = []\n",
    "    kfold_f2 = []\n",
    "\n",
    "    for (train_indexes, val_indexes) in kf.split(X_train):\n",
    "        X_train_kfold = X_shuffled.iloc[train_indexes].copy()\n",
    "        y_train_kfold = y_shuffled.iloc[train_indexes].copy()\n",
    "        X_val_kfold = X_shuffled.iloc[val_indexes].copy()\n",
    "        y_val_kfold = y_shuffled.iloc[val_indexes].copy()\n",
    "\n",
    "        model = create_rf_model(params)\n",
    "        model.fit(X_train_kfold, y_train_kfold)\n",
    "        y_pred = model.predict(X_val_kfold)\n",
    "        kfold_scores.append(mean_squared_error(y_val_kfold, y_pred))\n",
    "        kfold_acc.append(accuracy_score(y_val_kfold, y_pred))\n",
    "        kfold_rec.append(recall_score(y_val_kfold, y_pred))\n",
    "        kfold_f2.append(fbeta_score(y_val_kfold, y_pred, beta = 2))\n",
    "\n",
    "    print(f'Last KFold final score: {sum(kfold_scores)/len(kfold_scores)}')\n",
    "    print(f'Last Kfold accuracy score: {sum(kfold_acc)/len(kfold_acc)}')\n",
    "    print(f'Last Kfold recall score: {sum(kfold_rec)/len(kfold_rec)}')\n",
    "    print(f'Last Kfold f2 score: {sum(kfold_f2)/len(kfold_f2)}')\n",
    "    \n",
    "    results.append((params, {sum(kfold_acc)/len(kfold_acc)}))\n",
    "    \n",
    "    return results"
   ]
  },
  {
   "cell_type": "code",
   "execution_count": 29,
   "id": "c38f5d02",
   "metadata": {
    "scrolled": true
   },
   "outputs": [
    {
     "name": "stdout",
     "output_type": "stream",
     "text": [
      "Last KFold final score: 0.1683447366769192\n",
      "Last Kfold accuracy score: 0.8316552633230808\n",
      "Last Kfold recall score: 0.7370775640372186\n",
      "Last Kfold f2 score: 0.7490380751469796\n"
     ]
    }
   ],
   "source": [
    "rf_results = kfold_scores_rf(rf_params, 5, rf_results)"
   ]
  },
  {
   "cell_type": "markdown",
   "id": "593c32a1",
   "metadata": {},
   "source": [
    "Important:\n",
    "**Kfold accuracy is an estimate of the competition score.** However, it's certainly overestimated or underestimated."
   ]
  },
  {
   "cell_type": "markdown",
   "id": "c206b242",
   "metadata": {},
   "source": [
    "## Exporting result to submission"
   ]
  },
  {
   "cell_type": "code",
   "execution_count": 30,
   "id": "c2bb66d5",
   "metadata": {},
   "outputs": [],
   "source": [
    "rf_model = create_rf_model(rf_params)\n",
    "rf_model.fit(X_train, y_train)\n",
    "\n",
    "y_pred = rf_model.predict(X_test)\n",
    "y_pred = pd.DataFrame(y_pred, index = X_test.index.rename('PassengerId'), columns = ['Survived'])\n",
    "\n",
    "y_pred_path = os.path.join('data', 'rf_predictions.csv')\n",
    "y_pred.to_csv(y_pred_path, index = True)"
   ]
  },
  {
   "cell_type": "markdown",
   "id": "3489b122",
   "metadata": {},
   "source": [
    "---"
   ]
  },
  {
   "cell_type": "markdown",
   "id": "ee9237f3",
   "metadata": {},
   "source": [
    "## 3) Logistic Regression"
   ]
  },
  {
   "cell_type": "code",
   "execution_count": 31,
   "id": "2a0708e6",
   "metadata": {},
   "outputs": [],
   "source": [
    "from sklearn.linear_model import LogisticRegression"
   ]
  },
  {
   "cell_type": "code",
   "execution_count": 32,
   "id": "3aaf0af2",
   "metadata": {},
   "outputs": [
    {
     "data": {
      "text/html": [
       "<style>#sk-container-id-1 {color: black;background-color: white;}#sk-container-id-1 pre{padding: 0;}#sk-container-id-1 div.sk-toggleable {background-color: white;}#sk-container-id-1 label.sk-toggleable__label {cursor: pointer;display: block;width: 100%;margin-bottom: 0;padding: 0.3em;box-sizing: border-box;text-align: center;}#sk-container-id-1 label.sk-toggleable__label-arrow:before {content: \"▸\";float: left;margin-right: 0.25em;color: #696969;}#sk-container-id-1 label.sk-toggleable__label-arrow:hover:before {color: black;}#sk-container-id-1 div.sk-estimator:hover label.sk-toggleable__label-arrow:before {color: black;}#sk-container-id-1 div.sk-toggleable__content {max-height: 0;max-width: 0;overflow: hidden;text-align: left;background-color: #f0f8ff;}#sk-container-id-1 div.sk-toggleable__content pre {margin: 0.2em;color: black;border-radius: 0.25em;background-color: #f0f8ff;}#sk-container-id-1 input.sk-toggleable__control:checked~div.sk-toggleable__content {max-height: 200px;max-width: 100%;overflow: auto;}#sk-container-id-1 input.sk-toggleable__control:checked~label.sk-toggleable__label-arrow:before {content: \"▾\";}#sk-container-id-1 div.sk-estimator input.sk-toggleable__control:checked~label.sk-toggleable__label {background-color: #d4ebff;}#sk-container-id-1 div.sk-label input.sk-toggleable__control:checked~label.sk-toggleable__label {background-color: #d4ebff;}#sk-container-id-1 input.sk-hidden--visually {border: 0;clip: rect(1px 1px 1px 1px);clip: rect(1px, 1px, 1px, 1px);height: 1px;margin: -1px;overflow: hidden;padding: 0;position: absolute;width: 1px;}#sk-container-id-1 div.sk-estimator {font-family: monospace;background-color: #f0f8ff;border: 1px dotted black;border-radius: 0.25em;box-sizing: border-box;margin-bottom: 0.5em;}#sk-container-id-1 div.sk-estimator:hover {background-color: #d4ebff;}#sk-container-id-1 div.sk-parallel-item::after {content: \"\";width: 100%;border-bottom: 1px solid gray;flex-grow: 1;}#sk-container-id-1 div.sk-label:hover label.sk-toggleable__label {background-color: #d4ebff;}#sk-container-id-1 div.sk-serial::before {content: \"\";position: absolute;border-left: 1px solid gray;box-sizing: border-box;top: 0;bottom: 0;left: 50%;z-index: 0;}#sk-container-id-1 div.sk-serial {display: flex;flex-direction: column;align-items: center;background-color: white;padding-right: 0.2em;padding-left: 0.2em;position: relative;}#sk-container-id-1 div.sk-item {position: relative;z-index: 1;}#sk-container-id-1 div.sk-parallel {display: flex;align-items: stretch;justify-content: center;background-color: white;position: relative;}#sk-container-id-1 div.sk-item::before, #sk-container-id-1 div.sk-parallel-item::before {content: \"\";position: absolute;border-left: 1px solid gray;box-sizing: border-box;top: 0;bottom: 0;left: 50%;z-index: -1;}#sk-container-id-1 div.sk-parallel-item {display: flex;flex-direction: column;z-index: 1;position: relative;background-color: white;}#sk-container-id-1 div.sk-parallel-item:first-child::after {align-self: flex-end;width: 50%;}#sk-container-id-1 div.sk-parallel-item:last-child::after {align-self: flex-start;width: 50%;}#sk-container-id-1 div.sk-parallel-item:only-child::after {width: 0;}#sk-container-id-1 div.sk-dashed-wrapped {border: 1px dashed gray;margin: 0 0.4em 0.5em 0.4em;box-sizing: border-box;padding-bottom: 0.4em;background-color: white;}#sk-container-id-1 div.sk-label label {font-family: monospace;font-weight: bold;display: inline-block;line-height: 1.2em;}#sk-container-id-1 div.sk-label-container {text-align: center;}#sk-container-id-1 div.sk-container {/* jupyter's `normalize.less` sets `[hidden] { display: none; }` but bootstrap.min.css set `[hidden] { display: none !important; }` so we also need the `!important` here to be able to override the default hidden behavior on the sphinx rendered scikit-learn.org. See: https://github.com/scikit-learn/scikit-learn/issues/21755 */display: inline-block !important;position: relative;}#sk-container-id-1 div.sk-text-repr-fallback {display: none;}</style><div id=\"sk-container-id-1\" class=\"sk-top-container\"><div class=\"sk-text-repr-fallback\"><pre>LogisticRegression()</pre><b>In a Jupyter environment, please rerun this cell to show the HTML representation or trust the notebook. <br />On GitHub, the HTML representation is unable to render, please try loading this page with nbviewer.org.</b></div><div class=\"sk-container\" hidden><div class=\"sk-item\"><div class=\"sk-estimator sk-toggleable\"><input class=\"sk-toggleable__control sk-hidden--visually\" id=\"sk-estimator-id-1\" type=\"checkbox\" checked><label for=\"sk-estimator-id-1\" class=\"sk-toggleable__label sk-toggleable__label-arrow\">LogisticRegression</label><div class=\"sk-toggleable__content\"><pre>LogisticRegression()</pre></div></div></div></div></div>"
      ],
      "text/plain": [
       "LogisticRegression()"
      ]
     },
     "execution_count": 32,
     "metadata": {},
     "output_type": "execute_result"
    }
   ],
   "source": [
    "logreg_model = LogisticRegression()\n",
    "logreg_model.fit(X_train, y_train)"
   ]
  },
  {
   "cell_type": "code",
   "execution_count": 33,
   "id": "a2f39bba",
   "metadata": {},
   "outputs": [],
   "source": [
    "y_pred = logreg_model.predict(X_test)\n",
    "y_pred = pd.DataFrame(y_pred, index = X_test.index.rename('PassengerId'), columns = ['Survived'])"
   ]
  },
  {
   "cell_type": "code",
   "execution_count": 34,
   "id": "9728453e",
   "metadata": {},
   "outputs": [],
   "source": [
    "y_pred_path = os.path.join('data', 'logreg_predictions.csv')\n",
    "y_pred.to_csv(y_pred_path, index = True)"
   ]
  }
 ],
 "metadata": {
  "kernelspec": {
   "display_name": "Python 3 (ipykernel)",
   "language": "python",
   "name": "python3"
  },
  "language_info": {
   "codemirror_mode": {
    "name": "ipython",
    "version": 3
   },
   "file_extension": ".py",
   "mimetype": "text/x-python",
   "name": "python",
   "nbconvert_exporter": "python",
   "pygments_lexer": "ipython3",
   "version": "3.10.6"
  }
 },
 "nbformat": 4,
 "nbformat_minor": 5
}
