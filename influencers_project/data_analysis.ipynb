{
 "cells": [
  {
   "cell_type": "markdown",
   "id": "7472c416",
   "metadata": {},
   "source": [
    "## Importing libraries"
   ]
  },
  {
   "cell_type": "code",
   "execution_count": null,
   "id": "283fb513",
   "metadata": {},
   "outputs": [],
   "source": [
    "import os\n",
    "import pandas as pd\n",
    "import numpy as np\n",
    "import matplotlib.pyplot as plt"
   ]
  },
  {
   "cell_type": "markdown",
   "id": "ee0141e4",
   "metadata": {},
   "source": [
    "---"
   ]
  },
  {
   "cell_type": "markdown",
   "id": "57fb8ebc",
   "metadata": {},
   "source": [
    "## Importing data"
   ]
  },
  {
   "cell_type": "code",
   "execution_count": null,
   "id": "b2b57ac1",
   "metadata": {},
   "outputs": [],
   "source": [
    "train_path = os.path.join('data', 'train.csv')\n",
    "test_path = os.path.join('data', 'test.csv')\n",
    "\n",
    "train_data = pd.read_csv(train_path)\n",
    "test_data = pd.read_csv(test_path)"
   ]
  },
  {
   "cell_type": "markdown",
   "id": "d7c8b6ac",
   "metadata": {},
   "source": [
    "---"
   ]
  },
  {
   "cell_type": "markdown",
   "id": "31d9a848",
   "metadata": {},
   "source": [
    "## Data overview"
   ]
  },
  {
   "cell_type": "markdown",
   "id": "4b1ac1a5",
   "metadata": {},
   "source": [
    "### Training Data"
   ]
  },
  {
   "cell_type": "code",
   "execution_count": null,
   "id": "1b014d34",
   "metadata": {},
   "outputs": [],
   "source": [
    "train_data.shape"
   ]
  },
  {
   "cell_type": "code",
   "execution_count": null,
   "id": "1c65a8f4",
   "metadata": {
    "scrolled": false
   },
   "outputs": [],
   "source": [
    "train_data.dtypes"
   ]
  },
  {
   "cell_type": "markdown",
   "id": "c14005ef",
   "metadata": {},
   "source": [
    "Our possible features are: \n",
    "\n",
    "**A_follower_count**: Amount of followers from individual A\n",
    "\n",
    "**A_following_count**: Amount of accounts individual A follows\n",
    "\n",
    "**A_listed_count**: Amount of lists individual A is included in\n",
    "\n",
    "**A_mentions_received**: Amount of times individual A was mentioned\n",
    "\n",
    "**A_retweets_received**: Amount of retweets received by individual A\n",
    "\n",
    "**A_mentions_sent**: Amount of times individual A mentioned someone\n",
    "\n",
    "**A_retweets_sent**: Amount of retweets made by individual A\n",
    "\n",
    "**A_posts**: Amount of posts made by individual A\n",
    "\n",
    "**A_network_feature_1**: Description of the local follower network of individual A\n",
    "\n",
    "**A_network_feature_2**: Description of the local follower network of individual A\n",
    "\n",
    "**A_network_feature_3**: Description of the local follower network of individual A\n",
    "\n",
    "**B_follower_count**: Amount of followers from individual B\n",
    "\n",
    "**B_following_count**: Amount of accounts individual B follows\n",
    "\n",
    "**B_listed_count**: Amount of lists individual B is included in\n",
    "\n",
    "**B_mentions_received**: Amount of times individual B was mentioned\n",
    "\n",
    "**B_retweets_received**: Amount of retweets received by individual B\n",
    "\n",
    "**B_mentions_sent**: Amount of times individual B mentioned someone\n",
    "\n",
    "**B_retweets_sent**: Amount of retweets made by individual B\n",
    "\n",
    "**B_posts**: Amount of posts made by individual B\n",
    "\n",
    "**B_network_feature_1**: Description of the local follower network of individual B\n",
    "\n",
    "**B_network_feature_2**: Description of the local follower network of individual B\n",
    "\n",
    "**B_network_feature_3**: Description of the local follower network of individual B"
   ]
  },
  {
   "cell_type": "code",
   "execution_count": null,
   "id": "6b632cd5",
   "metadata": {
    "scrolled": false
   },
   "outputs": [],
   "source": [
    "train_data.head()"
   ]
  },
  {
   "cell_type": "markdown",
   "id": "21293868",
   "metadata": {},
   "source": [
    "### Testing Data"
   ]
  },
  {
   "cell_type": "code",
   "execution_count": null,
   "id": "7bb316a1",
   "metadata": {
    "scrolled": true
   },
   "outputs": [],
   "source": [
    "test_data.shape"
   ]
  },
  {
   "cell_type": "code",
   "execution_count": null,
   "id": "f0d6431e",
   "metadata": {},
   "outputs": [],
   "source": [
    "test_data.dtypes"
   ]
  },
  {
   "cell_type": "code",
   "execution_count": null,
   "id": "fdb63c57",
   "metadata": {
    "scrolled": true
   },
   "outputs": [],
   "source": [
    "test_data.head()"
   ]
  },
  {
   "cell_type": "markdown",
   "id": "326a3dc4",
   "metadata": {},
   "source": [
    "## Separating data: features and labels"
   ]
  },
  {
   "cell_type": "markdown",
   "id": "efff15b0",
   "metadata": {},
   "source": [
    "To make our analysis easy, we will separate the data into:\n",
    "\n",
    "**X_train**: (possible) training features.\n",
    "\n",
    "**y_train**: labels.\n",
    "\n",
    "**X_test**: (possible) test features.\n",
    "\n",
    "We will call __features__ the list with the names of the columns that might be the features and __label__ the name of the column which has the labels (**Survived** column)."
   ]
  },
  {
   "cell_type": "code",
   "execution_count": null,
   "id": "e0e61345",
   "metadata": {},
   "outputs": [],
   "source": [
    "features = list(test_data.columns)\n",
    "label = 'Choice'"
   ]
  },
  {
   "cell_type": "code",
   "execution_count": null,
   "id": "dea74976",
   "metadata": {},
   "outputs": [],
   "source": [
    "x_train = train_data[features]\n",
    "y_train = train_data[label]\n",
    "x_test = test_data[features]"
   ]
  },
  {
   "cell_type": "markdown",
   "id": "682cca5f",
   "metadata": {},
   "source": [
    "## Training Data Analysis"
   ]
  },
  {
   "cell_type": "code",
   "execution_count": null,
   "id": "0f5f1c9a",
   "metadata": {
    "scrolled": true
   },
   "outputs": [],
   "source": [
    "y_train.head()"
   ]
  },
  {
   "cell_type": "code",
   "execution_count": null,
   "id": "af60d7ff",
   "metadata": {
    "scrolled": true
   },
   "outputs": [],
   "source": [
    "x_train.info()"
   ]
  },
  {
   "cell_type": "code",
   "execution_count": null,
   "id": "591ede14",
   "metadata": {
    "scrolled": true
   },
   "outputs": [],
   "source": [
    "x_train.info()"
   ]
  },
  {
   "cell_type": "code",
   "execution_count": null,
   "id": "2de9b4f5",
   "metadata": {},
   "outputs": [],
   "source": [
    "A_features = x_train.columns[0:11]\n",
    "B_features = x_train.columns[11:22]\n",
    "\n",
    "A_train = x_train[A_features].copy()\n",
    "B_train = x_train[B_features].copy()\n",
    "\n",
    "AB_features = [s[2:] for s in list(A_features)]\n",
    "A_rename_cols_dict = dict(zip(A_features, AB_features))\n",
    "B_rename_cols_dict = dict(zip(B_features, AB_features))\n",
    "\n",
    "A_train.rename(columns = A_rename_cols_dict, inplace = True)\n",
    "B_train.rename(columns = B_rename_cols_dict, inplace = True)\n",
    "\n",
    "AB_train = pd.concat([A_train, B_train], axis = 0)"
   ]
  },
  {
   "cell_type": "code",
   "execution_count": null,
   "id": "60f514d2",
   "metadata": {},
   "outputs": [],
   "source": [
    "AB_train.head()"
   ]
  },
  {
   "cell_type": "code",
   "execution_count": null,
   "id": "2f15b0fc",
   "metadata": {
    "scrolled": true
   },
   "outputs": [],
   "source": [
    "x_train.head()"
   ]
  },
  {
   "cell_type": "markdown",
   "id": "aa70ad33",
   "metadata": {},
   "source": [
    "### Univariate Analysis"
   ]
  },
  {
   "cell_type": "markdown",
   "id": "472f4c47",
   "metadata": {},
   "source": [
    "#### Choice"
   ]
  },
  {
   "cell_type": "code",
   "execution_count": null,
   "id": "a7b24ccd",
   "metadata": {},
   "outputs": [],
   "source": [
    "y_train.describe()"
   ]
  },
  {
   "cell_type": "code",
   "execution_count": null,
   "id": "7e4587bb",
   "metadata": {},
   "outputs": [],
   "source": [
    "y_train.value_counts()"
   ]
  },
  {
   "cell_type": "code",
   "execution_count": null,
   "id": "88eff462",
   "metadata": {},
   "outputs": [],
   "source": [
    "A_more_influential = y_train.value_counts()[1]\n",
    "B_more_influential = y_train.value_counts()[0]\n",
    "plt.bar(x = ['A', 'B'], height = y_train.value_counts(), color = ['darkblue', 'gray'])\n",
    "plt.text(0 - 0.06, A_more_influential + 4, f'{A_more_influential}')\n",
    "plt.text(1 - 0.06, B_more_influential + 4, f'{B_more_influential}')\n",
    "plt.yticks([])\n",
    "plt.suptitle('Who is more influential between A and B')\n",
    "plt.title(f'Influencers are approximately equally distributed between A and B')\n",
    "\n",
    "plt.show()"
   ]
  },
  {
   "cell_type": "markdown",
   "id": "20bc0547",
   "metadata": {},
   "source": [
    "#### Follower Count"
   ]
  },
  {
   "cell_type": "code",
   "execution_count": null,
   "id": "301b0aa8",
   "metadata": {},
   "outputs": [],
   "source": [
    "follower_count = AB_train['follower_count']\n",
    "follower_count.describe()"
   ]
  },
  {
   "cell_type": "code",
   "execution_count": null,
   "id": "42146745",
   "metadata": {
    "scrolled": false
   },
   "outputs": [],
   "source": [
    "follower_count.isnull().value_counts()"
   ]
  },
  {
   "cell_type": "code",
   "execution_count": null,
   "id": "2862b8e3",
   "metadata": {
    "scrolled": true
   },
   "outputs": [],
   "source": [
    "fig, axes = plt.subplots(nrows = 1, ncols = 2, figsize = (10, 5))\n",
    "\n",
    "axes[0].hist(follower_count, bins=np.logspace(0, 8, 9))\n",
    "axes[0].set_xscale('log')\n",
    "axes[0].set_title('Follower Count Histogram of Training Set')\n",
    "axes[0].set_xlabel('Follower Count')\n",
    "axes[0].set_ylabel('Count')\n",
    "\n",
    "axes[1].boxplot(follower_count)\n",
    "axes[1].set_yscale('log')\n",
    "axes[1].set_title(\"Boxplot of Follower Count in the training set\")\n",
    "axes[1].set_ylabel('Follower Count')\n",
    "axes[1].set_xticklabels([])"
   ]
  },
  {
   "cell_type": "markdown",
   "id": "6a6c4ee8",
   "metadata": {},
   "source": [
    "#### Following Count"
   ]
  },
  {
   "cell_type": "code",
   "execution_count": null,
   "id": "298837b3",
   "metadata": {},
   "outputs": [],
   "source": [
    "following_count = AB_train['following_count']\n",
    "following_count.describe()"
   ]
  },
  {
   "cell_type": "code",
   "execution_count": null,
   "id": "5e282339",
   "metadata": {
    "scrolled": true
   },
   "outputs": [],
   "source": [
    "following_count.isnull().value_counts()"
   ]
  },
  {
   "cell_type": "code",
   "execution_count": null,
   "id": "ff855d01",
   "metadata": {},
   "outputs": [],
   "source": [
    "fig, axes = plt.subplots(nrows = 1, ncols = 2, figsize = (10, 5))\n",
    "\n",
    "axes[0].hist(following_count, bins=np.logspace(0, 6, 7))\n",
    "axes[0].set_xscale('log')\n",
    "axes[0].set_title('Following Count Histogram of Training Set')\n",
    "axes[0].set_xlabel('Following Count')\n",
    "axes[0].set_ylabel('Count')\n",
    "\n",
    "axes[1].boxplot(following_count)\n",
    "axes[1].set_yscale('log')\n",
    "axes[1].set_title(\"Boxplot of Following Count in the training set\")\n",
    "axes[1].set_ylabel('Following Count')\n",
    "axes[1].set_xticklabels([])"
   ]
  },
  {
   "cell_type": "markdown",
   "id": "d148ac6b",
   "metadata": {},
   "source": [
    "#### Listed Count"
   ]
  },
  {
   "cell_type": "code",
   "execution_count": null,
   "id": "0240e483",
   "metadata": {},
   "outputs": [],
   "source": [
    "listed_count = AB_train['listed_count']\n",
    "listed_count.describe()"
   ]
  },
  {
   "cell_type": "code",
   "execution_count": null,
   "id": "3dd08512",
   "metadata": {},
   "outputs": [],
   "source": [
    "listed_count.isnull().value_counts()"
   ]
  },
  {
   "cell_type": "code",
   "execution_count": null,
   "id": "98fe979e",
   "metadata": {},
   "outputs": [],
   "source": [
    "fig, axes = plt.subplots(nrows = 1, ncols = 2, figsize = (10, 5))\n",
    "\n",
    "axes[0].hist(listed_count, bins=np.logspace(-1, 6, 8))\n",
    "axes[0].set_xscale('log')\n",
    "axes[0].set_title('Listed Count Histogram of Training Set')\n",
    "axes[0].set_xlabel('Listed Count')\n",
    "axes[0].set_ylabel('Count')\n",
    "\n",
    "axes[1].boxplot(listed_count)\n",
    "axes[1].set_yscale('log')\n",
    "axes[1].set_title(\"Boxplot of Listed Count in the training set\")\n",
    "axes[1].set_ylabel('Listed Count')\n",
    "axes[1].set_xticklabels([])"
   ]
  },
  {
   "cell_type": "markdown",
   "id": "4e3e5188",
   "metadata": {},
   "source": [
    "#### Mentions Received"
   ]
  },
  {
   "cell_type": "code",
   "execution_count": null,
   "id": "a6cf00f6",
   "metadata": {
    "scrolled": false
   },
   "outputs": [],
   "source": [
    "mentions_received = AB_train['mentions_received']\n",
    "mentions_received.describe()"
   ]
  },
  {
   "cell_type": "code",
   "execution_count": null,
   "id": "06bc3bca",
   "metadata": {
    "scrolled": true
   },
   "outputs": [],
   "source": [
    "mentions_received.isnull().value_counts()"
   ]
  },
  {
   "cell_type": "code",
   "execution_count": null,
   "id": "f0ab20a7",
   "metadata": {
    "scrolled": true
   },
   "outputs": [],
   "source": [
    "fig, axes = plt.subplots(nrows = 1, ncols = 2, figsize = (10, 5))\n",
    "\n",
    "axes[0].hist(mentions_received, bins=np.logspace(-1, 6, 8))\n",
    "axes[0].set_xscale('log')\n",
    "axes[0].set_title('Mentions Received Histogram of Training Set')\n",
    "axes[0].set_xlabel('Mentions Received')\n",
    "axes[0].set_ylabel('Count')\n",
    "\n",
    "axes[1].boxplot(mentions_received)\n",
    "axes[1].set_yscale('log')\n",
    "axes[1].set_title(\"Boxplot of Mentions Received in the training set\")\n",
    "axes[1].set_ylabel('Mentions Received')\n",
    "axes[1].set_xticklabels([])"
   ]
  },
  {
   "cell_type": "markdown",
   "id": "30901dba",
   "metadata": {},
   "source": [
    "#### Retweets Received"
   ]
  },
  {
   "cell_type": "code",
   "execution_count": null,
   "id": "30355799",
   "metadata": {},
   "outputs": [],
   "source": [
    "retweets_received = AB_train['retweets_received']\n",
    "retweets_received.describe()"
   ]
  },
  {
   "cell_type": "code",
   "execution_count": null,
   "id": "6c7a2ad0",
   "metadata": {},
   "outputs": [],
   "source": [
    "retweets_received.isnull().value_counts()"
   ]
  },
  {
   "cell_type": "code",
   "execution_count": null,
   "id": "15994787",
   "metadata": {},
   "outputs": [],
   "source": [
    "fig, axes = plt.subplots(nrows = 1, ncols = 2, figsize = (10, 5))\n",
    "\n",
    "axes[0].hist(retweets_received, bins=np.logspace(-1, 5, 7))\n",
    "axes[0].set_xscale('log')\n",
    "axes[0].set_title('Retweets Received Histogram of Training Set')\n",
    "axes[0].set_xlabel('Retweets Received')\n",
    "axes[0].set_ylabel('Count')\n",
    "\n",
    "axes[1].boxplot(retweets_received)\n",
    "axes[1].set_yscale('log')\n",
    "axes[1].set_title(\"Boxplot of Retweets Received in the training set\")\n",
    "axes[1].set_ylabel('Retweets Received')\n",
    "axes[1].set_xticklabels([])"
   ]
  },
  {
   "cell_type": "markdown",
   "id": "9230a72e",
   "metadata": {},
   "source": [
    "#### Mentions Sent"
   ]
  },
  {
   "cell_type": "code",
   "execution_count": null,
   "id": "fb56faef",
   "metadata": {},
   "outputs": [],
   "source": [
    "mentions_sent = AB_train['mentions_sent']\n",
    "mentions_sent.describe()"
   ]
  },
  {
   "cell_type": "code",
   "execution_count": null,
   "id": "a68f7a1d",
   "metadata": {},
   "outputs": [],
   "source": [
    "mentions_sent.isnull().value_counts()"
   ]
  },
  {
   "cell_type": "code",
   "execution_count": null,
   "id": "74cbe46a",
   "metadata": {},
   "outputs": [],
   "source": [
    "fig, axes = plt.subplots(nrows = 1, ncols = 2, figsize = (10, 5))\n",
    "\n",
    "axes[0].hist(mentions_sent, bins=np.linspace(0, 80, 8))\n",
    "axes[0].set_yscale('log')\n",
    "axes[0].set_title('Mentions Sent Histogram of Training Set')\n",
    "axes[0].set_xlabel('Mentions Sent')\n",
    "axes[0].set_ylabel('Count')\n",
    "\n",
    "axes[1].boxplot(mentions_sent)\n",
    "axes[1].set_title(\"Boxplot of Mentions Sent in the training set\")\n",
    "axes[1].set_ylabel('Mentions Sent')\n",
    "axes[1].set_xticklabels([])"
   ]
  },
  {
   "cell_type": "markdown",
   "id": "d5b3395c",
   "metadata": {},
   "source": [
    "#### Retweets Sent"
   ]
  },
  {
   "cell_type": "code",
   "execution_count": null,
   "id": "b9a009a8",
   "metadata": {},
   "outputs": [],
   "source": [
    "retweets_sent = AB_train['retweets_sent']\n",
    "retweets_sent.describe()"
   ]
  },
  {
   "cell_type": "code",
   "execution_count": null,
   "id": "419ef8cd",
   "metadata": {},
   "outputs": [],
   "source": [
    "retweets_sent.isnull().value_counts()"
   ]
  },
  {
   "cell_type": "code",
   "execution_count": null,
   "id": "9bb2e2d8",
   "metadata": {},
   "outputs": [],
   "source": [
    "fig, axes = plt.subplots(nrows = 1, ncols = 2, figsize = (10, 5))\n",
    "\n",
    "axes[0].hist(retweets_sent, bins=np.linspace(0, 20, 10))\n",
    "axes[0].set_yscale('log')\n",
    "axes[0].set_title('Retweets Sent Histogram of Training Set')\n",
    "axes[0].set_xlabel('Retweets Sent')\n",
    "axes[0].set_ylabel('Count')\n",
    "\n",
    "axes[1].boxplot(retweets_sent)\n",
    "axes[1].set_title(\"Boxplot of Retweets Sent in the training set\")\n",
    "axes[1].set_ylabel('Retweets Sent')\n",
    "axes[1].set_xticklabels([])"
   ]
  },
  {
   "cell_type": "markdown",
   "id": "b9bbe362",
   "metadata": {},
   "source": [
    "#### Posts"
   ]
  },
  {
   "cell_type": "code",
   "execution_count": null,
   "id": "18524bbb",
   "metadata": {},
   "outputs": [],
   "source": [
    "posts = AB_train['posts']\n",
    "posts.describe()"
   ]
  },
  {
   "cell_type": "code",
   "execution_count": null,
   "id": "4877e235",
   "metadata": {},
   "outputs": [],
   "source": [
    "posts.isnull().value_counts()"
   ]
  },
  {
   "cell_type": "code",
   "execution_count": null,
   "id": "d705a331",
   "metadata": {
    "scrolled": true
   },
   "outputs": [],
   "source": [
    "fig, axes = plt.subplots(nrows = 1, ncols = 2, figsize = (10, 5))\n",
    "\n",
    "axes[0].hist(posts, bins=np.logspace(-1, 3, 5))\n",
    "axes[0].set_xscale('log')\n",
    "axes[0].set_yscale('log')\n",
    "axes[0].set_title('Posts Histogram of Training Set')\n",
    "axes[0].set_xlabel('Posts')\n",
    "axes[0].set_ylabel('Count')\n",
    "\n",
    "axes[1].boxplot(posts)\n",
    "axes[1].set_yscale('log')\n",
    "axes[1].set_title(\"Boxplot of Posts in the training set\")\n",
    "axes[1].set_ylabel('Posts')\n",
    "axes[1].set_xticklabels([])"
   ]
  },
  {
   "cell_type": "markdown",
   "id": "98fbfa4f",
   "metadata": {},
   "source": [
    "#### Network Feature 1"
   ]
  },
  {
   "cell_type": "code",
   "execution_count": null,
   "id": "b3003481",
   "metadata": {
    "scrolled": true
   },
   "outputs": [],
   "source": [
    "network_feature_1 = AB_train['network_feature_1']\n",
    "network_feature_1.describe()"
   ]
  },
  {
   "cell_type": "code",
   "execution_count": null,
   "id": "ab9a840d",
   "metadata": {},
   "outputs": [],
   "source": [
    "network_feature_1.isnull().value_counts()"
   ]
  },
  {
   "cell_type": "markdown",
   "id": "5ab28641",
   "metadata": {},
   "source": [
    "#### Network Feature 2"
   ]
  },
  {
   "cell_type": "code",
   "execution_count": null,
   "id": "561eef1c",
   "metadata": {
    "scrolled": true
   },
   "outputs": [],
   "source": [
    "network_feature_2 = AB_train['network_feature_2']\n",
    "network_feature_2.describe()"
   ]
  },
  {
   "cell_type": "code",
   "execution_count": null,
   "id": "13a854e4",
   "metadata": {
    "scrolled": true
   },
   "outputs": [],
   "source": [
    "network_feature_2.isnull().value_counts()"
   ]
  },
  {
   "cell_type": "markdown",
   "id": "044c4766",
   "metadata": {},
   "source": [
    "#### Network Feature 3"
   ]
  },
  {
   "cell_type": "code",
   "execution_count": null,
   "id": "d829228c",
   "metadata": {
    "scrolled": true
   },
   "outputs": [],
   "source": [
    "network_feature_3 = AB_train['network_feature_2']\n",
    "network_feature_3.describe()"
   ]
  },
  {
   "cell_type": "code",
   "execution_count": null,
   "id": "d71d9c21",
   "metadata": {
    "scrolled": true
   },
   "outputs": [],
   "source": [
    "network_feature_3.isnull().value_counts()"
   ]
  },
  {
   "cell_type": "markdown",
   "id": "1d8a46cf",
   "metadata": {},
   "source": [
    "---"
   ]
  },
  {
   "cell_type": "markdown",
   "id": "027009c0",
   "metadata": {},
   "source": [
    "## Preprocessing Data for Machine Learning"
   ]
  },
  {
   "cell_type": "code",
   "execution_count": null,
   "id": "beb63166",
   "metadata": {},
   "outputs": [],
   "source": [
    "train_data.corr()"
   ]
  },
  {
   "cell_type": "code",
   "execution_count": null,
   "id": "0f0c6ade",
   "metadata": {
    "scrolled": true
   },
   "outputs": [],
   "source": [
    "y_train.head()"
   ]
  },
  {
   "cell_type": "markdown",
   "id": "27805cf5",
   "metadata": {},
   "source": [
    "__y_train__ is ok. It's value's are 0 or 1 in the labels and go from 0 to 1 in the predictions, which must hold a threshold to classify the result."
   ]
  },
  {
   "cell_type": "code",
   "execution_count": null,
   "id": "8e1d663c",
   "metadata": {},
   "outputs": [],
   "source": [
    "x_train.head()"
   ]
  },
  {
   "cell_type": "markdown",
   "id": "48ec6fa0",
   "metadata": {},
   "source": [
    "We will do the following preprocess steps:\n",
    "\n",
    "- Transform A and B pairs of features into a single __diffrat__ feature ((A - B)/(A + B))\n",
    "- Change NaN to 0"
   ]
  },
  {
   "cell_type": "code",
   "execution_count": null,
   "id": "b6e6fb05",
   "metadata": {},
   "outputs": [],
   "source": [
    "preprocessed_y_train = y_train.copy()\n",
    "preprocessed_x_train = pd.DataFrame()\n",
    "preprocessed_x_test = pd.DataFrame()"
   ]
  },
  {
   "cell_type": "code",
   "execution_count": null,
   "id": "4f8b5fb3",
   "metadata": {},
   "outputs": [],
   "source": [
    "A_features = x_train.columns[0:11]\n",
    "B_features = x_train.columns[11:22]\n",
    "\n",
    "A_train = x_train[A_features].copy()\n",
    "B_train = x_train[B_features].copy()\n",
    "A_test = x_test[A_features].copy()\n",
    "B_test = x_test[B_features].copy()\n",
    "\n",
    "AB_features = [s[2:] for s in list(A_features)]\n",
    "\n",
    "for feature in AB_features:\n",
    "    preprocessed_x_train[feature] = (A_train['A_' + feature] - B_train['B_' + feature]) / (A_train['A_' + feature] + B_train['B_' + feature])\n",
    "    preprocessed_x_test[feature] = (A_test['A_' + feature] - B_test['B_' + feature]) / (A_test['A_' + feature] + B_test['B_' + feature])"
   ]
  },
  {
   "cell_type": "code",
   "execution_count": null,
   "id": "afd2b4b7",
   "metadata": {},
   "outputs": [],
   "source": [
    "preprocessed_x_train = preprocessed_x_train.fillna(0)\n",
    "preprocessed_x_test = preprocessed_x_test.fillna(0)"
   ]
  },
  {
   "cell_type": "code",
   "execution_count": null,
   "id": "f7998b59",
   "metadata": {
    "scrolled": true
   },
   "outputs": [],
   "source": [
    "preprocessed_x_train.head()"
   ]
  },
  {
   "cell_type": "markdown",
   "id": "105c8198",
   "metadata": {},
   "source": [
    "### To make this easy, we will save the preprocessed data in .csv files."
   ]
  },
  {
   "cell_type": "code",
   "execution_count": null,
   "id": "c8f24808",
   "metadata": {},
   "outputs": [],
   "source": [
    "preprocessed_y_train_path = os.path.join('data', 'preprocessed_y_train.csv')\n",
    "preprocessed_x_train_path = os.path.join('data', 'preprocessed_x_train.csv')\n",
    "preprocessed_x_test_path = os.path.join('data', 'preprocessed_x_test.csv')\n",
    "\n",
    "preprocessed_y_train.to_csv(preprocessed_y_train_path)\n",
    "preprocessed_x_train.to_csv(preprocessed_x_train_path)\n",
    "preprocessed_x_test.to_csv(preprocessed_x_test_path)"
   ]
  },
  {
   "cell_type": "markdown",
   "id": "cdc432a8",
   "metadata": {},
   "source": [
    "### Final Correlations"
   ]
  },
  {
   "cell_type": "code",
   "execution_count": null,
   "id": "2bb19848",
   "metadata": {},
   "outputs": [],
   "source": [
    "preprocessed_train_data = pd.concat([y_train, preprocessed_x_train], axis = 1)"
   ]
  },
  {
   "cell_type": "code",
   "execution_count": null,
   "id": "8e03651a",
   "metadata": {},
   "outputs": [],
   "source": [
    "preprocessed_train_data.corr()"
   ]
  }
 ],
 "metadata": {
  "kernelspec": {
   "display_name": "Python 3 (ipykernel)",
   "language": "python",
   "name": "python3"
  },
  "language_info": {
   "codemirror_mode": {
    "name": "ipython",
    "version": 3
   },
   "file_extension": ".py",
   "mimetype": "text/x-python",
   "name": "python",
   "nbconvert_exporter": "python",
   "pygments_lexer": "ipython3",
   "version": "3.10.12"
  }
 },
 "nbformat": 4,
 "nbformat_minor": 5
}
