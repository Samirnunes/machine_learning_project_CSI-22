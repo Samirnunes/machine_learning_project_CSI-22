{
 "cells": [
  {
   "cell_type": "markdown",
   "id": "b1d95af0",
   "metadata": {},
   "source": [
    "## Importing libraries"
   ]
  },
  {
   "cell_type": "code",
   "execution_count": 20,
   "id": "1f013fb8",
   "metadata": {},
   "outputs": [],
   "source": [
    "import os\n",
    "import pandas as pd\n",
    "import numpy as np\n",
    "import matplotlib.pyplot as plt"
   ]
  },
  {
   "cell_type": "markdown",
   "id": "4f03c33e",
   "metadata": {},
   "source": [
    "---"
   ]
  },
  {
   "cell_type": "markdown",
   "id": "c07c3802",
   "metadata": {},
   "source": [
    "## Importing data"
   ]
  },
  {
   "cell_type": "code",
   "execution_count": 21,
   "id": "3ac57fd5",
   "metadata": {},
   "outputs": [],
   "source": [
    "y_train_path = os.path.join('data', 'preprocessed_y_train.csv')\n",
    "x_train_path = os.path.join('data', 'preprocessed_x_train.csv')\n",
    "x_test_path = os.path.join('data', 'preprocessed_x_test.csv')\n",
    "\n",
    "y_train = pd.read_csv(y_train_path, index_col = [0])\n",
    "x_train = pd.read_csv(x_train_path, index_col = [0])\n",
    "x_test = pd.read_csv(x_test_path, index_col = [0])"
   ]
  },
  {
   "cell_type": "code",
   "execution_count": 22,
   "id": "98dec381",
   "metadata": {},
   "outputs": [
    {
     "data": {
      "text/html": [
       "<div>\n",
       "<style scoped>\n",
       "    .dataframe tbody tr th:only-of-type {\n",
       "        vertical-align: middle;\n",
       "    }\n",
       "\n",
       "    .dataframe tbody tr th {\n",
       "        vertical-align: top;\n",
       "    }\n",
       "\n",
       "    .dataframe thead th {\n",
       "        text-align: right;\n",
       "    }\n",
       "</style>\n",
       "<table border=\"1\" class=\"dataframe\">\n",
       "  <thead>\n",
       "    <tr style=\"text-align: right;\">\n",
       "      <th></th>\n",
       "      <th>Choice</th>\n",
       "    </tr>\n",
       "  </thead>\n",
       "  <tbody>\n",
       "    <tr>\n",
       "      <th>0</th>\n",
       "      <td>0</td>\n",
       "    </tr>\n",
       "    <tr>\n",
       "      <th>1</th>\n",
       "      <td>0</td>\n",
       "    </tr>\n",
       "    <tr>\n",
       "      <th>2</th>\n",
       "      <td>0</td>\n",
       "    </tr>\n",
       "    <tr>\n",
       "      <th>3</th>\n",
       "      <td>0</td>\n",
       "    </tr>\n",
       "    <tr>\n",
       "      <th>4</th>\n",
       "      <td>1</td>\n",
       "    </tr>\n",
       "  </tbody>\n",
       "</table>\n",
       "</div>"
      ],
      "text/plain": [
       "   Choice\n",
       "0       0\n",
       "1       0\n",
       "2       0\n",
       "3       0\n",
       "4       1"
      ]
     },
     "execution_count": 22,
     "metadata": {},
     "output_type": "execute_result"
    }
   ],
   "source": [
    "y_train.head()"
   ]
  },
  {
   "cell_type": "code",
   "execution_count": 23,
   "id": "7f849be4",
   "metadata": {},
   "outputs": [
    {
     "data": {
      "text/html": [
       "<div>\n",
       "<style scoped>\n",
       "    .dataframe tbody tr th:only-of-type {\n",
       "        vertical-align: middle;\n",
       "    }\n",
       "\n",
       "    .dataframe tbody tr th {\n",
       "        vertical-align: top;\n",
       "    }\n",
       "\n",
       "    .dataframe thead th {\n",
       "        text-align: right;\n",
       "    }\n",
       "</style>\n",
       "<table border=\"1\" class=\"dataframe\">\n",
       "  <thead>\n",
       "    <tr style=\"text-align: right;\">\n",
       "      <th></th>\n",
       "      <th>follower_count</th>\n",
       "      <th>following_count</th>\n",
       "      <th>listed_count</th>\n",
       "      <th>mentions_received</th>\n",
       "      <th>retweets_sent</th>\n",
       "      <th>network_feature_1</th>\n",
       "      <th>combined1</th>\n",
       "      <th>combined2</th>\n",
       "    </tr>\n",
       "  </thead>\n",
       "  <tbody>\n",
       "    <tr>\n",
       "      <th>0</th>\n",
       "      <td>-0.986855</td>\n",
       "      <td>-0.979940</td>\n",
       "      <td>-0.996454</td>\n",
       "      <td>-0.927069</td>\n",
       "      <td>-0.535702</td>\n",
       "      <td>-0.941176</td>\n",
       "      <td>1.086996</td>\n",
       "      <td>-1.877265</td>\n",
       "    </tr>\n",
       "    <tr>\n",
       "      <th>1</th>\n",
       "      <td>-0.290388</td>\n",
       "      <td>0.163296</td>\n",
       "      <td>-0.751904</td>\n",
       "      <td>0.381527</td>\n",
       "      <td>0.326360</td>\n",
       "      <td>0.387218</td>\n",
       "      <td>-1.130558</td>\n",
       "      <td>0.935012</td>\n",
       "    </tr>\n",
       "    <tr>\n",
       "      <th>2</th>\n",
       "      <td>0.337358</td>\n",
       "      <td>0.431939</td>\n",
       "      <td>-0.342020</td>\n",
       "      <td>0.943998</td>\n",
       "      <td>0.709406</td>\n",
       "      <td>0.938776</td>\n",
       "      <td>1.650897</td>\n",
       "      <td>1.510019</td>\n",
       "    </tr>\n",
       "    <tr>\n",
       "      <th>3</th>\n",
       "      <td>-0.997957</td>\n",
       "      <td>-0.999207</td>\n",
       "      <td>-0.985714</td>\n",
       "      <td>-0.973506</td>\n",
       "      <td>-0.972344</td>\n",
       "      <td>-0.993213</td>\n",
       "      <td>-1.714039</td>\n",
       "      <td>-1.745739</td>\n",
       "    </tr>\n",
       "    <tr>\n",
       "      <th>4</th>\n",
       "      <td>0.715710</td>\n",
       "      <td>-0.329965</td>\n",
       "      <td>0.871722</td>\n",
       "      <td>0.746540</td>\n",
       "      <td>0.497116</td>\n",
       "      <td>0.732704</td>\n",
       "      <td>0.622613</td>\n",
       "      <td>1.288425</td>\n",
       "    </tr>\n",
       "  </tbody>\n",
       "</table>\n",
       "</div>"
      ],
      "text/plain": [
       "   follower_count  following_count  listed_count  mentions_received  \\\n",
       "0       -0.986855        -0.979940     -0.996454          -0.927069   \n",
       "1       -0.290388         0.163296     -0.751904           0.381527   \n",
       "2        0.337358         0.431939     -0.342020           0.943998   \n",
       "3       -0.997957        -0.999207     -0.985714          -0.973506   \n",
       "4        0.715710        -0.329965      0.871722           0.746540   \n",
       "\n",
       "   retweets_sent  network_feature_1  combined1  combined2  \n",
       "0      -0.535702          -0.941176   1.086996  -1.877265  \n",
       "1       0.326360           0.387218  -1.130558   0.935012  \n",
       "2       0.709406           0.938776   1.650897   1.510019  \n",
       "3      -0.972344          -0.993213  -1.714039  -1.745739  \n",
       "4       0.497116           0.732704   0.622613   1.288425  "
      ]
     },
     "execution_count": 23,
     "metadata": {},
     "output_type": "execute_result"
    }
   ],
   "source": [
    "x_train.head()"
   ]
  },
  {
   "cell_type": "code",
   "execution_count": 24,
   "id": "0ba38014",
   "metadata": {
    "scrolled": true
   },
   "outputs": [
    {
     "data": {
      "text/html": [
       "<div>\n",
       "<style scoped>\n",
       "    .dataframe tbody tr th:only-of-type {\n",
       "        vertical-align: middle;\n",
       "    }\n",
       "\n",
       "    .dataframe tbody tr th {\n",
       "        vertical-align: top;\n",
       "    }\n",
       "\n",
       "    .dataframe thead th {\n",
       "        text-align: right;\n",
       "    }\n",
       "</style>\n",
       "<table border=\"1\" class=\"dataframe\">\n",
       "  <thead>\n",
       "    <tr style=\"text-align: right;\">\n",
       "      <th></th>\n",
       "      <th>follower_count</th>\n",
       "      <th>following_count</th>\n",
       "      <th>listed_count</th>\n",
       "      <th>mentions_received</th>\n",
       "      <th>retweets_sent</th>\n",
       "      <th>network_feature_1</th>\n",
       "      <th>combined1</th>\n",
       "      <th>combined2</th>\n",
       "    </tr>\n",
       "  </thead>\n",
       "  <tbody>\n",
       "    <tr>\n",
       "      <th>0</th>\n",
       "      <td>-0.391099</td>\n",
       "      <td>-0.169263</td>\n",
       "      <td>-0.555650</td>\n",
       "      <td>-0.657994</td>\n",
       "      <td>-0.382888</td>\n",
       "      <td>-0.715077</td>\n",
       "      <td>-0.300755</td>\n",
       "      <td>0.145751</td>\n",
       "    </tr>\n",
       "    <tr>\n",
       "      <th>1</th>\n",
       "      <td>-0.011451</td>\n",
       "      <td>-0.094035</td>\n",
       "      <td>-0.012355</td>\n",
       "      <td>0.454540</td>\n",
       "      <td>-0.200833</td>\n",
       "      <td>0.500000</td>\n",
       "      <td>-1.812650</td>\n",
       "      <td>-1.340918</td>\n",
       "    </tr>\n",
       "    <tr>\n",
       "      <th>2</th>\n",
       "      <td>-0.985223</td>\n",
       "      <td>0.825184</td>\n",
       "      <td>-0.954763</td>\n",
       "      <td>-0.995382</td>\n",
       "      <td>0.004156</td>\n",
       "      <td>-0.994401</td>\n",
       "      <td>-0.041999</td>\n",
       "      <td>0.210956</td>\n",
       "    </tr>\n",
       "    <tr>\n",
       "      <th>3</th>\n",
       "      <td>-0.912858</td>\n",
       "      <td>-0.481680</td>\n",
       "      <td>-0.943790</td>\n",
       "      <td>-0.771889</td>\n",
       "      <td>0.917062</td>\n",
       "      <td>-0.829787</td>\n",
       "      <td>-1.720317</td>\n",
       "      <td>1.232773</td>\n",
       "    </tr>\n",
       "    <tr>\n",
       "      <th>4</th>\n",
       "      <td>-0.045534</td>\n",
       "      <td>-0.995523</td>\n",
       "      <td>0.019681</td>\n",
       "      <td>0.317849</td>\n",
       "      <td>0.705035</td>\n",
       "      <td>0.295968</td>\n",
       "      <td>-0.828373</td>\n",
       "      <td>-1.514095</td>\n",
       "    </tr>\n",
       "  </tbody>\n",
       "</table>\n",
       "</div>"
      ],
      "text/plain": [
       "   follower_count  following_count  listed_count  mentions_received  \\\n",
       "0       -0.391099        -0.169263     -0.555650          -0.657994   \n",
       "1       -0.011451        -0.094035     -0.012355           0.454540   \n",
       "2       -0.985223         0.825184     -0.954763          -0.995382   \n",
       "3       -0.912858        -0.481680     -0.943790          -0.771889   \n",
       "4       -0.045534        -0.995523      0.019681           0.317849   \n",
       "\n",
       "   retweets_sent  network_feature_1  combined1  combined2  \n",
       "0      -0.382888          -0.715077  -0.300755   0.145751  \n",
       "1      -0.200833           0.500000  -1.812650  -1.340918  \n",
       "2       0.004156          -0.994401  -0.041999   0.210956  \n",
       "3       0.917062          -0.829787  -1.720317   1.232773  \n",
       "4       0.705035           0.295968  -0.828373  -1.514095  "
      ]
     },
     "execution_count": 24,
     "metadata": {},
     "output_type": "execute_result"
    }
   ],
   "source": [
    "x_test.head()"
   ]
  },
  {
   "cell_type": "markdown",
   "id": "2d717521",
   "metadata": {},
   "source": [
    "---"
   ]
  },
  {
   "cell_type": "markdown",
   "id": "ea8fc066",
   "metadata": {},
   "source": [
    "## Importing Models"
   ]
  },
  {
   "cell_type": "code",
   "execution_count": 25,
   "id": "7e2bb4c0",
   "metadata": {},
   "outputs": [],
   "source": [
    "from sklearn.metrics import roc_curve, auc\n",
    "from sklearn.model_selection import KFold\n",
    "from sklearn.linear_model import LogisticRegression\n",
    "from sklearn.tree import DecisionTreeClassifier\n",
    "from sklearn.ensemble import RandomForestClassifier\n",
    "from sklearn.svm import SVC\n",
    "from sklearn.naive_bayes import GaussianNB"
   ]
  },
  {
   "cell_type": "markdown",
   "id": "8e39510a",
   "metadata": {},
   "source": [
    "---"
   ]
  },
  {
   "cell_type": "code",
   "execution_count": 26,
   "id": "b0557d7b",
   "metadata": {},
   "outputs": [],
   "source": [
    "class ModelEvaluator():\n",
    "    def __init__(self, Model, params = {}):\n",
    "        self.Model = Model\n",
    "        self.params = params\n",
    "    \n",
    "    def kfold_evaluate(self, x_train, y_train, n_splits):\n",
    "        '''\n",
    "        Cross-validates the model based on K-Fold of n_splits splits from x_train (features) and y_train (labels). \n",
    "        Prints the AUC (Area Under the ROC Curve) mean score for the K-Fold.\n",
    "        '''\n",
    "        indexes = np.array(x_train.index)\n",
    "        np.random.shuffle(indexes)\n",
    "        x_shuffled = x_train.loc[indexes].copy()\n",
    "        y_shuffled = y_train.loc[indexes].copy()\n",
    "        kfold = KFold(n_splits)\n",
    "        kfold_auc = []\n",
    "\n",
    "        for (train_indexes, eval_indexes) in kfold.split(x_train):\n",
    "            kfold_x_train = x_shuffled.iloc[train_indexes].copy()\n",
    "            kfold_y_train = y_shuffled.iloc[train_indexes].copy()\n",
    "            kfold_x_eval = x_shuffled.iloc[eval_indexes].copy()\n",
    "            kfold_y_eval = y_shuffled.iloc[eval_indexes].copy()\n",
    "\n",
    "            model_instance = self.Model()\n",
    "            model_instance.set_params(**self.params)\n",
    "            model_instance.fit(kfold_x_train, kfold_y_train.values.ravel())\n",
    "            kfold_y_pred = [prob[1] for prob in model_instance.predict_proba(kfold_x_eval)]\n",
    "            fpr, tpr, thresholds = roc_curve(kfold_y_eval, kfold_y_pred, pos_label=1)\n",
    "            kfold_auc.append(auc(fpr, tpr))\n",
    "\n",
    "        print(f'{model_instance} KFold auc: {sum(kfold_auc)/len(kfold_auc)}')\n",
    "    \n",
    "    def export_predictions(self, file_name):\n",
    "        '''\n",
    "        Exports the predictions from the model in a .csv file.\n",
    "        Uses the submission standard for the Kaggle's challenge 'Influencers in Social Networks'.\n",
    "        '''\n",
    "        model = self.Model()\n",
    "        model.set_params(**self.params)\n",
    "        model.fit(x_train, y_train.values.ravel())\n",
    "\n",
    "        y_pred = [prob[1] for prob in model.predict_proba(x_test)]\n",
    "        y_pred = pd.DataFrame(y_pred, index = x_test.index.rename('Id'), columns = ['Choice'])\n",
    "        y_pred.index = y_pred.index + 1\n",
    "\n",
    "        y_pred_path = os.path.join('data', 'predictions', f'{file_name}.csv')\n",
    "        y_pred.to_csv(y_pred_path, index = True)"
   ]
  },
  {
   "cell_type": "markdown",
   "id": "793948c5",
   "metadata": {},
   "source": [
    "## 1) Logistic Regression"
   ]
  },
  {
   "cell_type": "code",
   "execution_count": 27,
   "id": "be9e4733",
   "metadata": {},
   "outputs": [],
   "source": [
    "logreg_params = {'random_state': 2,\n",
    "                 'max_iter': 100,\n",
    "                 'penalty': None}\n",
    "\n",
    "logreg_evaluator = ModelEvaluator(LogisticRegression, logreg_params)"
   ]
  },
  {
   "cell_type": "code",
   "execution_count": 28,
   "id": "87cac51d",
   "metadata": {},
   "outputs": [
    {
     "name": "stdout",
     "output_type": "stream",
     "text": [
      "LogisticRegression(penalty=None, random_state=2) KFold auc: 0.8561744386871778\n"
     ]
    }
   ],
   "source": [
    "logreg_evaluator.kfold_evaluate(x_train, y_train, 10)"
   ]
  },
  {
   "cell_type": "code",
   "execution_count": 29,
   "id": "3f7082f7",
   "metadata": {},
   "outputs": [],
   "source": [
    "logreg_evaluator.export_predictions('logreg_predictions')"
   ]
  },
  {
   "cell_type": "markdown",
   "id": "173cc630",
   "metadata": {},
   "source": [
    "## 2) Decision Tree"
   ]
  },
  {
   "cell_type": "code",
   "execution_count": 30,
   "id": "965b14d1",
   "metadata": {},
   "outputs": [],
   "source": [
    "dt_params = {'random_state': 2,\n",
    "             'max_depth': 4,\n",
    "             'min_samples_leaf': 11}\n",
    "\n",
    "dt_evaluator = ModelEvaluator(DecisionTreeClassifier, dt_params)"
   ]
  },
  {
   "cell_type": "code",
   "execution_count": 31,
   "id": "9fee2ad6",
   "metadata": {},
   "outputs": [
    {
     "name": "stdout",
     "output_type": "stream",
     "text": [
      "DecisionTreeClassifier(max_depth=4, min_samples_leaf=11, random_state=2) KFold auc: 0.8428899621125933\n"
     ]
    }
   ],
   "source": [
    "dt_evaluator.kfold_evaluate(x_train, y_train, 10)"
   ]
  },
  {
   "cell_type": "code",
   "execution_count": 32,
   "id": "c1cd40bd",
   "metadata": {},
   "outputs": [],
   "source": [
    "dt_evaluator.export_predictions('dt_predictions')"
   ]
  },
  {
   "cell_type": "markdown",
   "id": "d319ede5",
   "metadata": {},
   "source": [
    "## 3) Random Forest"
   ]
  },
  {
   "cell_type": "code",
   "execution_count": 33,
   "id": "9b30bda9",
   "metadata": {},
   "outputs": [],
   "source": [
    "rf_params = {'random_state': 2,\n",
    "             'n_estimators': 1000,\n",
    "             'max_depth': 6,\n",
    "             'max_features': 'sqrt',\n",
    "             'min_samples_leaf': 2}\n",
    "\n",
    "rf_evaluator = ModelEvaluator(RandomForestClassifier, rf_params)"
   ]
  },
  {
   "cell_type": "code",
   "execution_count": 34,
   "id": "bd7c7488",
   "metadata": {},
   "outputs": [
    {
     "name": "stdout",
     "output_type": "stream",
     "text": [
      "RandomForestClassifier(max_depth=6, min_samples_leaf=2, n_estimators=1000,\n",
      "                       random_state=2) KFold auc: 0.8611853705867658\n"
     ]
    }
   ],
   "source": [
    "rf_evaluator.kfold_evaluate(x_train, y_train, 5)"
   ]
  },
  {
   "cell_type": "code",
   "execution_count": 35,
   "id": "7a5b2481",
   "metadata": {},
   "outputs": [],
   "source": [
    "rf_evaluator.export_predictions('rf_predictions')"
   ]
  },
  {
   "cell_type": "markdown",
   "id": "eaa5d674",
   "metadata": {},
   "source": [
    "## 4) Support Vector Machine"
   ]
  },
  {
   "cell_type": "code",
   "execution_count": 36,
   "id": "1835503a",
   "metadata": {},
   "outputs": [],
   "source": [
    "svm_params = {'probability': True,\n",
    "              'degree': 3}\n",
    "\n",
    "svm_evaluator = ModelEvaluator(SVC, svm_params)"
   ]
  },
  {
   "cell_type": "code",
   "execution_count": 37,
   "id": "784c41d4",
   "metadata": {},
   "outputs": [
    {
     "name": "stdout",
     "output_type": "stream",
     "text": [
      "SVC(probability=True) KFold auc: 0.8305574777262933\n"
     ]
    }
   ],
   "source": [
    "svm_evaluator.kfold_evaluate(x_train, y_train, 10)"
   ]
  },
  {
   "cell_type": "code",
   "execution_count": 38,
   "id": "2c1f2d16",
   "metadata": {},
   "outputs": [],
   "source": [
    "svm_evaluator.export_predictions('svm_predictions')"
   ]
  },
  {
   "cell_type": "markdown",
   "id": "1dc6a731",
   "metadata": {},
   "source": [
    "## 5) Ridge Classification with Logistic Regression"
   ]
  },
  {
   "cell_type": "code",
   "execution_count": 39,
   "id": "c78a08b1",
   "metadata": {},
   "outputs": [],
   "source": [
    "ridge_params = {'random_state': 2,\n",
    "                 'max_iter': 100,\n",
    "                 'penalty': 'l2',\n",
    "                 'C': 0.5}\n",
    "\n",
    "ridge_evaluator = ModelEvaluator(LogisticRegression, ridge_params)"
   ]
  },
  {
   "cell_type": "code",
   "execution_count": 40,
   "id": "3fe3cca7",
   "metadata": {},
   "outputs": [
    {
     "name": "stdout",
     "output_type": "stream",
     "text": [
      "LogisticRegression(C=0.5, random_state=2) KFold auc: 0.8560698142589098\n"
     ]
    }
   ],
   "source": [
    "ridge_evaluator.kfold_evaluate(x_train, y_train, 5)"
   ]
  },
  {
   "cell_type": "code",
   "execution_count": 41,
   "id": "5db007be",
   "metadata": {},
   "outputs": [],
   "source": [
    "ridge_evaluator.export_predictions('ridge_predictions')"
   ]
  },
  {
   "cell_type": "markdown",
   "id": "5828a7da",
   "metadata": {},
   "source": [
    "## 6) Lasso Classification with Logistic Regression"
   ]
  },
  {
   "cell_type": "code",
   "execution_count": 42,
   "id": "6962c589",
   "metadata": {},
   "outputs": [],
   "source": [
    "lasso_params = {'random_state': 2,\n",
    "                 'max_iter': 100,\n",
    "                 'solver': 'liblinear',\n",
    "                 'penalty': 'l1',\n",
    "                 'C': 0.1}\n",
    "\n",
    "lasso_evaluator = ModelEvaluator(LogisticRegression, lasso_params)"
   ]
  },
  {
   "cell_type": "code",
   "execution_count": 43,
   "id": "f3529b38",
   "metadata": {},
   "outputs": [
    {
     "name": "stdout",
     "output_type": "stream",
     "text": [
      "LogisticRegression(C=0.1, penalty='l1', random_state=2, solver='liblinear') KFold auc: 0.8565326996742855\n"
     ]
    }
   ],
   "source": [
    "lasso_evaluator.kfold_evaluate(x_train, y_train, 5)"
   ]
  },
  {
   "cell_type": "code",
   "execution_count": 44,
   "id": "e333c34c",
   "metadata": {},
   "outputs": [],
   "source": [
    "lasso_evaluator.export_predictions('lasso_predictions')"
   ]
  },
  {
   "cell_type": "markdown",
   "id": "04d18efc",
   "metadata": {},
   "source": [
    "## 7) Gaussian Naive Bayes"
   ]
  },
  {
   "cell_type": "code",
   "execution_count": 45,
   "id": "97a7ac3a",
   "metadata": {},
   "outputs": [],
   "source": [
    "gnb_params = {}\n",
    "\n",
    "gnb_evaluator = ModelEvaluator(GaussianNB, gnb_params)"
   ]
  },
  {
   "cell_type": "code",
   "execution_count": 46,
   "id": "aaed89c2",
   "metadata": {},
   "outputs": [
    {
     "name": "stdout",
     "output_type": "stream",
     "text": [
      "GaussianNB() KFold auc: 0.8530458373695213\n"
     ]
    }
   ],
   "source": [
    "gnb_evaluator.kfold_evaluate(x_train, y_train, 10)"
   ]
  },
  {
   "cell_type": "code",
   "execution_count": 47,
   "id": "30819f65",
   "metadata": {},
   "outputs": [],
   "source": [
    "gnb_evaluator.export_predictions('gnb_predictions')"
   ]
  }
 ],
 "metadata": {
  "kernelspec": {
   "display_name": "Python 3 (ipykernel)",
   "language": "python",
   "name": "python3"
  },
  "language_info": {
   "codemirror_mode": {
    "name": "ipython",
    "version": 3
   },
   "file_extension": ".py",
   "mimetype": "text/x-python",
   "name": "python",
   "nbconvert_exporter": "python",
   "pygments_lexer": "ipython3",
   "version": "3.9.13"
  }
 },
 "nbformat": 4,
 "nbformat_minor": 5
}
