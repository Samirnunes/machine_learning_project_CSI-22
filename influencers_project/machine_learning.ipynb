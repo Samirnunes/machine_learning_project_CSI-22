{
 "cells": [
  {
   "cell_type": "markdown",
   "id": "b1d95af0",
   "metadata": {},
   "source": [
    "## Importing libraries"
   ]
  },
  {
   "cell_type": "code",
   "execution_count": null,
   "id": "1f013fb8",
   "metadata": {},
   "outputs": [],
   "source": [
    "import os\n",
    "import pandas as pd\n",
    "import numpy as np\n",
    "import matplotlib.pyplot as plt"
   ]
  },
  {
   "cell_type": "markdown",
   "id": "4f03c33e",
   "metadata": {},
   "source": [
    "---"
   ]
  },
  {
   "cell_type": "markdown",
   "id": "c07c3802",
   "metadata": {},
   "source": [
    "## Importing data"
   ]
  },
  {
   "cell_type": "code",
   "execution_count": null,
   "id": "3ac57fd5",
   "metadata": {},
   "outputs": [],
   "source": [
    "y_train_path = os.path.join('data', 'preprocessed_y_train.csv')\n",
    "x_train_path = os.path.join('data', 'preprocessed_x_train.csv')\n",
    "x_test_path = os.path.join('data', 'preprocessed_x_test.csv')\n",
    "\n",
    "y_train = pd.read_csv(y_train_path, index_col = [0])\n",
    "x_train = pd.read_csv(x_train_path, index_col = [0])\n",
    "x_test = pd.read_csv(x_test_path, index_col = [0])"
   ]
  },
  {
   "cell_type": "code",
   "execution_count": null,
   "id": "98dec381",
   "metadata": {},
   "outputs": [],
   "source": [
    "y_train.head()"
   ]
  },
  {
   "cell_type": "code",
   "execution_count": null,
   "id": "7f849be4",
   "metadata": {},
   "outputs": [],
   "source": [
    "x_train.head()"
   ]
  },
  {
   "cell_type": "code",
   "execution_count": null,
   "id": "0ba38014",
   "metadata": {},
   "outputs": [],
   "source": [
    "x_test.head()"
   ]
  },
  {
   "cell_type": "markdown",
   "id": "2d717521",
   "metadata": {},
   "source": [
    "---"
   ]
  },
  {
   "cell_type": "markdown",
   "id": "ea8fc066",
   "metadata": {},
   "source": [
    "## Importing Models"
   ]
  },
  {
   "cell_type": "code",
   "execution_count": null,
   "id": "7e2bb4c0",
   "metadata": {},
   "outputs": [],
   "source": [
    "from sklearn.metrics import roc_curve, auc\n",
    "from sklearn.model_selection import KFold\n",
    "from sklearn.linear_model import LogisticRegression"
   ]
  },
  {
   "cell_type": "markdown",
   "id": "8e39510a",
   "metadata": {},
   "source": [
    "---"
   ]
  },
  {
   "cell_type": "markdown",
   "id": "793948c5",
   "metadata": {},
   "source": [
    "## 1) LogisticRegression"
   ]
  },
  {
   "cell_type": "code",
   "execution_count": null,
   "id": "be9e4733",
   "metadata": {},
   "outputs": [],
   "source": [
    "logisticRegression = LogisticRegression()"
   ]
  },
  {
   "cell_type": "markdown",
   "id": "18a6e0f9",
   "metadata": {},
   "source": [
    "## Model Evaluation"
   ]
  },
  {
   "cell_type": "code",
   "execution_count": null,
   "id": "ebab15af",
   "metadata": {},
   "outputs": [],
   "source": [
    "def evaluate(model, x_train, y_train, n_splits):\n",
    "    indexes = np.array(x_train.index)\n",
    "    np.random.shuffle(indexes)\n",
    "    x_shuffled = x_train.loc[indexes].copy()\n",
    "    y_shuffled = y_train.loc[indexes].copy()\n",
    "    kFold = KFold(n_splits)\n",
    "    kFold_auc = []\n",
    "\n",
    "    for (train_indexes, eval_indexes) in kFold.split(x_train):\n",
    "        kFold_x_train = x_shuffled.iloc[train_indexes].copy()\n",
    "        kFold_y_train = y_shuffled.iloc[train_indexes].copy()\n",
    "        kFold_x_eval = x_shuffled.iloc[eval_indexes].copy()\n",
    "        kFold_y_eval = y_shuffled.iloc[eval_indexes].copy()\n",
    "\n",
    "        model_instance = model()\n",
    "        model_instance.fit(kFold_x_train, kFold_y_train.values.ravel())\n",
    "        kFold_y_pred = model_instance.predict(kFold_x_eval)\n",
    "        fpr, tpr, thresholds = roc_curve(kFold_y_eval, kFold_y_pred, pos_label=1)\n",
    "        kFold_auc.append(auc(fpr, tpr))\n",
    "    \n",
    "    print(f'{model_instance} KFold auc: {sum(kFold_auc)/len(kFold_auc)}')"
   ]
  },
  {
   "cell_type": "code",
   "execution_count": null,
   "id": "6f2ca246",
   "metadata": {},
   "outputs": [],
   "source": [
    "evaluate(LogisticRegression, x_train, y_train, 10)"
   ]
  },
  {
   "cell_type": "code",
   "execution_count": null,
   "id": "3f7082f7",
   "metadata": {},
   "outputs": [],
   "source": [
    "model = logisticRegression\n",
    "model.fit(x_train, y_train.values.ravel())\n",
    "\n",
    "y_pred = pd.DataFrame(model.predict(x_test), index = x_test.index.rename('Id'), columns = ['Choice'])\n",
    "y_pred.index = y_pred.index + 1\n",
    "\n",
    "y_pred_path = os.path.join('data', 'predictions.csv')\n",
    "y_pred.to_csv(y_pred_path, index = True)"
   ]
  }
 ],
 "metadata": {
  "kernelspec": {
   "display_name": "Python 3 (ipykernel)",
   "language": "python",
   "name": "python3"
  },
  "language_info": {
   "codemirror_mode": {
    "name": "ipython",
    "version": 3
   },
   "file_extension": ".py",
   "mimetype": "text/x-python",
   "name": "python",
   "nbconvert_exporter": "python",
   "pygments_lexer": "ipython3",
   "version": "3.10.12"
  }
 },
 "nbformat": 4,
 "nbformat_minor": 5
}
