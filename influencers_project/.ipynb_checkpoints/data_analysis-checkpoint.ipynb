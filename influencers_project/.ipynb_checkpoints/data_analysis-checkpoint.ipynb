{
 "cells": [
  {
   "cell_type": "markdown",
   "id": "7472c416",
   "metadata": {},
   "source": [
    "## Importing libraries"
   ]
  },
  {
   "cell_type": "code",
   "execution_count": 66,
   "id": "283fb513",
   "metadata": {},
   "outputs": [],
   "source": [
    "import os\n",
    "import pandas as pd\n",
    "import numpy as np\n",
    "import matplotlib.pyplot as plt\n",
    "import seaborn as sns"
   ]
  },
  {
   "cell_type": "markdown",
   "id": "ee0141e4",
   "metadata": {},
   "source": [
    "---"
   ]
  },
  {
   "cell_type": "markdown",
   "id": "57fb8ebc",
   "metadata": {},
   "source": [
    "## Importing data"
   ]
  },
  {
   "cell_type": "code",
   "execution_count": 67,
   "id": "b2b57ac1",
   "metadata": {},
   "outputs": [],
   "source": [
    "train_path = os.path.join('data', 'train.csv')\n",
    "test_path = os.path.join('data', 'test.csv')\n",
    "\n",
    "train_data = pd.read_csv(train_path)\n",
    "test_data = pd.read_csv(test_path)"
   ]
  },
  {
   "cell_type": "markdown",
   "id": "d7c8b6ac",
   "metadata": {},
   "source": [
    "---"
   ]
  },
  {
   "cell_type": "markdown",
   "id": "31d9a848",
   "metadata": {},
   "source": [
    "## Data overview"
   ]
  },
  {
   "cell_type": "markdown",
   "id": "4b1ac1a5",
   "metadata": {},
   "source": [
    "### Training Data"
   ]
  },
  {
   "cell_type": "code",
   "execution_count": 68,
   "id": "1b014d34",
   "metadata": {},
   "outputs": [
    {
     "data": {
      "text/plain": [
       "(5500, 23)"
      ]
     },
     "execution_count": 68,
     "metadata": {},
     "output_type": "execute_result"
    }
   ],
   "source": [
    "train_data.shape"
   ]
  },
  {
   "cell_type": "code",
   "execution_count": 69,
   "id": "1c65a8f4",
   "metadata": {
    "scrolled": false
   },
   "outputs": [
    {
     "data": {
      "text/plain": [
       "Choice                   int64\n",
       "A_follower_count         int64\n",
       "A_following_count        int64\n",
       "A_listed_count           int64\n",
       "A_mentions_received    float64\n",
       "A_retweets_received    float64\n",
       "A_mentions_sent        float64\n",
       "A_retweets_sent        float64\n",
       "A_posts                float64\n",
       "A_network_feature_1      int64\n",
       "A_network_feature_2    float64\n",
       "A_network_feature_3    float64\n",
       "B_follower_count         int64\n",
       "B_following_count        int64\n",
       "B_listed_count           int64\n",
       "B_mentions_received    float64\n",
       "B_retweets_received    float64\n",
       "B_mentions_sent        float64\n",
       "B_retweets_sent        float64\n",
       "B_posts                float64\n",
       "B_network_feature_1      int64\n",
       "B_network_feature_2    float64\n",
       "B_network_feature_3    float64\n",
       "dtype: object"
      ]
     },
     "execution_count": 69,
     "metadata": {},
     "output_type": "execute_result"
    }
   ],
   "source": [
    "train_data.dtypes"
   ]
  },
  {
   "cell_type": "markdown",
   "id": "c14005ef",
   "metadata": {},
   "source": [
    "Our possible features are: \n",
    "\n",
    "**A_follower_count**: Amount of followers from individual A\n",
    "\n",
    "**A_following_count**: Amount of accounts individual A follows\n",
    "\n",
    "**A_listed_count**: Amount of lists individual A is included in\n",
    "\n",
    "**A_mentions_received**: Amount of times individual A was mentioned\n",
    "\n",
    "**A_retweets_received**: Amount of retweets received by individual A\n",
    "\n",
    "**A_mentions_sent**: Amount of times individual A mentioned someone\n",
    "\n",
    "**A_retweets_sent**: Amount of retweets made by individual A\n",
    "\n",
    "**A_posts**: Amount of posts made by individual A\n",
    "\n",
    "**A_network_feature_1**: Description of the local follower network of individual A\n",
    "\n",
    "**A_network_feature_2**: Description of the local follower network of individual A\n",
    "\n",
    "**A_network_feature_3**: Description of the local follower network of individual A\n",
    "\n",
    "**B_follower_count**: Amount of followers from individual B\n",
    "\n",
    "**B_following_count**: Amount of accounts individual B follows\n",
    "\n",
    "**B_listed_count**: Amount of lists individual B is included in\n",
    "\n",
    "**B_mentions_received**: Amount of times individual B was mentioned\n",
    "\n",
    "**B_retweets_received**: Amount of retweets received by individual B\n",
    "\n",
    "**B_mentions_sent**: Amount of times individual B mentioned someone\n",
    "\n",
    "**B_retweets_sent**: Amount of retweets made by individual B\n",
    "\n",
    "**B_posts**: Amount of posts made by individual B\n",
    "\n",
    "**B_network_feature_1**: Description of the local follower network of individual B\n",
    "\n",
    "**B_network_feature_2**: Description of the local follower network of individual B\n",
    "\n",
    "**B_network_feature_3**: Description of the local follower network of individual B"
   ]
  },
  {
   "cell_type": "code",
   "execution_count": 70,
   "id": "6b632cd5",
   "metadata": {
    "scrolled": false
   },
   "outputs": [
    {
     "data": {
      "text/html": [
       "<div>\n",
       "<style scoped>\n",
       "    .dataframe tbody tr th:only-of-type {\n",
       "        vertical-align: middle;\n",
       "    }\n",
       "\n",
       "    .dataframe tbody tr th {\n",
       "        vertical-align: top;\n",
       "    }\n",
       "\n",
       "    .dataframe thead th {\n",
       "        text-align: right;\n",
       "    }\n",
       "</style>\n",
       "<table border=\"1\" class=\"dataframe\">\n",
       "  <thead>\n",
       "    <tr style=\"text-align: right;\">\n",
       "      <th></th>\n",
       "      <th>Choice</th>\n",
       "      <th>A_follower_count</th>\n",
       "      <th>A_following_count</th>\n",
       "      <th>A_listed_count</th>\n",
       "      <th>A_mentions_received</th>\n",
       "      <th>A_retweets_received</th>\n",
       "      <th>A_mentions_sent</th>\n",
       "      <th>A_retweets_sent</th>\n",
       "      <th>A_posts</th>\n",
       "      <th>A_network_feature_1</th>\n",
       "      <th>...</th>\n",
       "      <th>B_following_count</th>\n",
       "      <th>B_listed_count</th>\n",
       "      <th>B_mentions_received</th>\n",
       "      <th>B_retweets_received</th>\n",
       "      <th>B_mentions_sent</th>\n",
       "      <th>B_retweets_sent</th>\n",
       "      <th>B_posts</th>\n",
       "      <th>B_network_feature_1</th>\n",
       "      <th>B_network_feature_2</th>\n",
       "      <th>B_network_feature_3</th>\n",
       "    </tr>\n",
       "  </thead>\n",
       "  <tbody>\n",
       "    <tr>\n",
       "      <th>0</th>\n",
       "      <td>0</td>\n",
       "      <td>228</td>\n",
       "      <td>302</td>\n",
       "      <td>3</td>\n",
       "      <td>0.583979</td>\n",
       "      <td>0.100503</td>\n",
       "      <td>0.100503</td>\n",
       "      <td>0.100503</td>\n",
       "      <td>0.362150</td>\n",
       "      <td>2</td>\n",
       "      <td>...</td>\n",
       "      <td>29808</td>\n",
       "      <td>1689</td>\n",
       "      <td>15.430498</td>\n",
       "      <td>3.984029</td>\n",
       "      <td>8.204331</td>\n",
       "      <td>0.332423</td>\n",
       "      <td>6.988815</td>\n",
       "      <td>66</td>\n",
       "      <td>75.530303</td>\n",
       "      <td>1916.893939</td>\n",
       "    </tr>\n",
       "    <tr>\n",
       "      <th>1</th>\n",
       "      <td>0</td>\n",
       "      <td>21591</td>\n",
       "      <td>1179</td>\n",
       "      <td>228</td>\n",
       "      <td>90.456506</td>\n",
       "      <td>25.798292</td>\n",
       "      <td>5.709329</td>\n",
       "      <td>1.111159</td>\n",
       "      <td>5.176620</td>\n",
       "      <td>369</td>\n",
       "      <td>...</td>\n",
       "      <td>848</td>\n",
       "      <td>1610</td>\n",
       "      <td>40.495021</td>\n",
       "      <td>8.943607</td>\n",
       "      <td>3.227677</td>\n",
       "      <td>0.564343</td>\n",
       "      <td>1.070321</td>\n",
       "      <td>163</td>\n",
       "      <td>132.030675</td>\n",
       "      <td>2931.515337</td>\n",
       "    </tr>\n",
       "    <tr>\n",
       "      <th>2</th>\n",
       "      <td>0</td>\n",
       "      <td>7310</td>\n",
       "      <td>1215</td>\n",
       "      <td>101</td>\n",
       "      <td>25.503644</td>\n",
       "      <td>9.556347</td>\n",
       "      <td>5.361519</td>\n",
       "      <td>0.591206</td>\n",
       "      <td>3.589718</td>\n",
       "      <td>95</td>\n",
       "      <td>...</td>\n",
       "      <td>482</td>\n",
       "      <td>206</td>\n",
       "      <td>0.734696</td>\n",
       "      <td>0.354379</td>\n",
       "      <td>0.603202</td>\n",
       "      <td>0.100503</td>\n",
       "      <td>0.603202</td>\n",
       "      <td>3</td>\n",
       "      <td>10.333333</td>\n",
       "      <td>277.333333</td>\n",
       "    </tr>\n",
       "    <tr>\n",
       "      <th>3</th>\n",
       "      <td>0</td>\n",
       "      <td>20</td>\n",
       "      <td>7</td>\n",
       "      <td>2</td>\n",
       "      <td>7.690824</td>\n",
       "      <td>0.277306</td>\n",
       "      <td>1.331508</td>\n",
       "      <td>0.100503</td>\n",
       "      <td>2.830627</td>\n",
       "      <td>6</td>\n",
       "      <td>...</td>\n",
       "      <td>17637</td>\n",
       "      <td>278</td>\n",
       "      <td>572.874856</td>\n",
       "      <td>390.293681</td>\n",
       "      <td>27.552040</td>\n",
       "      <td>7.167557</td>\n",
       "      <td>32.101906</td>\n",
       "      <td>1762</td>\n",
       "      <td>23.469296</td>\n",
       "      <td>1395.845634</td>\n",
       "    </tr>\n",
       "    <tr>\n",
       "      <th>4</th>\n",
       "      <td>1</td>\n",
       "      <td>45589</td>\n",
       "      <td>862</td>\n",
       "      <td>2641</td>\n",
       "      <td>148.854279</td>\n",
       "      <td>36.998884</td>\n",
       "      <td>27.881768</td>\n",
       "      <td>3.333492</td>\n",
       "      <td>23.861282</td>\n",
       "      <td>551</td>\n",
       "      <td>...</td>\n",
       "      <td>1711</td>\n",
       "      <td>181</td>\n",
       "      <td>21.601866</td>\n",
       "      <td>3.581661</td>\n",
       "      <td>6.764657</td>\n",
       "      <td>1.119727</td>\n",
       "      <td>4.563246</td>\n",
       "      <td>85</td>\n",
       "      <td>48.500000</td>\n",
       "      <td>1993.627907</td>\n",
       "    </tr>\n",
       "  </tbody>\n",
       "</table>\n",
       "<p>5 rows × 23 columns</p>\n",
       "</div>"
      ],
      "text/plain": [
       "   Choice  A_follower_count  A_following_count  A_listed_count  \\\n",
       "0       0               228                302               3   \n",
       "1       0             21591               1179             228   \n",
       "2       0              7310               1215             101   \n",
       "3       0                20                  7               2   \n",
       "4       1             45589                862            2641   \n",
       "\n",
       "   A_mentions_received  A_retweets_received  A_mentions_sent  A_retweets_sent  \\\n",
       "0             0.583979             0.100503         0.100503         0.100503   \n",
       "1            90.456506            25.798292         5.709329         1.111159   \n",
       "2            25.503644             9.556347         5.361519         0.591206   \n",
       "3             7.690824             0.277306         1.331508         0.100503   \n",
       "4           148.854279            36.998884        27.881768         3.333492   \n",
       "\n",
       "     A_posts  A_network_feature_1  ...  B_following_count  B_listed_count  \\\n",
       "0   0.362150                    2  ...              29808            1689   \n",
       "1   5.176620                  369  ...                848            1610   \n",
       "2   3.589718                   95  ...                482             206   \n",
       "3   2.830627                    6  ...              17637             278   \n",
       "4  23.861282                  551  ...               1711             181   \n",
       "\n",
       "   B_mentions_received  B_retweets_received  B_mentions_sent  B_retweets_sent  \\\n",
       "0            15.430498             3.984029         8.204331         0.332423   \n",
       "1            40.495021             8.943607         3.227677         0.564343   \n",
       "2             0.734696             0.354379         0.603202         0.100503   \n",
       "3           572.874856           390.293681        27.552040         7.167557   \n",
       "4            21.601866             3.581661         6.764657         1.119727   \n",
       "\n",
       "     B_posts  B_network_feature_1  B_network_feature_2  B_network_feature_3  \n",
       "0   6.988815                   66            75.530303          1916.893939  \n",
       "1   1.070321                  163           132.030675          2931.515337  \n",
       "2   0.603202                    3            10.333333           277.333333  \n",
       "3  32.101906                 1762            23.469296          1395.845634  \n",
       "4   4.563246                   85            48.500000          1993.627907  \n",
       "\n",
       "[5 rows x 23 columns]"
      ]
     },
     "execution_count": 70,
     "metadata": {},
     "output_type": "execute_result"
    }
   ],
   "source": [
    "train_data.head()"
   ]
  },
  {
   "cell_type": "markdown",
   "id": "21293868",
   "metadata": {},
   "source": [
    "### Testing Data"
   ]
  },
  {
   "cell_type": "code",
   "execution_count": 71,
   "id": "7bb316a1",
   "metadata": {
    "scrolled": true
   },
   "outputs": [
    {
     "data": {
      "text/plain": [
       "(5952, 22)"
      ]
     },
     "execution_count": 71,
     "metadata": {},
     "output_type": "execute_result"
    }
   ],
   "source": [
    "test_data.shape"
   ]
  },
  {
   "cell_type": "code",
   "execution_count": 72,
   "id": "f0d6431e",
   "metadata": {},
   "outputs": [
    {
     "data": {
      "text/plain": [
       "A_follower_count         int64\n",
       "A_following_count        int64\n",
       "A_listed_count           int64\n",
       "A_mentions_received    float64\n",
       "A_retweets_received    float64\n",
       "A_mentions_sent        float64\n",
       "A_retweets_sent        float64\n",
       "A_posts                float64\n",
       "A_network_feature_1      int64\n",
       "A_network_feature_2    float64\n",
       "A_network_feature_3    float64\n",
       "B_follower_count         int64\n",
       "B_following_count        int64\n",
       "B_listed_count           int64\n",
       "B_mentions_received    float64\n",
       "B_retweets_received    float64\n",
       "B_mentions_sent        float64\n",
       "B_retweets_sent        float64\n",
       "B_posts                float64\n",
       "B_network_feature_1      int64\n",
       "B_network_feature_2    float64\n",
       "B_network_feature_3    float64\n",
       "dtype: object"
      ]
     },
     "execution_count": 72,
     "metadata": {},
     "output_type": "execute_result"
    }
   ],
   "source": [
    "test_data.dtypes"
   ]
  },
  {
   "cell_type": "code",
   "execution_count": 73,
   "id": "fdb63c57",
   "metadata": {
    "scrolled": true
   },
   "outputs": [
    {
     "data": {
      "text/html": [
       "<div>\n",
       "<style scoped>\n",
       "    .dataframe tbody tr th:only-of-type {\n",
       "        vertical-align: middle;\n",
       "    }\n",
       "\n",
       "    .dataframe tbody tr th {\n",
       "        vertical-align: top;\n",
       "    }\n",
       "\n",
       "    .dataframe thead th {\n",
       "        text-align: right;\n",
       "    }\n",
       "</style>\n",
       "<table border=\"1\" class=\"dataframe\">\n",
       "  <thead>\n",
       "    <tr style=\"text-align: right;\">\n",
       "      <th></th>\n",
       "      <th>A_follower_count</th>\n",
       "      <th>A_following_count</th>\n",
       "      <th>A_listed_count</th>\n",
       "      <th>A_mentions_received</th>\n",
       "      <th>A_retweets_received</th>\n",
       "      <th>A_mentions_sent</th>\n",
       "      <th>A_retweets_sent</th>\n",
       "      <th>A_posts</th>\n",
       "      <th>A_network_feature_1</th>\n",
       "      <th>A_network_feature_2</th>\n",
       "      <th>...</th>\n",
       "      <th>B_following_count</th>\n",
       "      <th>B_listed_count</th>\n",
       "      <th>B_mentions_received</th>\n",
       "      <th>B_retweets_received</th>\n",
       "      <th>B_mentions_sent</th>\n",
       "      <th>B_retweets_sent</th>\n",
       "      <th>B_posts</th>\n",
       "      <th>B_network_feature_1</th>\n",
       "      <th>B_network_feature_2</th>\n",
       "      <th>B_network_feature_3</th>\n",
       "    </tr>\n",
       "  </thead>\n",
       "  <tbody>\n",
       "    <tr>\n",
       "      <th>0</th>\n",
       "      <td>614689</td>\n",
       "      <td>400</td>\n",
       "      <td>5729</td>\n",
       "      <td>199.618296</td>\n",
       "      <td>67.812469</td>\n",
       "      <td>9.366192</td>\n",
       "      <td>0.359534</td>\n",
       "      <td>4.094488</td>\n",
       "      <td>669</td>\n",
       "      <td>39.193741</td>\n",
       "      <td>...</td>\n",
       "      <td>563</td>\n",
       "      <td>20057</td>\n",
       "      <td>967.720642</td>\n",
       "      <td>579.431128</td>\n",
       "      <td>4.473798</td>\n",
       "      <td>0.805680</td>\n",
       "      <td>6.241806</td>\n",
       "      <td>4027</td>\n",
       "      <td>57.643839</td>\n",
       "      <td>3201.293706</td>\n",
       "    </tr>\n",
       "    <tr>\n",
       "      <th>1</th>\n",
       "      <td>739581</td>\n",
       "      <td>10723</td>\n",
       "      <td>1279</td>\n",
       "      <td>102.026750</td>\n",
       "      <td>96.771319</td>\n",
       "      <td>1.537322</td>\n",
       "      <td>1.054358</td>\n",
       "      <td>3.467754</td>\n",
       "      <td>432</td>\n",
       "      <td>11.191686</td>\n",
       "      <td>...</td>\n",
       "      <td>12949</td>\n",
       "      <td>1311</td>\n",
       "      <td>38.260522</td>\n",
       "      <td>10.697567</td>\n",
       "      <td>12.845793</td>\n",
       "      <td>1.584284</td>\n",
       "      <td>12.106662</td>\n",
       "      <td>144</td>\n",
       "      <td>209.717241</td>\n",
       "      <td>21496.565517</td>\n",
       "    </tr>\n",
       "    <tr>\n",
       "      <th>2</th>\n",
       "      <td>3638</td>\n",
       "      <td>3341</td>\n",
       "      <td>85</td>\n",
       "      <td>2.793577</td>\n",
       "      <td>1.402703</td>\n",
       "      <td>2.594089</td>\n",
       "      <td>0.598150</td>\n",
       "      <td>3.802143</td>\n",
       "      <td>11</td>\n",
       "      <td>9.416667</td>\n",
       "      <td>...</td>\n",
       "      <td>320</td>\n",
       "      <td>3673</td>\n",
       "      <td>1207.190077</td>\n",
       "      <td>599.721600</td>\n",
       "      <td>0.842022</td>\n",
       "      <td>0.593199</td>\n",
       "      <td>7.044735</td>\n",
       "      <td>3918</td>\n",
       "      <td>7.859818</td>\n",
       "      <td>637.983300</td>\n",
       "    </tr>\n",
       "    <tr>\n",
       "      <th>3</th>\n",
       "      <td>613</td>\n",
       "      <td>1259</td>\n",
       "      <td>31</td>\n",
       "      <td>1.326041</td>\n",
       "      <td>0.356943</td>\n",
       "      <td>6.249678</td>\n",
       "      <td>2.323064</td>\n",
       "      <td>7.488116</td>\n",
       "      <td>4</td>\n",
       "      <td>5.000000</td>\n",
       "      <td>...</td>\n",
       "      <td>3599</td>\n",
       "      <td>1072</td>\n",
       "      <td>10.300222</td>\n",
       "      <td>3.828561</td>\n",
       "      <td>1.624092</td>\n",
       "      <td>0.100503</td>\n",
       "      <td>1.614287</td>\n",
       "      <td>43</td>\n",
       "      <td>113.840909</td>\n",
       "      <td>2537.772727</td>\n",
       "    </tr>\n",
       "    <tr>\n",
       "      <th>4</th>\n",
       "      <td>1352348</td>\n",
       "      <td>331</td>\n",
       "      <td>15647</td>\n",
       "      <td>19129.848662</td>\n",
       "      <td>14552.733991</td>\n",
       "      <td>2.065418</td>\n",
       "      <td>0.580955</td>\n",
       "      <td>16.281502</td>\n",
       "      <td>52580</td>\n",
       "      <td>3.092448</td>\n",
       "      <td>...</td>\n",
       "      <td>147521</td>\n",
       "      <td>15043</td>\n",
       "      <td>9902.070379</td>\n",
       "      <td>5012.055876</td>\n",
       "      <td>10.438460</td>\n",
       "      <td>0.100503</td>\n",
       "      <td>193.072418</td>\n",
       "      <td>28564</td>\n",
       "      <td>10.964144</td>\n",
       "      <td>1035.955493</td>\n",
       "    </tr>\n",
       "  </tbody>\n",
       "</table>\n",
       "<p>5 rows × 22 columns</p>\n",
       "</div>"
      ],
      "text/plain": [
       "   A_follower_count  A_following_count  A_listed_count  A_mentions_received  \\\n",
       "0            614689                400            5729           199.618296   \n",
       "1            739581              10723            1279           102.026750   \n",
       "2              3638               3341              85             2.793577   \n",
       "3               613               1259              31             1.326041   \n",
       "4           1352348                331           15647         19129.848662   \n",
       "\n",
       "   A_retweets_received  A_mentions_sent  A_retweets_sent    A_posts  \\\n",
       "0            67.812469         9.366192         0.359534   4.094488   \n",
       "1            96.771319         1.537322         1.054358   3.467754   \n",
       "2             1.402703         2.594089         0.598150   3.802143   \n",
       "3             0.356943         6.249678         2.323064   7.488116   \n",
       "4         14552.733991         2.065418         0.580955  16.281502   \n",
       "\n",
       "   A_network_feature_1  A_network_feature_2  ...  B_following_count  \\\n",
       "0                  669            39.193741  ...                563   \n",
       "1                  432            11.191686  ...              12949   \n",
       "2                   11             9.416667  ...                320   \n",
       "3                    4             5.000000  ...               3599   \n",
       "4                52580             3.092448  ...             147521   \n",
       "\n",
       "   B_listed_count  B_mentions_received  B_retweets_received  B_mentions_sent  \\\n",
       "0           20057           967.720642           579.431128         4.473798   \n",
       "1            1311            38.260522            10.697567        12.845793   \n",
       "2            3673          1207.190077           599.721600         0.842022   \n",
       "3            1072            10.300222             3.828561         1.624092   \n",
       "4           15043          9902.070379          5012.055876        10.438460   \n",
       "\n",
       "   B_retweets_sent     B_posts  B_network_feature_1  B_network_feature_2  \\\n",
       "0         0.805680    6.241806                 4027            57.643839   \n",
       "1         1.584284   12.106662                  144           209.717241   \n",
       "2         0.593199    7.044735                 3918             7.859818   \n",
       "3         0.100503    1.614287                   43           113.840909   \n",
       "4         0.100503  193.072418                28564            10.964144   \n",
       "\n",
       "   B_network_feature_3  \n",
       "0          3201.293706  \n",
       "1         21496.565517  \n",
       "2           637.983300  \n",
       "3          2537.772727  \n",
       "4          1035.955493  \n",
       "\n",
       "[5 rows x 22 columns]"
      ]
     },
     "execution_count": 73,
     "metadata": {},
     "output_type": "execute_result"
    }
   ],
   "source": [
    "test_data.head()"
   ]
  },
  {
   "cell_type": "markdown",
   "id": "326a3dc4",
   "metadata": {},
   "source": [
    "## Separating data: features and labels"
   ]
  },
  {
   "cell_type": "markdown",
   "id": "efff15b0",
   "metadata": {},
   "source": [
    "To make our analysis easy, we will separate the data into:\n",
    "\n",
    "**X_train**: (possible) training features.\n",
    "\n",
    "**y_train**: labels.\n",
    "\n",
    "**X_test**: (possible) test features.\n",
    "\n",
    "We will call __features__ the list with the names of the columns that might be the features and __label__ the name of the column which has the labels (**Survived** column)."
   ]
  },
  {
   "cell_type": "code",
   "execution_count": 74,
   "id": "e0e61345",
   "metadata": {},
   "outputs": [],
   "source": [
    "features = list(test_data.columns)\n",
    "label = 'Choice'"
   ]
  },
  {
   "cell_type": "code",
   "execution_count": 75,
   "id": "dea74976",
   "metadata": {},
   "outputs": [],
   "source": [
    "x_train = train_data[features]\n",
    "y_train = train_data[label]\n",
    "x_test = test_data[features]"
   ]
  },
  {
   "cell_type": "markdown",
   "id": "682cca5f",
   "metadata": {},
   "source": [
    "## Training Data Analysis"
   ]
  },
  {
   "cell_type": "code",
   "execution_count": 76,
   "id": "0f5f1c9a",
   "metadata": {
    "scrolled": true
   },
   "outputs": [
    {
     "data": {
      "text/plain": [
       "0    0\n",
       "1    0\n",
       "2    0\n",
       "3    0\n",
       "4    1\n",
       "Name: Choice, dtype: int64"
      ]
     },
     "execution_count": 76,
     "metadata": {},
     "output_type": "execute_result"
    }
   ],
   "source": [
    "y_train.head()"
   ]
  },
  {
   "cell_type": "code",
   "execution_count": 77,
   "id": "af60d7ff",
   "metadata": {
    "scrolled": true
   },
   "outputs": [
    {
     "name": "stdout",
     "output_type": "stream",
     "text": [
      "<class 'pandas.core.frame.DataFrame'>\n",
      "RangeIndex: 5500 entries, 0 to 5499\n",
      "Data columns (total 22 columns):\n",
      " #   Column               Non-Null Count  Dtype  \n",
      "---  ------               --------------  -----  \n",
      " 0   A_follower_count     5500 non-null   int64  \n",
      " 1   A_following_count    5500 non-null   int64  \n",
      " 2   A_listed_count       5500 non-null   int64  \n",
      " 3   A_mentions_received  5500 non-null   float64\n",
      " 4   A_retweets_received  5500 non-null   float64\n",
      " 5   A_mentions_sent      5500 non-null   float64\n",
      " 6   A_retweets_sent      5500 non-null   float64\n",
      " 7   A_posts              5500 non-null   float64\n",
      " 8   A_network_feature_1  5500 non-null   int64  \n",
      " 9   A_network_feature_2  5500 non-null   float64\n",
      " 10  A_network_feature_3  5500 non-null   float64\n",
      " 11  B_follower_count     5500 non-null   int64  \n",
      " 12  B_following_count    5500 non-null   int64  \n",
      " 13  B_listed_count       5500 non-null   int64  \n",
      " 14  B_mentions_received  5500 non-null   float64\n",
      " 15  B_retweets_received  5500 non-null   float64\n",
      " 16  B_mentions_sent      5500 non-null   float64\n",
      " 17  B_retweets_sent      5500 non-null   float64\n",
      " 18  B_posts              5500 non-null   float64\n",
      " 19  B_network_feature_1  5500 non-null   int64  \n",
      " 20  B_network_feature_2  5500 non-null   float64\n",
      " 21  B_network_feature_3  5500 non-null   float64\n",
      "dtypes: float64(14), int64(8)\n",
      "memory usage: 945.4 KB\n"
     ]
    }
   ],
   "source": [
    "x_train.info()"
   ]
  },
  {
   "cell_type": "code",
   "execution_count": 78,
   "id": "591ede14",
   "metadata": {
    "scrolled": true
   },
   "outputs": [
    {
     "name": "stdout",
     "output_type": "stream",
     "text": [
      "<class 'pandas.core.frame.DataFrame'>\n",
      "RangeIndex: 5500 entries, 0 to 5499\n",
      "Data columns (total 22 columns):\n",
      " #   Column               Non-Null Count  Dtype  \n",
      "---  ------               --------------  -----  \n",
      " 0   A_follower_count     5500 non-null   int64  \n",
      " 1   A_following_count    5500 non-null   int64  \n",
      " 2   A_listed_count       5500 non-null   int64  \n",
      " 3   A_mentions_received  5500 non-null   float64\n",
      " 4   A_retweets_received  5500 non-null   float64\n",
      " 5   A_mentions_sent      5500 non-null   float64\n",
      " 6   A_retweets_sent      5500 non-null   float64\n",
      " 7   A_posts              5500 non-null   float64\n",
      " 8   A_network_feature_1  5500 non-null   int64  \n",
      " 9   A_network_feature_2  5500 non-null   float64\n",
      " 10  A_network_feature_3  5500 non-null   float64\n",
      " 11  B_follower_count     5500 non-null   int64  \n",
      " 12  B_following_count    5500 non-null   int64  \n",
      " 13  B_listed_count       5500 non-null   int64  \n",
      " 14  B_mentions_received  5500 non-null   float64\n",
      " 15  B_retweets_received  5500 non-null   float64\n",
      " 16  B_mentions_sent      5500 non-null   float64\n",
      " 17  B_retweets_sent      5500 non-null   float64\n",
      " 18  B_posts              5500 non-null   float64\n",
      " 19  B_network_feature_1  5500 non-null   int64  \n",
      " 20  B_network_feature_2  5500 non-null   float64\n",
      " 21  B_network_feature_3  5500 non-null   float64\n",
      "dtypes: float64(14), int64(8)\n",
      "memory usage: 945.4 KB\n"
     ]
    }
   ],
   "source": [
    "x_train.info()"
   ]
  },
  {
   "cell_type": "code",
   "execution_count": 79,
   "id": "2de9b4f5",
   "metadata": {},
   "outputs": [],
   "source": [
    "A_features = x_train.columns[0:11]\n",
    "B_features = x_train.columns[11:22]\n",
    "\n",
    "A_train = x_train[A_features].copy()\n",
    "B_train = x_train[B_features].copy()\n",
    "\n",
    "AB_features = [s[2:] for s in list(A_features)]\n",
    "A_rename_cols_dict = dict(zip(A_features, AB_features))\n",
    "B_rename_cols_dict = dict(zip(B_features, AB_features))\n",
    "\n",
    "A_train.rename(columns = A_rename_cols_dict, inplace = True)\n",
    "B_train.rename(columns = B_rename_cols_dict, inplace = True)\n",
    "\n",
    "AB_train = pd.concat([A_train, B_train], axis = 0)"
   ]
  },
  {
   "cell_type": "code",
   "execution_count": 80,
   "id": "60f514d2",
   "metadata": {},
   "outputs": [
    {
     "data": {
      "text/html": [
       "<div>\n",
       "<style scoped>\n",
       "    .dataframe tbody tr th:only-of-type {\n",
       "        vertical-align: middle;\n",
       "    }\n",
       "\n",
       "    .dataframe tbody tr th {\n",
       "        vertical-align: top;\n",
       "    }\n",
       "\n",
       "    .dataframe thead th {\n",
       "        text-align: right;\n",
       "    }\n",
       "</style>\n",
       "<table border=\"1\" class=\"dataframe\">\n",
       "  <thead>\n",
       "    <tr style=\"text-align: right;\">\n",
       "      <th></th>\n",
       "      <th>follower_count</th>\n",
       "      <th>following_count</th>\n",
       "      <th>listed_count</th>\n",
       "      <th>mentions_received</th>\n",
       "      <th>retweets_received</th>\n",
       "      <th>mentions_sent</th>\n",
       "      <th>retweets_sent</th>\n",
       "      <th>posts</th>\n",
       "      <th>network_feature_1</th>\n",
       "      <th>network_feature_2</th>\n",
       "      <th>network_feature_3</th>\n",
       "    </tr>\n",
       "  </thead>\n",
       "  <tbody>\n",
       "    <tr>\n",
       "      <th>0</th>\n",
       "      <td>228</td>\n",
       "      <td>302</td>\n",
       "      <td>3</td>\n",
       "      <td>0.583979</td>\n",
       "      <td>0.100503</td>\n",
       "      <td>0.100503</td>\n",
       "      <td>0.100503</td>\n",
       "      <td>0.362150</td>\n",
       "      <td>2</td>\n",
       "      <td>166.500000</td>\n",
       "      <td>11355.000000</td>\n",
       "    </tr>\n",
       "    <tr>\n",
       "      <th>1</th>\n",
       "      <td>21591</td>\n",
       "      <td>1179</td>\n",
       "      <td>228</td>\n",
       "      <td>90.456506</td>\n",
       "      <td>25.798292</td>\n",
       "      <td>5.709329</td>\n",
       "      <td>1.111159</td>\n",
       "      <td>5.176620</td>\n",
       "      <td>369</td>\n",
       "      <td>18.442971</td>\n",
       "      <td>1330.366048</td>\n",
       "    </tr>\n",
       "    <tr>\n",
       "      <th>2</th>\n",
       "      <td>7310</td>\n",
       "      <td>1215</td>\n",
       "      <td>101</td>\n",
       "      <td>25.503644</td>\n",
       "      <td>9.556347</td>\n",
       "      <td>5.361519</td>\n",
       "      <td>0.591206</td>\n",
       "      <td>3.589718</td>\n",
       "      <td>95</td>\n",
       "      <td>68.927835</td>\n",
       "      <td>5999.896907</td>\n",
       "    </tr>\n",
       "    <tr>\n",
       "      <th>3</th>\n",
       "      <td>20</td>\n",
       "      <td>7</td>\n",
       "      <td>2</td>\n",
       "      <td>7.690824</td>\n",
       "      <td>0.277306</td>\n",
       "      <td>1.331508</td>\n",
       "      <td>0.100503</td>\n",
       "      <td>2.830627</td>\n",
       "      <td>6</td>\n",
       "      <td>2.000000</td>\n",
       "      <td>96.166667</td>\n",
       "    </tr>\n",
       "    <tr>\n",
       "      <th>4</th>\n",
       "      <td>45589</td>\n",
       "      <td>862</td>\n",
       "      <td>2641</td>\n",
       "      <td>148.854279</td>\n",
       "      <td>36.998884</td>\n",
       "      <td>27.881768</td>\n",
       "      <td>3.333492</td>\n",
       "      <td>23.861282</td>\n",
       "      <td>551</td>\n",
       "      <td>127.404293</td>\n",
       "      <td>2833.847943</td>\n",
       "    </tr>\n",
       "  </tbody>\n",
       "</table>\n",
       "</div>"
      ],
      "text/plain": [
       "   follower_count  following_count  listed_count  mentions_received  \\\n",
       "0             228              302             3           0.583979   \n",
       "1           21591             1179           228          90.456506   \n",
       "2            7310             1215           101          25.503644   \n",
       "3              20                7             2           7.690824   \n",
       "4           45589              862          2641         148.854279   \n",
       "\n",
       "   retweets_received  mentions_sent  retweets_sent      posts  \\\n",
       "0           0.100503       0.100503       0.100503   0.362150   \n",
       "1          25.798292       5.709329       1.111159   5.176620   \n",
       "2           9.556347       5.361519       0.591206   3.589718   \n",
       "3           0.277306       1.331508       0.100503   2.830627   \n",
       "4          36.998884      27.881768       3.333492  23.861282   \n",
       "\n",
       "   network_feature_1  network_feature_2  network_feature_3  \n",
       "0                  2         166.500000       11355.000000  \n",
       "1                369          18.442971        1330.366048  \n",
       "2                 95          68.927835        5999.896907  \n",
       "3                  6           2.000000          96.166667  \n",
       "4                551         127.404293        2833.847943  "
      ]
     },
     "execution_count": 80,
     "metadata": {},
     "output_type": "execute_result"
    }
   ],
   "source": [
    "AB_train.head()"
   ]
  },
  {
   "cell_type": "code",
   "execution_count": 81,
   "id": "2f15b0fc",
   "metadata": {
    "scrolled": true
   },
   "outputs": [
    {
     "data": {
      "text/html": [
       "<div>\n",
       "<style scoped>\n",
       "    .dataframe tbody tr th:only-of-type {\n",
       "        vertical-align: middle;\n",
       "    }\n",
       "\n",
       "    .dataframe tbody tr th {\n",
       "        vertical-align: top;\n",
       "    }\n",
       "\n",
       "    .dataframe thead th {\n",
       "        text-align: right;\n",
       "    }\n",
       "</style>\n",
       "<table border=\"1\" class=\"dataframe\">\n",
       "  <thead>\n",
       "    <tr style=\"text-align: right;\">\n",
       "      <th></th>\n",
       "      <th>A_follower_count</th>\n",
       "      <th>A_following_count</th>\n",
       "      <th>A_listed_count</th>\n",
       "      <th>A_mentions_received</th>\n",
       "      <th>A_retweets_received</th>\n",
       "      <th>A_mentions_sent</th>\n",
       "      <th>A_retweets_sent</th>\n",
       "      <th>A_posts</th>\n",
       "      <th>A_network_feature_1</th>\n",
       "      <th>A_network_feature_2</th>\n",
       "      <th>...</th>\n",
       "      <th>B_following_count</th>\n",
       "      <th>B_listed_count</th>\n",
       "      <th>B_mentions_received</th>\n",
       "      <th>B_retweets_received</th>\n",
       "      <th>B_mentions_sent</th>\n",
       "      <th>B_retweets_sent</th>\n",
       "      <th>B_posts</th>\n",
       "      <th>B_network_feature_1</th>\n",
       "      <th>B_network_feature_2</th>\n",
       "      <th>B_network_feature_3</th>\n",
       "    </tr>\n",
       "  </thead>\n",
       "  <tbody>\n",
       "    <tr>\n",
       "      <th>0</th>\n",
       "      <td>228</td>\n",
       "      <td>302</td>\n",
       "      <td>3</td>\n",
       "      <td>0.583979</td>\n",
       "      <td>0.100503</td>\n",
       "      <td>0.100503</td>\n",
       "      <td>0.100503</td>\n",
       "      <td>0.362150</td>\n",
       "      <td>2</td>\n",
       "      <td>166.500000</td>\n",
       "      <td>...</td>\n",
       "      <td>29808</td>\n",
       "      <td>1689</td>\n",
       "      <td>15.430498</td>\n",
       "      <td>3.984029</td>\n",
       "      <td>8.204331</td>\n",
       "      <td>0.332423</td>\n",
       "      <td>6.988815</td>\n",
       "      <td>66</td>\n",
       "      <td>75.530303</td>\n",
       "      <td>1916.893939</td>\n",
       "    </tr>\n",
       "    <tr>\n",
       "      <th>1</th>\n",
       "      <td>21591</td>\n",
       "      <td>1179</td>\n",
       "      <td>228</td>\n",
       "      <td>90.456506</td>\n",
       "      <td>25.798292</td>\n",
       "      <td>5.709329</td>\n",
       "      <td>1.111159</td>\n",
       "      <td>5.176620</td>\n",
       "      <td>369</td>\n",
       "      <td>18.442971</td>\n",
       "      <td>...</td>\n",
       "      <td>848</td>\n",
       "      <td>1610</td>\n",
       "      <td>40.495021</td>\n",
       "      <td>8.943607</td>\n",
       "      <td>3.227677</td>\n",
       "      <td>0.564343</td>\n",
       "      <td>1.070321</td>\n",
       "      <td>163</td>\n",
       "      <td>132.030675</td>\n",
       "      <td>2931.515337</td>\n",
       "    </tr>\n",
       "    <tr>\n",
       "      <th>2</th>\n",
       "      <td>7310</td>\n",
       "      <td>1215</td>\n",
       "      <td>101</td>\n",
       "      <td>25.503644</td>\n",
       "      <td>9.556347</td>\n",
       "      <td>5.361519</td>\n",
       "      <td>0.591206</td>\n",
       "      <td>3.589718</td>\n",
       "      <td>95</td>\n",
       "      <td>68.927835</td>\n",
       "      <td>...</td>\n",
       "      <td>482</td>\n",
       "      <td>206</td>\n",
       "      <td>0.734696</td>\n",
       "      <td>0.354379</td>\n",
       "      <td>0.603202</td>\n",
       "      <td>0.100503</td>\n",
       "      <td>0.603202</td>\n",
       "      <td>3</td>\n",
       "      <td>10.333333</td>\n",
       "      <td>277.333333</td>\n",
       "    </tr>\n",
       "    <tr>\n",
       "      <th>3</th>\n",
       "      <td>20</td>\n",
       "      <td>7</td>\n",
       "      <td>2</td>\n",
       "      <td>7.690824</td>\n",
       "      <td>0.277306</td>\n",
       "      <td>1.331508</td>\n",
       "      <td>0.100503</td>\n",
       "      <td>2.830627</td>\n",
       "      <td>6</td>\n",
       "      <td>2.000000</td>\n",
       "      <td>...</td>\n",
       "      <td>17637</td>\n",
       "      <td>278</td>\n",
       "      <td>572.874856</td>\n",
       "      <td>390.293681</td>\n",
       "      <td>27.552040</td>\n",
       "      <td>7.167557</td>\n",
       "      <td>32.101906</td>\n",
       "      <td>1762</td>\n",
       "      <td>23.469296</td>\n",
       "      <td>1395.845634</td>\n",
       "    </tr>\n",
       "    <tr>\n",
       "      <th>4</th>\n",
       "      <td>45589</td>\n",
       "      <td>862</td>\n",
       "      <td>2641</td>\n",
       "      <td>148.854279</td>\n",
       "      <td>36.998884</td>\n",
       "      <td>27.881768</td>\n",
       "      <td>3.333492</td>\n",
       "      <td>23.861282</td>\n",
       "      <td>551</td>\n",
       "      <td>127.404293</td>\n",
       "      <td>...</td>\n",
       "      <td>1711</td>\n",
       "      <td>181</td>\n",
       "      <td>21.601866</td>\n",
       "      <td>3.581661</td>\n",
       "      <td>6.764657</td>\n",
       "      <td>1.119727</td>\n",
       "      <td>4.563246</td>\n",
       "      <td>85</td>\n",
       "      <td>48.500000</td>\n",
       "      <td>1993.627907</td>\n",
       "    </tr>\n",
       "  </tbody>\n",
       "</table>\n",
       "<p>5 rows × 22 columns</p>\n",
       "</div>"
      ],
      "text/plain": [
       "   A_follower_count  A_following_count  A_listed_count  A_mentions_received  \\\n",
       "0               228                302               3             0.583979   \n",
       "1             21591               1179             228            90.456506   \n",
       "2              7310               1215             101            25.503644   \n",
       "3                20                  7               2             7.690824   \n",
       "4             45589                862            2641           148.854279   \n",
       "\n",
       "   A_retweets_received  A_mentions_sent  A_retweets_sent    A_posts  \\\n",
       "0             0.100503         0.100503         0.100503   0.362150   \n",
       "1            25.798292         5.709329         1.111159   5.176620   \n",
       "2             9.556347         5.361519         0.591206   3.589718   \n",
       "3             0.277306         1.331508         0.100503   2.830627   \n",
       "4            36.998884        27.881768         3.333492  23.861282   \n",
       "\n",
       "   A_network_feature_1  A_network_feature_2  ...  B_following_count  \\\n",
       "0                    2           166.500000  ...              29808   \n",
       "1                  369            18.442971  ...                848   \n",
       "2                   95            68.927835  ...                482   \n",
       "3                    6             2.000000  ...              17637   \n",
       "4                  551           127.404293  ...               1711   \n",
       "\n",
       "   B_listed_count  B_mentions_received  B_retweets_received  B_mentions_sent  \\\n",
       "0            1689            15.430498             3.984029         8.204331   \n",
       "1            1610            40.495021             8.943607         3.227677   \n",
       "2             206             0.734696             0.354379         0.603202   \n",
       "3             278           572.874856           390.293681        27.552040   \n",
       "4             181            21.601866             3.581661         6.764657   \n",
       "\n",
       "   B_retweets_sent    B_posts  B_network_feature_1  B_network_feature_2  \\\n",
       "0         0.332423   6.988815                   66            75.530303   \n",
       "1         0.564343   1.070321                  163           132.030675   \n",
       "2         0.100503   0.603202                    3            10.333333   \n",
       "3         7.167557  32.101906                 1762            23.469296   \n",
       "4         1.119727   4.563246                   85            48.500000   \n",
       "\n",
       "   B_network_feature_3  \n",
       "0          1916.893939  \n",
       "1          2931.515337  \n",
       "2           277.333333  \n",
       "3          1395.845634  \n",
       "4          1993.627907  \n",
       "\n",
       "[5 rows x 22 columns]"
      ]
     },
     "execution_count": 81,
     "metadata": {},
     "output_type": "execute_result"
    }
   ],
   "source": [
    "x_train.head()"
   ]
  },
  {
   "cell_type": "markdown",
   "id": "aa70ad33",
   "metadata": {},
   "source": [
    "### Univariate Analysis"
   ]
  },
  {
   "cell_type": "markdown",
   "id": "472f4c47",
   "metadata": {},
   "source": [
    "#### Choice"
   ]
  },
  {
   "cell_type": "code",
   "execution_count": 82,
   "id": "a7b24ccd",
   "metadata": {},
   "outputs": [
    {
     "data": {
      "text/plain": [
       "count    5500.000000\n",
       "mean        0.509455\n",
       "std         0.499956\n",
       "min         0.000000\n",
       "25%         0.000000\n",
       "50%         1.000000\n",
       "75%         1.000000\n",
       "max         1.000000\n",
       "Name: Choice, dtype: float64"
      ]
     },
     "execution_count": 82,
     "metadata": {},
     "output_type": "execute_result"
    }
   ],
   "source": [
    "y_train.describe()"
   ]
  },
  {
   "cell_type": "code",
   "execution_count": 83,
   "id": "7e4587bb",
   "metadata": {},
   "outputs": [
    {
     "data": {
      "text/plain": [
       "1    2802\n",
       "0    2698\n",
       "Name: Choice, dtype: int64"
      ]
     },
     "execution_count": 83,
     "metadata": {},
     "output_type": "execute_result"
    }
   ],
   "source": [
    "y_train.value_counts()"
   ]
  },
  {
   "cell_type": "code",
   "execution_count": 84,
   "id": "88eff462",
   "metadata": {},
   "outputs": [
    {
     "data": {
      "image/png": "[encoded data removed]",
      "text/plain": [
       "<Figure size 640x480 with 1 Axes>"
      ]
     },
     "metadata": {},
     "output_type": "display_data"
    }
   ],
   "source": [
    "A_more_influential = y_train.value_counts()[1]\n",
    "B_more_influential = y_train.value_counts()[0]\n",
    "plt.bar(x = ['A', 'B'], height = y_train.value_counts(), color = ['darkblue', 'gray'])\n",
    "plt.text(0 - 0.06, A_more_influential + 4, f'{A_more_influential}')\n",
    "plt.text(1 - 0.06, B_more_influential + 4, f'{B_more_influential}')\n",
    "plt.yticks([])\n",
    "plt.suptitle('Who is more influential between A and B')\n",
    "plt.title(f'Influencers are approximately equally distributed between A and B')\n",
    "\n",
    "plt.show()"
   ]
  },
  {
   "cell_type": "markdown",
   "id": "20bc0547",
   "metadata": {},
   "source": [
    "#### Follower Count"
   ]
  },
  {
   "cell_type": "code",
   "execution_count": 85,
   "id": "301b0aa8",
   "metadata": {},
   "outputs": [
    {
     "data": {
      "text/plain": [
       "count    1.100000e+04\n",
       "mean     6.676854e+05\n",
       "std      2.095717e+06\n",
       "min      1.600000e+01\n",
       "25%      2.651000e+03\n",
       "50%      4.403400e+04\n",
       "75%      3.927380e+05\n",
       "max      3.654319e+07\n",
       "Name: follower_count, dtype: float64"
      ]
     },
     "execution_count": 85,
     "metadata": {},
     "output_type": "execute_result"
    }
   ],
   "source": [
    "follower_count = AB_train['follower_count']\n",
    "follower_count.describe()"
   ]
  },
  {
   "cell_type": "code",
   "execution_count": 86,
   "id": "42146745",
   "metadata": {
    "scrolled": false
   },
   "outputs": [
    {
     "data": {
      "text/plain": [
       "False    11000\n",
       "Name: follower_count, dtype: int64"
      ]
     },
     "execution_count": 86,
     "metadata": {},
     "output_type": "execute_result"
    }
   ],
   "source": [
    "follower_count.isnull().value_counts()"
   ]
  },
  {
   "cell_type": "code",
   "execution_count": 87,
   "id": "2862b8e3",
   "metadata": {
    "scrolled": true
   },
   "outputs": [
    {
     "data": {
      "text/plain": [
       "[Text(1, 0, '')]"
      ]
     },
     "execution_count": 87,
     "metadata": {},
     "output_type": "execute_result"
    },
    {
     "data": {
      "image/png": "[encoded data removed]",
      "text/plain": [
       "<Figure size 1000x500 with 2 Axes>"
      ]
     },
     "metadata": {},
     "output_type": "display_data"
    }
   ],
   "source": [
    "fig, axes = plt.subplots(nrows = 1, ncols = 2, figsize = (10, 5))\n",
    "\n",
    "axes[0].hist(follower_count, bins=np.logspace(0, 8, 9))\n",
    "axes[0].set_xscale('log')\n",
    "axes[0].set_title('Follower Count Histogram of Training Set')\n",
    "axes[0].set_xlabel('Follower Count')\n",
    "axes[0].set_ylabel('Count')\n",
    "\n",
    "axes[1].boxplot(follower_count)\n",
    "axes[1].set_yscale('log')\n",
    "axes[1].set_title(\"Boxplot of Follower Count in the training set\")\n",
    "axes[1].set_ylabel('Follower Count')\n",
    "axes[1].set_xticklabels([])"
   ]
  },
  {
   "cell_type": "markdown",
   "id": "6a6c4ee8",
   "metadata": {},
   "source": [
    "#### Following Count"
   ]
  },
  {
   "cell_type": "code",
   "execution_count": 88,
   "id": "298837b3",
   "metadata": {},
   "outputs": [
    {
     "data": {
      "text/plain": [
       "count    1.100000e+04\n",
       "mean     1.269860e+04\n",
       "std      4.953212e+04\n",
       "min      0.000000e+00\n",
       "25%      3.220000e+02\n",
       "50%      7.730000e+02\n",
       "75%      2.838000e+03\n",
       "max      1.165830e+06\n",
       "Name: following_count, dtype: float64"
      ]
     },
     "execution_count": 88,
     "metadata": {},
     "output_type": "execute_result"
    }
   ],
   "source": [
    "following_count = AB_train['following_count']\n",
    "following_count.describe()"
   ]
  },
  {
   "cell_type": "code",
   "execution_count": 89,
   "id": "5e282339",
   "metadata": {
    "scrolled": true
   },
   "outputs": [
    {
     "data": {
      "text/plain": [
       "False    11000\n",
       "Name: following_count, dtype: int64"
      ]
     },
     "execution_count": 89,
     "metadata": {},
     "output_type": "execute_result"
    }
   ],
   "source": [
    "following_count.isnull().value_counts()"
   ]
  },
  {
   "cell_type": "code",
   "execution_count": 90,
   "id": "ff855d01",
   "metadata": {},
   "outputs": [
    {
     "data": {
      "text/plain": [
       "[Text(1, 0, '')]"
      ]
     },
     "execution_count": 90,
     "metadata": {},
     "output_type": "execute_result"
    },
    {
     "data": {
      "image/png": "[encoded data removed]",
      "text/plain": [
       "<Figure size 1000x500 with 2 Axes>"
      ]
     },
     "metadata": {},
     "output_type": "display_data"
    }
   ],
   "source": [
    "fig, axes = plt.subplots(nrows = 1, ncols = 2, figsize = (10, 5))\n",
    "\n",
    "axes[0].hist(following_count, bins=np.logspace(0, 6, 7))\n",
    "axes[0].set_xscale('log')\n",
    "axes[0].set_title('Following Count Histogram of Training Set')\n",
    "axes[0].set_xlabel('Following Count')\n",
    "axes[0].set_ylabel('Count')\n",
    "\n",
    "axes[1].boxplot(following_count)\n",
    "axes[1].set_yscale('log')\n",
    "axes[1].set_title(\"Boxplot of Following Count in the training set\")\n",
    "axes[1].set_ylabel('Following Count')\n",
    "axes[1].set_xticklabels([])"
   ]
  },
  {
   "cell_type": "markdown",
   "id": "d148ac6b",
   "metadata": {},
   "source": [
    "#### Listed Count"
   ]
  },
  {
   "cell_type": "code",
   "execution_count": 91,
   "id": "0240e483",
   "metadata": {},
   "outputs": [
    {
     "data": {
      "text/plain": [
       "count     11000.000000\n",
       "mean       5927.800818\n",
       "std       16826.101922\n",
       "min           0.000000\n",
       "25%          82.000000\n",
       "50%         932.000000\n",
       "75%        6734.000000\n",
       "max      549144.000000\n",
       "Name: listed_count, dtype: float64"
      ]
     },
     "execution_count": 91,
     "metadata": {},
     "output_type": "execute_result"
    }
   ],
   "source": [
    "listed_count = AB_train['listed_count']\n",
    "listed_count.describe()"
   ]
  },
  {
   "cell_type": "code",
   "execution_count": 92,
   "id": "3dd08512",
   "metadata": {},
   "outputs": [
    {
     "data": {
      "text/plain": [
       "False    11000\n",
       "Name: listed_count, dtype: int64"
      ]
     },
     "execution_count": 92,
     "metadata": {},
     "output_type": "execute_result"
    }
   ],
   "source": [
    "listed_count.isnull().value_counts()"
   ]
  },
  {
   "cell_type": "code",
   "execution_count": 93,
   "id": "98fe979e",
   "metadata": {},
   "outputs": [
    {
     "data": {
      "text/plain": [
       "[Text(1, 0, '')]"
      ]
     },
     "execution_count": 93,
     "metadata": {},
     "output_type": "execute_result"
    },
    {
     "data": {
      "image/png": "[encoded data removed]",
      "text/plain": [
       "<Figure size 1000x500 with 2 Axes>"
      ]
     },
     "metadata": {},
     "output_type": "display_data"
    }
   ],
   "source": [
    "fig, axes = plt.subplots(nrows = 1, ncols = 2, figsize = (10, 5))\n",
    "\n",
    "axes[0].hist(listed_count, bins=np.logspace(-1, 6, 8))\n",
    "axes[0].set_xscale('log')\n",
    "axes[0].set_title('Listed Count Histogram of Training Set')\n",
    "axes[0].set_xlabel('Listed Count')\n",
    "axes[0].set_ylabel('Count')\n",
    "\n",
    "axes[1].boxplot(listed_count)\n",
    "axes[1].set_yscale('log')\n",
    "axes[1].set_title(\"Boxplot of Listed Count in the training set\")\n",
    "axes[1].set_ylabel('Listed Count')\n",
    "axes[1].set_xticklabels([])"
   ]
  },
  {
   "cell_type": "markdown",
   "id": "4e3e5188",
   "metadata": {},
   "source": [
    "#### Mentions Received"
   ]
  },
  {
   "cell_type": "code",
   "execution_count": 94,
   "id": "a6cf00f6",
   "metadata": {
    "scrolled": false
   },
   "outputs": [
    {
     "data": {
      "text/plain": [
       "count    1.100000e+04\n",
       "mean     2.610315e+03\n",
       "std      2.720237e+04\n",
       "min      1.005034e-01\n",
       "25%      3.427661e+00\n",
       "50%      4.876542e+01\n",
       "75%      3.524995e+02\n",
       "max      1.145219e+06\n",
       "Name: mentions_received, dtype: float64"
      ]
     },
     "execution_count": 94,
     "metadata": {},
     "output_type": "execute_result"
    }
   ],
   "source": [
    "mentions_received = AB_train['mentions_received']\n",
    "mentions_received.describe()"
   ]
  },
  {
   "cell_type": "code",
   "execution_count": 95,
   "id": "06bc3bca",
   "metadata": {
    "scrolled": true
   },
   "outputs": [
    {
     "data": {
      "text/plain": [
       "False    11000\n",
       "Name: mentions_received, dtype: int64"
      ]
     },
     "execution_count": 95,
     "metadata": {},
     "output_type": "execute_result"
    }
   ],
   "source": [
    "mentions_received.isnull().value_counts()"
   ]
  },
  {
   "cell_type": "code",
   "execution_count": 96,
   "id": "f0ab20a7",
   "metadata": {
    "scrolled": true
   },
   "outputs": [
    {
     "data": {
      "text/plain": [
       "[Text(1, 0, '')]"
      ]
     },
     "execution_count": 96,
     "metadata": {},
     "output_type": "execute_result"
    },
    {
     "data": {
      "image/png": "[encoded data removed]",
      "text/plain": [
       "<Figure size 1000x500 with 2 Axes>"
      ]
     },
     "metadata": {},
     "output_type": "display_data"
    }
   ],
   "source": [
    "fig, axes = plt.subplots(nrows = 1, ncols = 2, figsize = (10, 5))\n",
    "\n",
    "axes[0].hist(mentions_received, bins=np.logspace(-1, 6, 8))\n",
    "axes[0].set_xscale('log')\n",
    "axes[0].set_title('Mentions Received Histogram of Training Set')\n",
    "axes[0].set_xlabel('Mentions Received')\n",
    "axes[0].set_ylabel('Count')\n",
    "\n",
    "axes[1].boxplot(mentions_received)\n",
    "axes[1].set_yscale('log')\n",
    "axes[1].set_title(\"Boxplot of Mentions Received in the training set\")\n",
    "axes[1].set_ylabel('Mentions Received')\n",
    "axes[1].set_xticklabels([])"
   ]
  },
  {
   "cell_type": "markdown",
   "id": "30901dba",
   "metadata": {},
   "source": [
    "#### Retweets Received"
   ]
  },
  {
   "cell_type": "code",
   "execution_count": 97,
   "id": "30355799",
   "metadata": {},
   "outputs": [
    {
     "data": {
      "text/plain": [
       "count     11000.000000\n",
       "mean       1014.760896\n",
       "std       10180.026211\n",
       "min           0.100503\n",
       "25%           0.716816\n",
       "50%          14.029113\n",
       "75%         107.081021\n",
       "max      435825.874241\n",
       "Name: retweets_received, dtype: float64"
      ]
     },
     "execution_count": 97,
     "metadata": {},
     "output_type": "execute_result"
    }
   ],
   "source": [
    "retweets_received = AB_train['retweets_received']\n",
    "retweets_received.describe()"
   ]
  },
  {
   "cell_type": "code",
   "execution_count": 98,
   "id": "6c7a2ad0",
   "metadata": {},
   "outputs": [
    {
     "data": {
      "text/plain": [
       "False    11000\n",
       "Name: retweets_received, dtype: int64"
      ]
     },
     "execution_count": 98,
     "metadata": {},
     "output_type": "execute_result"
    }
   ],
   "source": [
    "retweets_received.isnull().value_counts()"
   ]
  },
  {
   "cell_type": "code",
   "execution_count": 99,
   "id": "15994787",
   "metadata": {},
   "outputs": [
    {
     "data": {
      "text/plain": [
       "[Text(1, 0, '')]"
      ]
     },
     "execution_count": 99,
     "metadata": {},
     "output_type": "execute_result"
    },
    {
     "data": {
      "image/png": "[encoded data removed]",
      "text/plain": [
       "<Figure size 1000x500 with 2 Axes>"
      ]
     },
     "metadata": {},
     "output_type": "display_data"
    }
   ],
   "source": [
    "fig, axes = plt.subplots(nrows = 1, ncols = 2, figsize = (10, 5))\n",
    "\n",
    "axes[0].hist(retweets_received, bins=np.logspace(-1, 5, 7))\n",
    "axes[0].set_xscale('log')\n",
    "axes[0].set_title('Retweets Received Histogram of Training Set')\n",
    "axes[0].set_xlabel('Retweets Received')\n",
    "axes[0].set_ylabel('Count')\n",
    "\n",
    "axes[1].boxplot(retweets_received)\n",
    "axes[1].set_yscale('log')\n",
    "axes[1].set_title(\"Boxplot of Retweets Received in the training set\")\n",
    "axes[1].set_ylabel('Retweets Received')\n",
    "axes[1].set_xticklabels([])"
   ]
  },
  {
   "cell_type": "markdown",
   "id": "9230a72e",
   "metadata": {},
   "source": [
    "#### Mentions Sent"
   ]
  },
  {
   "cell_type": "code",
   "execution_count": 100,
   "id": "fb56faef",
   "metadata": {},
   "outputs": [
    {
     "data": {
      "text/plain": [
       "count    11000.000000\n",
       "mean         6.055765\n",
       "std          9.624911\n",
       "min          0.100503\n",
       "25%          0.356943\n",
       "50%          2.269438\n",
       "75%          6.971926\n",
       "max         76.809514\n",
       "Name: mentions_sent, dtype: float64"
      ]
     },
     "execution_count": 100,
     "metadata": {},
     "output_type": "execute_result"
    }
   ],
   "source": [
    "mentions_sent = AB_train['mentions_sent']\n",
    "mentions_sent.describe()"
   ]
  },
  {
   "cell_type": "code",
   "execution_count": 101,
   "id": "a68f7a1d",
   "metadata": {},
   "outputs": [
    {
     "data": {
      "text/plain": [
       "False    11000\n",
       "Name: mentions_sent, dtype: int64"
      ]
     },
     "execution_count": 101,
     "metadata": {},
     "output_type": "execute_result"
    }
   ],
   "source": [
    "mentions_sent.isnull().value_counts()"
   ]
  },
  {
   "cell_type": "code",
   "execution_count": 102,
   "id": "74cbe46a",
   "metadata": {},
   "outputs": [
    {
     "data": {
      "text/plain": [
       "[Text(1, 0, '')]"
      ]
     },
     "execution_count": 102,
     "metadata": {},
     "output_type": "execute_result"
    },
    {
     "data": {
      "image/png": "[encoded data removed]",
      "text/plain": [
       "<Figure size 1000x500 with 2 Axes>"
      ]
     },
     "metadata": {},
     "output_type": "display_data"
    }
   ],
   "source": [
    "fig, axes = plt.subplots(nrows = 1, ncols = 2, figsize = (10, 5))\n",
    "\n",
    "axes[0].hist(mentions_sent, bins=np.linspace(0, 80, 8))\n",
    "axes[0].set_yscale('log')\n",
    "axes[0].set_title('Mentions Sent Histogram of Training Set')\n",
    "axes[0].set_xlabel('Mentions Sent')\n",
    "axes[0].set_ylabel('Count')\n",
    "\n",
    "axes[1].boxplot(mentions_sent)\n",
    "axes[1].set_title(\"Boxplot of Mentions Sent in the training set\")\n",
    "axes[1].set_ylabel('Mentions Sent')\n",
    "axes[1].set_xticklabels([])"
   ]
  },
  {
   "cell_type": "markdown",
   "id": "d5b3395c",
   "metadata": {},
   "source": [
    "#### Retweets Sent"
   ]
  },
  {
   "cell_type": "code",
   "execution_count": 103,
   "id": "b9a009a8",
   "metadata": {},
   "outputs": [
    {
     "data": {
      "text/plain": [
       "count    11000.000000\n",
       "mean         1.108080\n",
       "std          1.924980\n",
       "min          0.100503\n",
       "25%          0.100503\n",
       "50%          0.341936\n",
       "75%          1.320681\n",
       "max         16.290540\n",
       "Name: retweets_sent, dtype: float64"
      ]
     },
     "execution_count": 103,
     "metadata": {},
     "output_type": "execute_result"
    }
   ],
   "source": [
    "retweets_sent = AB_train['retweets_sent']\n",
    "retweets_sent.describe()"
   ]
  },
  {
   "cell_type": "code",
   "execution_count": 104,
   "id": "419ef8cd",
   "metadata": {},
   "outputs": [
    {
     "data": {
      "text/plain": [
       "False    11000\n",
       "Name: retweets_sent, dtype: int64"
      ]
     },
     "execution_count": 104,
     "metadata": {},
     "output_type": "execute_result"
    }
   ],
   "source": [
    "retweets_sent.isnull().value_counts()"
   ]
  },
  {
   "cell_type": "code",
   "execution_count": 105,
   "id": "9bb2e2d8",
   "metadata": {},
   "outputs": [
    {
     "data": {
      "text/plain": [
       "[Text(1, 0, '')]"
      ]
     },
     "execution_count": 105,
     "metadata": {},
     "output_type": "execute_result"
    },
    {
     "data": {
      "image/png": "[encoded data removed]",
      "text/plain": [
       "<Figure size 1000x500 with 2 Axes>"
      ]
     },
     "metadata": {},
     "output_type": "display_data"
    }
   ],
   "source": [
    "fig, axes = plt.subplots(nrows = 1, ncols = 2, figsize = (10, 5))\n",
    "\n",
    "axes[0].hist(retweets_sent, bins=np.linspace(0, 20, 10))\n",
    "axes[0].set_yscale('log')\n",
    "axes[0].set_title('Retweets Sent Histogram of Training Set')\n",
    "axes[0].set_xlabel('Retweets Sent')\n",
    "axes[0].set_ylabel('Count')\n",
    "\n",
    "axes[1].boxplot(retweets_sent)\n",
    "axes[1].set_title(\"Boxplot of Retweets Sent in the training set\")\n",
    "axes[1].set_ylabel('Retweets Sent')\n",
    "axes[1].set_xticklabels([])"
   ]
  },
  {
   "cell_type": "markdown",
   "id": "b9bbe362",
   "metadata": {},
   "source": [
    "#### Posts"
   ]
  },
  {
   "cell_type": "code",
   "execution_count": 106,
   "id": "18524bbb",
   "metadata": {},
   "outputs": [
    {
     "data": {
      "text/plain": [
       "count    11000.000000\n",
       "mean         9.298275\n",
       "std         18.876368\n",
       "min          0.100503\n",
       "25%          0.822584\n",
       "50%          3.467754\n",
       "75%         10.600502\n",
       "max        193.072418\n",
       "Name: posts, dtype: float64"
      ]
     },
     "execution_count": 106,
     "metadata": {},
     "output_type": "execute_result"
    }
   ],
   "source": [
    "posts = AB_train['posts']\n",
    "posts.describe()"
   ]
  },
  {
   "cell_type": "code",
   "execution_count": 107,
   "id": "4877e235",
   "metadata": {},
   "outputs": [
    {
     "data": {
      "text/plain": [
       "False    11000\n",
       "Name: posts, dtype: int64"
      ]
     },
     "execution_count": 107,
     "metadata": {},
     "output_type": "execute_result"
    }
   ],
   "source": [
    "posts.isnull().value_counts()"
   ]
  },
  {
   "cell_type": "code",
   "execution_count": 108,
   "id": "d705a331",
   "metadata": {
    "scrolled": true
   },
   "outputs": [
    {
     "data": {
      "text/plain": [
       "[Text(1, 0, '')]"
      ]
     },
     "execution_count": 108,
     "metadata": {},
     "output_type": "execute_result"
    },
    {
     "data": {
      "image/png": "[encoded data removed]",
      "text/plain": [
       "<Figure size 1000x500 with 2 Axes>"
      ]
     },
     "metadata": {},
     "output_type": "display_data"
    }
   ],
   "source": [
    "fig, axes = plt.subplots(nrows = 1, ncols = 2, figsize = (10, 5))\n",
    "\n",
    "axes[0].hist(posts, bins=np.logspace(-1, 3, 5))\n",
    "axes[0].set_xscale('log')\n",
    "axes[0].set_yscale('log')\n",
    "axes[0].set_title('Posts Histogram of Training Set')\n",
    "axes[0].set_xlabel('Posts')\n",
    "axes[0].set_ylabel('Count')\n",
    "\n",
    "axes[1].boxplot(posts)\n",
    "axes[1].set_yscale('log')\n",
    "axes[1].set_title(\"Boxplot of Posts in the training set\")\n",
    "axes[1].set_ylabel('Posts')\n",
    "axes[1].set_xticklabels([])"
   ]
  },
  {
   "cell_type": "markdown",
   "id": "98fbfa4f",
   "metadata": {},
   "source": [
    "#### Network Feature 1"
   ]
  },
  {
   "cell_type": "code",
   "execution_count": 109,
   "id": "b3003481",
   "metadata": {
    "scrolled": true
   },
   "outputs": [
    {
     "data": {
      "text/plain": [
       "count     11000.000000\n",
       "mean       5261.350818\n",
       "std       27882.609544\n",
       "min           0.000000\n",
       "25%          12.000000\n",
       "50%         195.000000\n",
       "75%        1323.000000\n",
       "max      920838.000000\n",
       "Name: network_feature_1, dtype: float64"
      ]
     },
     "execution_count": 109,
     "metadata": {},
     "output_type": "execute_result"
    }
   ],
   "source": [
    "network_feature_1 = AB_train['network_feature_1']\n",
    "network_feature_1.describe()"
   ]
  },
  {
   "cell_type": "code",
   "execution_count": 110,
   "id": "ab9a840d",
   "metadata": {},
   "outputs": [
    {
     "data": {
      "text/plain": [
       "False    11000\n",
       "Name: network_feature_1, dtype: int64"
      ]
     },
     "execution_count": 110,
     "metadata": {},
     "output_type": "execute_result"
    }
   ],
   "source": [
    "network_feature_1.isnull().value_counts()"
   ]
  },
  {
   "cell_type": "markdown",
   "id": "5ab28641",
   "metadata": {},
   "source": [
    "#### Network Feature 2"
   ]
  },
  {
   "cell_type": "code",
   "execution_count": 111,
   "id": "561eef1c",
   "metadata": {
    "scrolled": true
   },
   "outputs": [
    {
     "data": {
      "text/plain": [
       "count    11000.000000\n",
       "mean        84.914702\n",
       "std        105.384678\n",
       "min          0.000000\n",
       "25%         15.112500\n",
       "50%         54.925234\n",
       "75%        109.695652\n",
       "max       1861.583333\n",
       "Name: network_feature_2, dtype: float64"
      ]
     },
     "execution_count": 111,
     "metadata": {},
     "output_type": "execute_result"
    }
   ],
   "source": [
    "network_feature_2 = AB_train['network_feature_2']\n",
    "network_feature_2.describe()"
   ]
  },
  {
   "cell_type": "code",
   "execution_count": 112,
   "id": "13a854e4",
   "metadata": {
    "scrolled": true
   },
   "outputs": [
    {
     "data": {
      "text/plain": [
       "False    11000\n",
       "Name: network_feature_2, dtype: int64"
      ]
     },
     "execution_count": 112,
     "metadata": {},
     "output_type": "execute_result"
    }
   ],
   "source": [
    "network_feature_2.isnull().value_counts()"
   ]
  },
  {
   "cell_type": "markdown",
   "id": "044c4766",
   "metadata": {},
   "source": [
    "#### Network Feature 3"
   ]
  },
  {
   "cell_type": "code",
   "execution_count": 113,
   "id": "d829228c",
   "metadata": {
    "scrolled": true
   },
   "outputs": [
    {
     "data": {
      "text/plain": [
       "count    11000.000000\n",
       "mean        84.914702\n",
       "std        105.384678\n",
       "min          0.000000\n",
       "25%         15.112500\n",
       "50%         54.925234\n",
       "75%        109.695652\n",
       "max       1861.583333\n",
       "Name: network_feature_2, dtype: float64"
      ]
     },
     "execution_count": 113,
     "metadata": {},
     "output_type": "execute_result"
    }
   ],
   "source": [
    "network_feature_3 = AB_train['network_feature_2']\n",
    "network_feature_3.describe()"
   ]
  },
  {
   "cell_type": "code",
   "execution_count": 114,
   "id": "d71d9c21",
   "metadata": {
    "scrolled": true
   },
   "outputs": [
    {
     "data": {
      "text/plain": [
       "False    11000\n",
       "Name: network_feature_2, dtype: int64"
      ]
     },
     "execution_count": 114,
     "metadata": {},
     "output_type": "execute_result"
    }
   ],
   "source": [
    "network_feature_3.isnull().value_counts()"
   ]
  },
  {
   "cell_type": "markdown",
   "id": "1d8a46cf",
   "metadata": {},
   "source": [
    "---"
   ]
  },
  {
   "cell_type": "markdown",
   "id": "027009c0",
   "metadata": {},
   "source": [
    "## Preprocessing Data for Machine Learning"
   ]
  },
  {
   "cell_type": "code",
   "execution_count": 115,
   "id": "beb63166",
   "metadata": {},
   "outputs": [
    {
     "data": {
      "text/html": [
       "<div>\n",
       "<style scoped>\n",
       "    .dataframe tbody tr th:only-of-type {\n",
       "        vertical-align: middle;\n",
       "    }\n",
       "\n",
       "    .dataframe tbody tr th {\n",
       "        vertical-align: top;\n",
       "    }\n",
       "\n",
       "    .dataframe thead th {\n",
       "        text-align: right;\n",
       "    }\n",
       "</style>\n",
       "<table border=\"1\" class=\"dataframe\">\n",
       "  <thead>\n",
       "    <tr style=\"text-align: right;\">\n",
       "      <th></th>\n",
       "      <th>Choice</th>\n",
       "      <th>A_follower_count</th>\n",
       "      <th>A_following_count</th>\n",
       "      <th>A_listed_count</th>\n",
       "      <th>A_mentions_received</th>\n",
       "      <th>A_retweets_received</th>\n",
       "      <th>A_mentions_sent</th>\n",
       "      <th>A_retweets_sent</th>\n",
       "      <th>A_posts</th>\n",
       "      <th>A_network_feature_1</th>\n",
       "      <th>...</th>\n",
       "      <th>B_following_count</th>\n",
       "      <th>B_listed_count</th>\n",
       "      <th>B_mentions_received</th>\n",
       "      <th>B_retweets_received</th>\n",
       "      <th>B_mentions_sent</th>\n",
       "      <th>B_retweets_sent</th>\n",
       "      <th>B_posts</th>\n",
       "      <th>B_network_feature_1</th>\n",
       "      <th>B_network_feature_2</th>\n",
       "      <th>B_network_feature_3</th>\n",
       "    </tr>\n",
       "  </thead>\n",
       "  <tbody>\n",
       "    <tr>\n",
       "      <th>Choice</th>\n",
       "      <td>1.000000</td>\n",
       "      <td>0.134133</td>\n",
       "      <td>0.063678</td>\n",
       "      <td>0.135078</td>\n",
       "      <td>0.020745</td>\n",
       "      <td>0.024139</td>\n",
       "      <td>0.123868</td>\n",
       "      <td>0.137833</td>\n",
       "      <td>0.107648</td>\n",
       "      <td>0.065543</td>\n",
       "      <td>...</td>\n",
       "      <td>-0.042859</td>\n",
       "      <td>-0.191179</td>\n",
       "      <td>-0.062332</td>\n",
       "      <td>-0.064774</td>\n",
       "      <td>-0.139521</td>\n",
       "      <td>-0.168341</td>\n",
       "      <td>-0.102028</td>\n",
       "      <td>-0.108259</td>\n",
       "      <td>-0.051364</td>\n",
       "      <td>-0.069339</td>\n",
       "    </tr>\n",
       "    <tr>\n",
       "      <th>A_follower_count</th>\n",
       "      <td>0.134133</td>\n",
       "      <td>1.000000</td>\n",
       "      <td>0.115834</td>\n",
       "      <td>0.815952</td>\n",
       "      <td>0.511609</td>\n",
       "      <td>0.521888</td>\n",
       "      <td>0.018456</td>\n",
       "      <td>0.094799</td>\n",
       "      <td>0.042993</td>\n",
       "      <td>0.622146</td>\n",
       "      <td>...</td>\n",
       "      <td>0.033327</td>\n",
       "      <td>0.140186</td>\n",
       "      <td>0.029233</td>\n",
       "      <td>0.030709</td>\n",
       "      <td>-0.011715</td>\n",
       "      <td>-0.010649</td>\n",
       "      <td>-0.013452</td>\n",
       "      <td>0.051651</td>\n",
       "      <td>-0.033974</td>\n",
       "      <td>-0.014107</td>\n",
       "    </tr>\n",
       "    <tr>\n",
       "      <th>A_following_count</th>\n",
       "      <td>0.063678</td>\n",
       "      <td>0.115834</td>\n",
       "      <td>1.000000</td>\n",
       "      <td>0.100696</td>\n",
       "      <td>0.058140</td>\n",
       "      <td>0.051819</td>\n",
       "      <td>0.111342</td>\n",
       "      <td>-0.083883</td>\n",
       "      <td>0.138373</td>\n",
       "      <td>0.047236</td>\n",
       "      <td>...</td>\n",
       "      <td>-0.010944</td>\n",
       "      <td>-0.011792</td>\n",
       "      <td>0.001077</td>\n",
       "      <td>-0.001774</td>\n",
       "      <td>0.006797</td>\n",
       "      <td>0.002244</td>\n",
       "      <td>-0.000280</td>\n",
       "      <td>-0.002475</td>\n",
       "      <td>0.003415</td>\n",
       "      <td>-0.003968</td>\n",
       "    </tr>\n",
       "    <tr>\n",
       "      <th>A_listed_count</th>\n",
       "      <td>0.135078</td>\n",
       "      <td>0.815952</td>\n",
       "      <td>0.100696</td>\n",
       "      <td>1.000000</td>\n",
       "      <td>0.734589</td>\n",
       "      <td>0.747752</td>\n",
       "      <td>0.061729</td>\n",
       "      <td>0.155630</td>\n",
       "      <td>0.053975</td>\n",
       "      <td>0.705268</td>\n",
       "      <td>...</td>\n",
       "      <td>0.048962</td>\n",
       "      <td>0.203068</td>\n",
       "      <td>0.045555</td>\n",
       "      <td>0.045333</td>\n",
       "      <td>-0.002835</td>\n",
       "      <td>0.006040</td>\n",
       "      <td>0.003535</td>\n",
       "      <td>0.068414</td>\n",
       "      <td>-0.034576</td>\n",
       "      <td>-0.010478</td>\n",
       "    </tr>\n",
       "    <tr>\n",
       "      <th>A_mentions_received</th>\n",
       "      <td>0.020745</td>\n",
       "      <td>0.511609</td>\n",
       "      <td>0.058140</td>\n",
       "      <td>0.734589</td>\n",
       "      <td>1.000000</td>\n",
       "      <td>0.990021</td>\n",
       "      <td>0.023336</td>\n",
       "      <td>0.050100</td>\n",
       "      <td>0.026512</td>\n",
       "      <td>0.922340</td>\n",
       "      <td>...</td>\n",
       "      <td>0.023431</td>\n",
       "      <td>0.136128</td>\n",
       "      <td>0.010900</td>\n",
       "      <td>0.008098</td>\n",
       "      <td>-0.008721</td>\n",
       "      <td>-0.012288</td>\n",
       "      <td>-0.011123</td>\n",
       "      <td>0.023156</td>\n",
       "      <td>-0.017576</td>\n",
       "      <td>-0.011153</td>\n",
       "    </tr>\n",
       "    <tr>\n",
       "      <th>A_retweets_received</th>\n",
       "      <td>0.024139</td>\n",
       "      <td>0.521888</td>\n",
       "      <td>0.051819</td>\n",
       "      <td>0.747752</td>\n",
       "      <td>0.990021</td>\n",
       "      <td>1.000000</td>\n",
       "      <td>0.019130</td>\n",
       "      <td>0.043846</td>\n",
       "      <td>0.033068</td>\n",
       "      <td>0.928273</td>\n",
       "      <td>...</td>\n",
       "      <td>0.023340</td>\n",
       "      <td>0.139695</td>\n",
       "      <td>0.011525</td>\n",
       "      <td>0.008719</td>\n",
       "      <td>-0.007203</td>\n",
       "      <td>-0.012692</td>\n",
       "      <td>-0.009671</td>\n",
       "      <td>0.023931</td>\n",
       "      <td>-0.017675</td>\n",
       "      <td>-0.012855</td>\n",
       "    </tr>\n",
       "    <tr>\n",
       "      <th>A_mentions_sent</th>\n",
       "      <td>0.123868</td>\n",
       "      <td>0.018456</td>\n",
       "      <td>0.111342</td>\n",
       "      <td>0.061729</td>\n",
       "      <td>0.023336</td>\n",
       "      <td>0.019130</td>\n",
       "      <td>1.000000</td>\n",
       "      <td>0.582630</td>\n",
       "      <td>0.607040</td>\n",
       "      <td>0.032608</td>\n",
       "      <td>...</td>\n",
       "      <td>0.027851</td>\n",
       "      <td>0.005401</td>\n",
       "      <td>0.006467</td>\n",
       "      <td>0.010684</td>\n",
       "      <td>0.016772</td>\n",
       "      <td>0.003553</td>\n",
       "      <td>0.019061</td>\n",
       "      <td>0.005172</td>\n",
       "      <td>0.016377</td>\n",
       "      <td>0.014035</td>\n",
       "    </tr>\n",
       "    <tr>\n",
       "      <th>A_retweets_sent</th>\n",
       "      <td>0.137833</td>\n",
       "      <td>0.094799</td>\n",
       "      <td>-0.083883</td>\n",
       "      <td>0.155630</td>\n",
       "      <td>0.050100</td>\n",
       "      <td>0.043846</td>\n",
       "      <td>0.582630</td>\n",
       "      <td>1.000000</td>\n",
       "      <td>0.379318</td>\n",
       "      <td>0.081908</td>\n",
       "      <td>...</td>\n",
       "      <td>0.016303</td>\n",
       "      <td>0.038314</td>\n",
       "      <td>0.057745</td>\n",
       "      <td>0.060162</td>\n",
       "      <td>0.029084</td>\n",
       "      <td>0.011914</td>\n",
       "      <td>0.039341</td>\n",
       "      <td>0.050733</td>\n",
       "      <td>-0.004573</td>\n",
       "      <td>0.005986</td>\n",
       "    </tr>\n",
       "    <tr>\n",
       "      <th>A_posts</th>\n",
       "      <td>0.107648</td>\n",
       "      <td>0.042993</td>\n",
       "      <td>0.138373</td>\n",
       "      <td>0.053975</td>\n",
       "      <td>0.026512</td>\n",
       "      <td>0.033068</td>\n",
       "      <td>0.607040</td>\n",
       "      <td>0.379318</td>\n",
       "      <td>1.000000</td>\n",
       "      <td>0.074683</td>\n",
       "      <td>...</td>\n",
       "      <td>0.021679</td>\n",
       "      <td>-0.005321</td>\n",
       "      <td>0.001848</td>\n",
       "      <td>0.005974</td>\n",
       "      <td>0.028039</td>\n",
       "      <td>0.002118</td>\n",
       "      <td>0.023880</td>\n",
       "      <td>-0.001924</td>\n",
       "      <td>0.010813</td>\n",
       "      <td>0.004692</td>\n",
       "    </tr>\n",
       "    <tr>\n",
       "      <th>A_network_feature_1</th>\n",
       "      <td>0.065543</td>\n",
       "      <td>0.622146</td>\n",
       "      <td>0.047236</td>\n",
       "      <td>0.705268</td>\n",
       "      <td>0.922340</td>\n",
       "      <td>0.928273</td>\n",
       "      <td>0.032608</td>\n",
       "      <td>0.081908</td>\n",
       "      <td>0.074683</td>\n",
       "      <td>1.000000</td>\n",
       "      <td>...</td>\n",
       "      <td>0.034620</td>\n",
       "      <td>0.127232</td>\n",
       "      <td>0.012452</td>\n",
       "      <td>0.011003</td>\n",
       "      <td>-0.002757</td>\n",
       "      <td>-0.012546</td>\n",
       "      <td>-0.010237</td>\n",
       "      <td>0.026392</td>\n",
       "      <td>-0.023533</td>\n",
       "      <td>-0.015348</td>\n",
       "    </tr>\n",
       "    <tr>\n",
       "      <th>A_network_feature_2</th>\n",
       "      <td>0.073995</td>\n",
       "      <td>-0.153272</td>\n",
       "      <td>0.043642</td>\n",
       "      <td>-0.080056</td>\n",
       "      <td>-0.062407</td>\n",
       "      <td>-0.065266</td>\n",
       "      <td>0.064242</td>\n",
       "      <td>-0.048761</td>\n",
       "      <td>-0.066125</td>\n",
       "      <td>-0.118138</td>\n",
       "      <td>...</td>\n",
       "      <td>-0.006150</td>\n",
       "      <td>-0.039609</td>\n",
       "      <td>-0.014489</td>\n",
       "      <td>-0.017074</td>\n",
       "      <td>-0.033073</td>\n",
       "      <td>-0.032328</td>\n",
       "      <td>-0.023124</td>\n",
       "      <td>-0.026035</td>\n",
       "      <td>0.020110</td>\n",
       "      <td>0.019541</td>\n",
       "    </tr>\n",
       "    <tr>\n",
       "      <th>A_network_feature_3</th>\n",
       "      <td>0.084508</td>\n",
       "      <td>-0.036082</td>\n",
       "      <td>0.097762</td>\n",
       "      <td>-0.038574</td>\n",
       "      <td>-0.038079</td>\n",
       "      <td>-0.040301</td>\n",
       "      <td>0.035437</td>\n",
       "      <td>-0.042127</td>\n",
       "      <td>-0.018347</td>\n",
       "      <td>-0.071711</td>\n",
       "      <td>...</td>\n",
       "      <td>0.003965</td>\n",
       "      <td>-0.014082</td>\n",
       "      <td>-0.005735</td>\n",
       "      <td>-0.007868</td>\n",
       "      <td>-0.026988</td>\n",
       "      <td>-0.026618</td>\n",
       "      <td>0.005124</td>\n",
       "      <td>-0.010814</td>\n",
       "      <td>0.005391</td>\n",
       "      <td>-0.007551</td>\n",
       "    </tr>\n",
       "    <tr>\n",
       "      <th>B_follower_count</th>\n",
       "      <td>-0.161278</td>\n",
       "      <td>0.155347</td>\n",
       "      <td>-0.007616</td>\n",
       "      <td>0.211085</td>\n",
       "      <td>0.146134</td>\n",
       "      <td>0.149532</td>\n",
       "      <td>-0.005732</td>\n",
       "      <td>0.024915</td>\n",
       "      <td>-0.011992</td>\n",
       "      <td>0.138820</td>\n",
       "      <td>...</td>\n",
       "      <td>0.206914</td>\n",
       "      <td>0.825349</td>\n",
       "      <td>0.442939</td>\n",
       "      <td>0.452106</td>\n",
       "      <td>0.016834</td>\n",
       "      <td>0.097666</td>\n",
       "      <td>0.041268</td>\n",
       "      <td>0.577502</td>\n",
       "      <td>-0.153253</td>\n",
       "      <td>-0.040810</td>\n",
       "    </tr>\n",
       "    <tr>\n",
       "      <th>B_following_count</th>\n",
       "      <td>-0.042859</td>\n",
       "      <td>0.033327</td>\n",
       "      <td>-0.010944</td>\n",
       "      <td>0.048962</td>\n",
       "      <td>0.023431</td>\n",
       "      <td>0.023340</td>\n",
       "      <td>0.027851</td>\n",
       "      <td>0.016303</td>\n",
       "      <td>0.021679</td>\n",
       "      <td>0.034620</td>\n",
       "      <td>...</td>\n",
       "      <td>1.000000</td>\n",
       "      <td>0.185602</td>\n",
       "      <td>0.059341</td>\n",
       "      <td>0.051346</td>\n",
       "      <td>0.133472</td>\n",
       "      <td>-0.079185</td>\n",
       "      <td>0.156651</td>\n",
       "      <td>0.068276</td>\n",
       "      <td>0.037912</td>\n",
       "      <td>0.098967</td>\n",
       "    </tr>\n",
       "    <tr>\n",
       "      <th>B_listed_count</th>\n",
       "      <td>-0.191179</td>\n",
       "      <td>0.140186</td>\n",
       "      <td>-0.011792</td>\n",
       "      <td>0.203068</td>\n",
       "      <td>0.136128</td>\n",
       "      <td>0.139695</td>\n",
       "      <td>0.005401</td>\n",
       "      <td>0.038314</td>\n",
       "      <td>-0.005321</td>\n",
       "      <td>0.127232</td>\n",
       "      <td>...</td>\n",
       "      <td>0.185602</td>\n",
       "      <td>1.000000</td>\n",
       "      <td>0.646975</td>\n",
       "      <td>0.663580</td>\n",
       "      <td>0.061640</td>\n",
       "      <td>0.163548</td>\n",
       "      <td>0.062193</td>\n",
       "      <td>0.638013</td>\n",
       "      <td>-0.087283</td>\n",
       "      <td>-0.045283</td>\n",
       "    </tr>\n",
       "    <tr>\n",
       "      <th>B_mentions_received</th>\n",
       "      <td>-0.062332</td>\n",
       "      <td>0.029233</td>\n",
       "      <td>0.001077</td>\n",
       "      <td>0.045555</td>\n",
       "      <td>0.010900</td>\n",
       "      <td>0.011525</td>\n",
       "      <td>0.006467</td>\n",
       "      <td>0.057745</td>\n",
       "      <td>0.001848</td>\n",
       "      <td>0.012452</td>\n",
       "      <td>...</td>\n",
       "      <td>0.059341</td>\n",
       "      <td>0.646975</td>\n",
       "      <td>1.000000</td>\n",
       "      <td>0.986410</td>\n",
       "      <td>0.024797</td>\n",
       "      <td>0.048683</td>\n",
       "      <td>0.031186</td>\n",
       "      <td>0.907967</td>\n",
       "      <td>-0.067818</td>\n",
       "      <td>-0.043421</td>\n",
       "    </tr>\n",
       "    <tr>\n",
       "      <th>B_retweets_received</th>\n",
       "      <td>-0.064774</td>\n",
       "      <td>0.030709</td>\n",
       "      <td>-0.001774</td>\n",
       "      <td>0.045333</td>\n",
       "      <td>0.008098</td>\n",
       "      <td>0.008719</td>\n",
       "      <td>0.010684</td>\n",
       "      <td>0.060162</td>\n",
       "      <td>0.005974</td>\n",
       "      <td>0.011003</td>\n",
       "      <td>...</td>\n",
       "      <td>0.051346</td>\n",
       "      <td>0.663580</td>\n",
       "      <td>0.986410</td>\n",
       "      <td>1.000000</td>\n",
       "      <td>0.021169</td>\n",
       "      <td>0.046010</td>\n",
       "      <td>0.040825</td>\n",
       "      <td>0.915914</td>\n",
       "      <td>-0.072015</td>\n",
       "      <td>-0.046866</td>\n",
       "    </tr>\n",
       "    <tr>\n",
       "      <th>B_mentions_sent</th>\n",
       "      <td>-0.139521</td>\n",
       "      <td>-0.011715</td>\n",
       "      <td>0.006797</td>\n",
       "      <td>-0.002835</td>\n",
       "      <td>-0.008721</td>\n",
       "      <td>-0.007203</td>\n",
       "      <td>0.016772</td>\n",
       "      <td>0.029084</td>\n",
       "      <td>0.028039</td>\n",
       "      <td>-0.002757</td>\n",
       "      <td>...</td>\n",
       "      <td>0.133472</td>\n",
       "      <td>0.061640</td>\n",
       "      <td>0.024797</td>\n",
       "      <td>0.021169</td>\n",
       "      <td>1.000000</td>\n",
       "      <td>0.573365</td>\n",
       "      <td>0.595929</td>\n",
       "      <td>0.033309</td>\n",
       "      <td>0.034726</td>\n",
       "      <td>0.017665</td>\n",
       "    </tr>\n",
       "    <tr>\n",
       "      <th>B_retweets_sent</th>\n",
       "      <td>-0.168341</td>\n",
       "      <td>-0.010649</td>\n",
       "      <td>0.002244</td>\n",
       "      <td>0.006040</td>\n",
       "      <td>-0.012288</td>\n",
       "      <td>-0.012692</td>\n",
       "      <td>0.003553</td>\n",
       "      <td>0.011914</td>\n",
       "      <td>0.002118</td>\n",
       "      <td>-0.012546</td>\n",
       "      <td>...</td>\n",
       "      <td>-0.079185</td>\n",
       "      <td>0.163548</td>\n",
       "      <td>0.048683</td>\n",
       "      <td>0.046010</td>\n",
       "      <td>0.573365</td>\n",
       "      <td>1.000000</td>\n",
       "      <td>0.405168</td>\n",
       "      <td>0.085330</td>\n",
       "      <td>-0.062874</td>\n",
       "      <td>-0.048987</td>\n",
       "    </tr>\n",
       "    <tr>\n",
       "      <th>B_posts</th>\n",
       "      <td>-0.102028</td>\n",
       "      <td>-0.013452</td>\n",
       "      <td>-0.000280</td>\n",
       "      <td>0.003535</td>\n",
       "      <td>-0.011123</td>\n",
       "      <td>-0.009671</td>\n",
       "      <td>0.019061</td>\n",
       "      <td>0.039341</td>\n",
       "      <td>0.023880</td>\n",
       "      <td>-0.010237</td>\n",
       "      <td>...</td>\n",
       "      <td>0.156651</td>\n",
       "      <td>0.062193</td>\n",
       "      <td>0.031186</td>\n",
       "      <td>0.040825</td>\n",
       "      <td>0.595929</td>\n",
       "      <td>0.405168</td>\n",
       "      <td>1.000000</td>\n",
       "      <td>0.082300</td>\n",
       "      <td>-0.084289</td>\n",
       "      <td>-0.041653</td>\n",
       "    </tr>\n",
       "    <tr>\n",
       "      <th>B_network_feature_1</th>\n",
       "      <td>-0.108259</td>\n",
       "      <td>0.051651</td>\n",
       "      <td>-0.002475</td>\n",
       "      <td>0.068414</td>\n",
       "      <td>0.023156</td>\n",
       "      <td>0.023931</td>\n",
       "      <td>0.005172</td>\n",
       "      <td>0.050733</td>\n",
       "      <td>-0.001924</td>\n",
       "      <td>0.026392</td>\n",
       "      <td>...</td>\n",
       "      <td>0.068276</td>\n",
       "      <td>0.638013</td>\n",
       "      <td>0.907967</td>\n",
       "      <td>0.915914</td>\n",
       "      <td>0.033309</td>\n",
       "      <td>0.085330</td>\n",
       "      <td>0.082300</td>\n",
       "      <td>1.000000</td>\n",
       "      <td>-0.124884</td>\n",
       "      <td>-0.079573</td>\n",
       "    </tr>\n",
       "    <tr>\n",
       "      <th>B_network_feature_2</th>\n",
       "      <td>-0.051364</td>\n",
       "      <td>-0.033974</td>\n",
       "      <td>0.003415</td>\n",
       "      <td>-0.034576</td>\n",
       "      <td>-0.017576</td>\n",
       "      <td>-0.017675</td>\n",
       "      <td>0.016377</td>\n",
       "      <td>-0.004573</td>\n",
       "      <td>0.010813</td>\n",
       "      <td>-0.023533</td>\n",
       "      <td>...</td>\n",
       "      <td>0.037912</td>\n",
       "      <td>-0.087283</td>\n",
       "      <td>-0.067818</td>\n",
       "      <td>-0.072015</td>\n",
       "      <td>0.034726</td>\n",
       "      <td>-0.062874</td>\n",
       "      <td>-0.084289</td>\n",
       "      <td>-0.124884</td>\n",
       "      <td>1.000000</td>\n",
       "      <td>0.572694</td>\n",
       "    </tr>\n",
       "    <tr>\n",
       "      <th>B_network_feature_3</th>\n",
       "      <td>-0.069339</td>\n",
       "      <td>-0.014107</td>\n",
       "      <td>-0.003968</td>\n",
       "      <td>-0.010478</td>\n",
       "      <td>-0.011153</td>\n",
       "      <td>-0.012855</td>\n",
       "      <td>0.014035</td>\n",
       "      <td>0.005986</td>\n",
       "      <td>0.004692</td>\n",
       "      <td>-0.015348</td>\n",
       "      <td>...</td>\n",
       "      <td>0.098967</td>\n",
       "      <td>-0.045283</td>\n",
       "      <td>-0.043421</td>\n",
       "      <td>-0.046866</td>\n",
       "      <td>0.017665</td>\n",
       "      <td>-0.048987</td>\n",
       "      <td>-0.041653</td>\n",
       "      <td>-0.079573</td>\n",
       "      <td>0.572694</td>\n",
       "      <td>1.000000</td>\n",
       "    </tr>\n",
       "  </tbody>\n",
       "</table>\n",
       "<p>23 rows × 23 columns</p>\n",
       "</div>"
      ],
      "text/plain": [
       "                       Choice  A_follower_count  A_following_count  \\\n",
       "Choice               1.000000          0.134133           0.063678   \n",
       "A_follower_count     0.134133          1.000000           0.115834   \n",
       "A_following_count    0.063678          0.115834           1.000000   \n",
       "A_listed_count       0.135078          0.815952           0.100696   \n",
       "A_mentions_received  0.020745          0.511609           0.058140   \n",
       "A_retweets_received  0.024139          0.521888           0.051819   \n",
       "A_mentions_sent      0.123868          0.018456           0.111342   \n",
       "A_retweets_sent      0.137833          0.094799          -0.083883   \n",
       "A_posts              0.107648          0.042993           0.138373   \n",
       "A_network_feature_1  0.065543          0.622146           0.047236   \n",
       "A_network_feature_2  0.073995         -0.153272           0.043642   \n",
       "A_network_feature_3  0.084508         -0.036082           0.097762   \n",
       "B_follower_count    -0.161278          0.155347          -0.007616   \n",
       "B_following_count   -0.042859          0.033327          -0.010944   \n",
       "B_listed_count      -0.191179          0.140186          -0.011792   \n",
       "B_mentions_received -0.062332          0.029233           0.001077   \n",
       "B_retweets_received -0.064774          0.030709          -0.001774   \n",
       "B_mentions_sent     -0.139521         -0.011715           0.006797   \n",
       "B_retweets_sent     -0.168341         -0.010649           0.002244   \n",
       "B_posts             -0.102028         -0.013452          -0.000280   \n",
       "B_network_feature_1 -0.108259          0.051651          -0.002475   \n",
       "B_network_feature_2 -0.051364         -0.033974           0.003415   \n",
       "B_network_feature_3 -0.069339         -0.014107          -0.003968   \n",
       "\n",
       "                     A_listed_count  A_mentions_received  A_retweets_received  \\\n",
       "Choice                     0.135078             0.020745             0.024139   \n",
       "A_follower_count           0.815952             0.511609             0.521888   \n",
       "A_following_count          0.100696             0.058140             0.051819   \n",
       "A_listed_count             1.000000             0.734589             0.747752   \n",
       "A_mentions_received        0.734589             1.000000             0.990021   \n",
       "A_retweets_received        0.747752             0.990021             1.000000   \n",
       "A_mentions_sent            0.061729             0.023336             0.019130   \n",
       "A_retweets_sent            0.155630             0.050100             0.043846   \n",
       "A_posts                    0.053975             0.026512             0.033068   \n",
       "A_network_feature_1        0.705268             0.922340             0.928273   \n",
       "A_network_feature_2       -0.080056            -0.062407            -0.065266   \n",
       "A_network_feature_3       -0.038574            -0.038079            -0.040301   \n",
       "B_follower_count           0.211085             0.146134             0.149532   \n",
       "B_following_count          0.048962             0.023431             0.023340   \n",
       "B_listed_count             0.203068             0.136128             0.139695   \n",
       "B_mentions_received        0.045555             0.010900             0.011525   \n",
       "B_retweets_received        0.045333             0.008098             0.008719   \n",
       "B_mentions_sent           -0.002835            -0.008721            -0.007203   \n",
       "B_retweets_sent            0.006040            -0.012288            -0.012692   \n",
       "B_posts                    0.003535            -0.011123            -0.009671   \n",
       "B_network_feature_1        0.068414             0.023156             0.023931   \n",
       "B_network_feature_2       -0.034576            -0.017576            -0.017675   \n",
       "B_network_feature_3       -0.010478            -0.011153            -0.012855   \n",
       "\n",
       "                     A_mentions_sent  A_retweets_sent   A_posts  \\\n",
       "Choice                      0.123868         0.137833  0.107648   \n",
       "A_follower_count            0.018456         0.094799  0.042993   \n",
       "A_following_count           0.111342        -0.083883  0.138373   \n",
       "A_listed_count              0.061729         0.155630  0.053975   \n",
       "A_mentions_received         0.023336         0.050100  0.026512   \n",
       "A_retweets_received         0.019130         0.043846  0.033068   \n",
       "A_mentions_sent             1.000000         0.582630  0.607040   \n",
       "A_retweets_sent             0.582630         1.000000  0.379318   \n",
       "A_posts                     0.607040         0.379318  1.000000   \n",
       "A_network_feature_1         0.032608         0.081908  0.074683   \n",
       "A_network_feature_2         0.064242        -0.048761 -0.066125   \n",
       "A_network_feature_3         0.035437        -0.042127 -0.018347   \n",
       "B_follower_count           -0.005732         0.024915 -0.011992   \n",
       "B_following_count           0.027851         0.016303  0.021679   \n",
       "B_listed_count              0.005401         0.038314 -0.005321   \n",
       "B_mentions_received         0.006467         0.057745  0.001848   \n",
       "B_retweets_received         0.010684         0.060162  0.005974   \n",
       "B_mentions_sent             0.016772         0.029084  0.028039   \n",
       "B_retweets_sent             0.003553         0.011914  0.002118   \n",
       "B_posts                     0.019061         0.039341  0.023880   \n",
       "B_network_feature_1         0.005172         0.050733 -0.001924   \n",
       "B_network_feature_2         0.016377        -0.004573  0.010813   \n",
       "B_network_feature_3         0.014035         0.005986  0.004692   \n",
       "\n",
       "                     A_network_feature_1  ...  B_following_count  \\\n",
       "Choice                          0.065543  ...          -0.042859   \n",
       "A_follower_count                0.622146  ...           0.033327   \n",
       "A_following_count               0.047236  ...          -0.010944   \n",
       "A_listed_count                  0.705268  ...           0.048962   \n",
       "A_mentions_received             0.922340  ...           0.023431   \n",
       "A_retweets_received             0.928273  ...           0.023340   \n",
       "A_mentions_sent                 0.032608  ...           0.027851   \n",
       "A_retweets_sent                 0.081908  ...           0.016303   \n",
       "A_posts                         0.074683  ...           0.021679   \n",
       "A_network_feature_1             1.000000  ...           0.034620   \n",
       "A_network_feature_2            -0.118138  ...          -0.006150   \n",
       "A_network_feature_3            -0.071711  ...           0.003965   \n",
       "B_follower_count                0.138820  ...           0.206914   \n",
       "B_following_count               0.034620  ...           1.000000   \n",
       "B_listed_count                  0.127232  ...           0.185602   \n",
       "B_mentions_received             0.012452  ...           0.059341   \n",
       "B_retweets_received             0.011003  ...           0.051346   \n",
       "B_mentions_sent                -0.002757  ...           0.133472   \n",
       "B_retweets_sent                -0.012546  ...          -0.079185   \n",
       "B_posts                        -0.010237  ...           0.156651   \n",
       "B_network_feature_1             0.026392  ...           0.068276   \n",
       "B_network_feature_2            -0.023533  ...           0.037912   \n",
       "B_network_feature_3            -0.015348  ...           0.098967   \n",
       "\n",
       "                     B_listed_count  B_mentions_received  B_retweets_received  \\\n",
       "Choice                    -0.191179            -0.062332            -0.064774   \n",
       "A_follower_count           0.140186             0.029233             0.030709   \n",
       "A_following_count         -0.011792             0.001077            -0.001774   \n",
       "A_listed_count             0.203068             0.045555             0.045333   \n",
       "A_mentions_received        0.136128             0.010900             0.008098   \n",
       "A_retweets_received        0.139695             0.011525             0.008719   \n",
       "A_mentions_sent            0.005401             0.006467             0.010684   \n",
       "A_retweets_sent            0.038314             0.057745             0.060162   \n",
       "A_posts                   -0.005321             0.001848             0.005974   \n",
       "A_network_feature_1        0.127232             0.012452             0.011003   \n",
       "A_network_feature_2       -0.039609            -0.014489            -0.017074   \n",
       "A_network_feature_3       -0.014082            -0.005735            -0.007868   \n",
       "B_follower_count           0.825349             0.442939             0.452106   \n",
       "B_following_count          0.185602             0.059341             0.051346   \n",
       "B_listed_count             1.000000             0.646975             0.663580   \n",
       "B_mentions_received        0.646975             1.000000             0.986410   \n",
       "B_retweets_received        0.663580             0.986410             1.000000   \n",
       "B_mentions_sent            0.061640             0.024797             0.021169   \n",
       "B_retweets_sent            0.163548             0.048683             0.046010   \n",
       "B_posts                    0.062193             0.031186             0.040825   \n",
       "B_network_feature_1        0.638013             0.907967             0.915914   \n",
       "B_network_feature_2       -0.087283            -0.067818            -0.072015   \n",
       "B_network_feature_3       -0.045283            -0.043421            -0.046866   \n",
       "\n",
       "                     B_mentions_sent  B_retweets_sent   B_posts  \\\n",
       "Choice                     -0.139521        -0.168341 -0.102028   \n",
       "A_follower_count           -0.011715        -0.010649 -0.013452   \n",
       "A_following_count           0.006797         0.002244 -0.000280   \n",
       "A_listed_count             -0.002835         0.006040  0.003535   \n",
       "A_mentions_received        -0.008721        -0.012288 -0.011123   \n",
       "A_retweets_received        -0.007203        -0.012692 -0.009671   \n",
       "A_mentions_sent             0.016772         0.003553  0.019061   \n",
       "A_retweets_sent             0.029084         0.011914  0.039341   \n",
       "A_posts                     0.028039         0.002118  0.023880   \n",
       "A_network_feature_1        -0.002757        -0.012546 -0.010237   \n",
       "A_network_feature_2        -0.033073        -0.032328 -0.023124   \n",
       "A_network_feature_3        -0.026988        -0.026618  0.005124   \n",
       "B_follower_count            0.016834         0.097666  0.041268   \n",
       "B_following_count           0.133472        -0.079185  0.156651   \n",
       "B_listed_count              0.061640         0.163548  0.062193   \n",
       "B_mentions_received         0.024797         0.048683  0.031186   \n",
       "B_retweets_received         0.021169         0.046010  0.040825   \n",
       "B_mentions_sent             1.000000         0.573365  0.595929   \n",
       "B_retweets_sent             0.573365         1.000000  0.405168   \n",
       "B_posts                     0.595929         0.405168  1.000000   \n",
       "B_network_feature_1         0.033309         0.085330  0.082300   \n",
       "B_network_feature_2         0.034726        -0.062874 -0.084289   \n",
       "B_network_feature_3         0.017665        -0.048987 -0.041653   \n",
       "\n",
       "                     B_network_feature_1  B_network_feature_2  \\\n",
       "Choice                         -0.108259            -0.051364   \n",
       "A_follower_count                0.051651            -0.033974   \n",
       "A_following_count              -0.002475             0.003415   \n",
       "A_listed_count                  0.068414            -0.034576   \n",
       "A_mentions_received             0.023156            -0.017576   \n",
       "A_retweets_received             0.023931            -0.017675   \n",
       "A_mentions_sent                 0.005172             0.016377   \n",
       "A_retweets_sent                 0.050733            -0.004573   \n",
       "A_posts                        -0.001924             0.010813   \n",
       "A_network_feature_1             0.026392            -0.023533   \n",
       "A_network_feature_2            -0.026035             0.020110   \n",
       "A_network_feature_3            -0.010814             0.005391   \n",
       "B_follower_count                0.577502            -0.153253   \n",
       "B_following_count               0.068276             0.037912   \n",
       "B_listed_count                  0.638013            -0.087283   \n",
       "B_mentions_received             0.907967            -0.067818   \n",
       "B_retweets_received             0.915914            -0.072015   \n",
       "B_mentions_sent                 0.033309             0.034726   \n",
       "B_retweets_sent                 0.085330            -0.062874   \n",
       "B_posts                         0.082300            -0.084289   \n",
       "B_network_feature_1             1.000000            -0.124884   \n",
       "B_network_feature_2            -0.124884             1.000000   \n",
       "B_network_feature_3            -0.079573             0.572694   \n",
       "\n",
       "                     B_network_feature_3  \n",
       "Choice                         -0.069339  \n",
       "A_follower_count               -0.014107  \n",
       "A_following_count              -0.003968  \n",
       "A_listed_count                 -0.010478  \n",
       "A_mentions_received            -0.011153  \n",
       "A_retweets_received            -0.012855  \n",
       "A_mentions_sent                 0.014035  \n",
       "A_retweets_sent                 0.005986  \n",
       "A_posts                         0.004692  \n",
       "A_network_feature_1            -0.015348  \n",
       "A_network_feature_2             0.019541  \n",
       "A_network_feature_3            -0.007551  \n",
       "B_follower_count               -0.040810  \n",
       "B_following_count               0.098967  \n",
       "B_listed_count                 -0.045283  \n",
       "B_mentions_received            -0.043421  \n",
       "B_retweets_received            -0.046866  \n",
       "B_mentions_sent                 0.017665  \n",
       "B_retweets_sent                -0.048987  \n",
       "B_posts                        -0.041653  \n",
       "B_network_feature_1            -0.079573  \n",
       "B_network_feature_2             0.572694  \n",
       "B_network_feature_3             1.000000  \n",
       "\n",
       "[23 rows x 23 columns]"
      ]
     },
     "execution_count": 115,
     "metadata": {},
     "output_type": "execute_result"
    }
   ],
   "source": [
    "train_data.corr()"
   ]
  },
  {
   "cell_type": "code",
   "execution_count": 116,
   "id": "0f0c6ade",
   "metadata": {
    "scrolled": true
   },
   "outputs": [
    {
     "data": {
      "text/plain": [
       "0    0\n",
       "1    0\n",
       "2    0\n",
       "3    0\n",
       "4    1\n",
       "Name: Choice, dtype: int64"
      ]
     },
     "execution_count": 116,
     "metadata": {},
     "output_type": "execute_result"
    }
   ],
   "source": [
    "y_train.head()"
   ]
  },
  {
   "cell_type": "markdown",
   "id": "27805cf5",
   "metadata": {},
   "source": [
    "__y_train__ is ok. It's value's are 0 or 1 in the labels and go from 0 to 1 in the predictions, which must hold a threshold to classify the result."
   ]
  },
  {
   "cell_type": "code",
   "execution_count": 117,
   "id": "8e1d663c",
   "metadata": {},
   "outputs": [
    {
     "data": {
      "text/html": [
       "<div>\n",
       "<style scoped>\n",
       "    .dataframe tbody tr th:only-of-type {\n",
       "        vertical-align: middle;\n",
       "    }\n",
       "\n",
       "    .dataframe tbody tr th {\n",
       "        vertical-align: top;\n",
       "    }\n",
       "\n",
       "    .dataframe thead th {\n",
       "        text-align: right;\n",
       "    }\n",
       "</style>\n",
       "<table border=\"1\" class=\"dataframe\">\n",
       "  <thead>\n",
       "    <tr style=\"text-align: right;\">\n",
       "      <th></th>\n",
       "      <th>A_follower_count</th>\n",
       "      <th>A_following_count</th>\n",
       "      <th>A_listed_count</th>\n",
       "      <th>A_mentions_received</th>\n",
       "      <th>A_retweets_received</th>\n",
       "      <th>A_mentions_sent</th>\n",
       "      <th>A_retweets_sent</th>\n",
       "      <th>A_posts</th>\n",
       "      <th>A_network_feature_1</th>\n",
       "      <th>A_network_feature_2</th>\n",
       "      <th>...</th>\n",
       "      <th>B_following_count</th>\n",
       "      <th>B_listed_count</th>\n",
       "      <th>B_mentions_received</th>\n",
       "      <th>B_retweets_received</th>\n",
       "      <th>B_mentions_sent</th>\n",
       "      <th>B_retweets_sent</th>\n",
       "      <th>B_posts</th>\n",
       "      <th>B_network_feature_1</th>\n",
       "      <th>B_network_feature_2</th>\n",
       "      <th>B_network_feature_3</th>\n",
       "    </tr>\n",
       "  </thead>\n",
       "  <tbody>\n",
       "    <tr>\n",
       "      <th>0</th>\n",
       "      <td>228</td>\n",
       "      <td>302</td>\n",
       "      <td>3</td>\n",
       "      <td>0.583979</td>\n",
       "      <td>0.100503</td>\n",
       "      <td>0.100503</td>\n",
       "      <td>0.100503</td>\n",
       "      <td>0.362150</td>\n",
       "      <td>2</td>\n",
       "      <td>166.500000</td>\n",
       "      <td>...</td>\n",
       "      <td>29808</td>\n",
       "      <td>1689</td>\n",
       "      <td>15.430498</td>\n",
       "      <td>3.984029</td>\n",
       "      <td>8.204331</td>\n",
       "      <td>0.332423</td>\n",
       "      <td>6.988815</td>\n",
       "      <td>66</td>\n",
       "      <td>75.530303</td>\n",
       "      <td>1916.893939</td>\n",
       "    </tr>\n",
       "    <tr>\n",
       "      <th>1</th>\n",
       "      <td>21591</td>\n",
       "      <td>1179</td>\n",
       "      <td>228</td>\n",
       "      <td>90.456506</td>\n",
       "      <td>25.798292</td>\n",
       "      <td>5.709329</td>\n",
       "      <td>1.111159</td>\n",
       "      <td>5.176620</td>\n",
       "      <td>369</td>\n",
       "      <td>18.442971</td>\n",
       "      <td>...</td>\n",
       "      <td>848</td>\n",
       "      <td>1610</td>\n",
       "      <td>40.495021</td>\n",
       "      <td>8.943607</td>\n",
       "      <td>3.227677</td>\n",
       "      <td>0.564343</td>\n",
       "      <td>1.070321</td>\n",
       "      <td>163</td>\n",
       "      <td>132.030675</td>\n",
       "      <td>2931.515337</td>\n",
       "    </tr>\n",
       "    <tr>\n",
       "      <th>2</th>\n",
       "      <td>7310</td>\n",
       "      <td>1215</td>\n",
       "      <td>101</td>\n",
       "      <td>25.503644</td>\n",
       "      <td>9.556347</td>\n",
       "      <td>5.361519</td>\n",
       "      <td>0.591206</td>\n",
       "      <td>3.589718</td>\n",
       "      <td>95</td>\n",
       "      <td>68.927835</td>\n",
       "      <td>...</td>\n",
       "      <td>482</td>\n",
       "      <td>206</td>\n",
       "      <td>0.734696</td>\n",
       "      <td>0.354379</td>\n",
       "      <td>0.603202</td>\n",
       "      <td>0.100503</td>\n",
       "      <td>0.603202</td>\n",
       "      <td>3</td>\n",
       "      <td>10.333333</td>\n",
       "      <td>277.333333</td>\n",
       "    </tr>\n",
       "    <tr>\n",
       "      <th>3</th>\n",
       "      <td>20</td>\n",
       "      <td>7</td>\n",
       "      <td>2</td>\n",
       "      <td>7.690824</td>\n",
       "      <td>0.277306</td>\n",
       "      <td>1.331508</td>\n",
       "      <td>0.100503</td>\n",
       "      <td>2.830627</td>\n",
       "      <td>6</td>\n",
       "      <td>2.000000</td>\n",
       "      <td>...</td>\n",
       "      <td>17637</td>\n",
       "      <td>278</td>\n",
       "      <td>572.874856</td>\n",
       "      <td>390.293681</td>\n",
       "      <td>27.552040</td>\n",
       "      <td>7.167557</td>\n",
       "      <td>32.101906</td>\n",
       "      <td>1762</td>\n",
       "      <td>23.469296</td>\n",
       "      <td>1395.845634</td>\n",
       "    </tr>\n",
       "    <tr>\n",
       "      <th>4</th>\n",
       "      <td>45589</td>\n",
       "      <td>862</td>\n",
       "      <td>2641</td>\n",
       "      <td>148.854279</td>\n",
       "      <td>36.998884</td>\n",
       "      <td>27.881768</td>\n",
       "      <td>3.333492</td>\n",
       "      <td>23.861282</td>\n",
       "      <td>551</td>\n",
       "      <td>127.404293</td>\n",
       "      <td>...</td>\n",
       "      <td>1711</td>\n",
       "      <td>181</td>\n",
       "      <td>21.601866</td>\n",
       "      <td>3.581661</td>\n",
       "      <td>6.764657</td>\n",
       "      <td>1.119727</td>\n",
       "      <td>4.563246</td>\n",
       "      <td>85</td>\n",
       "      <td>48.500000</td>\n",
       "      <td>1993.627907</td>\n",
       "    </tr>\n",
       "  </tbody>\n",
       "</table>\n",
       "<p>5 rows × 22 columns</p>\n",
       "</div>"
      ],
      "text/plain": [
       "   A_follower_count  A_following_count  A_listed_count  A_mentions_received  \\\n",
       "0               228                302               3             0.583979   \n",
       "1             21591               1179             228            90.456506   \n",
       "2              7310               1215             101            25.503644   \n",
       "3                20                  7               2             7.690824   \n",
       "4             45589                862            2641           148.854279   \n",
       "\n",
       "   A_retweets_received  A_mentions_sent  A_retweets_sent    A_posts  \\\n",
       "0             0.100503         0.100503         0.100503   0.362150   \n",
       "1            25.798292         5.709329         1.111159   5.176620   \n",
       "2             9.556347         5.361519         0.591206   3.589718   \n",
       "3             0.277306         1.331508         0.100503   2.830627   \n",
       "4            36.998884        27.881768         3.333492  23.861282   \n",
       "\n",
       "   A_network_feature_1  A_network_feature_2  ...  B_following_count  \\\n",
       "0                    2           166.500000  ...              29808   \n",
       "1                  369            18.442971  ...                848   \n",
       "2                   95            68.927835  ...                482   \n",
       "3                    6             2.000000  ...              17637   \n",
       "4                  551           127.404293  ...               1711   \n",
       "\n",
       "   B_listed_count  B_mentions_received  B_retweets_received  B_mentions_sent  \\\n",
       "0            1689            15.430498             3.984029         8.204331   \n",
       "1            1610            40.495021             8.943607         3.227677   \n",
       "2             206             0.734696             0.354379         0.603202   \n",
       "3             278           572.874856           390.293681        27.552040   \n",
       "4             181            21.601866             3.581661         6.764657   \n",
       "\n",
       "   B_retweets_sent    B_posts  B_network_feature_1  B_network_feature_2  \\\n",
       "0         0.332423   6.988815                   66            75.530303   \n",
       "1         0.564343   1.070321                  163           132.030675   \n",
       "2         0.100503   0.603202                    3            10.333333   \n",
       "3         7.167557  32.101906                 1762            23.469296   \n",
       "4         1.119727   4.563246                   85            48.500000   \n",
       "\n",
       "   B_network_feature_3  \n",
       "0          1916.893939  \n",
       "1          2931.515337  \n",
       "2           277.333333  \n",
       "3          1395.845634  \n",
       "4          1993.627907  \n",
       "\n",
       "[5 rows x 22 columns]"
      ]
     },
     "execution_count": 117,
     "metadata": {},
     "output_type": "execute_result"
    }
   ],
   "source": [
    "x_train.head()"
   ]
  },
  {
   "cell_type": "markdown",
   "id": "48ec6fa0",
   "metadata": {},
   "source": [
    "We will do the following preprocess steps:\n",
    "\n",
    "- Transform A and B pairs of features into a single __diffrat__ feature ((A - B)/(A + B))\n",
    "- Change NaN to 0"
   ]
  },
  {
   "cell_type": "code",
   "execution_count": 118,
   "id": "b6e6fb05",
   "metadata": {},
   "outputs": [],
   "source": [
    "preprocessed_y_train = y_train.copy()\n",
    "preprocessed_x_train = pd.DataFrame()\n",
    "preprocessed_x_test = pd.DataFrame()"
   ]
  },
  {
   "cell_type": "code",
   "execution_count": 119,
   "id": "4f8b5fb3",
   "metadata": {},
   "outputs": [],
   "source": [
    "A_features = x_train.columns[0:11]\n",
    "B_features = x_train.columns[11:22]\n",
    "\n",
    "A_train = x_train[A_features].copy()\n",
    "B_train = x_train[B_features].copy()\n",
    "A_test = x_test[A_features].copy()\n",
    "B_test = x_test[B_features].copy()\n",
    "\n",
    "AB_features = [s[2:] for s in list(A_features)]\n",
    "\n",
    "for feature in AB_features:\n",
    "    preprocessed_x_train[feature] = (A_train['A_' + feature] - B_train['B_' + feature]) / (A_train['A_' + feature] + B_train['B_' + feature])\n",
    "    preprocessed_x_test[feature] = (A_test['A_' + feature] - B_test['B_' + feature]) / (A_test['A_' + feature] + B_test['B_' + feature])"
   ]
  },
  {
   "cell_type": "code",
   "execution_count": 120,
   "id": "afd2b4b7",
   "metadata": {},
   "outputs": [],
   "source": [
    "preprocessed_x_train = preprocessed_x_train.fillna(0)\n",
    "preprocessed_x_test = preprocessed_x_test.fillna(0)\n",
    "preprocessed_train_data = pd.concat([y_train, preprocessed_x_train], axis = 1)"
   ]
  },
  {
   "cell_type": "markdown",
   "id": "04fd1941",
   "metadata": {},
   "source": [
    "### Visualizing correlations"
   ]
  },
  {
   "cell_type": "code",
   "execution_count": 121,
   "id": "bcb0a667",
   "metadata": {},
   "outputs": [
    {
     "data": {
      "image/png": "[encoded data removed]",
      "text/plain": [
       "<Figure size 640x480 with 2 Axes>"
      ]
     },
     "metadata": {},
     "output_type": "display_data"
    }
   ],
   "source": [
    "correlations = preprocessed_train_data.corr()\n",
    "sns.heatmap(correlations, annot = True)\n",
    "plt.show()"
   ]
  },
  {
   "cell_type": "markdown",
   "id": "99c11ddd",
   "metadata": {},
   "source": [
    "### Features with high correlations:\n",
    "\n",
    "- retweets_received and network_feature_1 (0.95)\n",
    "- retweets_received and mentions_received (0.95)\n",
    "- follower_count and listed_count (0.9)\n",
    "- network_feature_2 and network_feature_3 (0.86)\n",
    "- mentions_sent and posts (0.83)\n",
    "- network_feature_1 and listed_count (0.82)\n",
    "- mentions_received and listed_count (0.81)\n",
    "\n",
    "### Features with low correlations with Choice:\n",
    "\n",
    "- following_count \n",
    "- retweets_sent\n",
    "\n",
    "So, we will add these preprocessing steps:\n",
    "\n",
    "- Ignore retweets_received feature.\n",
    "- Combine network_feature_2 and network_feature_3 into one feature equal their sum --> combined1.\n",
    "- Drop network_feature_2 and network_feature_3.\n",
    "- Combine mentions_sent and posts into one feature equal their sum --> combined2."
   ]
  },
  {
   "cell_type": "code",
   "execution_count": 122,
   "id": "dbafa4e8",
   "metadata": {},
   "outputs": [],
   "source": [
    "preprocessed_train_data = preprocessed_train_data.drop(['retweets_received'], axis = 1)\n",
    "preprocessed_x_test = preprocessed_x_test.drop(['retweets_received'], axis = 1)"
   ]
  },
  {
   "cell_type": "code",
   "execution_count": 123,
   "id": "16ea8fed",
   "metadata": {},
   "outputs": [],
   "source": [
    "preprocessed_train_data['combined1'] = preprocessed_train_data['network_feature_2'] + preprocessed_train_data['network_feature_3']\n",
    "preprocessed_x_test['combined1'] = preprocessed_x_test['network_feature_2'] + preprocessed_x_test['network_feature_3']\n",
    "\n",
    "preprocessed_train_data = preprocessed_train_data.drop(['network_feature_2', 'network_feature_3'], axis = 1)\n",
    "preprocessed_x_test = preprocessed_x_test.drop(['network_feature_2', 'network_feature_3'], axis = 1)"
   ]
  },
  {
   "cell_type": "code",
   "execution_count": 124,
   "id": "2ecdd032",
   "metadata": {},
   "outputs": [],
   "source": [
    "preprocessed_train_data['combined2'] = preprocessed_train_data['mentions_sent'] + preprocessed_train_data['posts']\n",
    "preprocessed_x_test['combined2'] = preprocessed_x_test['mentions_sent'] + preprocessed_x_test['posts']\n",
    "\n",
    "preprocessed_train_data = preprocessed_train_data.drop(['mentions_sent', 'posts'], axis = 1)\n",
    "preprocessed_x_test = preprocessed_x_test.drop(['mentions_sent', 'posts'], axis = 1)"
   ]
  },
  {
   "cell_type": "code",
   "execution_count": 125,
   "id": "d97b298d",
   "metadata": {},
   "outputs": [
    {
     "data": {
      "image/png": "[encoded data removed]",
      "text/plain": [
       "<Figure size 640x480 with 2 Axes>"
      ]
     },
     "metadata": {},
     "output_type": "display_data"
    }
   ],
   "source": [
    "correlations = preprocessed_train_data.corr()\n",
    "sns.heatmap(correlations, annot = True)\n",
    "plt.show()"
   ]
  },
  {
   "cell_type": "markdown",
   "id": "105c8198",
   "metadata": {},
   "source": [
    "### To make this easy, we will save the preprocessed data in .csv files."
   ]
  },
  {
   "cell_type": "code",
   "execution_count": 126,
   "id": "550dffe0",
   "metadata": {},
   "outputs": [],
   "source": [
    "features = preprocessed_x_test.columns\n",
    "\n",
    "preprocessed_x_train = preprocessed_train_data[features]"
   ]
  },
  {
   "cell_type": "code",
   "execution_count": 127,
   "id": "c8f24808",
   "metadata": {},
   "outputs": [],
   "source": [
    "preprocessed_y_train_path = os.path.join('data', 'preprocessed_y_train.csv')\n",
    "preprocessed_x_train_path = os.path.join('data', 'preprocessed_x_train.csv')\n",
    "preprocessed_x_test_path = os.path.join('data', 'preprocessed_x_test.csv')\n",
    "\n",
    "preprocessed_y_train.to_csv(preprocessed_y_train_path)\n",
    "preprocessed_x_train.to_csv(preprocessed_x_train_path)\n",
    "preprocessed_x_test.to_csv(preprocessed_x_test_path)"
   ]
  }
 ],
 "metadata": {
  "kernelspec": {
   "display_name": "Python 3 (ipykernel)",
   "language": "python",
   "name": "python3"
  },
  "language_info": {
   "codemirror_mode": {
    "name": "ipython",
    "version": 3
   },
   "file_extension": ".py",
   "mimetype": "text/x-python",
   "name": "python",
   "nbconvert_exporter": "python",
   "pygments_lexer": "ipython3",
   "version": "3.9.13"
  }
 },
 "nbformat": 4,
 "nbformat_minor": 5
}
