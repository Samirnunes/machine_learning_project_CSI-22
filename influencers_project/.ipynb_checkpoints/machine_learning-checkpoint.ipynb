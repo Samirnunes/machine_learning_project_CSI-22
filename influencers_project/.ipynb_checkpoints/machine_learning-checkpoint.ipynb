{
 "cells": [
  {
   "cell_type": "markdown",
   "id": "b1d95af0",
   "metadata": {},
   "source": [
    "## Importing libraries"
   ]
  },
  {
   "cell_type": "code",
   "execution_count": 8,
   "id": "1f013fb8",
   "metadata": {},
   "outputs": [],
   "source": [
    "import os\n",
    "import pandas as pd\n",
    "import numpy as np\n",
    "import matplotlib.pyplot as plt"
   ]
  },
  {
   "cell_type": "markdown",
   "id": "4f03c33e",
   "metadata": {},
   "source": [
    "---"
   ]
  },
  {
   "cell_type": "markdown",
   "id": "c07c3802",
   "metadata": {},
   "source": [
    "## Importing data"
   ]
  },
  {
   "cell_type": "code",
   "execution_count": 9,
   "id": "3ac57fd5",
   "metadata": {},
   "outputs": [],
   "source": [
    "y_train_path = os.path.join('data', 'preprocessed_y_train.csv')\n",
    "x_train_path = os.path.join('data', 'preprocessed_x_train.csv')\n",
    "x_test_path = os.path.join('data', 'preprocessed_x_test.csv')\n",
    "\n",
    "y_train = pd.read_csv(y_train_path, index_col = [0])\n",
    "x_train = pd.read_csv(x_train_path, index_col = [0])\n",
    "x_test = pd.read_csv(x_test_path, index_col = [0])"
   ]
  },
  {
   "cell_type": "code",
   "execution_count": 10,
   "id": "98dec381",
   "metadata": {},
   "outputs": [
    {
     "data": {
      "text/html": [
       "<div>\n",
       "<style scoped>\n",
       "    .dataframe tbody tr th:only-of-type {\n",
       "        vertical-align: middle;\n",
       "    }\n",
       "\n",
       "    .dataframe tbody tr th {\n",
       "        vertical-align: top;\n",
       "    }\n",
       "\n",
       "    .dataframe thead th {\n",
       "        text-align: right;\n",
       "    }\n",
       "</style>\n",
       "<table border=\"1\" class=\"dataframe\">\n",
       "  <thead>\n",
       "    <tr style=\"text-align: right;\">\n",
       "      <th></th>\n",
       "      <th>Choice</th>\n",
       "    </tr>\n",
       "  </thead>\n",
       "  <tbody>\n",
       "    <tr>\n",
       "      <th>0</th>\n",
       "      <td>0</td>\n",
       "    </tr>\n",
       "    <tr>\n",
       "      <th>1</th>\n",
       "      <td>0</td>\n",
       "    </tr>\n",
       "    <tr>\n",
       "      <th>2</th>\n",
       "      <td>0</td>\n",
       "    </tr>\n",
       "    <tr>\n",
       "      <th>3</th>\n",
       "      <td>0</td>\n",
       "    </tr>\n",
       "    <tr>\n",
       "      <th>4</th>\n",
       "      <td>1</td>\n",
       "    </tr>\n",
       "  </tbody>\n",
       "</table>\n",
       "</div>"
      ],
      "text/plain": [
       "   Choice\n",
       "0       0\n",
       "1       0\n",
       "2       0\n",
       "3       0\n",
       "4       1"
      ]
     },
     "execution_count": 10,
     "metadata": {},
     "output_type": "execute_result"
    }
   ],
   "source": [
    "y_train.head()"
   ]
  },
  {
   "cell_type": "code",
   "execution_count": 11,
   "id": "7f849be4",
   "metadata": {},
   "outputs": [
    {
     "data": {
      "text/html": [
       "<div>\n",
       "<style scoped>\n",
       "    .dataframe tbody tr th:only-of-type {\n",
       "        vertical-align: middle;\n",
       "    }\n",
       "\n",
       "    .dataframe tbody tr th {\n",
       "        vertical-align: top;\n",
       "    }\n",
       "\n",
       "    .dataframe thead th {\n",
       "        text-align: right;\n",
       "    }\n",
       "</style>\n",
       "<table border=\"1\" class=\"dataframe\">\n",
       "  <thead>\n",
       "    <tr style=\"text-align: right;\">\n",
       "      <th></th>\n",
       "      <th>follower_count</th>\n",
       "      <th>following_count</th>\n",
       "      <th>listed_count</th>\n",
       "      <th>mentions_received</th>\n",
       "      <th>retweets_received</th>\n",
       "      <th>mentions_sent</th>\n",
       "      <th>retweets_sent</th>\n",
       "      <th>posts</th>\n",
       "      <th>network_feature_1</th>\n",
       "      <th>network_feature_2</th>\n",
       "      <th>network_feature_3</th>\n",
       "    </tr>\n",
       "  </thead>\n",
       "  <tbody>\n",
       "    <tr>\n",
       "      <th>0</th>\n",
       "      <td>-0.986855</td>\n",
       "      <td>-0.979940</td>\n",
       "      <td>-0.996454</td>\n",
       "      <td>-0.927069</td>\n",
       "      <td>-0.950788</td>\n",
       "      <td>-0.975796</td>\n",
       "      <td>-0.535702</td>\n",
       "      <td>-0.901469</td>\n",
       "      <td>-0.941176</td>\n",
       "      <td>0.375861</td>\n",
       "      <td>0.711135</td>\n",
       "    </tr>\n",
       "    <tr>\n",
       "      <th>1</th>\n",
       "      <td>-0.290388</td>\n",
       "      <td>0.163296</td>\n",
       "      <td>-0.751904</td>\n",
       "      <td>0.381527</td>\n",
       "      <td>0.485140</td>\n",
       "      <td>0.277683</td>\n",
       "      <td>0.326360</td>\n",
       "      <td>0.657330</td>\n",
       "      <td>0.387218</td>\n",
       "      <td>-0.754868</td>\n",
       "      <td>-0.375691</td>\n",
       "    </tr>\n",
       "    <tr>\n",
       "      <th>2</th>\n",
       "      <td>0.337358</td>\n",
       "      <td>0.431939</td>\n",
       "      <td>-0.342020</td>\n",
       "      <td>0.943998</td>\n",
       "      <td>0.928486</td>\n",
       "      <td>0.797743</td>\n",
       "      <td>0.709406</td>\n",
       "      <td>0.712276</td>\n",
       "      <td>0.938776</td>\n",
       "      <td>0.739259</td>\n",
       "      <td>0.911638</td>\n",
       "    </tr>\n",
       "    <tr>\n",
       "      <th>3</th>\n",
       "      <td>-0.997957</td>\n",
       "      <td>-0.999207</td>\n",
       "      <td>-0.985714</td>\n",
       "      <td>-0.973506</td>\n",
       "      <td>-0.998580</td>\n",
       "      <td>-0.907802</td>\n",
       "      <td>-0.972344</td>\n",
       "      <td>-0.837938</td>\n",
       "      <td>-0.993213</td>\n",
       "      <td>-0.842948</td>\n",
       "      <td>-0.871091</td>\n",
       "    </tr>\n",
       "    <tr>\n",
       "      <th>4</th>\n",
       "      <td>0.715710</td>\n",
       "      <td>-0.329965</td>\n",
       "      <td>0.871722</td>\n",
       "      <td>0.746540</td>\n",
       "      <td>0.823479</td>\n",
       "      <td>0.609503</td>\n",
       "      <td>0.497116</td>\n",
       "      <td>0.678922</td>\n",
       "      <td>0.732704</td>\n",
       "      <td>0.448564</td>\n",
       "      <td>0.174050</td>\n",
       "    </tr>\n",
       "  </tbody>\n",
       "</table>\n",
       "</div>"
      ],
      "text/plain": [
       "   follower_count  following_count  listed_count  mentions_received  \\\n",
       "0       -0.986855        -0.979940     -0.996454          -0.927069   \n",
       "1       -0.290388         0.163296     -0.751904           0.381527   \n",
       "2        0.337358         0.431939     -0.342020           0.943998   \n",
       "3       -0.997957        -0.999207     -0.985714          -0.973506   \n",
       "4        0.715710        -0.329965      0.871722           0.746540   \n",
       "\n",
       "   retweets_received  mentions_sent  retweets_sent     posts  \\\n",
       "0          -0.950788      -0.975796      -0.535702 -0.901469   \n",
       "1           0.485140       0.277683       0.326360  0.657330   \n",
       "2           0.928486       0.797743       0.709406  0.712276   \n",
       "3          -0.998580      -0.907802      -0.972344 -0.837938   \n",
       "4           0.823479       0.609503       0.497116  0.678922   \n",
       "\n",
       "   network_feature_1  network_feature_2  network_feature_3  \n",
       "0          -0.941176           0.375861           0.711135  \n",
       "1           0.387218          -0.754868          -0.375691  \n",
       "2           0.938776           0.739259           0.911638  \n",
       "3          -0.993213          -0.842948          -0.871091  \n",
       "4           0.732704           0.448564           0.174050  "
      ]
     },
     "execution_count": 11,
     "metadata": {},
     "output_type": "execute_result"
    }
   ],
   "source": [
    "x_train.head()"
   ]
  },
  {
   "cell_type": "code",
   "execution_count": 12,
   "id": "0ba38014",
   "metadata": {
    "scrolled": true
   },
   "outputs": [
    {
     "data": {
      "text/html": [
       "<div>\n",
       "<style scoped>\n",
       "    .dataframe tbody tr th:only-of-type {\n",
       "        vertical-align: middle;\n",
       "    }\n",
       "\n",
       "    .dataframe tbody tr th {\n",
       "        vertical-align: top;\n",
       "    }\n",
       "\n",
       "    .dataframe thead th {\n",
       "        text-align: right;\n",
       "    }\n",
       "</style>\n",
       "<table border=\"1\" class=\"dataframe\">\n",
       "  <thead>\n",
       "    <tr style=\"text-align: right;\">\n",
       "      <th></th>\n",
       "      <th>follower_count</th>\n",
       "      <th>following_count</th>\n",
       "      <th>listed_count</th>\n",
       "      <th>mentions_received</th>\n",
       "      <th>retweets_received</th>\n",
       "      <th>mentions_sent</th>\n",
       "      <th>retweets_sent</th>\n",
       "      <th>posts</th>\n",
       "      <th>network_feature_1</th>\n",
       "      <th>network_feature_2</th>\n",
       "      <th>network_feature_3</th>\n",
       "    </tr>\n",
       "  </thead>\n",
       "  <tbody>\n",
       "    <tr>\n",
       "      <th>0</th>\n",
       "      <td>-0.391099</td>\n",
       "      <td>-0.169263</td>\n",
       "      <td>-0.555650</td>\n",
       "      <td>-0.657994</td>\n",
       "      <td>-0.790458</td>\n",
       "      <td>0.353497</td>\n",
       "      <td>-0.382888</td>\n",
       "      <td>-0.207745</td>\n",
       "      <td>-0.715077</td>\n",
       "      <td>-0.190526</td>\n",
       "      <td>-0.110229</td>\n",
       "    </tr>\n",
       "    <tr>\n",
       "      <th>1</th>\n",
       "      <td>-0.011451</td>\n",
       "      <td>-0.094035</td>\n",
       "      <td>-0.012355</td>\n",
       "      <td>0.454540</td>\n",
       "      <td>0.800918</td>\n",
       "      <td>-0.786232</td>\n",
       "      <td>-0.200833</td>\n",
       "      <td>-0.554686</td>\n",
       "      <td>0.500000</td>\n",
       "      <td>-0.898676</td>\n",
       "      <td>-0.913974</td>\n",
       "    </tr>\n",
       "    <tr>\n",
       "      <th>2</th>\n",
       "      <td>-0.985223</td>\n",
       "      <td>0.825184</td>\n",
       "      <td>-0.954763</td>\n",
       "      <td>-0.995382</td>\n",
       "      <td>-0.995333</td>\n",
       "      <td>0.509898</td>\n",
       "      <td>0.004156</td>\n",
       "      <td>-0.298942</td>\n",
       "      <td>-0.994401</td>\n",
       "      <td>0.090114</td>\n",
       "      <td>-0.132113</td>\n",
       "    </tr>\n",
       "    <tr>\n",
       "      <th>3</th>\n",
       "      <td>-0.912858</td>\n",
       "      <td>-0.481680</td>\n",
       "      <td>-0.943790</td>\n",
       "      <td>-0.771889</td>\n",
       "      <td>-0.829438</td>\n",
       "      <td>0.587468</td>\n",
       "      <td>0.917062</td>\n",
       "      <td>0.645305</td>\n",
       "      <td>-0.829787</td>\n",
       "      <td>-0.915854</td>\n",
       "      <td>-0.804463</td>\n",
       "    </tr>\n",
       "    <tr>\n",
       "      <th>4</th>\n",
       "      <td>-0.045534</td>\n",
       "      <td>-0.995523</td>\n",
       "      <td>0.019681</td>\n",
       "      <td>0.317849</td>\n",
       "      <td>0.487645</td>\n",
       "      <td>-0.669636</td>\n",
       "      <td>0.705035</td>\n",
       "      <td>-0.844460</td>\n",
       "      <td>0.295968</td>\n",
       "      <td>-0.560000</td>\n",
       "      <td>-0.268373</td>\n",
       "    </tr>\n",
       "  </tbody>\n",
       "</table>\n",
       "</div>"
      ],
      "text/plain": [
       "   follower_count  following_count  listed_count  mentions_received  \\\n",
       "0       -0.391099        -0.169263     -0.555650          -0.657994   \n",
       "1       -0.011451        -0.094035     -0.012355           0.454540   \n",
       "2       -0.985223         0.825184     -0.954763          -0.995382   \n",
       "3       -0.912858        -0.481680     -0.943790          -0.771889   \n",
       "4       -0.045534        -0.995523      0.019681           0.317849   \n",
       "\n",
       "   retweets_received  mentions_sent  retweets_sent     posts  \\\n",
       "0          -0.790458       0.353497      -0.382888 -0.207745   \n",
       "1           0.800918      -0.786232      -0.200833 -0.554686   \n",
       "2          -0.995333       0.509898       0.004156 -0.298942   \n",
       "3          -0.829438       0.587468       0.917062  0.645305   \n",
       "4           0.487645      -0.669636       0.705035 -0.844460   \n",
       "\n",
       "   network_feature_1  network_feature_2  network_feature_3  \n",
       "0          -0.715077          -0.190526          -0.110229  \n",
       "1           0.500000          -0.898676          -0.913974  \n",
       "2          -0.994401           0.090114          -0.132113  \n",
       "3          -0.829787          -0.915854          -0.804463  \n",
       "4           0.295968          -0.560000          -0.268373  "
      ]
     },
     "execution_count": 12,
     "metadata": {},
     "output_type": "execute_result"
    }
   ],
   "source": [
    "x_test.head()"
   ]
  },
  {
   "cell_type": "markdown",
   "id": "2d717521",
   "metadata": {},
   "source": [
    "---"
   ]
  },
  {
   "cell_type": "markdown",
   "id": "ea8fc066",
   "metadata": {},
   "source": [
    "## Importing Models"
   ]
  },
  {
   "cell_type": "code",
   "execution_count": 115,
   "id": "7e2bb4c0",
   "metadata": {},
   "outputs": [],
   "source": [
    "from sklearn.metrics import roc_curve, auc\n",
    "from sklearn.model_selection import KFold\n",
    "from sklearn.linear_model import LogisticRegression\n",
    "from sklearn.tree import DecisionTreeClassifier\n",
    "from sklearn.ensemble import RandomForestClassifier\n",
    "from sklearn.svm import SVC\n",
    "from sklearn.naive_bayes import GaussianNB"
   ]
  },
  {
   "cell_type": "markdown",
   "id": "8e39510a",
   "metadata": {},
   "source": [
    "---"
   ]
  },
  {
   "cell_type": "code",
   "execution_count": 14,
   "id": "b0557d7b",
   "metadata": {},
   "outputs": [],
   "source": [
    "class ModelEvaluator():\n",
    "    def __init__(self, Model, params = {}):\n",
    "        self.Model = Model\n",
    "        self.params = params\n",
    "    \n",
    "    def kfold_evaluate(self, x_train, y_train, n_splits):\n",
    "        '''\n",
    "        Cross-validates the model based on K-Fold of n_splits splits from x_train (features) and y_train (labels). \n",
    "        Prints the AUC (Area Under the ROC Curve) mean score for the K-Fold.\n",
    "        '''\n",
    "        indexes = np.array(x_train.index)\n",
    "        np.random.shuffle(indexes)\n",
    "        x_shuffled = x_train.loc[indexes].copy()\n",
    "        y_shuffled = y_train.loc[indexes].copy()\n",
    "        kfold = KFold(n_splits)\n",
    "        kfold_auc = []\n",
    "\n",
    "        for (train_indexes, eval_indexes) in kfold.split(x_train):\n",
    "            kfold_x_train = x_shuffled.iloc[train_indexes].copy()\n",
    "            kfold_y_train = y_shuffled.iloc[train_indexes].copy()\n",
    "            kfold_x_eval = x_shuffled.iloc[eval_indexes].copy()\n",
    "            kfold_y_eval = y_shuffled.iloc[eval_indexes].copy()\n",
    "\n",
    "            model_instance = self.Model()\n",
    "            model_instance.set_params(**self.params)\n",
    "            model_instance.fit(kfold_x_train, kfold_y_train.values.ravel())\n",
    "            kfold_y_pred = [prob[1] for prob in model_instance.predict_proba(kfold_x_eval)]\n",
    "            fpr, tpr, thresholds = roc_curve(kfold_y_eval, kfold_y_pred, pos_label=1)\n",
    "            kfold_auc.append(auc(fpr, tpr))\n",
    "\n",
    "        print(f'{model_instance} KFold auc: {sum(kfold_auc)/len(kfold_auc)}')\n",
    "    \n",
    "    def export_predictions(self, file_name):\n",
    "        '''\n",
    "        Exports the predictions from the model in a .csv file.\n",
    "        Uses the submission standard for the Kaggle's challenge 'Influencers in Social Networks'.\n",
    "        '''\n",
    "        model = self.Model()\n",
    "        model.set_params(**self.params)\n",
    "        model.fit(x_train, y_train.values.ravel())\n",
    "\n",
    "        y_pred = [prob[1] for prob in model.predict_proba(x_test)]\n",
    "        y_pred = pd.DataFrame(y_pred, index = x_test.index.rename('Id'), columns = ['Choice'])\n",
    "        y_pred.index = y_pred.index + 1\n",
    "\n",
    "        y_pred_path = os.path.join('data', f'{file_name}.csv')\n",
    "        y_pred.to_csv(y_pred_path, index = True)"
   ]
  },
  {
   "cell_type": "markdown",
   "id": "793948c5",
   "metadata": {},
   "source": [
    "## 1) Logistic Regression"
   ]
  },
  {
   "cell_type": "code",
   "execution_count": 39,
   "id": "be9e4733",
   "metadata": {},
   "outputs": [],
   "source": [
    "logreg_params = {'random_state': 2,\n",
    "                 'max_iter': 100,\n",
    "                 'penalty': None}\n",
    "\n",
    "logreg_evaluator = ModelEvaluator(LogisticRegression, logreg_params)"
   ]
  },
  {
   "cell_type": "code",
   "execution_count": 40,
   "id": "87cac51d",
   "metadata": {},
   "outputs": [
    {
     "name": "stdout",
     "output_type": "stream",
     "text": [
      "LogisticRegression(penalty=None, random_state=2) KFold auc: 0.8560347069117036\n"
     ]
    }
   ],
   "source": [
    "logreg_evaluator.kfold_evaluate(x_train, y_train, 10)"
   ]
  },
  {
   "cell_type": "code",
   "execution_count": 41,
   "id": "3f7082f7",
   "metadata": {},
   "outputs": [],
   "source": [
    "logreg_evaluator.export_predictions('logreg_predictions')"
   ]
  },
  {
   "cell_type": "markdown",
   "id": "f1195ef3",
   "metadata": {},
   "source": [
    "## 2) Decision Tree"
   ]
  },
  {
   "cell_type": "code",
   "execution_count": 159,
   "id": "ac3cad7a",
   "metadata": {},
   "outputs": [],
   "source": [
    "dt_params = {'random_state': 2,\n",
    "             'max_depth': 4,\n",
    "             'min_samples_leaf': 11}\n",
    "\n",
    "dt_evaluator = ModelEvaluator(DecisionTreeClassifier, dt_params)"
   ]
  },
  {
   "cell_type": "code",
   "execution_count": 160,
   "id": "b30d8b4f",
   "metadata": {},
   "outputs": [
    {
     "name": "stdout",
     "output_type": "stream",
     "text": [
      "DecisionTreeClassifier(max_depth=4, min_samples_leaf=11, random_state=2) KFold auc: 0.8467281214818708\n"
     ]
    }
   ],
   "source": [
    "dt_evaluator.kfold_evaluate(x_train, y_train, 10)"
   ]
  },
  {
   "cell_type": "code",
   "execution_count": 161,
   "id": "6ac8903b",
   "metadata": {},
   "outputs": [],
   "source": [
    "dt_evaluator.export_predictions('dt_predictions')"
   ]
  },
  {
   "cell_type": "markdown",
   "id": "d319ede5",
   "metadata": {},
   "source": [
    "## 3) Random Forest"
   ]
  },
  {
   "cell_type": "code",
   "execution_count": 18,
   "id": "9b30bda9",
   "metadata": {},
   "outputs": [],
   "source": [
    "rf_params = {'random_state': 2,\n",
    "             'n_estimators': 1000,\n",
    "             'max_depth': 6,\n",
    "             'max_features': 'sqrt',\n",
    "             'min_samples_leaf': 2}\n",
    "\n",
    "rf_evaluator = ModelEvaluator(RandomForestClassifier, rf_params)"
   ]
  },
  {
   "cell_type": "code",
   "execution_count": 19,
   "id": "bd7c7488",
   "metadata": {},
   "outputs": [
    {
     "name": "stdout",
     "output_type": "stream",
     "text": [
      "RandomForestClassifier(max_depth=6, min_samples_leaf=2, n_estimators=1000,\n",
      "                       random_state=2) KFold auc: 0.859991163835061\n"
     ]
    }
   ],
   "source": [
    "rf_evaluator.kfold_evaluate(x_train, y_train, 5)"
   ]
  },
  {
   "cell_type": "code",
   "execution_count": 20,
   "id": "7a5b2481",
   "metadata": {},
   "outputs": [],
   "source": [
    "rf_evaluator.export_predictions('rf_predictions')"
   ]
  },
  {
   "cell_type": "markdown",
   "id": "70f6c76b",
   "metadata": {},
   "source": [
    "## 4) Support Vector Machine"
   ]
  },
  {
   "cell_type": "code",
   "execution_count": 34,
   "id": "fc32a9db",
   "metadata": {},
   "outputs": [],
   "source": [
    "svm_params = {'probability': True,\n",
    "              'degree': 3}\n",
    "\n",
    "svm_evaluator = ModelEvaluator(SVC, svm_params)"
   ]
  },
  {
   "cell_type": "code",
   "execution_count": 35,
   "id": "97a3637f",
   "metadata": {},
   "outputs": [
    {
     "name": "stdout",
     "output_type": "stream",
     "text": [
      "SVC(probability=True) KFold auc: 0.8308751885974089\n"
     ]
    }
   ],
   "source": [
    "svm_evaluator.kfold_evaluate(x_train, y_train, 10)"
   ]
  },
  {
   "cell_type": "code",
   "execution_count": 36,
   "id": "7f3bd552",
   "metadata": {},
   "outputs": [],
   "source": [
    "svm_evaluator.export_predictions('svm_predictions')"
   ]
  },
  {
   "cell_type": "markdown",
   "id": "85e9e22e",
   "metadata": {},
   "source": [
    "## 5) Ridge Classification with Logistic Regression"
   ]
  },
  {
   "cell_type": "code",
   "execution_count": 96,
   "id": "995fea5b",
   "metadata": {},
   "outputs": [],
   "source": [
    "ridge_params = {'random_state': 2,\n",
    "                 'max_iter': 100,\n",
    "                 'penalty': 'l2',\n",
    "                 'C': 0.5}\n",
    "\n",
    "ridge_evaluator = ModelEvaluator(LogisticRegression, ridge_params)"
   ]
  },
  {
   "cell_type": "code",
   "execution_count": 97,
   "id": "512fc53a",
   "metadata": {},
   "outputs": [
    {
     "name": "stdout",
     "output_type": "stream",
     "text": [
      "LogisticRegression(C=0.5, random_state=2) KFold auc: 0.8563920997843187\n"
     ]
    }
   ],
   "source": [
    "ridge_evaluator.kfold_evaluate(x_train, y_train, 5)"
   ]
  },
  {
   "cell_type": "code",
   "execution_count": 93,
   "id": "d3ecae5c",
   "metadata": {},
   "outputs": [],
   "source": [
    "ridge_evaluator.export_predictions('ridge_predictions')"
   ]
  },
  {
   "cell_type": "markdown",
   "id": "c1bd65c6",
   "metadata": {},
   "source": [
    "## 6) Lasso Classification with Logistic Regression"
   ]
  },
  {
   "cell_type": "code",
   "execution_count": 111,
   "id": "208c5cea",
   "metadata": {},
   "outputs": [],
   "source": [
    "lasso_params = {'random_state': 2,\n",
    "                 'max_iter': 100,\n",
    "                 'solver': 'liblinear',\n",
    "                 'penalty': 'l1',\n",
    "                 'C': 0.1}\n",
    "\n",
    "lasso_evaluator = ModelEvaluator(LogisticRegression, lasso_params)"
   ]
  },
  {
   "cell_type": "code",
   "execution_count": 112,
   "id": "d1a4873d",
   "metadata": {},
   "outputs": [
    {
     "name": "stdout",
     "output_type": "stream",
     "text": [
      "LogisticRegression(C=0.1, penalty='l1', random_state=2, solver='liblinear') KFold auc: 0.8564418249890082\n"
     ]
    }
   ],
   "source": [
    "lasso_evaluator.kfold_evaluate(x_train, y_train, 5)"
   ]
  },
  {
   "cell_type": "code",
   "execution_count": 113,
   "id": "399eba7e",
   "metadata": {},
   "outputs": [],
   "source": [
    "lasso_evaluator.export_predictions('lasso_predictions')"
   ]
  },
  {
   "cell_type": "markdown",
   "id": "04a18717",
   "metadata": {},
   "source": [
    "## 7) Gaussian Naive Bayes"
   ]
  },
  {
   "cell_type": "code",
   "execution_count": 164,
   "id": "2bd995bd",
   "metadata": {},
   "outputs": [],
   "source": [
    "gnb_params = {}\n",
    "\n",
    "gnb_evaluator = ModelEvaluator(GaussianNB, gnb_params)"
   ]
  },
  {
   "cell_type": "code",
   "execution_count": 167,
   "id": "b5b9051b",
   "metadata": {},
   "outputs": [
    {
     "name": "stdout",
     "output_type": "stream",
     "text": [
      "GaussianNB() KFold auc: 0.849752698441112\n"
     ]
    }
   ],
   "source": [
    "gnb_evaluator.kfold_evaluate(x_train, y_train, 10)"
   ]
  },
  {
   "cell_type": "code",
   "execution_count": 168,
   "id": "00727b3f",
   "metadata": {},
   "outputs": [],
   "source": [
    "gnb_evaluator.export_predictions('gnb_predictions')"
   ]
  }
 ],
 "metadata": {
  "kernelspec": {
   "display_name": "Python 3 (ipykernel)",
   "language": "python",
   "name": "python3"
  },
  "language_info": {
   "codemirror_mode": {
    "name": "ipython",
    "version": 3
   },
   "file_extension": ".py",
   "mimetype": "text/x-python",
   "name": "python",
   "nbconvert_exporter": "python",
   "pygments_lexer": "ipython3",
   "version": "3.9.13"
  }
 },
 "nbformat": 4,
 "nbformat_minor": 5
}
